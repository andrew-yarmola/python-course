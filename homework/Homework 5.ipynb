{
 "cells": [
  {
   "cell_type": "markdown",
   "metadata": {},
   "source": [
    "# Introduction to Programming Homework 5\n",
    "\n",
    "### Due Thursday Oct 27 by 17h00 \n",
    "\n",
    "You will turn in your homework via e-mail ([andrew.yarmola@uni.lu](mailto:andrew.yarmoal@uni.lu)). For this homework, you will work in a text editor of your choosing. See instructions from the previous homework on how to write modules."
   ]
  },
  {
   "cell_type": "markdown",
   "metadata": {},
   "source": [
    "### Exercise 1 (Fast modular power)\n",
    "\n",
    "In your module `prime_tests.py`, write a function `mod_pow(a,m,n)` that computes the remainder of $a^m$ divided by $p$ much faster than the command `a**m % n`. Please do **not** use the built-in `pow` command or any other packages. Hint : observe that $3^7 = 3 \\cdot 3^2 \\cdot \\left(3^2 \\right)^2$.\n",
    "\n",
    "You can test your speed using the following commands in IPython."
   ]
  },
  {
   "cell_type": "code",
   "execution_count": 7,
   "metadata": {},
   "outputs": [
    {
     "name": "stdout",
     "output_type": "stream",
     "text": [
      "1000 loops, best of 3: 693 µs per loop\n"
     ]
    }
   ],
   "source": [
    "import random\n",
    "import prime_tests\n",
    "\n",
    "a = random.sample(range(2**10,2**20),100)\n",
    "m = random.sample(range(2,1000),100)\n",
    "n = random.sample(range(2,1000),100)\n",
    "\n",
    "%timeit for i in range(len(a)) : prime_tests.mod_pow(a[i], m[i], n[i])"
   ]
  },
  {
   "cell_type": "markdown",
   "metadata": {},
   "source": [
    "You should aim for something around the `1 ms` mark. The built-in `pow` function will (most likely) always be 2-4 times faster, however."
   ]
  },
  {
   "cell_type": "markdown",
   "metadata": {},
   "source": [
    "### Exercise 2 (Miller-Rabin Primality Test)\n",
    "\n",
    "The probabilistic Miller-Rabin primality test is based on the following well known fact.\n",
    "\n",
    "** Proposition 1**. If $p$ is prime and $x^2 \\equiv 1 \\text{ mod } p$, then $x \\equiv \\pm 1 \\text{ mod } p$\n",
    "\n",
    "Combining this with Fermat's little theorem, Miller-Rabin observe the following corollary.\n",
    "\n",
    "** Corollary 1**. Let $p$ be an odd prime and write $p-1 = d \\cdot 2^s$ where $d$ is odd. Then for all $0 < x < p$, $x^{p-1} \\equiv 1 \\text{ mod } p$ and either $$x^d \\equiv 1 \\text{ mod }p \\quad or \\quad x^{d \\cdot 2^r} \\equiv -1 \\text{ mod } p \\text{ for some } 0 \\leq r \\leq s-1$$\n",
    "\n",
    "** Proof**. The fact that $x^{p-1} \\equiv x^{d \\cdot 2^s} \\equiv 1 \\text{ mod } p$ is Fermat's little theorem. Taking successive square roots, the conclusion follows by Proposition 1. $\\blacksquare$\n",
    "\n",
    "Let $n$ be an odd positive integer and write $n - 1 = d \\cdot 2^s$ where $d$ is odd. If we want to show that $n$ is composite, we could demonstrate a number $x$ that fails the conclusion of Corollary 1. First, we check that $x^{n-1} \\equiv 1 \\text{ mod n}$ and then we consider the sequence of numbers $x^d, x^{2d}, \\ldots, x^{d \\cdot 2^{s-1}}$. If $x^{d\\cdot 2^r} \\not\\equiv \\pm 1 \\text{ mod } n$ but $x^{d\\cdot 2^{r+1}} \\equiv 1 \\text{ mod } n$ for some $0 \\leq r \\leq s-1$, then we can conclude that $n$ is composite.\n",
    "\n",
    "An integer $x$ that demonstrates that $n$ is composite in this way is called a **Miller-Rabin witness**.\n",
    "\n",
    "** Theorem **(Miller-Rabin). Let $n$ be an odd composite positive integer. A randomly chosen $x$ form $\\{1, \\ldots, n-1\\}$ has a probability of **more than** 3/4 of being a Miller-Rabin witness."
   ]
  },
  {
   "cell_type": "markdown",
   "metadata": {},
   "source": [
    "* **a.** In `prime_tests.py` write a function `is_miller_rabin_witness(n,x)` which checks whether `x` is a Miller-Rabin witness for an odd positive integer `n`. No need to validate your input for this one. "
   ]
  },
  {
   "cell_type": "markdown",
   "metadata": {},
   "source": [
    "* **b.** In `prime_tests.py` write a function `probably_prime(n, prob)` which takes a number `n` and returns `True` if `n` has probability at least `prob` of being prime by the Miller-Rabin test. `False` otherwise. Use the Miller-Rabin theorem to run the test enough times to guarantee the desired probability."
   ]
  },
  {
   "cell_type": "markdown",
   "metadata": {},
   "source": [
    "* **c.** Assuming the extended Riemann hypothesis, Miller proved that every composite number `n` has a Miller-Rabin witness in the set $\\{2, \\ldots , \\min(n-1,\\lfloor 2(\\log n)^2\\rfloor)\\}$. Use the `math` module to write a function `is_prime(n)` that uses this test to conclude whether `n` is prime or not. Here, $\\log$ is the base $e$ logarithm.\n",
    "   * Remark : The Miller-Rabin Theorem tells us that if we find $(n-1)/4$ **non-witnesses** in $\\{1, \\ldots, n-1\\}$, then we can conclude that $n$ is prime. Notice that for `n > 241` one has $\\lfloor 2(\\log n)^2\\rfloor) < (n-1)/4$, so this test is more efficient for large $n$."
   ]
  },
  {
   "cell_type": "markdown",
   "metadata": {},
   "source": [
    "### Exercise 3 ( Trees)\n",
    "Create a module `binary_tree.py`\n",
    "\n",
    "In the exercise, your job will be to create a class that represents the fundamental building block of a binary tree. A binary tree is a structure that looks like this :\n",
    "\n",
    "![title](https://upload.wikimedia.org/wikipedia/commons/thumb/d/da/Binary_search_tree.svg/300px-Binary_search_tree.svg.png)\n",
    "\n",
    "In the above diagram, every circle is called a **node** of the tree. Each node has some data stored inside (a number in the above case). Most nodes also have a left and right child node. Nodes that do not have children are called **terminal** nodes. The top node in the diagram above is called the **root** node. As you can see, the **root** node does not have a **parent** node."
   ]
  },
  {
   "cell_type": "markdown",
   "metadata": {},
   "source": [
    "* **a.** Create a class called `Node`. It should have readable properties `.parent`, `.left`, `.right`, and `.data`. The `.parent`, `.left` and `.right` properties should again be `Node` instances or `None`. To simulate a node not having children (or a parent) we can set those properties to `None`.\n",
    "\n",
    "Your `__init__` method should be of type\n",
    "```python\n",
    "def __init__(self, data = None, left = None, right = None)\n",
    "```\n",
    "Write setters for `.data, .left, .right`. Make `.parent` a read only property and manage it internally. When writing the setter for `.left` and `.right`, be sure to check that the object you are setting are instances of class `Node` or that they are `None`. Be sure to set the parent node internally when setting the children nodes. Also, be sure to clear the parent property internally when removing or replacing a child node."
   ]
  },
  {
   "cell_type": "markdown",
   "metadata": {},
   "source": [
    "* **b.** A binary tree can be represented by its starting root node. In fact, given any node, you can read off the (sub)tree below it by looking at its children. Write a module global function called `test_tree` which returns the root node of the binary tree in the above picture."
   ]
  },
  {
   "cell_type": "markdown",
   "metadata": {},
   "source": [
    "* **c.** Frequently, it is useful to read the data of the tree is a specific order. Create a **recursive** instance method called `.inorder` which returns a list containing the data of the tree in the following order : \n",
    "\n",
    "![title](https://upload.wikimedia.org/wikipedia/commons/thumb/7/77/Sorted_binary_tree_inorder.svg/336px-Sorted_binary_tree_inorder.svg.png)\n",
    "\n",
    "So, if `my_tree` is the tree in the above image, `my_tree.inorder() = ['A','B',...,'H','I']`"
   ]
  }
 ],
 "metadata": {
  "anaconda-cloud": {},
  "kernelspec": {
   "display_name": "Python 3",
   "language": "python",
   "name": "python3"
  },
  "language_info": {
   "codemirror_mode": {
    "name": "ipython",
    "version": 3
   },
   "file_extension": ".py",
   "mimetype": "text/x-python",
   "name": "python",
   "nbconvert_exporter": "python",
   "pygments_lexer": "ipython3",
   "version": "3.6.5"
  }
 },
 "nbformat": 4,
 "nbformat_minor": 1
}
