{
 "cells": [
  {
   "cell_type": "markdown",
   "metadata": {},
   "source": [
    "# Introduction to Programming Homework 2\n",
    "\n",
    "### Due Wednesday October 5 by 14h00 \n",
    "\n",
    "You will turn in your homework via e-mail ([andrew.yarmola@uni.lu](mailto:andrew.yarmoal@uni.lu)). For this homework, you will work in a text editor of your choosing. I recommend `spyder` (included with Anaconda) or get the popular text editor Atom ([atom.io](https://atom.io)). You can also use/learn `vim` or `emacs` if you have the time; they can be very useful to know. For each excercise you will create a text file `module_name.py`. In the text file you will define functions which you can then test and load as modules.\n",
    "\n",
    "To test your work\n",
    "\n",
    "* Put your all of your `module_name.py` files into a directory. For example `C:\\Users\\Andrew\\itp\\homework2\\` on Windows or `/Users/Andrew/itp/homework2/` on macOS.\n",
    "* Start `ipython` and use the following command to change your working directory. Replace the directory path as necessary.\n",
    "```python\n",
    "%cd \"/Users/Andrew/itp/homework2/\"\n",
    "```\n",
    "* Now you should be able to load your modules by\n",
    "```python\n",
    "import module_name\n",
    "module_name.function_to_test(args)\n",
    "```\n",
    "* If you make changes to your `module_name.py`, you will need to **reload** the module. To do this, use the commands\n",
    "```python\n",
    "import importlib\n",
    "importlib.reload(module_name)\n",
    "```\n",
    "Note that you only need to call `import importlib` once and then `importlib.reload(module_name)` every time you want to reload your work. You can testing examples at the end of this homework.\n",
    "\n",
    "#### Remark\n",
    "If I say that the input will be of a certain type, feel free to assume that it will always be so."
   ]
  },
  {
   "cell_type": "markdown",
   "metadata": {},
   "source": [
    "### Exercise 1  (Classic examples)\n",
    "Create a module called `classic.py`. Inside the module define the following functions. **Do not import any additional modules inside `classic.py`**"
   ]
  },
  {
   "cell_type": "markdown",
   "metadata": {},
   "source": [
    "* **a.** Write a function called `fibonacci` which taken an integer `n` and return $F_n$, the $n^\\text{th}$ Fibonacci number with $F_n = 0$ for $n < 1$ and $F_1 = 1$. For example, `classic.fibonacci(6)` should return `8`."
   ]
  },
  {
   "cell_type": "markdown",
   "metadata": {},
   "source": [
    "* **b.** Write a function called `golden_ratio` which takes an integer `n` and returns the golden ratio approximation using $F_{n+1}/F_n$. If `n < 1`, return `1.`"
   ]
  },
  {
   "cell_type": "markdown",
   "metadata": {},
   "source": [
    "* **c.** Write a function called `wallis_pi` which takes an integer `n` and returns an approximation to $\\pi$ using the product of the first `n` multiplicands of the Wallis formula $$ \\pi = 2 \\prod_{k=1}^\\infty \\frac{4 k^2}{4 k^2 - 1}$$"
   ]
  },
  {
   "cell_type": "markdown",
   "metadata": {},
   "source": [
    "* **d.** Write a function called `collatz` which takes a *positive* integer `n` and returns the number of steps in the Collatz (or Syracuse) sequence it takes to reach `1`. For example, `classic.collatz(10)` should return `6`.\n",
    "   * Hint : feel free to adapt the code from the lecture"
   ]
  },
  {
   "cell_type": "markdown",
   "metadata": {},
   "source": [
    "### Excercise 2 (Permutations)\n",
    "\n",
    "Create a module called `perms.py`. Inside the module define the following functions. **Do not import any additional modules inside `perms.py`**\n",
    "\n",
    "In this exercise, a **permutation** will be a `tuple` that contain the numbers `0, ..., n` **exactly once**. For example `a = (2,1,0)` is a permutation where `a` is the map `a[0] = 2, a[1] = 1, a[2] = 0`. Tuples like `(1,1,2)` and `(3,2,1)` are not permutations."
   ]
  },
  {
   "cell_type": "markdown",
   "metadata": {},
   "source": [
    "* **a.** Write a function called `is_perm` which takes a `tuple` and returns `True` if the list is a permutation and `False` otherwise."
   ]
  },
  {
   "cell_type": "markdown",
   "metadata": {},
   "source": [
    "* **b.** Write a function called `compose` which takes two tuples `a` and `b` and returns $b \\circ a$ if both are permutations and `()` if `a` or `b` is not a permutation **or are not composable**. For example, `perms.compose((0,2,1),(0,2,1))` should return `(0,1,2)`, while `perms.compose((0,2,1),(1,2,1))` should return `()`."
   ]
  },
  {
   "cell_type": "markdown",
   "metadata": {},
   "source": [
    "### Exercise 3 (Base 2)\n",
    "Create a module called `base_2.py`. Inside the module define the following functions. **Do not import any additional modules inside `base_2.py`**"
   ]
  },
  {
   "cell_type": "markdown",
   "metadata": {},
   "source": [
    "* **a.** Write a function called `bits_needed` which takes an integer `n` and returns the length of the binary number needed to represent it, **including the sign**. For example, `base_2.bits_needed(8)` should return `5` because `8` is `+1000` in binary. Similarly, `base_2.bits_needed(-17)` should return `6` because `-17` is `-10001`."
   ]
  },
  {
   "cell_type": "markdown",
   "metadata": {},
   "source": [
    "* **b.** Write a function called `is_power_of_2` which takes an integer `n` and returns `True` if `n` is a power of 2 and `False` otherwise. For example `base_2.is_power_of_2(8)` should return `True` and `base_2.is_power_of_2(-3)` should return `False`. Note, $1 = 2^0$."
   ]
  },
  {
   "cell_type": "markdown",
   "metadata": {
    "collapsed": true
   },
   "source": [
    "* **c.** Write a function called `bad_log_base_2` which takes an integer `n` and returns `-1` if `n` is **not** a power of `2` and returns the integer $log_2(n)$ is `n` is a power of `2`. For example, `base_2.bad_log_base_2(8)` should return `3` while `base_2.bad_log_base_2(-3)` should return `-1`."
   ]
  },
  {
   "cell_type": "markdown",
   "metadata": {},
   "source": [
    "## Test you work !!!\n",
    "Here is a **non-exhaustive** list of commands that you can use in `ipython` to test your work. All of the print calls should print `True` and no errors should appear if your code is working correctly."
   ]
  },
  {
   "cell_type": "code",
   "execution_count": null,
   "metadata": {},
   "outputs": [],
   "source": [
    "import importlib\n",
    "import classic\n",
    "import perms\n",
    "import base_2\n",
    "\n",
    "# Exercise 1\n",
    "importlib.reload(classic) # Just in case you need to reload to the latest changes\n",
    "# a.\n",
    "print(classic.fibonacci(0) == 0)\n",
    "print(classic.fibonacci(2) == 1)\n",
    "print(classic.fibonacci(6) == 8)\n",
    "# b.\n",
    "print(classic.golden_ratio(1) == 1.)\n",
    "print(classic.golden_ratio(3) == 3/2)\n",
    "print(classic.golden_ratio(6) == 13/8)\n",
    "# c.\n",
    "print(classic.wallis_pi(0) == 2.)\n",
    "print(classic.wallis_pi(100) == 882082760940707/281474976710656)\n",
    "# d.\n",
    "print(classic.collatz(10) == 6)\n",
    "print(classic.collatz(100) == 25)\n",
    "\n",
    "# Exercise 2\n",
    "importlib.reload(perms) # Just in case you need to reload to the latest changes\n",
    "# a.\n",
    "print(perms.is_perm((2,1,0)) == True)\n",
    "print(perms.is_perm((2,1,3)) == False)\n",
    "print(perms.is_perm((2,1,1)) == False)\n",
    "\n",
    "# b.\n",
    "print(perms.compose((0,2,1),(0,2,1)) == (0,1,2))\n",
    "print(perms.compose((0,2,1),(1,2,1)) == ()) \n",
    "print(perms.compose((0,2,1),(1,0)) == ()) \n",
    "print(perms.compose((0,1),(1,0,2)) == ()) \n",
    "print(perms.compose((0,2,1,3),(3,2,1,0)) == (3, 1, 2, 0)) \n",
    "\n",
    "# Exercise 3\n",
    "importlib.reload(base_2) # Just in case you need to reload to the latest changes\n",
    "\n",
    "# a.\n",
    "print(base_2.bits_needed(8) == 5)\n",
    "print(base_2.bits_needed(-17) == 6)\n",
    "\n",
    "# b.\n",
    "print(base_2.is_power_of_2(2**42) == True)\n",
    "print(base_2.is_power_of_2(-2) == False)\n",
    "print(base_2.is_power_of_2(0) == False)\n",
    "print(base_2.is_power_of_2(3) == False)\n",
    "\n",
    "# c.\n",
    "print(base_2.bad_log_base_2(8) == 3)\n",
    "print(base_2.bad_log_base_2(2**47) == 47)\n",
    "print(base_2.bad_log_base_2(-2) == -1)\n",
    "print(base_2.bad_log_base_2(0) == -1)\n",
    "print(base_2.bad_log_base_2(3) == -1)"
   ]
  }
 ],
 "metadata": {
  "anaconda-cloud": {},
  "kernelspec": {
   "display_name": "Python 3",
   "language": "python",
   "name": "python3"
  },
  "language_info": {
   "codemirror_mode": {
    "name": "ipython",
    "version": 3
   },
   "file_extension": ".py",
   "mimetype": "text/x-python",
   "name": "python",
   "nbconvert_exporter": "python",
   "pygments_lexer": "ipython3",
   "version": "3.6.5"
  }
 },
 "nbformat": 4,
 "nbformat_minor": 1
}
