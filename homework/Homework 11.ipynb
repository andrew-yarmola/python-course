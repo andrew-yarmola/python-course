{
 "cells": [
  {
   "cell_type": "markdown",
   "metadata": {},
   "source": [
    "# Introduction to Programming Homework 11\n",
    "\n",
    "### Due Friday Dec 23\n",
    "\n",
    "You will turn in your homework **via GitHub**! Please use this link to start your repository :\n",
    "\n",
    "https://classroom.github.com/assignment-invitations/c06b6582b98d7c605fb946360c5f5460"
   ]
  },
  {
   "cell_type": "markdown",
   "metadata": {},
   "source": [
    "### Jupyter Notebooks\n",
    "\n",
    "For this homework, you will create a `jupyter` notebook (formally known as `ipython` notebook). Here is how you launch `jupyter` :\n",
    "\n",
    "\n",
    "* **Windows**\n",
    "   * In the Windows search field, type in `jupyter`. You should see an app called Jupyter Notebook. After you launch it, you will at first see a black console appear and then your default browser will open a tab.\n",
    "\n",
    "* **macOS and Linux**\n",
    "   * Open a terminal and simply run `jupyter-notebook`. Your default browser will open a tab that looks like the image below.\n",
    "\n",
    "<img src=\"jupyter_launch.png\">\n",
    "\n",
    "In the browser tab, go into the directory of your Homework 11 `git` repository.\n",
    "\n",
    "In the top right hand corner you will see a drop-down menu called `new`. Click that and select the first entry under Notebooks.\n",
    "\n",
    "A new tab with open with an `Untitled` notebook. Give it a name and save it.\n",
    "\n",
    "In the notebook, you will see cells. We will only care about 2 types of cells :\n",
    "\n",
    "* **Code**\n",
    "   * in this type of cell, you can run `python` code\n",
    "   * to execute the code, you hit SHIFT + ENTER\n",
    "   \n",
    "* **Markdown**\n",
    "   * in this type of cell you can write text **and** (simple) LaTeX\n",
    "   * to get a cell \"processed\", just hit SHIFT + ENTER\n",
    "\n",
    "You can change a cell type with the drop-down menu.\n",
    "\n",
    "Periodically save and commit your notebook (`.ipynb` file) and other data."
   ]
  },
  {
   "cell_type": "markdown",
   "metadata": {},
   "source": [
    "## Exercise 1 (Plotting)\n",
    "\n",
    "We will only be graphing using `matplotlib`. If you want instructions on how to get `mayavi` working, please let me know.\n",
    "\n",
    "Use the following import commands :"
   ]
  },
  {
   "cell_type": "code",
   "execution_count": 3,
   "metadata": {},
   "outputs": [],
   "source": [
    "import numpy as np\n",
    "from matplotlib import pyplot as plt\n",
    "# the line below will allow embedding of \n",
    "# graphs in the notebook. if you use\n",
    "# the ipython console, you don't need this\n",
    "%matplotlib inline"
   ]
  },
  {
   "cell_type": "markdown",
   "metadata": {},
   "source": [
    "* **a.** Start with the code"
   ]
  },
  {
   "cell_type": "code",
   "execution_count": null,
   "metadata": {},
   "outputs": [],
   "source": [
    "def f(x, y):\n",
    "    return (1 - x / 2 + x ** 5 + y ** 3) * np.exp(-x ** 2 -y ** 2)\n",
    "\n",
    "n = 256\n",
    "x = np.linspace(-3, 3, n)\n",
    "y = np.linspace(-3, 3, n)\n",
    "X, Y = np.meshgrid(x, y)\n",
    "\n",
    "plt.contourf(X, Y, f(X, Y), 8, alpha=.75, cmap='jet')\n",
    "plt.show()"
   ]
  },
  {
   "cell_type": "markdown",
   "metadata": {},
   "source": [
    "Learn about contour plotting and modify the code to generate the image\n",
    "\n",
    "<img src=\"sphx_glr_plot_contour_001.png\" width=35%>\n",
    "\n",
    "**Save your figure as a PNG file named \"contour.png\"**\n",
    "\n",
    "**Hint :** look up `pyplot.contour`, `pyplot.clabel`, and don't forget to remove the x,y-ticks! "
   ]
  },
  {
   "cell_type": "markdown",
   "metadata": {},
   "source": [
    "* **b.** When using `pyplot`, there is a `figure` object kept the background onto which draw commands are executed. Because we are in `python`, we can can actually pass these objects around. The goal of this exercise will be to write a function that generates and returns a plot that look like :\n",
    "\n",
    "<img src=\"regression.png\">\n",
    "\n",
    "Write a function called `regression_plot` with the following style"
   ]
  },
  {
   "cell_type": "code",
   "execution_count": null,
   "metadata": {
    "collapsed": true
   },
   "outputs": [],
   "source": [
    "def regression_plot(data, xvals = None, info = {}):\n",
    "    fig = plt.figure()\n",
    "    \n",
    "    # your pyplot code similar to\n",
    "    # what was in Lecture 11\n",
    "    \n",
    "    return fig"
   ]
  },
  {
   "cell_type": "markdown",
   "metadata": {},
   "source": [
    "The `info` dictionary should include `'title'`,`'xlabel'`, and `'ylabel'`. The blue plot is data and the red line is the linear (least squares) regression.\n",
    "\n",
    "Here are a few necessary hints :\n",
    "\n",
    "* to get the statistical information, use `scipy.stats.linregress`\n",
    "* to get the box outside the plot, use the keyword argument `box_to_anchor` with the command `pyplot.legend`\n",
    "\n",
    "For example, the above image was generated using :"
   ]
  },
  {
   "cell_type": "code",
   "execution_count": null,
   "metadata": {},
   "outputs": [],
   "source": [
    "info = {'title'  : 'Samples from normal pdf',\n",
    "        'xlabel' : 'sample',\n",
    "        'ylabel' : 'value',}\n",
    "fig = regression_plot(np.random.randn(100), info = info)\n",
    "fig.savefig('regression.png', bbox_inches='tight')"
   ]
  },
  {
   "cell_type": "markdown",
   "metadata": {},
   "source": [
    "## Exercise 2 (Mandelbrot set)\n",
    "\n",
    "In this exercise, we will write code to generate an image of the Mandelbrot set. Something like : \n",
    "\n",
    "<img src=\"mandelbrot.png\" width=30%>\n",
    "\n",
    "For $c \\in \\mathbb{C}$ and $z_0 \\in \\mathbb{C}$ consider the sequence $z_{n+1,c} = z_{n,c}^2 + c$. The Mandelbrot set is defined as $$\\mathscr{M} = \\{ c \\in \\mathbb{C} \\mid  \\limsup_{n \\to \\infty} \\left|\\,z_{n,c}\\,\\right| < \\infty \\}$$\n",
    "Note that the starting point, $z_0$, can be chosen arbitrarily. Usually, people just use $z_0 = c$.\n",
    "\n",
    "The points of interest of $\\mathscr{M}$ will line in the square box $B = \\{ x + i \\, y \\mid x \\in [-2,1] \\text{ and } y \\in [-1.5,1.5] \\}$. To compute, we will approximate $B$ by some finite number of points.\n",
    "\n",
    "You will write a function called `compute_mandelbrot(num_iters, div_threshold, res)`.\n",
    "* use `res` to divide **each axis** of $B$ into `res` number of points.\n",
    "\n",
    "* use `num_iters` to stop generating $z_{n,c}$ when $n = $`num_iters`.\n",
    "\n",
    "* use `div_threshold` to assume that $c \\in \\mathscr{M}$ if $\\left|\\,z_{\\text{num_iters}\\,,\\,c}\\,\\right| < $ `div_threshold`\n",
    "\n",
    "Your function should return a **boolean** `numpy` array `M` of shape `(res, res)` where `M[a,b] == True` if $c = (-2 + a \\cdot res) + i \\, (-1.5 + b \\cdot res) \\in \\mathscr{M}$\n",
    "\n",
    "**Save the image as a PNG using** `scipy.misc.imsave`.\n",
    "\n",
    "Note : you might have to rotate flip the image and invert the colors. Also, be sure to **use the power on `numpy` arrays (i.e. compute all sequences together)**. You might get some overflow errors, but you can ignore those."
   ]
  },
  {
   "cell_type": "markdown",
   "metadata": {},
   "source": [
    "## Exercise 3 (Animating Tower of Hanoi)\n",
    "\n",
    "In this exercise, you will animate a solution to the Tower of Hanoi problem. For this, we will use the built in `matplotlib` animation tools.\n",
    "\n",
    "Go back to the old homework and pull the code for generating the series of states to solve Tower of Hanoi with `num_disks` disks.\n",
    "\n",
    "Write a function of the form "
   ]
  },
  {
   "cell_type": "code",
   "execution_count": 2,
   "metadata": {},
   "outputs": [],
   "source": [
    "from matplotlib import pyplot as plt\n",
    "from matplotlib.animation import FuncAnimation\n",
    "from hanoi import solution_states\n",
    "\n",
    "def hanoi_animation(n_disks):\n",
    "    fig = plt.figure()\n",
    "    hanoi_states = solution_states(n_disks)\n",
    "    n_states = len(hanoi_states)\n",
    "\n",
    "    def hanoi_frame(i):\n",
    "        fig.clf()\n",
    "        current_state = hanoi_states[i]\n",
    "        # draw the current_state plot as needed\n",
    "        #\n",
    "        # no need to return anything\n",
    "\n",
    "    anim = FuncAnimation(fig, hanoi_frame, frames = np.arange(0, n_states), interval = 300)\n",
    "    plt.show()"
   ]
  },
  {
   "cell_type": "markdown",
   "metadata": {},
   "source": [
    "** Before your code will work, you need to select Kernel in the Jupyter menu and choose Restart. Afterwards, do NOT rerun** `%matplotlib inline`. Afterwards, running"
   ]
  },
  {
   "cell_type": "code",
   "execution_count": null,
   "metadata": {
    "collapsed": true
   },
   "outputs": [],
   "source": [
    "hanoi_animation(3)"
   ]
  },
  {
   "cell_type": "markdown",
   "metadata": {},
   "source": [
    "should open a window (possibly behind your browser window) showing your animation. **You will need to close the animation windows to be able to go back to work in Jupyter.**"
   ]
  },
  {
   "cell_type": "markdown",
   "metadata": {},
   "source": [
    "## Exercise 4 (Spectral leakage and windowing)\n",
    "\n",
    "This is a short exercise for to familiarize you with a concept.\n",
    "\n",
    "Consider the following example :"
   ]
  },
  {
   "cell_type": "code",
   "execution_count": 5,
   "metadata": {},
   "outputs": [
    {
     "data": {
      "image/png": "[encoded data removed]",
      "text/plain": [
       "<Figure size 432x288 with 2 Axes>"
      ]
     },
     "metadata": {},
     "output_type": "display_data"
    }
   ],
   "source": [
    "from scipy import fftpack\n",
    "\n",
    "step = 1./100.\n",
    "a = 0.\n",
    "b = 7.\n",
    "t = np.arange(a, b, step)\n",
    "\n",
    "# our signal\n",
    "f = np.sin(11 * np.pi * t)\n",
    "\n",
    "# Fourier\n",
    "F = fftpack.fft(f)\n",
    "\n",
    "freq = fftpack.fftfreq(f.size, step)\n",
    "log_power = np.log10(1. + np.abs(F))\n",
    "\n",
    "# Plot\n",
    "_ , (ax0, ax1) = plt.subplots(2, 1)\n",
    "\n",
    "ax0.plot(t, f)\n",
    "ax1.plot(freq, log_power)\n",
    "\n",
    "plt.show()"
   ]
  },
  {
   "cell_type": "markdown",
   "metadata": {
    "collapsed": true
   },
   "source": [
    "As you can see, we are simply considering the function $f(t) = \\sin(11 \\, \\pi \\, t)$ over the interval $[0,7]$ (this has frequency $7.5$ Hz). However, in the discrete Fourier transform of our sample, we obtain many different frequencies."
   ]
  },
  {
   "cell_type": "markdown",
   "metadata": {
    "collapsed": true
   },
   "source": [
    "* **a.** Explain why we are not just seeing a **clean** peak frequency of $7.5$ Hz.\n",
    "   * **Hint :** it has something to do with the interval and periodicity."
   ]
  },
  {
   "cell_type": "markdown",
   "metadata": {
    "collapsed": true
   },
   "source": [
    "* **b.**  The above problem is called **spectral leakage**. To fix these kind of issues, one can use **window functions** to make the actual signals more pronounced. The idea is to **smooth** the edges of your sampled signal.\n",
    "\n",
    "    From `scipy.signal` import the `hamming` function. Look up the documentation. Use this to generate new data $g = f \\cdot hamming$. Plot the `hamming` function, the new `g` function, and the log power of the discrete Fourier transform of $g$.\n",
    "\n",
    "    As you can see, the signal is now much more concentrated."
   ]
  },
  {
   "cell_type": "markdown",
   "metadata": {},
   "source": [
    "## Reading (Image processing application)\n",
    "\n",
    "This is completely optional. Look at \"5.11.3 - 5.11.4 Image processing application: counting bubbles and unmolten grains\" (on page 132 of the PDF version) of the SciPy Lecture Notes. You can try working out the problem yourself, or read the example solution."
   ]
  },
  {
   "cell_type": "markdown",
   "metadata": {},
   "source": [
    "## Package Managers (Getting `moviepy` and `mayavi` to work if you want)\n",
    "\n",
    "This is also very optional, but if you want to save GIF images and movies, this is probably the easiest way.\n",
    "\n",
    "Both the Anaconda Distribution and `python` itself come with programs called **package managers**. There is an long list of packages available for `python` that do many different tasks (e.g. `scipy`, `numpy`, `matplotlib` etc). The default install of the Anaconda Distribution comes with many packages pre-installed. However, if you want to add new pacakges (e.g. `moviepy` or `mayavi`) you should use a package manager. Packages usually depend on different versions of other packages. A **package manager** is a program that keeps track of all dependencies and helps you upgrade/downgrade your installation for compatibility.\n",
    "\n",
    "The Anaconda Distribution comes with the package manager called `conda`. Also, with `python`, there is a common package manager called `pip`. Not all packages are available with `conda`, so we have to resolve ourselves to using `pip` once in a while.\n",
    "\n",
    "To install `moviepy` and `mayavi`, you can try the following commands :\n",
    "\n",
    "* Open up a terminal\n",
    "   * on **Windows** open either the Anaconda Console (search in the windows search menu) or Babun.\n",
    "   * on **Linux** or **macOS** open up a standard terminal.\n",
    "   \n",
    "* We are going to create a new **environment**. An (Anaconda) **environment** is a state in which we can install packages without messing with you main installation.\n",
    "```bash\n",
    "conda create -n qt4 python=3 pyqt=4 ipython-notebook --yes\n",
    "```\n",
    "* Once the environment is created, we need to activate it (i.e. we need to switch to the new state)\n",
    "```bash\n",
    "source activate qt4\n",
    "```\n",
    "* Now we need to install the plotting libraries we want : `matplotlib`, `mayavi` and `moviepy`. The versions will be important so compatibility reasons.\n",
    "* To install `matplotlib` version `1.5.1` run :\n",
    "```bash\n",
    "conda install matplotlib=1.5.1\n",
    "```\n",
    "* To install `mayavi` version `4.5.0` run :\n",
    "```bash\n",
    "conda install -c menpo mayavi\n",
    "```\n",
    "   * Note : here, `menpo` is a user in the Anaconda Cloud who created a preconfigured package for us to use.\n",
    "* To install `moviepy` version `0.2.2.11` run the following **two** commands :\n",
    "```bash\n",
    "pip install imageio==1.6\n",
    "pip install moviepy\n",
    "```\n",
    "* Now that you have done this, you can run a Jupyter Notebook **inside the new environment**\n",
    "```bash\n",
    "jupyter-notebook\n",
    "```\n",
    "There, you will be able to use all the code from Lecture 11. Also, you will be able to make a GIF of your Tower of Hanoi problem with :"
   ]
  },
  {
   "cell_type": "code",
   "execution_count": null,
   "metadata": {
    "collapsed": true
   },
   "outputs": [],
   "source": [
    "import numpy as np\n",
    "from matplotlib import pyplot as plt\n",
    "\n",
    "import moviepy.editor as mpy\n",
    "from moviepy.video.io.bindings import mplfig_to_npimage\n",
    "\n",
    "from hanoi import solution_states\n",
    "\n",
    "def hanoi_frame(n, state):\n",
    "    fig = plt.figure()\n",
    "    \n",
    "    ## Draw your figure\n",
    "    \n",
    "    return mplfig_to_npimage(fig)\n",
    "\n",
    "\n",
    "def hanoi_gif(n):\n",
    "    hanoi_states = solution_states(n)\n",
    "    hanoi_frames = [ hanoi_frame(n, s) for s in hanoi_states ]\n",
    "    clip = mpy.ImageSequenceClip(hanoi_frames, fps=2)\n",
    "    clip_name = 'hanoi_solution_for_{}_disks.gif'.format(n)\n",
    "    clip.write_gif(clip_name)"
   ]
  },
  {
   "cell_type": "markdown",
   "metadata": {},
   "source": [
    "** Once you are done working, you should deactivate your environment with :**\n",
    "```bash\n",
    "source deactivate qt4\n",
    "```"
   ]
  }
 ],
 "metadata": {
  "anaconda-cloud": {},
  "kernelspec": {
   "display_name": "Python 3",
   "language": "python",
   "name": "python3"
  },
  "language_info": {
   "codemirror_mode": {
    "name": "ipython",
    "version": 3
   },
   "file_extension": ".py",
   "mimetype": "text/x-python",
   "name": "python",
   "nbconvert_exporter": "python",
   "pygments_lexer": "ipython3",
   "version": "3.6.5"
  }
 },
 "nbformat": 4,
 "nbformat_minor": 1
}
