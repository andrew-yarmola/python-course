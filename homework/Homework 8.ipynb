{
 "cells": [
  {
   "cell_type": "markdown",
   "metadata": {},
   "source": [
    "# Introduction to Programming Homework 8\n",
    "\n",
    "### Due Friday Nov 18\n",
    "\n",
    "You will turn in your homework **via GitHub**! Please use this link to start your repository :\n",
    "\n",
    "https://classroom.github.com/assignment-invitations/1052153ba07d06b632692d444e737228"
   ]
  },
  {
   "cell_type": "markdown",
   "metadata": {},
   "source": [
    "## Exercise 1 (Moving files around)\n",
    "\n",
    "Write a module called `file_sorter.py`\n",
    "\n",
    "* **a.** Generate a file with at least 50 lines of random text using your `generate_random_text` from the previous homework. Write a function called `make_files(path_to_random_text)` which\n",
    "   * creates a directory called `sorting_dir`, if it doesn't already exist\n",
    "   * takes the path to your random text file and creates a blank file in `sorting_dir` for **every word in the file of random text**\n",
    "   * the names of the blank files should be `<word>.ext`, for example if your random text file contains a line \n",
    "   ```\n",
    "   M TiRmMn weyfZVKT WNftXrUrjuLmECV\n",
    "   ```\n",
    "   you should generate files with names `M.ext`, `TiRmMn.ext`, `weyfZVKT.ext`, and `WNftXrUrjuLmECV.ext` for that line. Make sure to generate files for **all** lines in your random text file. \n",
    "   * you can either just `open` and `close` a file to make a bank file or you can use the function \n",
    "   ```python\n",
    "   import os\n",
    "   def touch(file_name):\n",
    "       with open(file_name, 'a') as fp:\n",
    "           os.utime(fp)\n",
    "   ```\n",
    "* **b.** Write a function called `first_letter_sort(sorting_dir)`, which takes a directory and **moves/sorts all the files** in `sorting_dir` into subdirectories by the first letter of the file name. The subdirectories should just be named by the **uppercase** first letter they represent (and they must be created if they don't already exist).\n",
    "   * For example, the files `M.ext`, `TiRmMn.ext`, `weyfZVKT.ext`, and `WNftXrUrjuLmECV.ext` would be sorted into directories `M/`, `T/` and `W/` based on the first letter. Note that `weyfZVKT.ext` and `WNftXrUrjuLmECV` would both go into `W/`."
   ]
  },
  {
   "cell_type": "markdown",
   "metadata": {},
   "source": [
    "## Exercise 2 (Ring of Dual Numbers)\n",
    "\n",
    "Create a module called `dual_numbers.py`.\n",
    "\n",
    "* **a.** Create a `class` called `DualNumber` which should represent an element of the ring $\\mathbb{R}[\\epsilon]/(\\epsilon^2)$. Here, $\\mathbb{R}$ will just be `float`s.\n",
    "   * your `__init__` method should build a dual number $z = a + b \\epsilon$\n",
    "   * define **readolny** property attributes `.real` and `.dual` that return $a$ and $b$, respectively, for `DualNumber(a,b)`.\n",
    "      * this means you **don't** need to write setters.\n",
    "   * define `==` for `DualNumber`.\n",
    "      * for example, ``DualNumber(1,2) == DualNumber(1,2)` should be `True`.\n",
    "   * make it so that `str(DualNumber(1.67,1.4)) == '1.67 + 1.4 eps'` and `repr(DualNumber(1.7,1)) == 'DualNumber(1.7,1)'`\n",
    "   * your `DualNumber` should support all ring operations, i.e. `+, -, *`.\n",
    "      * for example, `DualNumber(1,2) + DualNumber(2,1) == DualNumber(3,3)` should be `True`.\n",
    "   * define `**` such that `z**x` works for an `int` `x >= 0` and a `DualNumber` `z`.\n",
    "   * define `/` for `DualNumber` but return `NotImplemented` when you cannot perform the division.\n",
    "   * all of these methods should return **new** `DualNumber` instances.\n",
    "\n",
    "\n",
    "   Note : the idea here is that, once created, a `DualNumber` is immutable.\n",
    "\n",
    "\n",
    "\n",
    "* **b.** If we want to do operations like `5 + DualNumber(2,1)`, we need to define some extra methods. Since `__add__` is always called on the **left** operand, `5 + DualNumber(2,1)` will fail as `int` doesn't know how to add a `DualNumber`. In the case of failure, python with try to call the `__radd__` method on the **right** operand. Your tasks are :\n",
    "   * allow for adding `int` and `float` to a `DualNumber`\n",
    "      * make sure that `__add__(self, other)` works when `other` is a `DualNumber`, `float`, or `int` and define a method `__radd__(self, other)` to just return `self + other`.\n",
    "   * allow for subtracting a `DualNumber` from `int` and `float` (you'll need to define `__rsub__`)\n",
    "   * allow for multiplying a `DualNumber` by `int` and `float` (you'll need to define `__rmul__`)\n",
    "   * allow for `/` with `int` and `float` (you'll need to define `__rtruediv__`)\n",
    "\n",
    "   At the end, calls like `5 + DualNumber(2,1)`, `5.4*DualNumber(2,1)`, and `1.2/DualNumber(2.7,1)` should all work.\n",
    "   \n",
    "   \n",
    "   \n",
    "* **c.** define a global function `derivative(f, a)`, which takes a **rational function** `f(x)` defined with only the `+,-,*,/,` and `**` operations performed on `x`, and returns `f'(a)`.\n",
    "   * for example, let\n",
    "   ```python\n",
    "   def f(x) :\n",
    "       return x**2 + 2\n",
    "   ```\n",
    "   then `derivative(f, 1.5)` should be `3.` (or some very close float).\n",
    "   * hint : use dual numbers!"
   ]
  }
 ],
 "metadata": {
  "anaconda-cloud": {},
  "kernelspec": {
   "display_name": "Python 3",
   "language": "python",
   "name": "python3"
  },
  "language_info": {
   "codemirror_mode": {
    "name": "ipython",
    "version": 3
   },
   "file_extension": ".py",
   "mimetype": "text/x-python",
   "name": "python",
   "nbconvert_exporter": "python",
   "pygments_lexer": "ipython3",
   "version": "3.6.5"
  }
 },
 "nbformat": 4,
 "nbformat_minor": 1
}
