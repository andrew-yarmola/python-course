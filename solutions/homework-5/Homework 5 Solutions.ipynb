{
 "cells": [
  {
   "cell_type": "markdown",
   "metadata": {},
   "source": [
    "# Introduction to Programming Homework 5"
   ]
  },
  {
   "cell_type": "markdown",
   "metadata": {},
   "source": [
    "### Exercise 1 (Fast modular power)\n",
    "\n",
    "In your module `prime_tests.py`, write a function `mod_pow(a,m,n)` that computes the remainder of $a^m$ divided by $p$ much faster than the command `a**m % n`. Please do **not** use the built-in `pow` command or any other packages. Hint : observe that $3^7 = 3 \\cdot 3^2 \\cdot \\left(3^2 \\right)^2$.\n",
    "\n",
    "You can test your speed using the following commands in IPython."
   ]
  },
  {
   "cell_type": "code",
   "execution_count": 7,
   "metadata": {},
   "outputs": [
    {
     "name": "stdout",
     "output_type": "stream",
     "text": [
      "1000 loops, best of 3: 693 µs per loop\n"
     ]
    }
   ],
   "source": [
    "import random\n",
    "import prime_tests\n",
    "\n",
    "a = random.sample(range(2**10,2**20),100)\n",
    "m = random.sample(range(2,1000),100)\n",
    "n = random.sample(range(2,1000),100)\n",
    "\n",
    "%timeit for i in range(len(a)) : prime_tests.mod_pow(a[i], m[i], n[i])"
   ]
  },
  {
   "cell_type": "markdown",
   "metadata": {},
   "source": [
    "You should aim for something around the `1 ms` mark. The built-in `pow` function will (most likely) always be 2-4 times faster, however."
   ]
  },
  {
   "cell_type": "code",
   "execution_count": 1,
   "metadata": {
    "collapsed": true
   },
   "outputs": [],
   "source": [
    "def mod_pow(a, power, n) :\n",
    "    \"\"\" A faster modular power algorithm for\n",
    "    integers a, power >=0, and n. Returns a**power % n. \"\"\"\n",
    "    assert isinstance(a,int) and isinstance(power,int) and \\\n",
    "           isinstance(n,int) and power >= 0\n",
    "    result = 1\n",
    "    double = a\n",
    "    while power > 0 :\n",
    "        # keep doubling until we hit a non-zero\n",
    "        # coefficient in the binary expansion of \n",
    "        # power and accumulate that into the result\n",
    "        if power % 2 != 0 :\n",
    "            result = (result * double) % n\n",
    "            # we we ever get 0, we can stop\n",
    "            if result == 0 : break\n",
    "        double = double**2 % n\n",
    "        # if our square is ever 1, we can stop\n",
    "        if double == 1 : break\n",
    "        # since we are taking care of the case\n",
    "        # where power is odd above, we can just\n",
    "        # take the integral half\n",
    "        power //=2\n",
    "    return result"
   ]
  },
  {
   "cell_type": "markdown",
   "metadata": {},
   "source": [
    "### Exercise 2 (Miller-Rabin Primality Test)\n",
    "\n",
    "The probabilistic Miller-Rabin primality test is based on the following well known fact.\n",
    "\n",
    "** Proposition 1**. If $p$ is prime and $x^2 \\equiv 1 \\text{ mod } p$, then $x \\equiv \\pm 1 \\text{ mod } p$\n",
    "\n",
    "Combining this with Fermat's little theorem, Miller-Rabin observe the following corollary.\n",
    "\n",
    "** Corollary 1**. Let $p$ be an odd prime and write $p-1 = d \\cdot 2^s$ where $d$ is odd. Then for all $0 < x < p$, $x^{p-1} \\equiv 1 \\text{ mod } p$ and either $$x^d \\equiv 1 \\text{ mod }p \\quad or \\quad x^{d \\cdot 2^r} \\equiv -1 \\text{ mod } p \\text{ for some } 0 \\leq r \\leq s-1$$\n",
    "\n",
    "** Proof**. The fact that $x^{p-1} \\equiv x^{d \\cdot 2^s} \\equiv 1 \\text{ mod } p$ is Fermat's little theorem. Taking successive square roots, the conclusion follows by Proposition 1. $\\blacksquare$\n",
    "\n",
    "Let $n$ be an odd positive integer and write $n - 1 = d \\cdot 2^s$ where $d$ is odd. If we want to show that $n$ is composite, we could demonstrate a number $x$ that fails the conclusion of Corollary 1. First, we check that $x^{n-1} \\equiv 1 \\text{ mod n}$ and then we consider the sequence of numbers $x^d, x^{2d}, \\ldots, x^{d \\cdot 2^{s-1}}$. If $x^{d\\cdot 2^r} \\not\\equiv \\pm 1 \\text{ mod } n$ but $x^{d\\cdot 2^{r+1}} \\equiv 1 \\text{ mod } n$ for some $0 \\leq r \\leq s-1$, then we can conclude that $n$ is composite.\n",
    "\n",
    "An integer $x$ that demonstrates that $n$ is composite in this way is called a **Miller-Rabin witness**.\n",
    "\n",
    "** Theorem **(Miller-Rabin). Let $n$ be an odd composite positive integer. A randomly chosen $x$ form $\\{1, \\ldots, n-1\\}$ has a probability of **more than** 3/4 of being a Miller-Rabin witness."
   ]
  },
  {
   "cell_type": "markdown",
   "metadata": {},
   "source": [
    "* **a.** In `prime_tests.py` write a function `is_miller_rabin_witness(n,x)` which checks whether `x` is a Miller-Rabin witness for an odd positive integer `n`. No need to validate your input for this one. "
   ]
  },
  {
   "cell_type": "markdown",
   "metadata": {},
   "source": [
    "* **b.** In `prime_tests.py` write a function `probably_prime(n, prob)` which takes a number `n` and returns `True` if `n` has probability at least `prob` of being prime by the Miller-Rabin test. `False` otherwise. Use the Miller-Rabin theorem to run the test enough times to guarantee the desired probability."
   ]
  },
  {
   "cell_type": "markdown",
   "metadata": {},
   "source": [
    "* **c.** Assuming the extended Riemann hypothesis, Miller proved that every composite number `n` has a Miller-Rabin witness in the set $\\{2, \\ldots , \\min(n-1,\\lfloor 2(\\log n)^2\\rfloor)\\}$. Use the `math` module to write a function `is_prime(n)` that uses this test to conclude whether `n` is prime or not. Here, $\\log$ is the base $e$ logarithm.\n",
    "   * Remark : The Miller-Rabin Theorem tells us that if we find $(n-1)/4$ **non-witnesses** in $\\{1, \\ldots, n-1\\}$, then we can conclude that $n$ is prime. Notice that for `n > 241` one has $\\lfloor 2(\\log n)^2\\rfloor) < (n-1)/4$, so this test is more efficient for large $n$."
   ]
  },
  {
   "cell_type": "code",
   "execution_count": 2,
   "metadata": {
    "collapsed": true
   },
   "outputs": [],
   "source": [
    "def decompose_even_part(n) :\n",
    "    \"\"\" Returns d,s such that n = d * (2**s). Assumes\n",
    "    that n is a positive integer. \"\"\"\n",
    "    s, d = 0, n\n",
    "    while d % 2 == 0 :\n",
    "        s += 1\n",
    "        d //= 2\n",
    "    return (d,s)\n",
    "\n",
    "def is_miller_rabin_witness(n,x) :\n",
    "    \"\"\" Tests if x is a Miller-Rabin witness for n.\n",
    "    Assumes x,n are integers and n > 0. \"\"\"\n",
    "    d, s = decompose_even_part(n-1)\n",
    "    a = pow(x,d,n)\n",
    "    # inconclusive if x**d % n == 1 \n",
    "    if a == 1 : return False\n",
    "\n",
    "    for _ in range(s) :\n",
    "        # if we get -1 mon n, inconclusive\n",
    "        if a == n - 1 :\n",
    "            return False\n",
    "        a = a**2 % n\n",
    "        # if the square is 1 but before we were not -1, witness\n",
    "        if a == 1 :\n",
    "            return True\n",
    "\n",
    "    # a is now x**(n-1) % n but it wasn't equal to 1 at the end\n",
    "    # end of the last loop!\n",
    "    return True\n",
    "\n",
    "def probably_prime(n, prob) :\n",
    "    \"\"\" Returns True if n is a prime with probablity greater\n",
    "    than prob using the Miller-Rabin test. \"\"\"\n",
    "    assert isinstance(n, int) and n > 0\n",
    "    if n == 2 : return True\n",
    "    if n % 2 == 0 or n == 1 : return False\n",
    "    # we compute the number of tests we need knowning that\n",
    "    # x chosen from {1, ..., n-1} has probablity at least 3/4\n",
    "    # of being an M-R witness\n",
    "    if prob >= 1. :\n",
    "        num_tests = 1+(3*(n-1))//4\n",
    "    else :\n",
    "        # want (1/4)**num_tests <= 1 - prob\n",
    "        num_tests = -math.floor(math.log2(1-prob)/2)\n",
    "    tests = random.sample(range(1,n), num_tests)\n",
    "    for t in tests :\n",
    "        if is_miller_rabin_witness(n, t) :\n",
    "            return False\n",
    "    return True \n",
    "\n",
    "def is_prime(n) :        \n",
    "    \"\"\" Returns True if n is a prime. Assumes\n",
    "    the extended Riemann hypothesis. \"\"\"\n",
    "    assert isinstance(n, int) and n > 0\n",
    "    if n == 2 : return True\n",
    "    if n % 2 == 0 or n == 1 : return False\n",
    "    # TODO : math.log only works well with n < 2**53 !!!\n",
    "    test_cutoff = math.floor(2 * math.log(n)**2)\n",
    "    for t in range(2, test_cutoff  + 1) :\n",
    "        if is_miller_rabin_witness(n, t) :\n",
    "            return False\n",
    "    return True"
   ]
  },
  {
   "cell_type": "markdown",
   "metadata": {},
   "source": [
    "### Exercise 3 ( Trees)\n",
    "Create a module `binary_tree.py`\n",
    "\n",
    "In the exercise, your job will be to create a class that represents the fundamental building block of a binary tree. A binary tree is a structure that looks like this :\n",
    "\n",
    "![title](https://upload.wikimedia.org/wikipedia/commons/thumb/d/da/Binary_search_tree.svg/300px-Binary_search_tree.svg.png)\n",
    "\n",
    "In the above diagram, every circle is called a **node** of the tree. Each node has some data stored inside (a number in the above case). Most nodes also have a left and right child node. Nodes that do not have children are called **terminal** nodes. The top node in the diagram above is called the **root** node. As you can see, the **root** node does not have a **parent** node."
   ]
  },
  {
   "cell_type": "markdown",
   "metadata": {},
   "source": [
    "* **a.** Create a class called `Node`. It should have readable properties `.parent`, `.left`, `.right`, and `.data`. The `.parent`, `.left` and `.right` properties should again be `Node` instances or `None`. To simulate a node not having children (or a parent) we can set those properties to `None`.\n",
    "\n",
    "Your `__init__` method should be of type\n",
    "```python\n",
    "def __init__(self, data = None, left = None, right = None)\n",
    "```\n",
    "Write setters for `.data, .left, .right`. Make `.parent` a read only property and manage it internally. When writing the setter for `.left` and `.right`, be sure to check that the object you are setting are instances of class `Node` or that they are `None`. Be sure to set the parent node internally when setting the children nodes. Also, be sure to clear the parent property internally when removing or replacing a child node."
   ]
  },
  {
   "cell_type": "markdown",
   "metadata": {},
   "source": [
    "* **b.** A binary tree can be represented by its starting root node. In fact, given any node, you can read off the (sub)tree below it by looking at its children. Write a module global function called `test_tree` which returns the root node of the binary tree in the above picture."
   ]
  },
  {
   "cell_type": "markdown",
   "metadata": {},
   "source": [
    "* **c.** Frequently, it is useful to read the data of the tree is a specific order. Create a **recursive** instance method called `.inorder` which returns a list containing the data of the tree in the following order : \n",
    "\n",
    "![title](https://upload.wikimedia.org/wikipedia/commons/thumb/7/77/Sorted_binary_tree_inorder.svg/336px-Sorted_binary_tree_inorder.svg.png)\n",
    "\n",
    "So, if `my_tree` is the tree in the above image, `my_tree.inorder() = ['A','B',...,'H','I']`"
   ]
  },
  {
   "cell_type": "code",
   "execution_count": 5,
   "metadata": {
    "collapsed": true
   },
   "outputs": [],
   "source": [
    "class Node:\n",
    "    def __init__(self, data = None, left = None, right = None) :\n",
    "        self._right = None\n",
    "        self._left = None\n",
    "        self._parent = None\n",
    "        self.data = data\n",
    "        self.left = left\n",
    "        self.right = right\n",
    "\n",
    "    @property\n",
    "    def data(self) :\n",
    "        return self._data\n",
    "\n",
    "    @data.setter\n",
    "    def data(self, data):\n",
    "        self._data = data\n",
    "\n",
    "    # publically, parent will be readonly!\n",
    "    @property\n",
    "    def parent(self):\n",
    "        return self._parent\n",
    "\n",
    "    @property\n",
    "    def left(self):\n",
    "        return self._left\n",
    "\n",
    "    @left.setter\n",
    "    def left(self, set_as_left) :\n",
    "        if type(set_as_left) is Node or set_as_left is None :\n",
    "            # we must clean up the parent of the old node \n",
    "            if self.left is not None :\n",
    "                self.left._parent = None\n",
    "            self._left = set_as_left\n",
    "            # set outselves as the parent of the new node\n",
    "            if self.left is not None :\n",
    "                self.left._parent = self\n",
    "        else :\n",
    "            raise ValueError(\"Left child must be a Node or None\")\n",
    "\n",
    "    @property\n",
    "    def right(self):\n",
    "        return self._right\n",
    "\n",
    "    @right.setter\n",
    "    def right(self, set_as_right) :\n",
    "        if type(set_as_right) is Node or set_as_right is None :\n",
    "            # we must clean up the parent of the old node \n",
    "            if self.right is not None :\n",
    "                self.right._parent = None\n",
    "            self._right = set_as_right\n",
    "            # set outselves as the parent of the new node\n",
    "            if self.right is not None :\n",
    "                self.right._parent = self\n",
    "        else :\n",
    "            raise ValueError(\"Right child must be a Node or None\")\n",
    "\n",
    "    def inorder(self):\n",
    "        L = []\n",
    "        C = [self.data]\n",
    "        R = []\n",
    "        if self.left is not None:\n",
    "            L = self.left.inorder()\n",
    "        if self.right is not None:\n",
    "            R = self.right.inorder()\n",
    "        return L + C + R\n",
    "\n",
    "def test_tree() :\n",
    "    # here 'up' means go to a parent, and \n",
    "    #'nl' mean \"no left\" for skipping the left\n",
    "    # node. we keep a current node an keep setting\n",
    "    # left nodes until there is one already set or 'nl'\n",
    "    tree_encoding = [8,3,1,'up', 6, 4, 'up', 7,\n",
    "                     'up', 'up', 'up', 10, 'nl', 14, 13]\n",
    "\n",
    "    # using the fact that data is the first argument\n",
    "    root = Node(tree_encoding[0])\n",
    "    curr = root\n",
    "    skip_left = False\n",
    "    for d in tree_encoding[1:] :\n",
    "        if d == 'up' :\n",
    "            curr = curr.parent\n",
    "            continue\n",
    "        if d == 'nl' :\n",
    "            skip_left = True\n",
    "            continue\n",
    "        new = Node(d)\n",
    "        if curr.left is None and not skip_left :\n",
    "            curr.left = new\n",
    "        else :\n",
    "            curr.right = new\n",
    "        curr = new\n",
    "        skip_left = False\n",
    "\n",
    "    return root"
   ]
  }
 ],
 "metadata": {
  "anaconda-cloud": {},
  "kernelspec": {
   "display_name": "Python 3",
   "language": "python",
   "name": "python3"
  },
  "language_info": {
   "codemirror_mode": {
    "name": "ipython",
    "version": 3
   },
   "file_extension": ".py",
   "mimetype": "text/x-python",
   "name": "python",
   "nbconvert_exporter": "python",
   "pygments_lexer": "ipython3",
   "version": "3.6.5"
  }
 },
 "nbformat": 4,
 "nbformat_minor": 1
}
