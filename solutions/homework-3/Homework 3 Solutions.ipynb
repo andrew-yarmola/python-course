{
 "cells": [
  {
   "cell_type": "markdown",
   "metadata": {},
   "source": [
    "# Introduction to Programming Homework 3 Solutions\n",
    "\n",
    "Note : There are (many) diffenrent ways to answer many of these questions. I have placed the solutions in-line with the questions, however, they should be contaiend in their own module files. I also provided alternate solutions in Lecture 3."
   ]
  },
  {
   "cell_type": "markdown",
   "metadata": {},
   "source": [
    "### Exercise 1 ( Box game)\n",
    "Create a module `box_game.py`. At the beginning of the file, `import random`. Consider the following game from Lecture 3.\n",
    "\n",
    "A game show has a team of `n` contestants, which are numbered `0,...,n-1`.\n",
    "\n",
    "In the game room, there are `n` boxes, also numbered `0,..., n-1`. Each box contains one of the numbers `0,..., n-1` and no two boxes contain the same number. The game show host makes the following bet with the contestants\n",
    "* the team pays €100 to play\n",
    "* the numbers inside the boxes are randomly shuffled **once** for the entire game.\n",
    "* one by one, contestants enter the room and are given `num_tries` chances to find their number (i.e. they get to open any `num_tries` boxes they choose, one at a time).\n",
    "* after a contestant has either found their number or opened `num_tries` boxes, the room is reset just as it was before the contestant went inside\n",
    "* if all the contestants find their number, the game show will award the team €3000, however, if any contestant has failed to find their number, the game show keeps all the money\n",
    "\n",
    "Players can decide on a strategy ahead of time, but cannot communicate once the game begins."
   ]
  },
  {
   "cell_type": "markdown",
   "metadata": {},
   "source": [
    "* **a.** Write a `individual_strategy` function that  has three inputs :\n",
    "\n",
    "   * the list of boxes for a given round\n",
    "   * the number of boxes allowed to open (i.e. `num_tries`)\n",
    "   * the contestant's number to look for\n",
    "   \n",
    " Your function should return `True` if the number is found, and `False` otherwise."
   ]
  },
  {
   "cell_type": "code",
   "execution_count": 13,
   "metadata": {
    "collapsed": true
   },
   "outputs": [],
   "source": [
    "def individual_strategy(boxes, num_tries, num_to_find) :\n",
    "    \"\"\" Implements the cycle strategy for a player to\n",
    "    look for their number (num_to_find) in a list (boxes_list) with\n",
    "    a limited number of tries (num_tries). The function\n",
    "    returns True if the number is found, False otherwise.\n",
    "    The algorithm treats boxes[i] as a permtuation and\n",
    "    looks through the cycle containing i = person. \"\"\"\n",
    "    count = 0\n",
    "    idx = num_to_find\n",
    "    while count < num_tries :\n",
    "        curr = boxes[idx]\n",
    "        if curr == num_to_find :\n",
    "            return True\n",
    "        idx = curr\n",
    "        count += 1\n",
    "    return False"
   ]
  },
  {
   "cell_type": "markdown",
   "metadata": {},
   "source": [
    "* **b.** Write a function called `play_game` to play the game multiple times and return the **victory rate** (wins/rounds) with a given strategy. The input of `play_game` should be :\n",
    "   * the number of contestants\n",
    "   * the number of boxes allowed to open (i.e. `num_tries`)\n",
    "   * a strategy function which will be used for every contestant\n",
    "   * the number of rounds the game should be played, which should **default to 1**\n",
    "  \n",
    "   In between each round, be sure to **randomly shuffle the box contents**.\n",
    "\n"
   ]
  },
  {
   "cell_type": "code",
   "execution_count": 14,
   "metadata": {
    "collapsed": true
   },
   "outputs": [],
   "source": [
    "import random\n",
    "def play_game(num_ppl, num_tries, strategy, num_runs = 1) :\n",
    "    \"\"\" A tool to simulate many random rounds of the box game.\n",
    "    Parameters\n",
    "    ----------\n",
    "    num_ppl : int, required\n",
    "        Number of contestants.\n",
    "    num_tries : int, required\n",
    "        Number of tries each contestant has to find their box.\n",
    "    strategy : function(boxes, num_tries, person), required\n",
    "        A strategy function to be used for each contestant.\n",
    "    num_runs : int, optional\n",
    "        Number of times to play the game. Defaults to 1.\n",
    "\n",
    "    Returns\n",
    "    ----------\n",
    "        rate of victory with given strategy function\n",
    "    \"\"\"\n",
    "    boxes = list(range(num_ppl))\n",
    "    ppl = list(range(num_ppl))\n",
    "    wins = 0\n",
    "    games_played = 0\n",
    "    while games_played < num_runs :\n",
    "        # Shuffle the boxes once per game\n",
    "        random.shuffle(boxes)\n",
    "        result = True\n",
    "        for person in ppl :\n",
    "            result = strategy(boxes, num_tries, person)\n",
    "            if result is False : # we have lost !!!\n",
    "                break # stops the inner for loop\n",
    "        # remember that int(True) = 1,\n",
    "        # and int(False) = 0\n",
    "        wins += result\n",
    "        games_played += 1       \n",
    "    # we have played all the games\n",
    "    return wins/num_runs"
   ]
  },
  {
   "cell_type": "markdown",
   "metadata": {},
   "source": [
    "* **c.** Improve your `individual_strategy` so that `box_game.play_game(10, 5, box_game.individual_strategy, 10000) > 0.3` will (usually) be true. Here the number of contestants is 10, number of tries is 5, and the number of rounds is 10000. Don't hesitate to email me if you need a hint!"
   ]
  },
  {
   "cell_type": "code",
   "execution_count": 15,
   "metadata": {},
   "outputs": [
    {
     "data": {
      "text/plain": [
       "True"
      ]
     },
     "execution_count": 15,
     "metadata": {},
     "output_type": "execute_result"
    }
   ],
   "source": [
    "play_game(10, 5, individual_strategy, 10000) > 0.3"
   ]
  },
  {
   "cell_type": "markdown",
   "metadata": {},
   "source": [
    "### Exercise 2 (Base 2 continued)\n",
    "Start with your module `base_2.py` from Homework 2. You are welcome to make updates to your code from the Homework 2 Solutions. You should use the functions you wrote in Homework 2 in your answers below."
   ]
  },
  {
   "cell_type": "markdown",
   "metadata": {},
   "source": [
    "Notice that a `float` has an instance method called `.as_integer_ratio()`. Given a float `x`, the return value of `x.as_integer_ratio()` is a `tuple` of the form `(m,n)` such that `n` is power of `2` and `x == m/n` **as floating point numbers**. That is, in the computer representation, $x = m/n$ mathematically. For example"
   ]
  },
  {
   "cell_type": "code",
   "execution_count": 16,
   "metadata": {},
   "outputs": [
    {
     "name": "stdout",
     "output_type": "stream",
     "text": [
      "(799388933858263, 562949953421312)\n",
      "True\n"
     ]
    }
   ],
   "source": [
    "x = 1.42\n",
    "as_ratio = x.as_integer_ratio()\n",
    "print(as_ratio)\n",
    "print(x == as_ratio[0]/as_ratio[1])"
   ]
  },
  {
   "cell_type": "markdown",
   "metadata": {},
   "source": [
    "* **a.** Write a function called `float_repr` which takes a floating point number `x` and returns a tuple `(c,q)` such that $x = c \\cdot 2^q$ mathematically. For example `base_2.float_repr(0.1)` can return `(3602879701896397,-55)`. Note, depending on the float, there might be several valid choices for `c` and `q`."
   ]
  },
  {
   "cell_type": "code",
   "execution_count": 17,
   "metadata": {
    "collapsed": true
   },
   "outputs": [],
   "source": [
    "def float_repr(x) :\n",
    "    \"\"\" Given a float x, returns a pair of ints (c,q)\n",
    "    such that x = c*2**q exactly. \"\"\" \n",
    "    # if a function returns a tuple, you can read off\n",
    "    # the multiple inputs using this syntax\n",
    "    m, n = x.as_integer_ratio()\n",
    "    # since n is a power of 2\n",
    "    q_minus =  bad_log_base_2(n)\n",
    "    if q_minus < 0 :\n",
    "        raise RuntimeError(\"Unexpected denominator in \"\n",
    "                           \"float.as_integer_ratio().\")\n",
    "    return (m,-q_minus)"
   ]
  },
  {
   "cell_type": "markdown",
   "metadata": {},
   "source": [
    "* **b.** Write a function called `float_repr_54` which takes a floating point number `x` and returns a tuple `(c,q)` such that $x = c \\cdot 2^q$ mathematically **and `base_2.bits_needed(c)` is 54 or less**. For example, `base_2.float_repr_54(123192210012943262.)` can return the tuple `(7699513125808954, 4)`. \n",
    "   * Hint : python internally uses at most 54 bits to store `c`, so you should always be able to recover this from `m` and `n`."
   ]
  },
  {
   "cell_type": "code",
   "execution_count": 18,
   "metadata": {
    "collapsed": true
   },
   "outputs": [],
   "source": [
    "def float_repr_54(x) :\n",
    "    \"\"\" Given a float x, returns a pair of ints (c,q)\n",
    "    such that x = c*2**q exactly and c has 54 or less\n",
    "    bits of percision, including sign.  \"\"\" \n",
    "    c, q = float_repr(x)\n",
    "    c_bits = bits_needed(c)\n",
    "    while c_bits > 54 :\n",
    "        if c % 2 != 0 :\n",
    "            raise RuntimeError(\"Numerator not a multiple of 2.\")\n",
    "        c //= 2 # Use integer division!\n",
    "        q += 1\n",
    "        c_bits -= 1\n",
    "    return (c,q)"
   ]
  },
  {
   "cell_type": "markdown",
   "metadata": {
    "collapsed": true
   },
   "source": [
    "#### Remark\n",
    "You can see that python uses 54 bits from the following test."
   ]
  },
  {
   "cell_type": "code",
   "execution_count": 6,
   "metadata": {},
   "outputs": [
    {
     "name": "stdout",
     "output_type": "stream",
     "text": [
      "9007199254740991 is clearly the ratio of (9007199254740991, 1)\n",
      "9007199254740993 is clearly NOT the ratio of (9007199254740992, 1)\n"
     ]
    }
   ],
   "source": [
    "under = float(2**53-1)\n",
    "over = float(2**53+1)\n",
    "print(\"{0:d} is clearly the ratio of {1}\".format(2**53-1,\n",
    "                                    under.as_integer_ratio()))\n",
    "print(\"{0:d} is clearly NOT the ratio of {1}\".format(2**53+1,\n",
    "                                    over.as_integer_ratio()))"
   ]
  },
  {
   "cell_type": "markdown",
   "metadata": {},
   "source": [
    "In particular, the closest floating point to the integer `2**53+1` is the floating point number `2**53`."
   ]
  },
  {
   "cell_type": "markdown",
   "metadata": {},
   "source": [
    "### Exercise 3 (Permutations continued)\n",
    "\n",
    "Start with your module `perms.py` from Homework 2. You are welcome to make updates to your code from the Homework 2 Solutions.\n",
    "\n",
    "In this exercise, you will write code to convert between permutations in **function representation** (using tuples as in the previous homework) and permutations in **cycle representation** (see [https://en.wikipedia.org/wiki/Permutation#Cycle_notation]). Our permutations will again permute the set {0,...,n-1}\n",
    "\n",
    "To model the cycle representation of a permutation, we will use a **tuple of tuples**. For example, consider the permutation $\\sigma$ = (0 3)(1 2 4) in **mathematical cycle representation**. This corresponds to the map $f_\\sigma$ : {0,...,4} $\\to$ {0,...,4} with $$f_\\sigma (0) = 3, \\; f_\\sigma (1) = 2, \\; f_\\sigma (2) = 4, \\; f_\\sigma (3) = 0, \\; f_\\sigma (4) = 1.$$\n",
    "So in **function representation**, we write $\\sigma$ as the tuple `(3,2,4,0,1)`. For the **cycle representation**, we will use `((0,3),(1,2,4))`. As you can see, this is a tuple of tuples in python.\n",
    "\n",
    "For cycle representations with just **one** cycle, we write `((a_1, a_2,...,a_k),)` (note the `,`). The identity permutation is therefore just `((),)`."
   ]
  },
  {
   "cell_type": "markdown",
   "metadata": {},
   "source": [
    "* **a.** Write the following functions :\n",
    "   * `valid_disjoint_cycle_rep` which takes a tuple of tuples (of integers) and returns `True` if the supplied input represents a mathematical **disjoint** cycle representation of some permutation of {0,1,...}. Returns `False` otherwise.\n",
    "   * `min_perm_size` which takes a tuple of tuples (of integers) and returns the minimal permutation size (i.e. `n`) if the input is a valid disjoint cycle representation. If the input is **not** valid, **instead of a `return` statement**, use \n",
    "```python\n",
    "raise SyntaxError(\"Bad disjoint cycle representation\")   \n",
    "```"
   ]
  },
  {
   "cell_type": "code",
   "execution_count": 19,
   "metadata": {
    "collapsed": true
   },
   "outputs": [],
   "source": [
    "def valid_disjoint_cycle_rep(cycles) :\n",
    "    \"\"\" Returns True if the input is a tuple of tuples representing\n",
    "    a disjoint cycle decomposition of a permutation. \"\"\"\n",
    "    if type(cycles) is not tuple or len(cycles) == 0 : return False\n",
    "    # we pull all the values out of cycles and then see if\n",
    "    # they have no repeats and are in the right range\n",
    "    values = []\n",
    "    for c in cycles :\n",
    "        if type(c) is not tuple : return False\n",
    "        for x in c : \n",
    "            if type(x) is not int : return False\n",
    "            values.append(x)\n",
    "    values = sorted(values)\n",
    "    expected_range = range(max(values))\n",
    "    for i in range(len(values)-1):\n",
    "        if values[i] not in expected_range or \\\n",
    "           values[i] == values[ i + 1 ] :\n",
    "            return False\n",
    "    return True\n",
    "\n",
    "def max_or_minusone(t) :\n",
    "    \"\"\" Tries to returns max(t) ,\n",
    "    or -1 if max(t) fails. \"\"\"\n",
    "    # if you want, you could also just check len(t) > 0\n",
    "    try :\n",
    "        return max(t)\n",
    "    except :\n",
    "        return -1\n",
    "\n",
    "def min_perm_size(cycles) :\n",
    "    \"\"\" Returns the minimum permutation size given a tuple\n",
    "    of tuples representing a disjoint cycle decomposition.\n",
    "    Raises a SyntaxError on bad input. \"\"\"\n",
    "    if not valid_disjoint_cycle_rep(cycles) :\n",
    "        raise SyntaxError(\"Bad disjoint cycle representation\")\n",
    "    else :\n",
    "        return max(map(max_or_minusone, cycles)) + 1\n",
    "\n",
    "# A more efficient version of valid_disjoint_cycle_rep using sets\n",
    "def valid_disjoint_cycle_rep_v2(cycles) :\n",
    "    \"\"\" Returns True if the input is a tuple of tuples representing\n",
    "    a disjoint cycle decomposition of a permutation. \"\"\"\n",
    "    if type(cycles) is not tuple or len(cycles) == 0 : return False\n",
    "    # keep track of seen integers\n",
    "    seen = set()\n",
    "    for c in cycles :\n",
    "        if type(c) is not tuple : return False\n",
    "        for i in c :\n",
    "            if type(i) is not int or i < 0 :\n",
    "                return False\n",
    "            elif i in seen :\n",
    "                return False\n",
    "            else :\n",
    "                seen.add(i)\n",
    "    return True"
   ]
  },
  {
   "cell_type": "markdown",
   "metadata": {},
   "source": [
    "* **b.** Write the following functions :\n",
    "   * `cycle_rep_from_func` which takes a function representation and returns the disjoint cycle representation the corresponding permutation. If the input is not in function representation, `raise SyntaxError(\"Bad function representation\")`\n",
    "   * `func_from_disjoint_cycle_rep` which takes a disjoint cycle representation and returns the function representation of the corresponding permutation. If the input is not in disjoint cycle representation, `raise SyntaxError(\"Bad disjoint cycle representation\")`."
   ]
  },
  {
   "cell_type": "code",
   "execution_count": 11,
   "metadata": {
    "collapsed": true
   },
   "outputs": [],
   "source": [
    "def func_from_disjoint_cycle_rep(cycles) :\n",
    "    \"\"\" Returns the function representation of a permutation\n",
    "    given a tuple of tuples representing a disjoint cycle\n",
    "    decomposition. Raises a SyntaxError on bad input. \"\"\"\n",
    "    # this will validate input, so I don't have to here\n",
    "    perm_size = min_perm_size(cycles)\n",
    "    # start with idenity and modify\n",
    "    f = list(range(perm_size))\n",
    "    for cycle in cycles :\n",
    "        cycle_len = len(cycle)\n",
    "        for i in range(cycle_len) :\n",
    "            f[cycle[i]] = cycle[ (i+1) % cycle_len ]\n",
    "    return tuple(f)\n",
    "\n",
    "def cycle_rep_from_func(f) :\n",
    "    \"\"\" Returns the disjoint cycle representation of a permutation\n",
    "    given a tuple as a function reprepresentation.\n",
    "    Raises a SyntaxError on bad input. \"\"\"\n",
    "    if not is_perm(f) :\n",
    "        raise SyntaxError(\"Bad function representation\")\n",
    "    # we use seen to keep track of the values visited\n",
    "    cycle_rep = []\n",
    "    n = len(f)\n",
    "    seen = [0]*n\n",
    "    while 0 in seen :\n",
    "        # find the first non-visited int\n",
    "        c_start = seen.index(0)\n",
    "        cycle = [c_start]\n",
    "        seen[c_start] = 1\n",
    "        c_next = f[c_start]\n",
    "        while c_next != c_start :\n",
    "            cycle.append(c_next)\n",
    "            seen[c_next] = 1\n",
    "            c_next = f[c_next]\n",
    "        if len(cycle) > 1 :\n",
    "            cycle_rep.append(tuple(cycle))\n",
    "    if len(cycle_rep) > 0 :\n",
    "        return tuple(cycle_rep)\n",
    "    else :\n",
    "        return ((),)\n",
    "    \n",
    "# Again, sets make things a little shorter,\n",
    "# cleaner and easier to read\n",
    "def cycle_rep_from_func_v2(f) :\n",
    "    \"\"\" Returns the disjoint cycle representation of a permutation\n",
    "    given a tuple as a function reprepresentation.\n",
    "    Raises a SyntaxError on bad input. \"\"\"\n",
    "    if not is_perm(f) :\n",
    "        raise SyntaxError(\"Bad function representation\")\n",
    "    # we use unseen to keep track of the values not visited\n",
    "    cycle_rep = []\n",
    "    n = len(f)\n",
    "    unseen = set(range(n))\n",
    "    while len(unseen) > 0 :\n",
    "        c_start = unseen.pop()\n",
    "        cycle = [c_start]\n",
    "        c_next = f[c_start]\n",
    "        while c_next != c_start :\n",
    "            cycle.append(c_next)\n",
    "            unseen.discard(c_next)\n",
    "            c_next = f[c_next]\n",
    "        if len(cycle) > 1 :\n",
    "            cycle_rep.append(tuple(cycle))\n",
    "    if len(cycle_rep) > 0 :\n",
    "        return tuple(cycle_rep)\n",
    "    else :\n",
    "        return ((),)"
   ]
  },
  {
   "cell_type": "markdown",
   "metadata": {},
   "source": [
    "* **c.** Disjoint cycle representations have a **canonical** form where each cycle is sorted from least to greatest and the cycles themselves are sorted by their smallest elements. Write a function `canonical_disjoint_rep` which takes a tuple of tuples and returns the **canonical** cycle representation if the input is a valid disjoint cycle representation. On bad input, `raise SyntaxError(\"Bad disjoint cycle representation\")`\n",
    "   * Hint : learn about the optional `key` argument to the function `sorted` (see \n",
    "   [https://docs.python.org/3/howto/sorting.html#sortinghowto])."
   ]
  },
  {
   "cell_type": "code",
   "execution_count": 12,
   "metadata": {
    "collapsed": true
   },
   "outputs": [],
   "source": [
    "def get_first(x) :\n",
    "    \"\"\" Returns the fist element of x. Assumes x is not empty. \"\"\"\n",
    "    return x[0]\n",
    "\n",
    "def get_second(x) :\n",
    "    \"\"\" Returns the second element of x. Assumes x as at\n",
    "        least 2 elements. \"\"\"\n",
    "    return x[1]\n",
    "\n",
    "def rot_to_min(x) :\n",
    "    \"\"\" Given a list or tuple x, returns its cyclical rotation\n",
    "        starting with the minumum value.\n",
    "        Return type is the same as x. \"\"\"\n",
    "    # enumerate(x) returns an iterable of paits (idx, val)\n",
    "    min_idx, x_min = min(enumerate(x), key = get_second)\n",
    "    # return the rotated version\n",
    "    return x[min_idx:] + x[:min_idx]\n",
    "\n",
    "def canonical_disjoint_rep(cycles) :\n",
    "    \"\"\" Returns the canonical cycle decomposition given a tuple\n",
    "        of tuples representing a disjoint cycle decomposition. All\n",
    "        empty tuples and singletons are removed. Raises a\n",
    "        SyntaxError on bad input. \"\"\"\n",
    "    if not valid_disjoint_cycle_rep(cycles) :\n",
    "        raise SyntaxError(\"Bad disjoint cycle representation\")\n",
    "    # the identity is already canonical\n",
    "    if cycles == ((),) : return cycles\n",
    "    # delete any empty or singleton tuples in p\n",
    "    clean_cycles = [ c for c in cycles if len(c) > 1 ]\n",
    "    # now we can cyclically rotate each tuple in p\n",
    "    inner_sorted = map(rot_to_min, clean_cycles)\n",
    "    # sorting the lists in the inner_sorted iterator\n",
    "    outer_sorted = sorted(inner_sorted, key = get_first)\n",
    "    return tuple(outer_sorted)"
   ]
  },
  {
   "cell_type": "markdown",
   "metadata": {},
   "source": [
    "### Exercise 4 (Primes)\n",
    "\n",
    "Write a module called `primes.py` with the function `primes_less_than` which takes a positive integer `n` and returns the list of primes less than `n`. If `n < 2`, returns the empty list."
   ]
  },
  {
   "cell_type": "code",
   "execution_count": 10,
   "metadata": {
    "collapsed": true
   },
   "outputs": [],
   "source": [
    "def primes_less_than(n) :\n",
    "    \"\"\" Given an integer n, returns the\n",
    "    list of primes less than n. \"\"\"\n",
    "    if type(n) is not int or n < 3 : return []\n",
    "    # We use a sieve algorithm to\n",
    "    # elimiane all multiples of\n",
    "    # numbers in increasing order\n",
    "    primes = [2]\n",
    "    sieve = list(range(3,n,2)) # all odds less than n\n",
    "    # We will remove all elemnts of the form\n",
    "    # prime*(prime + 2k) wheren k = 0,1,...\n",
    "    while len(sieve) > 0 :\n",
    "        prime = sieve.pop(0)\n",
    "        primes.append(prime)\n",
    "        for x in range(prime**2, n, 2 * prime) :\n",
    "            if x in sieve :\n",
    "                sieve.remove(x)\n",
    "    return primes\n",
    "\n",
    "\n",
    "# Here is a more efficient way using sets and some\n",
    "# clever(er) math\n",
    "\n",
    "def int_sqrt(n) :\n",
    "    \"\"\" If n > 0, returns the larges x with x**2 <= n. \"\"\"\n",
    "    assert n > 0\n",
    "    # smallest integer less than n\n",
    "    if type(n) is not int :\n",
    "        m = int(n//1)\n",
    "    else :\n",
    "        m = n\n",
    "    # We use Newton's method for the function\n",
    "    # f(x) = x^2 - n. We start with x_0 = int(n)+1, and apply\n",
    "    # x_{k+1} = x_k - f(x_k)/f'(x_k) = (x_k + n/x_k)/2\n",
    "    prev, curr = 0, m\n",
    "    while True:\n",
    "        prev, curr = curr, (curr + m // curr) // 2\n",
    "        # Notice that (curr + n//curr) // 2 is at most\n",
    "        # 1 less than (curr + n/curr)/2.\n",
    "        # Thus, by convexity, the first time we are\n",
    "        # f(curr) is negative, we have out answer\n",
    "        if curr**2 <= m :\n",
    "            return curr\n",
    "\n",
    "def primes_less_than_v2(n) :\n",
    "    \"\"\" Given an integer n, returns the list of primes less than n. \"\"\"\n",
    "    if type(n) is not int or n < 3 : return []\n",
    "    # We start wil all odd numbers less than n\n",
    "    candidates = set(range(3,n,2))\n",
    "    # For odd number x = 3, 5, ..., int_sqrt(n), we will\n",
    "    # remove x^2, x(x+2), x(x+4),... < n from candidates.\n",
    "    # Notice that we are removing only the odd ones.\n",
    "    # Why this works : assume y = a*b with 1 < a <= b\n",
    "    # and y < n, then a < int_sqrt(n), so y will be eliminated.\n",
    "    for i in range(3, int_sqrt(n) + 1, 2) :\n",
    "        candidates.difference_update(range(i**2, n, 2*i))\n",
    "    candidates.add(2)\n",
    "    return sorted(candidates)"
   ]
  }
 ],
 "metadata": {
  "anaconda-cloud": {},
  "kernelspec": {
   "display_name": "Python 3",
   "language": "python",
   "name": "python3"
  },
  "language_info": {
   "codemirror_mode": {
    "name": "ipython",
    "version": 3
   },
   "file_extension": ".py",
   "mimetype": "text/x-python",
   "name": "python",
   "nbconvert_exporter": "python",
   "pygments_lexer": "ipython3",
   "version": "3.6.5"
  }
 },
 "nbformat": 4,
 "nbformat_minor": 1
}
