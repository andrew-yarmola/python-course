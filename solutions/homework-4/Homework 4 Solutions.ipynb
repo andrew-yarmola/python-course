{
 "cells": [
  {
   "cell_type": "markdown",
   "metadata": {},
   "source": [
    "# Introduction to Programming Homework 4 Solutions"
   ]
  },
  {
   "cell_type": "markdown",
   "metadata": {},
   "source": [
    "### Exercise 1 (Polynomials)\n",
    "\n",
    "Write a module called `poly.py`. We will think of a degree $k$ polynomial $$p(x) = a_0 + a_1 x + a_2 x^2 + \\cdots + a_k x^k$$ with **float** coefficients as a tuple (or list) of **floats** `(a_0, a_1, a_2, ..., a_k)` of length `k+1`. Given polynomials $p(x)$ and $q(x) \\neq 0$, we can always find polynomials $t(x), r(x)$ with real coefficients such that $$p(x) = t(x)\\, q(x) + r(x) \\quad \\text{ and } \\quad \\text{deg}(r) < \\text{deg}(q).$$\n",
    "In this exercise we will just use floating-point arithmetic (i.e. the standard python `+,-,\\*,/`), so the above will be *almost* an equality."
   ]
  },
  {
   "cell_type": "markdown",
   "metadata": {},
   "source": [
    "* **a.** Implement a `remainder(p,q)` function which returns the remainder polynomial `r` when dividing `p` by `q`. Raise an exception on bad input. "
   ]
  },
  {
   "cell_type": "code",
   "execution_count": 19,
   "metadata": {
    "collapsed": true
   },
   "outputs": [],
   "source": [
    "def is_num(x) :\n",
    "    \"\"\" Returns True if x is an int, float, or complex. \"\"\"\n",
    "    return isinstance(x, (int, float, complex))\n",
    "\n",
    "def strip_tail_zeros(p) :\n",
    "    \"\"\" Removes zeros from the end of a list p. Returns\n",
    "        the number of zeros stripped. \"\"\"\n",
    "    count = 0\n",
    "    while len(p) > 0 and p[-1] == 0. :\n",
    "        p.pop()\n",
    "        count += 1\n",
    "    return count\n",
    "\n",
    "def deg(p) :\n",
    "    \"\"\" Retruns the degree of a polynomial p,\n",
    "        prepresented as a sequence of floats. \"\"\"\n",
    "    return len(p) - 1\n",
    "\n",
    "def scale(p, a, divide = False) :\n",
    "    \"\"\" By default, multiplies every element of list p by a.\n",
    "        If divide = True, then divides every element\n",
    "        of p by a. p is assumed to be a list of floats. \"\"\"\n",
    "    for i,v in enumerate(p) :\n",
    "        if divide :\n",
    "            p[i] = v/a\n",
    "        else :\n",
    "            p[i] = a*v\n",
    "\n",
    "def subtract_with_shift(p, q, shift) :\n",
    "    \"\"\" Treating p, q as polynomials p(x), q(x)\n",
    "        this method returns the polynomial \n",
    "        p(x) - q(x)*x^shift. \"\"\"\n",
    "    if type(shift) is not int or shift < 0 :\n",
    "        raise ValueError(\"Shift must be a positive int\")\n",
    "    len_diff = len(q) + shift - len(p)\n",
    "    if len_diff > 0 :\n",
    "        p.extend( [0.0] * len_diff )  \n",
    "    for i, v in enumerate(q) :\n",
    "        p[i+shift] -= v\n",
    "\n",
    "def remainder(p,q) :\n",
    "    \"\"\" Treating the sequences of floats p,q as\n",
    "        polynomials, we return the remainer of\n",
    "        dividing p by q using floating-point\n",
    "        arithmetic. \"\"\"\n",
    "    if False in map(is_num, q) or \\\n",
    "       False in map(is_num, p) :\n",
    "        raise ValueError(\"Input is not polynomial\")\n",
    "    r = list(p)\n",
    "    q_monic = list(q)\n",
    "    # strip starting zeros\n",
    "    strip_tail_zeros(r) \n",
    "    strip_tail_zeros(q_monic)\n",
    "    if len(q_monic) == 0 :\n",
    "        raise RuntimeError(\"Division by zero polynomial\")\n",
    "    # make q_monic actually monic\n",
    "    scale(q_monic, q_monic[-1], divide = True)\n",
    "    while deg(r) >= deg(q_monic) :\n",
    "        t = list(q_monic)\n",
    "        scale(t, r[-1])\n",
    "        subtract_with_shift(r, t, deg(r) - deg(t))\n",
    "        if strip_tail_zeros(r) == 0 :\n",
    "            raise RuntimeError(\"Floating point arithmetic failed\")\n",
    "\n",
    "    return tuple(r)"
   ]
  },
  {
   "cell_type": "markdown",
   "metadata": {},
   "source": [
    "* **b.** Implement a recursive function `gcd(p,q)` to return the monic greatest common divisor of `p,q`."
   ]
  },
  {
   "cell_type": "code",
   "execution_count": 20,
   "metadata": {
    "collapsed": true
   },
   "outputs": [],
   "source": [
    "def gcd(p,q) :\n",
    "    \"\"\" Recursive implementation of the gcd\n",
    "        algorithm for polynomials p,q.\n",
    "        Returns the monic gcd. \"\"\"\n",
    "    if deg(q) > deg(p) :\n",
    "        p, q = q, p # this is a stanfrad way to swap things\n",
    "    r = remainder(p,q)\n",
    "    if len(r) == 0 :\n",
    "        t = list(q)\n",
    "        scale(t, t[-1], divide = True) \n",
    "        return tuple(t)\n",
    "    else :\n",
    "        return gcd(q,r) \n",
    "\n",
    "def gcd_v2(p,q) :\n",
    "    \"\"\" Non-recursive implementation of the\n",
    "        gcd algorithm for polynomials p,q.\n",
    "        Returns the monic gcd. \"\"\"\n",
    "    if deg(q) > deg(p) :\n",
    "        p, q = q, p # this is a stanfrad way to swap things\n",
    "    prev = tuple(q) # a copy\n",
    "    curr = remainder(p,q)\n",
    "    if len(curr) > 0 :\n",
    "        prev, curr = curr, remainder(prev, curr)\n",
    "\n",
    "    t = list(prev)\n",
    "    scale(t, t[-1], divide = True)\n",
    "    return tuple(t)"
   ]
  },
  {
   "cell_type": "markdown",
   "metadata": {},
   "source": [
    "### Exercise 2 (Tower of Hanoi)\n",
    "\n",
    "The Tower of Hanoi is an interesting mathematical puzzle. We start with three pegs and a number of disks of different (distinct) sizes which we can slide onto any peg. The puzzle starts with the disks in a stack on one peg in ascending order of size with the smallest at the top.\n",
    "\n",
    "The objective of the puzzle is to move the entire stack to another peg while obeying the following simple rules:\n",
    "* Only one disk can be moved at a time.\n",
    "* Each move consists of taking the upper disk from one of the stacks and placing it on top of another stack\n",
    "* No disk may be placed on top of a smaller disk.\n",
    "\n",
    "Create a module called `hanoi.py`."
   ]
  },
  {
   "cell_type": "markdown",
   "metadata": {},
   "source": [
    "* **a.** Write a **recursive** function `num_steps(n)` to compute the number of steps it takes to solve the puzzle with `n` disks."
   ]
  },
  {
   "cell_type": "code",
   "execution_count": 11,
   "metadata": {
    "collapsed": true
   },
   "outputs": [],
   "source": [
    "def num_steps(n) :\n",
    "    \"\"\" Returns the number of steps needed to solve \n",
    "    the Tower of Hanoi puzzle with n disks. \"\"\"\n",
    "    assert n > 0 and type(n) is int\n",
    "    if n == 1 :\n",
    "        return 1\n",
    "    else :\n",
    "        return 2 * num_steps(n-1) + 1"
   ]
  },
  {
   "cell_type": "markdown",
   "metadata": {},
   "source": [
    "* b. Label the pegs `'a','b','c'` and label the disks with numbers `1, ..., n` from smallest to largest. A **state** will be a dictionary `{'a' : list_of_disks_on_a, 'b': list_of_disks_on_b , 'c' : list_of_disks_on_c}` with each list ordered from smallest disk to largest. For example, the puzzle starts with `{'a' : [1,2,...,n], 'b' : [], 'c' :[]}`. Write a **recursive** function `solution_states(n)` which **returns a list** of states solving the problem (beginning with the start state)."
   ]
  },
  {
   "cell_type": "code",
   "execution_count": 12,
   "metadata": {},
   "outputs": [],
   "source": [
    "import copy\n",
    "\n",
    "def append_to_peg(state, peg, value) :\n",
    "    \"\"\" Appends value to the end of the list state[peg].\n",
    "    Does *not* check if value > max(state[peg])! \"\"\"\n",
    "    state[peg].append(value)\n",
    "    # we don't return anything because we modified state\n",
    "\n",
    "def switch_pegs(state, some_peg, other_peg) :\n",
    "    \"\"\" Switches values of some_peg and other_peg in state. \"\"\"\n",
    "    switched = { some_peg : state[other_peg],\n",
    "                other_peg : state[some_peg] }\n",
    "    state.update(switched)\n",
    "    # we don't return anything because we modified state\n",
    "\n",
    "def solution_states(n) :\n",
    "    \"\"\" Prints a list of solution states (which are dictionaries)\n",
    "        to solve the Tower of Hanoi problem with n disks \"\"\"\n",
    "    assert n > 0 and type(n) is int\n",
    "    if n == 1 :\n",
    "        sol_steps = [ { 'a' : [1], 'b' : [ ], 'c' : [ ] } ,\n",
    "                      { 'a' : [ ], 'b' : [ ], 'c' : [1] } ]\n",
    "        return sol_steps\n",
    "    else :\n",
    "        # we will use the solution from n - 1 to first\n",
    "        # move the top n - 1 to peg 'b', then move disk n\n",
    "        # to peg 'c', and finally reuse the n - 1 solution\n",
    "        # to move everything to peg 'c' \n",
    "        start = solution_states(n-1)\n",
    "        # we make a deep copy so that when we modify start's\n",
    "        # elements, we don't change what's in finish ! \n",
    "        finish = copy.deepcopy(start)\n",
    "\n",
    "        for i in range(len(start)) :\n",
    "            # we add disk n to the 'a' peg and switch 'b', 'c' pegs\n",
    "            # so that we are moving disks from 'a' to 'b'\n",
    "            switch_pegs(start[i], 'b', 'c')\n",
    "            append_to_peg(start[i], 'a', n)\n",
    "            # we must move disk n to peg 'c' and then use the n - 1\n",
    "            # solution to move everything from peg 'b' to 'c'.\n",
    "            # we accomplish this just making finish move disks from 'b'\n",
    "            # to 'c' and making sure to add disk n onto peg 'c'\n",
    "            switch_pegs(finish[i], 'a', 'b')\n",
    "            append_to_peg(finish[i], 'c', n)\n",
    "\n",
    "        return start + finish"
   ]
  },
  {
   "cell_type": "markdown",
   "metadata": {},
   "source": [
    "### Exercise 3 ( Collatz continued)\n",
    "Create a module `collatz.py`. In a previous homework you wrote a function to compute the length of the Collatz sequence for a given number `n`. Now, we will try to find the **longest** Collatz sequence length."
   ]
  },
  {
   "cell_type": "markdown",
   "metadata": {},
   "source": [
    "* **a.** Write a function `collatz_max(n)` which takes a number `n` and returns a pair `(a, s)`, where `s` is the length of the longest Collatz sequence among all integers `x` with `0 < x < n` and `a` is the starting point of such a sequence. For example `collatz_max(25) = (18, 20)`"
   ]
  },
  {
   "cell_type": "code",
   "execution_count": 13,
   "metadata": {
    "collapsed": true
   },
   "outputs": [],
   "source": [
    "def collatz_max(n) :\n",
    "    \"\"\" Returns a pair (a,s) where s in the maximum length\n",
    "        of a Collatz sequence starting with 0 < x < n and a is\n",
    "        a starting point of such a sequence. \"\"\"\n",
    "    # we use a dictionary to keep track of all of out known\n",
    "    # Collatz sequence lengths\n",
    "    assert n > 0 and type(n) is int\n",
    "    known = {1 : 0}\n",
    "    max_steps = 0\n",
    "    max_start = 1\n",
    "    for m in range(1, n) :\n",
    "        m_steps = 0\n",
    "        # we will save the seqeunce to save the steps later\n",
    "        seq = []\n",
    "        curr = m\n",
    "        while True :\n",
    "            # we see if we have already recorded steps for curr\n",
    "            # note that dict.get(key) will return None if the key is\n",
    "            # not in the dictionary\n",
    "            curr_steps = known.get(curr)\n",
    "            if curr_steps is not None :\n",
    "                # we now know there are curr_steps more to go\n",
    "                # so we don't need to waste our time computing\n",
    "                m_steps += curr_steps\n",
    "                # record all new steps counts for the sequence\n",
    "                for idx,val in enumerate(seq) :\n",
    "                    known[val] = m_steps - idx\n",
    "                break\n",
    "            seq.append(curr)\n",
    "            if curr % 2 == 0 :\n",
    "                curr = curr // 2\n",
    "            else :\n",
    "                curr = 3 * curr + 1\n",
    "            m_steps += 1\n",
    "        \n",
    "        if m_steps > max_steps :\n",
    "            max_steps = m_steps\n",
    "            max_start = m\n",
    "\n",
    "    return (max_start, max_steps)"
   ]
  },
  {
   "cell_type": "markdown",
   "metadata": {},
   "source": [
    "* **b.** What is `collatz_max(1000000)`?"
   ]
  },
  {
   "cell_type": "code",
   "execution_count": 14,
   "metadata": {},
   "outputs": [
    {
     "name": "stdout",
     "output_type": "stream",
     "text": [
      "(837799, 524)\n",
      "(8400511, 685)\n"
     ]
    }
   ],
   "source": [
    "import collatz\n",
    "\n",
    "print(collatz.collatz_max(10**6)) # takes a few seconds\n",
    "print(collatz.collatz_max(10**7)) # takes about 30 seconds"
   ]
  },
  {
   "cell_type": "markdown",
   "metadata": {},
   "source": [
    "### Exercise 4 (Randomized Fermat Primality Test)\n",
    "Create a module `prime_tests.py`. You will implement the randomized Fermat primality test. Recall\n",
    "\n",
    "**Theorem **(Fermat's little theorem). Let $n > 1$ be an integer, then $n$ is prime if and only if for all integers $0 < x < n$ one has $$x^{n-1} \\equiv 1 \\text{ mod } n $$\n",
    "\n",
    "* **a.** Write a function `satisfies_fermat(n)` which takes a number `n` and returns `True` if `n` satisfies the conclusion of Fermat's little theorem, and `False` otherwise. Use the `assert` statement to make sure `n` is greater than zero. If you test all the numbers $0 < x < n$ in random order, this should speed up your elimination."
   ]
  },
  {
   "cell_type": "code",
   "execution_count": 15,
   "metadata": {
    "collapsed": true
   },
   "outputs": [],
   "source": [
    "import random\n",
    "\n",
    "def satisfies_fermat(n) :\n",
    "    \"\"\" Returns True if the positive integer n\n",
    "        satisfies the conclusion of Fermat's little\n",
    "        theorem. False otherwise. \"\"\"\n",
    "    if type(n) is not int or n < 0 :\n",
    "        raise ValueError(\"Input should be a positive integer.\")\n",
    "    # return for all even numbers\n",
    "    if n == 2 : return True\n",
    "    if n % 2 == 0 : return False\n",
    "    # make a randomized list of tests\n",
    "    tests = list(range(2,n))\n",
    "    random.shuffle(tests)\n",
    "    for x in tests :\n",
    "        if pow(x, n-1, n) != 1 :\n",
    "            return False\n",
    "    return True"
   ]
  },
  {
   "cell_type": "markdown",
   "metadata": {},
   "source": [
    "A number $x$ with $0 < x < n$ is called a **Fermat witness for $n$** if $x^{n-1} \\not\\equiv 1 \\text{ mod } n $. To show that a number $n$ is composite, we just need to find one Fermat witness. A natural question to ask is what portion of the numbers $\\{1, 2, \\ldots, n-1\\}$ are Fermat witnesses of $n$.\n",
    "\n",
    "** Lemma**. If a composite number $n$ has at least one Fermat witness $x$ such that $\\gcd(x, n) = 1$, then at least half of the elements of $\\{1, 2, \\ldots n-1\\}$ are Fermat witnesses for $n$.\n",
    "\n",
    "Thus, if $n$ has at least one **relatively prime** Fermat witness, then we have a 50% chance of concluding $n$ is composite by randomly choosing $x \\in \\{1, 2, \\ldots n-1\\}$. \n",
    "\n",
    "** Definition**. An odd composite number $n$ is a **Carmichael number** if every $x$ satisfying $\\gcd(x, n) = 1$ has $x^{n-1} \\equiv 1 \\text{ mod } n $. A number is called **Fermat pseudoprime** if it is either prime or a Carmichael number.\n",
    "\n",
    "Using these results, we can construct a probabilistic primality test as follows. Given odd $n$, uniformly pick $k$ distinct number $x_i \\in \\{1, 2, \\ldots n-1\\}$ with $i = 1,\\ldots, k$. If $x_i^{n-1} \\equiv 1 \\text{ mod } n $ for all $i = 1,\\ldots, k$, then $n$ has probability (at least) $1-1/2^k$ of being a Fermat pseudoprime. **Note :** actually, the probablity is much better because we choose $x_i$ to be distinct.\n",
    "\n",
    "* **b.** Write a function `probably_fermat_pseduoprime(n, prob)` which takes a number `n` and a probability `prob` and returns `True` if `n` has probability `prob` (or more) of being a Fermat pseudoprime. In your test, make sure you **choose your `x`'s randomly** (using the `random` module). Use the `assert` statement to make sure `n` is greater than zero."
   ]
  },
  {
   "cell_type": "code",
   "execution_count": 21,
   "metadata": {},
   "outputs": [],
   "source": [
    "import math\n",
    "\n",
    "def num_tests(n,prob) :\n",
    "    \"\"\" Returns a number of tests needed to\n",
    "        achieve probablity prob or more for \n",
    "        n to be a Fermat pseudoprime. \"\"\"\n",
    "    if prob >= 1. :\n",
    "        # since half of the numbers should be Fermat\n",
    "        # witnesses, we return 1+(n-1)//2\n",
    "        return 1+(n-1)//2\n",
    "    else :\n",
    "        # return k such that 1/2^k <= 1 - prob\n",
    "        return -math.floor(math.log2(1-prob))\n",
    "\n",
    "def probably_fermat_pseduoprime(n, prob) :\n",
    "    \"\"\" Returns True if the positive integer n\n",
    "        has probability `prob` (or more) of being\n",
    "        a Fermat pseudoprime . \"\"\"\n",
    "    if type(n) is not int or n < 0 :\n",
    "        raise ValueError(\"Input should be a positive integer.\")\n",
    "    # return for all even numbers\n",
    "    if n == 2 : return True\n",
    "    if n % 2 == 0 : return False\n",
    "    k = num_tests(n, prob)\n",
    "    tests = random.sample(range(1,n),k)\n",
    "    for a in tests :\n",
    "        if pow(a, n-1, n) != 1 :\n",
    "            return False\n",
    "    return True"
   ]
  }
 ],
 "metadata": {
  "anaconda-cloud": {},
  "kernelspec": {
   "display_name": "Python 3",
   "language": "python",
   "name": "python3"
  },
  "language_info": {
   "codemirror_mode": {
    "name": "ipython",
    "version": 3
   },
   "file_extension": ".py",
   "mimetype": "text/x-python",
   "name": "python",
   "nbconvert_exporter": "python",
   "pygments_lexer": "ipython3",
   "version": "3.6.5"
  }
 },
 "nbformat": 4,
 "nbformat_minor": 1
}
