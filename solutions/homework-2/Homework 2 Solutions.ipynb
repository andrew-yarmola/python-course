{
 "cells": [
  {
   "cell_type": "markdown",
   "metadata": {},
   "source": [
    "# Introduction to Programming Homework 2 Solutions\n",
    "\n",
    "Note : There are (many) diffenrent ways to answer many of these questions. I have placed the solutions in-line with the questions, however, they should be contaiend in their own module files."
   ]
  },
  {
   "cell_type": "markdown",
   "metadata": {},
   "source": [
    "### Exercise 1  (Classic examples)\n",
    "Create a module called `classic.py`. Inside the module define the following functions. **Do not import any additional modules inside `classic.py`**"
   ]
  },
  {
   "cell_type": "markdown",
   "metadata": {},
   "source": [
    "* **a.** Write a function called `fibonacci` which taken an integer `n` and return $F_n$, the $n^\\text{th}$ Fibonacci number with $F_n = 0$ for $n < 1$ and $F_1 = 1$. For example, `classic.fibonacci(6)` should return `8`."
   ]
  },
  {
   "cell_type": "code",
   "execution_count": 5,
   "metadata": {
    "collapsed": true
   },
   "outputs": [],
   "source": [
    "def fibonacci(n) :\n",
    "    if n < 1 : \n",
    "        return 0\n",
    "    prev = 0\n",
    "    curr = 1\n",
    "    for i in range(n-1) :\n",
    "        temp = curr\n",
    "        curr += prev\n",
    "        prev = temp\n",
    "    return curr"
   ]
  },
  {
   "cell_type": "markdown",
   "metadata": {},
   "source": [
    "* **b.** Write a function called `golden_ratio` which takes an integer `n` and returns the golden ratio approximation using $F_{n+1}/F_n$. If `n < 1`, return `1.`"
   ]
  },
  {
   "cell_type": "code",
   "execution_count": 6,
   "metadata": {
    "collapsed": true
   },
   "outputs": [],
   "source": [
    "# Note : I am not reusing the fibonacci function here\n",
    "# because this is more efficient than computing F_n\n",
    "# and F_{n+1} separately.\n",
    "def golden_ratio(n) :\n",
    "    if n < 2 : \n",
    "        return 1.\n",
    "    prev = 0\n",
    "    curr = 1\n",
    "    for i in range(n) :\n",
    "        temp = curr\n",
    "        curr += prev\n",
    "        prev = temp\n",
    "    return curr/prev"
   ]
  },
  {
   "cell_type": "markdown",
   "metadata": {},
   "source": [
    "* **c.** Write a function called `wallis_pi` which takes an integer `n` and returns an approximation to $\\pi$ using the product of the first `n` multiplicands of the Wallis formula $$ \\pi = 2 \\prod_{k=1}^\\infty \\frac{4 k^2}{4 k^2 - 1}$$"
   ]
  },
  {
   "cell_type": "code",
   "execution_count": 7,
   "metadata": {
    "collapsed": true
   },
   "outputs": [],
   "source": [
    "def wallis_pi(n) :\n",
    "    result = 2.\n",
    "    for k in range(1,n+1) :\n",
    "        result *= (4. * k**2)/(4. * k**2 - 1.)\n",
    "    return result"
   ]
  },
  {
   "cell_type": "markdown",
   "metadata": {},
   "source": [
    "* **d.** Write a function called `collatz` which takes a *positive* integer `n` and returns the number of steps in the Collatz (or Syracuse) sequence it takes to reach `1`. For example, `classic.collatz(10)` should return `6`.\n",
    "   * Hint : feel free to adapt the code from the lecture"
   ]
  },
  {
   "cell_type": "code",
   "execution_count": 8,
   "metadata": {
    "collapsed": true
   },
   "outputs": [],
   "source": [
    "def collatz(n) :\n",
    "    steps = -1\n",
    "    while n > 0 : # Don't run for negative numbers\n",
    "        steps += 1\n",
    "        if n == 1 :\n",
    "            break\n",
    "        if n % 2 == 0 :\n",
    "            n = n // 2\n",
    "        else :\n",
    "            n = 3*n +1\n",
    "    return steps"
   ]
  },
  {
   "cell_type": "markdown",
   "metadata": {},
   "source": [
    "### Excercise 2 (Permutations)\n",
    "\n",
    "Create a module called `perms.py`. Inside the module define the following functions. **Do not import any additional modules inside `perms.py`**\n",
    "\n",
    "In this exercise, a **permutation** will be a `tuple` that contain the numbers `0, ..., n` **exactly once**. For example `a = (2,1,0)` is a permutation where `a` is the map `a[0] = 2, a[1] = 1, a[2] = 0`. Tuples like `(1,1,2)` and `(3,2,1)` are not permutations."
   ]
  },
  {
   "cell_type": "markdown",
   "metadata": {},
   "source": [
    "* **a.** Write a function called `is_perm` which takes a `tuple` and returns `True` if the list is a permutation and `False` otherwise."
   ]
  },
  {
   "cell_type": "code",
   "execution_count": 9,
   "metadata": {
    "collapsed": true
   },
   "outputs": [],
   "source": [
    "def is_perm(p) :\n",
    "    if type(p) is not tuple :\n",
    "        return False\n",
    "    return sorted(p) == list(range(len(p)))"
   ]
  },
  {
   "cell_type": "markdown",
   "metadata": {},
   "source": [
    "* **b.** Write a function called `compose` which takes two tuples `a` and `b` and returns $b \\circ a$ if both are permutations and `()` if `a` or `b` is not a permutation **or are not composable**. For example, `perms.compose((0,2,1),(0,2,1))` should return `(0,1,2)`, while `perms.compose((0,2,1),(1,2,1))` should return `()`."
   ]
  },
  {
   "cell_type": "code",
   "execution_count": 10,
   "metadata": {
    "collapsed": true
   },
   "outputs": [],
   "source": [
    "def compose(a,b) :\n",
    "    if (not is_perm(a)\n",
    "     or not is_perm(b)\n",
    "     or len(a) != len(b)) :\n",
    "        return ()\n",
    "    result = [ b[a[i]] for i in range(len(a)) ]\n",
    "    return tuple(result)"
   ]
  },
  {
   "cell_type": "markdown",
   "metadata": {},
   "source": [
    "### Exercise 3 (Base 2)\n",
    "Create a module called `base_2.py`. Inside the module define the following functions. **Do not import any additional modules inside `base_2.py`**"
   ]
  },
  {
   "cell_type": "markdown",
   "metadata": {},
   "source": [
    "* **a.** Write a function called `bits_needed` which takes an integer `n` and returns the length of the binary number needed to represent it, **including the sign**. For example, `base_2.bits_needed(8)` should return `5` because `8` is `+1000` in binary. Similarly, `base_2.bits_needed(-17)` should return `6` because `-17` is `-10001`."
   ]
  },
  {
   "cell_type": "code",
   "execution_count": null,
   "metadata": {
    "collapsed": true
   },
   "outputs": [],
   "source": [
    "def bits_needed(n) :\n",
    "    if n == 0 : \n",
    "        return 0\n",
    "    return len('{0:+b}'.format(n))"
   ]
  },
  {
   "cell_type": "markdown",
   "metadata": {},
   "source": [
    "* **b.** Write a function called `is_power_of_2` which takes an integer `n` and returns `True` if `n` is a power of 2 and `False` otherwise. For example `base_2.is_power_of_2(8)` should return `True` and `base_2.is_power_of_2(-3)` should return `False`. Note, $1 = 2^0$."
   ]
  },
  {
   "cell_type": "code",
   "execution_count": null,
   "metadata": {
    "collapsed": true
   },
   "outputs": [],
   "source": [
    "def is_power_of_2(n) :\n",
    "    if n < 1 : \n",
    "        return False\n",
    "    # We use the signed formatting binary string\n",
    "    binary = '{0:+b}'.format(n)\n",
    "    # binary starts with +1, if there is a 1\n",
    "    # afterwards, then we are not a power\n",
    "    if '1' in binary[2:] :\n",
    "        return False\n",
    "    else :\n",
    "        return True"
   ]
  },
  {
   "cell_type": "markdown",
   "metadata": {
    "collapsed": true
   },
   "source": [
    "* **c.** Write a function called `bad_log_base_2` which takes an integer `n` and returns `-1` if `n` is **not** a power of `2` and returns the integer $log_2(n)$ is `n` is a power of `2`. For example, `base_2.bad_log_base_2(8)` should return `3` while `base_2.bad_log_base_2(-3)` should return `-1`."
   ]
  },
  {
   "cell_type": "code",
   "execution_count": null,
   "metadata": {
    "collapsed": true
   },
   "outputs": [],
   "source": [
    "def bad_log_base_2(n) :\n",
    "    if not is_power_of_2(n) :\n",
    "        return -1\n",
    "    else :\n",
    "        return bits_needed(n) - 2 "
   ]
  }
 ],
 "metadata": {
  "anaconda-cloud": {},
  "kernelspec": {
   "display_name": "Python 3",
   "language": "python",
   "name": "python3"
  },
  "language_info": {
   "codemirror_mode": {
    "name": "ipython",
    "version": 3
   },
   "file_extension": ".py",
   "mimetype": "text/x-python",
   "name": "python",
   "nbconvert_exporter": "python",
   "pygments_lexer": "ipython3",
   "version": "3.6.5"
  }
 },
 "nbformat": 4,
 "nbformat_minor": 1
}
