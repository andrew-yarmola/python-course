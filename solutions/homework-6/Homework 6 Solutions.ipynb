{
 "cells": [
  {
   "cell_type": "markdown",
   "metadata": {},
   "source": [
    "# Introduction to Programming Homework 6 Solutions"
   ]
  },
  {
   "cell_type": "markdown",
   "metadata": {},
   "source": [
    "### Exercise 1 (Generators)\n",
    "\n",
    "Make a module called `generators.py`. You will implement the following three generators."
   ]
  },
  {
   "cell_type": "markdown",
   "metadata": {},
   "source": [
    "* **a.** (Binary Decimal Expansion) Given a ratio $m/n$ of positive integers with $m \\leq n$, we can consider the binary expansion $$\\frac{m}{n} = \\sum_{i = 1}^\\infty \\frac{a_i}{2^i}.$$\n",
    "Write a generator function `binary_decimal(m,n)` which yields the sequence $a_i$ in order. For example,\n",
    "```python\n",
    "import generators as gen\n",
    "one_third = gen.binary_decimal(1,3)\n",
    "for _ in range(5) :\n",
    "    print(next(one_third))\n",
    "```\n",
    "should print \n",
    "```python\n",
    "0\n",
    "1\n",
    "0\n",
    "1\n",
    "0\n",
    "```\n",
    "Be sure to raise an error on bad input."
   ]
  },
  {
   "cell_type": "code",
   "execution_count": null,
   "metadata": {
    "collapsed": true
   },
   "outputs": [],
   "source": [
    "import random\n",
    "\n",
    "def binary_decimal(m,n) :\n",
    "    \"\"\" Given integers 0 <= m <= n, n != 0, yields\n",
    "    the (shortest) binary decimal expansion of m/n \"\"\"\n",
    "    assert ( isinstance(m, int) and isinstance(n, int) and \n",
    "             0 <= m <= n and n != 0 )\n",
    "    rest = m\n",
    "    while rest != 0 :\n",
    "        rest *= 2\n",
    "        coeff = rest // n\n",
    "        yield coeff\n",
    "        rest -= coeff * n"
   ]
  },
  {
   "cell_type": "markdown",
   "metadata": {},
   "source": [
    "* **b.** (Biased coin from a fair one) A common problem in computer science is to take one pseudo-random number generator and use it to construct another. We can model a fair coin flip by using `random.randint(0, 1)` form the `random` module. This returns a `0` or a `1` with equal probability. **Using this fair coin**, write a function `biased_coin(m,n)` that returns `1` with probability exactly `m/n`.\n",
    "   * Hint : Make use of part **a**."
   ]
  },
  {
   "cell_type": "code",
   "execution_count": null,
   "metadata": {
    "collapsed": true
   },
   "outputs": [],
   "source": [
    "def biased_coin(m,n) :\n",
    "    \"\"\" Using random.randint(0, 1) as a fair coin, this\n",
    "    returns 1 with probablity m/n, where m,n must be\n",
    "    non-negative integers with m <= n. \"\"\"\n",
    "    # binary_decimal checks m,n for us\n",
    "    bin_dec = binary_decimal(m,n)\n",
    "    for x in bin_dec :\n",
    "        if x != random.randint(0, 1) :\n",
    "            return x\n",
    "    return 0 # if binary_decimal is exhausted"
   ]
  },
  {
   "cell_type": "markdown",
   "metadata": {},
   "source": [
    "* **c.** (Shuffle generator) Write a generator `shuffle_gen(start, stop)` that returns random numbers between `start` and `stop` without repetition. Make sure this works for very large integers.\n",
    "   * Hint: See the modern version of the Fisher-Yates shuffle at https://en.wikipedia.org/wiki/Fisher–Yates_shuffle#Modern_method but instead of *swapping* numbers into a list you should use a better data structure."
   ]
  },
  {
   "cell_type": "code",
   "execution_count": null,
   "metadata": {
    "collapsed": true
   },
   "outputs": [],
   "source": [
    "def shuffle_gen(start, stop) :\n",
    "    \"\"\" A generator that yields a random permutation\n",
    "    of the numbers start, start + 1, ..., stop -1. \"\"\"\n",
    "    n = stop - start\n",
    "    scratch = dict()\n",
    "    for remaining in range(n, 0, -1):\n",
    "        i = random.randrange(remaining)\n",
    "        # recall that scratch.get(i,i) = scratch[i]\n",
    "        # if it is defined and scratch.get(i,i) = i otherwise\n",
    "        yield scratch.get(i,i) + start\n",
    "        scratch[i] = scratch.get(remaining - 1, remaining - 1)\n",
    "        # we don't need to keep track of this anymore\n",
    "        # note : we use `.pop` instead of `del` because\n",
    "        # scratch[remaining - 1] may not be set\n",
    "        scratch.pop(remaining - 1, None)"
   ]
  },
  {
   "cell_type": "markdown",
   "metadata": {},
   "source": [
    "### Exercise 2 (Heap)\n",
    "\n",
    "Create a module called `heap.py`.\n",
    "\n",
    "A binary **heap** is a binary tree with the property that for every node `x` one has `x.data >= x.left.data` and `x.data >= x.right.data`. For example, this image represents a heap\n",
    "![title](https://upload.wikimedia.org/wikipedia/commons/thumb/3/38/Max-Heap.svg/501px-Max-Heap.svg.png)"
   ]
  },
  {
   "cell_type": "markdown",
   "metadata": {},
   "source": [
    "In this exercise, we will create a `Heap` class that will manage a tree with the heap property. **Instead** of using the `Node` class from the previous homework, the `Heap` will **store all data in a `list` in level-order** (i.e. we read off each level of the tree from left to right). For example, the data in the tree above will stored as the list \n",
    "```python\n",
    "data_list = [100, 19, 36, 17, 3, 25, 1, 2, 7]\n",
    "```\n",
    "You can see that the node at index `i` of `data_list` has the left child at index `2*i+1` and the right child at index `2*i+2`. Similarly, you can use the index in the list to find a node's parent. \n",
    "\n",
    "\n",
    "You will notice that with this structure, the maximum of the data in the tree is always the first element of the list. Our goal will be to write methods that allow us to insert new data into the heap and to remove the largest value from the heap all while preserving the heap property."
   ]
  },
  {
   "cell_type": "markdown",
   "metadata": {},
   "source": [
    "* **a.** Create a class called `Heap`. Inside, you will store a private `self._data_list` attribute. The init method should simply have type `__init__(self)` where you initialize the data list. In part **b**, we will be inserting elements to the end of `self._data_list` and then using the following methods to force the heap property using the following methods :\n",
    "   * `def _bubble_down(self, i)` :\n",
    "       * start with the node at index `i`\n",
    "       * if the data at index `i` is larger than that of its children, stop.\n",
    "       * if not, switch the data at index `i` with either child that has greater value.\n",
    "       * continue doing this process to the child until you stop.\n",
    "   * `def _bubble_up(self, i)` :\n",
    "       * start with the node at index `i`\n",
    "       * if the data at index `i` is smaller than that of its parent, stop.\n",
    "       * if not, switch the data at index `i` with that of its parent.\n",
    "       * continue doing this process to the parent until you stop.\n",
    "\n",
    "**Do not use recursion for the above methods!**\n",
    "  \n",
    "* **b.** We will now us the `_bubble_down` and `_bubble_up` methods to insert elements into the heap and delete the largest value. Implement the following methods :\n",
    "   * `def insert(self, value)` :\n",
    "      * add `value` at the end of `self._data_list`\n",
    "      * run `self._bubble_up` to move the newly inserted element into a position that doesn't violate the heap property.\n",
    "   * `def pop_max(self)` :\n",
    "      * record the first value of `self._data_list`\n",
    "      * replace the first value of `self._data_list` with the last value\n",
    "      * use `self._bubble_down` to push this replaced value down until it doesn't violate the heap property.\n",
    "      * return the recorded first value as the maximum in the heap.\n",
    "      \n",
    "Observe that you can now sort a list of data by inserting elements one by one into a heap and then using `.pop_max()` to read off the sorted list from largest to smallest."
   ]
  },
  {
   "cell_type": "markdown",
   "metadata": {},
   "source": [
    "* **c.** Create a global function called `sort_all_lines(path_to_file)` which will read a file at `path_to_file`. Each line of `path_to_file` will be a **comma separated list** of integers. **Use the heap class you built above** to sort each line from greatest to smallest. Write you data to a file named as follows : if `path_to_file = 'dir1/dir2/filename.extension` save your file to `'dir1/dir2/filename_sorted.extension'`. For example, if file `'test_data.csv'` contains\n",
    "```python\n",
    "4,6,1,47,241,352,7,0,-140,352\n",
    "35,2601,362,1350305,-9352,38351\n",
    "```\n",
    "you code should write a file called `test_data_sorted.csv` as\n",
    "```python\n",
    "352, 352, 241, 47, 7, 6, 4, 1, 0, -140\n",
    "1350305, 38351, 2601, 362, 35, -9352\n",
    "```"
   ]
  },
  {
   "cell_type": "code",
   "execution_count": null,
   "metadata": {
    "collapsed": true
   },
   "outputs": [],
   "source": [
    "def is_real_num(x) :\n",
    "    \"\"\" Returns True if x is an int, bool, or float. \"\"\"\n",
    "    return isinstance(x, (int, float, bool))\n",
    "\n",
    "class Heap :\n",
    "    def __init__(self) :\n",
    "        self._data_list = []\n",
    "\n",
    "    @property\n",
    "    def size(self) :\n",
    "        return len(self._data_list)\n",
    "\n",
    "    def _bubble_up(self, c_idx) :\n",
    "        # since this is a private method, we assume\n",
    "        # c_idx is a valid and non-negative index\n",
    "        # we have c_idx == 2*p_idx + 1 or c_idx ==  2*p_idx + 2\n",
    "        data = self._data_list\n",
    "        while True :\n",
    "            if c_idx == 0 : break\n",
    "            p_idx = (c_idx + 1)//2 - 1\n",
    "            parent, child = data[p_idx], data[c_idx]\n",
    "            if parent < child :\n",
    "                data[p_idx], data[c_idx] = child, parent\n",
    "                c_idx = p_idx\n",
    "            else :\n",
    "                break \n",
    "\n",
    "    def _bubble_down(self, p_idx) :\n",
    "        data = self._data_list\n",
    "        while True :\n",
    "            # since this is a private method, we assume\n",
    "            # p_idx is a valid and non-negative index\n",
    "            l_idx, r_idx = 2*p_idx + 1, 2*p_idx + 2\n",
    "            parent = data[p_idx]\n",
    "            if l_idx < len(data) :\n",
    "                left = data[l_idx] \n",
    "            else : # if no left child, there is none at all\n",
    "                break\n",
    "            if r_idx < len(data) :\n",
    "                right = data[r_idx]\n",
    "            else : # only a left child, which is also terminal\n",
    "                if left > parent :\n",
    "                    data[p_idx], data[l_idx] = left, parent \n",
    "                break # left can't have any children\n",
    "            if left <= parent and right <= parent :\n",
    "                break # parent dominates\n",
    "            if left > right :\n",
    "                data[p_idx], data[l_idx] = left, parent\n",
    "                p_idx = l_idx\n",
    "            else : \n",
    "                data[p_idx], data[r_idx] = right, parent\n",
    "                p_idx = r_idx\n",
    "\n",
    "    def insert(self, value) :\n",
    "        assert is_real_num(value)\n",
    "        new_idx = len(self._data_list)\n",
    "        self._data_list.append(value)\n",
    "        self._bubble_up(new_idx) \n",
    "\n",
    "    def pop_max(self) :\n",
    "        data = self._data_list\n",
    "        if self.size > 1 :\n",
    "            top = data[0]\n",
    "            data[0] = data.pop()\n",
    "            self._bubble_down(0)\n",
    "            return top\n",
    "        elif self.size == 1 :\n",
    "            return data.pop() \n",
    "        else :\n",
    "            raise IndexError(\"pop from empty Heap\")\n",
    "\n",
    "def new_path_with_suffix(path, suffix) :\n",
    "    split = path.split('.')\n",
    "    split[len(split) - 2] = split[len(split) - 2] + suffix\n",
    "    return '.'.join(split)\n",
    "\n",
    "def sort_all_lines(path) :\n",
    "    assert isinstance(path, str) and len(path) > 0\n",
    "    # we create out new file name\n",
    "    sorted_path = new_path_with_suffix(path, '_sorted')\n",
    "    # note : fp stands for file pointer\n",
    "    with open(path, 'r') as read_fp :\n",
    "        with open(sorted_path, 'w') as write_fp :\n",
    "            heap = Heap()\n",
    "            line_count = 0 # only used for error message\n",
    "            for line in read_fp :\n",
    "                line_count += 1\n",
    "                sorted_data = [] \n",
    "                try :\n",
    "                    # note : eval will turn ints into ints\n",
    "                    # and floats into floats\n",
    "                    data = map(eval, line.split(','))\n",
    "                    for v in data :\n",
    "                        # we reuse the same heap\n",
    "                        heap.insert(v)\n",
    "                    while heap.size > 0 :\n",
    "                        sorted_data.append(heap.pop_max())\n",
    "                    sorted_data_strs = map(str, sorted_data)\n",
    "                    write_fp.write(','.join(sorted_data_strs) + '\\n')\n",
    "                except :\n",
    "                    write_fp.write(\"Error : line {} is not a \".format(line_count)\n",
    "                                 + \"valid comma separated list of real numbers.\\n\")\n",
    "    # the with statements close everything for us"
   ]
  }
 ],
 "metadata": {
  "anaconda-cloud": {},
  "kernelspec": {
   "display_name": "Python 3",
   "language": "python",
   "name": "python3"
  },
  "language_info": {
   "codemirror_mode": {
    "name": "ipython",
    "version": 3
   },
   "file_extension": ".py",
   "mimetype": "text/x-python",
   "name": "python",
   "nbconvert_exporter": "python",
   "pygments_lexer": "ipython3",
   "version": "3.6.5"
  }
 },
 "nbformat": 4,
 "nbformat_minor": 1
}
