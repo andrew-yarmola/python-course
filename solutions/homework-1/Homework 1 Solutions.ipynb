{
 "cells": [
  {
   "cell_type": "markdown",
   "metadata": {},
   "source": [
    "# Introduction to Programming Homework 1 Solutions\n",
    "\n",
    "Note : There are (many) diffenrent ways to answer many of these questions.\n",
    "\n",
    "#### Exercise 1\n",
    "* a. Create a variable called `desc` with the string value `'The sum of 2 plus 2 is equal to'`."
   ]
  },
  {
   "cell_type": "code",
   "execution_count": null,
   "metadata": {
    "collapsed": true
   },
   "outputs": [],
   "source": [
    "desc = 'The sum of 2 plus 2 is equal to'"
   ]
  },
  {
   "cell_type": "markdown",
   "metadata": {},
   "source": [
    "* b. Check the type of `desc`."
   ]
  },
  {
   "cell_type": "code",
   "execution_count": null,
   "metadata": {},
   "outputs": [],
   "source": [
    "type(desc)"
   ]
  },
  {
   "cell_type": "markdown",
   "metadata": {},
   "source": [
    "* c. Call the command `print(desc, 2+2)`. Notice that you are giving the `print` function two input variables. In the context of programming, input variables are usually called *arguments*."
   ]
  },
  {
   "cell_type": "code",
   "execution_count": null,
   "metadata": {},
   "outputs": [],
   "source": [
    "print(desc, 2+2)"
   ]
  },
  {
   "cell_type": "markdown",
   "metadata": {},
   "source": [
    "* d. Create a variable called `print_arg_exp` where you explain in words what `print` would do if you gave it three arguments instead of two. For example, a *wrong* answer would be : `print_arg_exp = 'print would crash if given three arguments'`."
   ]
  },
  {
   "cell_type": "code",
   "execution_count": null,
   "metadata": {
    "collapsed": true
   },
   "outputs": [],
   "source": [
    "print_arg_exp = 'print will display the value of each arugment separated by a space'"
   ]
  },
  {
   "cell_type": "markdown",
   "metadata": {},
   "source": [
    "#### Exercise 2\n",
    "Write a one line command to output the list of values modulo 373 of the numbers 1 to 999 inclusive. Hint : use list comprehension. "
   ]
  },
  {
   "cell_type": "code",
   "execution_count": null,
   "metadata": {},
   "outputs": [],
   "source": [
    "print([ x % 373 for x in range(1,1000) ])"
   ]
  },
  {
   "cell_type": "markdown",
   "metadata": {},
   "source": [
    "#### Exercise 3\n",
    "Start by creating the lists :\n",
    "\n",
    "```python\n",
    "days = [31, 28, 31, 30, 31, 30, 31, 31, 30, 31, 30, 31]\n",
    "months = ['January', 'February', 'March', 'April', 'May',\n",
    "'June','July', 'August', 'September', 'October', 'November', 'December']\n",
    "```\n",
    "\n",
    "Write a one line command to output the list of pairs (lists in this case) \n",
    "```python\n",
    "[['January', 31], ['February', 28], ['March', 31],\n",
    "['April', 30], ['May', 31], ['June', 30], ['July', 31],\n",
    "['August', 31], ['September', 30], ['October', 31],\n",
    "['November', 30], ['December', 31]]\n",
    "```\n",
    "We will learn how to properly *fold* (or intertwine) lists together later."
   ]
  },
  {
   "cell_type": "code",
   "execution_count": null,
   "metadata": {},
   "outputs": [],
   "source": [
    "days = [31, 28, 31, 30, 31, 30, 31, 31, 30, 31, 30, 31]\n",
    "months = ['January', 'February', 'March', 'April', 'May',\n",
    "'June','July', 'August', 'September', 'October', 'November', 'December']\n",
    "\n",
    "print([ [months[i], days[i]] for i in range(len(days)) ])"
   ]
  },
  {
   "cell_type": "markdown",
   "metadata": {},
   "source": [
    "#### Exercise 4\n",
    "Use the `sum()` to approximate $\\pi$ using the Bailey–Borwein–Plouffe formula $$\\pi = \\sum_{k = 0}^{\\infty}\\left[ \\frac{1}{16^k} \\left( \\frac{4}{8k + 1} - \\frac{2}{8k + 4} - \\frac{1}{8k + 5} - \\frac{1}{8k + 6} \\right) \\right]$$\n",
    "Use as many summands as you feel appropriate."
   ]
  },
  {
   "cell_type": "code",
   "execution_count": null,
   "metadata": {},
   "outputs": [],
   "source": [
    "sum([ (4/(8*k+1)-2/(8*k+4)-1/(8*k+5)-1/(8*k+6))/16**k for k in range(0,100) ])"
   ]
  },
  {
   "cell_type": "markdown",
   "metadata": {},
   "source": [
    "#### Exercise 5\n",
    "When using list comprehension, you can also filter a list using the `if` keyword. The `if` keyword must be followed by an expression that returns a Boolean value. For example\n",
    "```python\n",
    "[ x for x in range(1, 100) if x > 50 and x % 3 == 1 ]\n",
    "```\n",
    "For `x in range(1, 100)`, `x` is added to the list if `x > 50 and x % 3 == 1` is `True`. This should remind you of normal set notation $$\\{ x \\mid x \\in \\{1,2,...,99\\}, \\; x > 5, \\text{ and } x = 1 \\text{ mod } 3\\}$$\n",
    "\n",
    "* a. Find all *even* numbers between 1000 and 3000 inclusive which are divisible by 7 but are not a multiples of 3."
   ]
  },
  {
   "cell_type": "code",
   "execution_count": null,
   "metadata": {},
   "outputs": [],
   "source": [
    "print([ x for x in range(1000,3001,2) if x % 7 == 0 and not x % 3 == 0 ])"
   ]
  },
  {
   "cell_type": "markdown",
   "metadata": {},
   "source": [
    "* b. Use python to verify that $$\\{ x \\mid x \\in \\{1,2,...,10000\\}, \\text{ and } x^2 = 2 \\text{ mod } 5\\} = \\emptyset$$"
   ]
  },
  {
   "cell_type": "code",
   "execution_count": null,
   "metadata": {},
   "outputs": [],
   "source": [
    "print([ x for x in range(1,10001) if x**2 % 5 == 2 ])"
   ]
  }
 ],
 "metadata": {
  "anaconda-cloud": {},
  "kernelspec": {
   "display_name": "Python 3",
   "language": "python",
   "name": "python3"
  },
  "language_info": {
   "codemirror_mode": {
    "name": "ipython",
    "version": 3
   },
   "file_extension": ".py",
   "mimetype": "text/x-python",
   "name": "python",
   "nbconvert_exporter": "python",
   "pygments_lexer": "ipython3",
   "version": "3.6.5"
  }
 },
 "nbformat": 4,
 "nbformat_minor": 1
}
