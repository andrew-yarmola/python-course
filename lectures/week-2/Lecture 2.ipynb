{
 "cells": [
  {
   "cell_type": "markdown",
   "metadata": {},
   "source": [
    "# Introduction to Programming Lecture 2\n",
    "* Instructor :  Andrew Yarmola [andrew.yarmola@uni.lu](mailto:andrew.yarmola@uni.lu)\n",
    "* Course Schedule : Wednesday 14h00 - 15h30 Campus Kirchberg B21\n",
    "* Course Website : [sites.google.com/site/andrewyarmola/itp-uni-lux](https://sites.google.com/site/andrewyarmola/itp-uni-lux)\n",
    "* Office Hours : Thursday 16h00 - 17h00 Campus Kirchberg G103 and by appointment.\n",
    "\n",
    "## Remarks on homework and floating point\n",
    "\n",
    "For the Bailey–Borwein–Plouffe formula $$\\pi = \\sum_{k = 0}^{\\infty}\\left[ \\frac{1}{16^k} \\left( \\frac{4}{8k + 1} - \\frac{2}{8k + 4} - \\frac{1}{8k + 5} - \\frac{1}{8k + 6} \\right) \\right],$$\n",
    "it was likely that you would have obtained the following error if you tried to use too many values of $k$."
   ]
  },
  {
   "cell_type": "code",
   "execution_count": 1,
   "metadata": {},
   "outputs": [
    {
     "ename": "OverflowError",
     "evalue": "int too large to convert to float",
     "output_type": "error",
     "traceback": [
      "\u001b[0;31m---------------------------------------------------------------------------\u001b[0m",
      "\u001b[0;31mOverflowError\u001b[0m                             Traceback (most recent call last)",
      "\u001b[0;32m<ipython-input-1-6afcf291a095>\u001b[0m in \u001b[0;36m<module>\u001b[0;34m()\u001b[0m\n\u001b[0;32m----> 1\u001b[0;31m \u001b[0msum\u001b[0m\u001b[0;34m(\u001b[0m\u001b[0;34m[\u001b[0m \u001b[0;34m(\u001b[0m\u001b[0;36m4\u001b[0m\u001b[0;34m/\u001b[0m\u001b[0;34m(\u001b[0m\u001b[0;36m8\u001b[0m\u001b[0;34m*\u001b[0m\u001b[0mk\u001b[0m\u001b[0;34m+\u001b[0m\u001b[0;36m1\u001b[0m\u001b[0;34m)\u001b[0m\u001b[0;34m-\u001b[0m\u001b[0;36m2\u001b[0m\u001b[0;34m/\u001b[0m\u001b[0;34m(\u001b[0m\u001b[0;36m8\u001b[0m\u001b[0;34m*\u001b[0m\u001b[0mk\u001b[0m\u001b[0;34m+\u001b[0m\u001b[0;36m4\u001b[0m\u001b[0;34m)\u001b[0m\u001b[0;34m-\u001b[0m\u001b[0;36m1\u001b[0m\u001b[0;34m/\u001b[0m\u001b[0;34m(\u001b[0m\u001b[0;36m8\u001b[0m\u001b[0;34m*\u001b[0m\u001b[0mk\u001b[0m\u001b[0;34m+\u001b[0m\u001b[0;36m5\u001b[0m\u001b[0;34m)\u001b[0m\u001b[0;34m-\u001b[0m\u001b[0;36m1\u001b[0m\u001b[0;34m/\u001b[0m\u001b[0;34m(\u001b[0m\u001b[0;36m8\u001b[0m\u001b[0;34m*\u001b[0m\u001b[0mk\u001b[0m\u001b[0;34m+\u001b[0m\u001b[0;36m6\u001b[0m\u001b[0;34m)\u001b[0m\u001b[0;34m)\u001b[0m\u001b[0;34m/\u001b[0m\u001b[0;36m16\u001b[0m\u001b[0;34m**\u001b[0m\u001b[0mk\u001b[0m \u001b[0;32mfor\u001b[0m \u001b[0mk\u001b[0m \u001b[0;32min\u001b[0m \u001b[0mrange\u001b[0m\u001b[0;34m(\u001b[0m\u001b[0;36m0\u001b[0m\u001b[0;34m,\u001b[0m\u001b[0;36m300\u001b[0m\u001b[0;34m)\u001b[0m \u001b[0;34m]\u001b[0m\u001b[0;34m)\u001b[0m\u001b[0;34m\u001b[0m\u001b[0m\n\u001b[0m",
      "\u001b[0;32m<ipython-input-1-6afcf291a095>\u001b[0m in \u001b[0;36m<listcomp>\u001b[0;34m(.0)\u001b[0m\n\u001b[0;32m----> 1\u001b[0;31m \u001b[0msum\u001b[0m\u001b[0;34m(\u001b[0m\u001b[0;34m[\u001b[0m \u001b[0;34m(\u001b[0m\u001b[0;36m4\u001b[0m\u001b[0;34m/\u001b[0m\u001b[0;34m(\u001b[0m\u001b[0;36m8\u001b[0m\u001b[0;34m*\u001b[0m\u001b[0mk\u001b[0m\u001b[0;34m+\u001b[0m\u001b[0;36m1\u001b[0m\u001b[0;34m)\u001b[0m\u001b[0;34m-\u001b[0m\u001b[0;36m2\u001b[0m\u001b[0;34m/\u001b[0m\u001b[0;34m(\u001b[0m\u001b[0;36m8\u001b[0m\u001b[0;34m*\u001b[0m\u001b[0mk\u001b[0m\u001b[0;34m+\u001b[0m\u001b[0;36m4\u001b[0m\u001b[0;34m)\u001b[0m\u001b[0;34m-\u001b[0m\u001b[0;36m1\u001b[0m\u001b[0;34m/\u001b[0m\u001b[0;34m(\u001b[0m\u001b[0;36m8\u001b[0m\u001b[0;34m*\u001b[0m\u001b[0mk\u001b[0m\u001b[0;34m+\u001b[0m\u001b[0;36m5\u001b[0m\u001b[0;34m)\u001b[0m\u001b[0;34m-\u001b[0m\u001b[0;36m1\u001b[0m\u001b[0;34m/\u001b[0m\u001b[0;34m(\u001b[0m\u001b[0;36m8\u001b[0m\u001b[0;34m*\u001b[0m\u001b[0mk\u001b[0m\u001b[0;34m+\u001b[0m\u001b[0;36m6\u001b[0m\u001b[0;34m)\u001b[0m\u001b[0;34m)\u001b[0m\u001b[0;34m/\u001b[0m\u001b[0;36m16\u001b[0m\u001b[0;34m**\u001b[0m\u001b[0mk\u001b[0m \u001b[0;32mfor\u001b[0m \u001b[0mk\u001b[0m \u001b[0;32min\u001b[0m \u001b[0mrange\u001b[0m\u001b[0;34m(\u001b[0m\u001b[0;36m0\u001b[0m\u001b[0;34m,\u001b[0m\u001b[0;36m300\u001b[0m\u001b[0;34m)\u001b[0m \u001b[0;34m]\u001b[0m\u001b[0;34m)\u001b[0m\u001b[0;34m\u001b[0m\u001b[0m\n\u001b[0m",
      "\u001b[0;31mOverflowError\u001b[0m: int too large to convert to float"
     ]
    }
   ],
   "source": [
    "sum([ (4/(8*k+1)-2/(8*k+4)-1/(8*k+5)-1/(8*k+6))/16**k for k in range(0,300) ])"
   ]
  },
  {
   "cell_type": "code",
   "execution_count": 2,
   "metadata": {},
   "outputs": [
    {
     "data": {
      "text/plain": [
       "[9.7257e-320, 6.033e-321, 3.75e-322, 2.5e-323, 0.0, 0.0, 0.0, 0.0, 0.0, 0.0]"
      ]
     },
     "execution_count": 2,
     "metadata": {},
     "output_type": "execute_result"
    }
   ],
   "source": [
    "[ (1/16**k)*(4/(8*k+1)-2/(8*k+4)-1/(8*k-5)-1/(8*k+6)) for k in range(260,270) ]"
   ]
  },
  {
   "cell_type": "markdown",
   "metadata": {},
   "source": [
    "Sow what is going on? Why are we getting an error above? Why are we getting zeros in the second version? Let's analyze the second version. Clearly, what is different here is the `(1/16**k)` in the front instead of division at the end."
   ]
  },
  {
   "cell_type": "code",
   "execution_count": 3,
   "metadata": {},
   "outputs": [
    {
     "data": {
      "text/plain": [
       "0.0"
      ]
     },
     "execution_count": 3,
     "metadata": {},
     "output_type": "execute_result"
    }
   ],
   "source": [
    "1/16**270"
   ]
  },
  {
   "cell_type": "markdown",
   "metadata": {},
   "source": [
    "Above, is division of two **integers**. Python is being smart here and telling you that the **closest** floating point number to `1/16**270` is the floating point `0.0`. That's why we start seeing zeros.\n",
    "\n",
    "Now, let's turn to the first version. There, we are evaluating a long expression and then dividing it by an integer. In essence, we take `float` and try to divide by an `int`. Recall that in Python 3.5, an `int` can be **arbitrarily large** (up to the amount of computer memory python is allowed to use). A `float`, however, only has a finite amount of space it can use, so there is a maximum."
   ]
  },
  {
   "cell_type": "code",
   "execution_count": 4,
   "metadata": {},
   "outputs": [
    {
     "ename": "OverflowError",
     "evalue": "int too large to convert to float",
     "output_type": "error",
     "traceback": [
      "\u001b[0;31m---------------------------------------------------------------------------\u001b[0m",
      "\u001b[0;31mOverflowError\u001b[0m                             Traceback (most recent call last)",
      "\u001b[0;32m<ipython-input-4-821a42bf104a>\u001b[0m in \u001b[0;36m<module>\u001b[0;34m()\u001b[0m\n\u001b[0;32m----> 1\u001b[0;31m \u001b[0mfloat\u001b[0m\u001b[0;34m(\u001b[0m\u001b[0;36m16\u001b[0m\u001b[0;34m**\u001b[0m\u001b[0;36m270\u001b[0m\u001b[0;34m)\u001b[0m\u001b[0;34m\u001b[0m\u001b[0m\n\u001b[0m",
      "\u001b[0;31mOverflowError\u001b[0m: int too large to convert to float"
     ]
    }
   ],
   "source": [
    "float(16**270)"
   ]
  },
  {
   "cell_type": "markdown",
   "metadata": {},
   "source": [
    "So, when we call `1.0/16**270`, where we ask python to divide a `float` by an `int`, python **fist** tries to convert `16**270` to a `float` and fails!"
   ]
  },
  {
   "cell_type": "code",
   "execution_count": 5,
   "metadata": {},
   "outputs": [
    {
     "ename": "OverflowError",
     "evalue": "int too large to convert to float",
     "output_type": "error",
     "traceback": [
      "\u001b[0;31m---------------------------------------------------------------------------\u001b[0m",
      "\u001b[0;31mOverflowError\u001b[0m                             Traceback (most recent call last)",
      "\u001b[0;32m<ipython-input-5-578d4f96f2ba>\u001b[0m in \u001b[0;36m<module>\u001b[0;34m()\u001b[0m\n\u001b[0;32m----> 1\u001b[0;31m \u001b[0;36m1.0\u001b[0m\u001b[0;34m/\u001b[0m\u001b[0;36m16\u001b[0m\u001b[0;34m**\u001b[0m\u001b[0;36m270\u001b[0m\u001b[0;34m\u001b[0m\u001b[0m\n\u001b[0m",
      "\u001b[0;31mOverflowError\u001b[0m: int too large to convert to float"
     ]
    }
   ],
   "source": [
    "1.0/16**270"
   ]
  },
  {
   "cell_type": "markdown",
   "metadata": {},
   "source": [
    "## Containers\n",
    "\n",
    "Last time, we talked about the `list` type. We mostly looked at how to *build* **new** lists. We saw that we can create new lists by \n",
    "\n",
    "* the `[]` constructor\n",
    "* the `list()` function\n",
    "* slicing of lists, i.e. `data[start, stop, step]`\n",
    "* list comprehension\n",
    "\n",
    "All of these methods returned **new** list objects. In fact, python gives each object a *unique identifier* which we can see by calling the `id()` function."
   ]
  },
  {
   "cell_type": "code",
   "execution_count": 6,
   "metadata": {},
   "outputs": [],
   "source": [
    "cold = ['england', 'finland']\n",
    "warm = ['spain','greece']\n",
    "\n",
    "visit = [cold, warm]\n",
    "another_visit = [['england', 'finland'],['spain','greece']]"
   ]
  },
  {
   "cell_type": "code",
   "execution_count": 7,
   "metadata": {},
   "outputs": [
    {
     "data": {
      "text/plain": [
       "True"
      ]
     },
     "execution_count": 7,
     "metadata": {},
     "output_type": "execute_result"
    }
   ],
   "source": [
    "visit == another_visit"
   ]
  },
  {
   "cell_type": "code",
   "execution_count": 8,
   "metadata": {},
   "outputs": [
    {
     "data": {
      "text/plain": [
       "4431497160"
      ]
     },
     "execution_count": 8,
     "metadata": {},
     "output_type": "execute_result"
    }
   ],
   "source": [
    "id(visit)"
   ]
  },
  {
   "cell_type": "code",
   "execution_count": 9,
   "metadata": {},
   "outputs": [
    {
     "data": {
      "text/plain": [
       "4431496648"
      ]
     },
     "execution_count": 9,
     "metadata": {},
     "output_type": "execute_result"
    }
   ],
   "source": [
    "id(another_visit)"
   ]
  },
  {
   "cell_type": "code",
   "execution_count": 10,
   "metadata": {},
   "outputs": [
    {
     "data": {
      "text/plain": [
       "False"
      ]
     },
     "execution_count": 10,
     "metadata": {},
     "output_type": "execute_result"
    }
   ],
   "source": [
    "# Compares is the variable names\n",
    "# (or symbols) point to the same value in memory\n",
    "visit is another_visit"
   ]
  },
  {
   "cell_type": "code",
   "execution_count": 11,
   "metadata": {},
   "outputs": [
    {
     "data": {
      "text/plain": [
       "['england', 'finland']"
      ]
     },
     "execution_count": 11,
     "metadata": {},
     "output_type": "execute_result"
    }
   ],
   "source": [
    "visit[0]"
   ]
  },
  {
   "cell_type": "code",
   "execution_count": 12,
   "metadata": {},
   "outputs": [
    {
     "data": {
      "text/plain": [
       "True"
      ]
     },
     "execution_count": 12,
     "metadata": {},
     "output_type": "execute_result"
    }
   ],
   "source": [
    "visit[0] is cold"
   ]
  },
  {
   "cell_type": "code",
   "execution_count": 13,
   "metadata": {},
   "outputs": [
    {
     "data": {
      "text/plain": [
       "['england', 'finland']"
      ]
     },
     "execution_count": 13,
     "metadata": {},
     "output_type": "execute_result"
    }
   ],
   "source": [
    "another_visit[0]"
   ]
  },
  {
   "cell_type": "code",
   "execution_count": 14,
   "metadata": {},
   "outputs": [
    {
     "data": {
      "text/plain": [
       "False"
      ]
     },
     "execution_count": 14,
     "metadata": {},
     "output_type": "execute_result"
    }
   ],
   "source": [
    "another_visit[0] is cold"
   ]
  },
  {
   "cell_type": "markdown",
   "metadata": {},
   "source": [
    "**Warning :** Python only guarantees that identifiers are *unique* for objects that are **still** in memory. Recall that an object is erased if no reference points to it. You should **always** use the `is` keyword over directly comparing identifiers."
   ]
  },
  {
   "cell_type": "code",
   "execution_count": 15,
   "metadata": {},
   "outputs": [
    {
     "data": {
      "text/plain": [
       "True"
      ]
     },
     "execution_count": 15,
     "metadata": {},
     "output_type": "execute_result"
    }
   ],
   "source": [
    "a = 'a'\n",
    "b = 'b'\n",
    "id(a+b) == id(b+a)"
   ]
  },
  {
   "cell_type": "code",
   "execution_count": 16,
   "metadata": {},
   "outputs": [
    {
     "name": "stdout",
     "output_type": "stream",
     "text": [
      "ba\n",
      "ab\n"
     ]
    }
   ],
   "source": [
    "print(b+a)\n",
    "print(a+b)"
   ]
  },
  {
   "cell_type": "markdown",
   "metadata": {},
   "source": [
    "What is happening here is `a+b` is first created and its identifier is computed. Once this has happen, the memory where `a+b` was stored is cleared because nothing is referencing it. Next, `b+a` is created and it just so happens that it takes up the same slot in memory and ends up having the same identifier number as the already **destroyed** `a+b`."
   ]
  },
  {
   "cell_type": "code",
   "execution_count": 17,
   "metadata": {},
   "outputs": [
    {
     "data": {
      "text/plain": [
       "False"
      ]
     },
     "execution_count": 17,
     "metadata": {},
     "output_type": "execute_result"
    }
   ],
   "source": [
    "a+b is b+a"
   ]
  },
  {
   "cell_type": "markdown",
   "metadata": {},
   "source": [
    "Above, the two objects are created and kept in memory until their locations are compared."
   ]
  },
  {
   "cell_type": "markdown",
   "metadata": {},
   "source": [
    "### Lists are mutable\n",
    "\n",
    "Since lists are a key tool for organizing data, constantly creating new lists is a waste of resources. Therefore, python allow you to **modify** the contents of a list **without** changing its identifier. Types that can be modified in this way are called **mutable**."
   ]
  },
  {
   "cell_type": "code",
   "execution_count": 18,
   "metadata": {},
   "outputs": [
    {
     "name": "stdout",
     "output_type": "stream",
     "text": [
      "Before we modify, cold contains ['england', 'finland'] and id 4431497608\n",
      "After we modify, cold contains ['england', 'sweden'] and id 4431497608\n"
     ]
    }
   ],
   "source": [
    "print(\"Before we modify, cold contains\", cold, \"and id\", id(cold))\n",
    "cold[1] = 'sweden'\n",
    "print(\"After we modify, cold contains\", cold, \"and id\", id(cold))"
   ]
  },
  {
   "cell_type": "code",
   "execution_count": 19,
   "metadata": {},
   "outputs": [
    {
     "name": "stdout",
     "output_type": "stream",
     "text": [
      "Before we modify, cold contains ['england', 'sweden'] and id 4431497608\n",
      "After we modify, cold contains ['england', 'sweden', 'norway'] and id 4431497608\n"
     ]
    }
   ],
   "source": [
    "print(\"Before we modify, cold contains\", cold, \"and id\", id(cold))\n",
    "cold.append('norway')\n",
    "print(\"After we modify, cold contains\", cold, \"and id\", id(cold))"
   ]
  },
  {
   "cell_type": "code",
   "execution_count": 20,
   "metadata": {},
   "outputs": [
    {
     "data": {
      "text/plain": [
       "[['england', 'sweden', 'norway'], ['spain', 'greece']]"
      ]
     },
     "execution_count": 20,
     "metadata": {},
     "output_type": "execute_result"
    }
   ],
   "source": [
    "visit"
   ]
  },
  {
   "cell_type": "code",
   "execution_count": 21,
   "metadata": {},
   "outputs": [
    {
     "data": {
      "text/plain": [
       "[['england', 'finland'], ['spain', 'greece']]"
      ]
     },
     "execution_count": 21,
     "metadata": {},
     "output_type": "execute_result"
    }
   ],
   "source": [
    "another_visit"
   ]
  },
  {
   "cell_type": "markdown",
   "metadata": {},
   "source": [
    "Here are some modifications you can do to a list `some_list`.\n",
    "\n",
    "* `some_list.append(x)` will append the object `x` to the end of `some_list`.\n",
    "* `some_list.insert(idx, x)` will insert the object `x` into `some_list` at index `idx`.\n",
    "* `some_list.extend(other_list)` adds the objects in list `other_list` to the end of `some_list`.\n",
    "* `some_list.remove(x)` deletes the **first** occurrence of an object **equivalent** to `x` from `some_list`.\n",
    "* `some_list.pop(idx)` **removes and returns** the object at index `idx` in `some_list`. If called *without* an argument, this defaults to removing and returning the *last* element of `some_list`.\n",
    "* `some_list.sort()` will sort the elements of `some_list` in ascending order."
   ]
  },
  {
   "cell_type": "code",
   "execution_count": 22,
   "metadata": {},
   "outputs": [
    {
     "name": "stdout",
     "output_type": "stream",
     "text": [
      "Are warm and other_warm the same object? False\n",
      "But are they equivalent? True\n"
     ]
    }
   ],
   "source": [
    "other_warm = ['spain', 'greece']\n",
    "print(\"Are warm and other_warm the same object?\", warm is other_warm)\n",
    "print(\"But are they equivalent?\", warm == other_warm)"
   ]
  },
  {
   "cell_type": "code",
   "execution_count": 23,
   "metadata": {},
   "outputs": [
    {
     "name": "stdout",
     "output_type": "stream",
     "text": [
      "The visit list before : [['england', 'sweden', 'norway'], ['spain', 'greece']]\n",
      "The visit list after : [['england', 'sweden', 'norway']]\n"
     ]
    }
   ],
   "source": [
    "print(\"The visit list before :\", visit)\n",
    "# Here we successfully remove the list equivalent to warm\n",
    "visit.remove(other_warm) \n",
    "print(\"The visit list after :\", visit)"
   ]
  },
  {
   "cell_type": "code",
   "execution_count": 24,
   "metadata": {},
   "outputs": [
    {
     "name": "stdout",
     "output_type": "stream",
     "text": [
      "The other_visit before [['england', 'finland'], ['spain', 'greece']]\n",
      "The other_visit after [['spain', 'greece']]\n",
      "top is now ['england', 'finland']\n"
     ]
    }
   ],
   "source": [
    "print(\"The other_visit before\", another_visit)\n",
    "top = another_visit.pop(0)\n",
    "print(\"The other_visit after\", another_visit)\n",
    "print(\"top is now\", top)"
   ]
  },
  {
   "cell_type": "code",
   "execution_count": 25,
   "metadata": {},
   "outputs": [
    {
     "name": "stdout",
     "output_type": "stream",
     "text": [
      "Warm before sorting ['spain', 'greece']\n",
      "Warm after sorting ['greece', 'spain']\n"
     ]
    }
   ],
   "source": [
    "print(\"Warm before sorting\", warm)\n",
    "warm.sort()\n",
    "print(\"Warm after sorting\", warm)"
   ]
  },
  {
   "cell_type": "code",
   "execution_count": 26,
   "metadata": {},
   "outputs": [
    {
     "ename": "TypeError",
     "evalue": "'<' not supported between instances of 'int' and 'str'",
     "output_type": "error",
     "traceback": [
      "\u001b[0;31m---------------------------------------------------------------------------\u001b[0m",
      "\u001b[0;31mTypeError\u001b[0m                                 Traceback (most recent call last)",
      "\u001b[0;32m<ipython-input-26-b81d1e8f99f5>\u001b[0m in \u001b[0;36m<module>\u001b[0;34m()\u001b[0m\n\u001b[0;32m----> 1\u001b[0;31m \u001b[0;34m[\u001b[0m\u001b[0;34m'hello'\u001b[0m\u001b[0;34m,\u001b[0m\u001b[0;36m7\u001b[0m\u001b[0;34m]\u001b[0m\u001b[0;34m.\u001b[0m\u001b[0msort\u001b[0m\u001b[0;34m(\u001b[0m\u001b[0;34m)\u001b[0m \u001b[0;31m# Can't sort things that can't be compared\u001b[0m\u001b[0;34m\u001b[0m\u001b[0m\n\u001b[0m",
      "\u001b[0;31mTypeError\u001b[0m: '<' not supported between instances of 'int' and 'str'"
     ]
    }
   ],
   "source": [
    "['hello',7].sort() # Can't sort things that can't be compared"
   ]
  },
  {
   "cell_type": "markdown",
   "metadata": {},
   "source": [
    "#### Remark 1\n",
    "There are also version of some of these commands that will return **new** lists. For example\n",
    "\n",
    "* `sorted(some_list)` will return a new sorted copy of `some_list` without touching the content of `some_list`\n",
    "* you can *add* two lists using the `+` notation to create a new list instead of using `.extend()`\n",
    "* if you need repeating list of some length, you can use the `*` notation with an `int` to create a repeating list"
   ]
  },
  {
   "cell_type": "code",
   "execution_count": 27,
   "metadata": {},
   "outputs": [
    {
     "name": "stdout",
     "output_type": "stream",
     "text": [
      "Original data is [67, 47, 57, 37, 10, 20, 311, 232, 23, 1] \n",
      " while sorted_data is [1, 10, 20, 23, 37, 47, 57, 67, 232, 311]\n"
     ]
    }
   ],
   "source": [
    "data = [67,47,57,37,10,20,311,232,23,1]\n",
    "sorted_data = sorted(data)\n",
    "# Note \\n is the new line character\n",
    "print(\"Original data is\", data,\n",
    "      \"\\n while sorted_data is\", sorted_data)"
   ]
  },
  {
   "cell_type": "code",
   "execution_count": 28,
   "metadata": {},
   "outputs": [
    {
     "data": {
      "text/plain": [
       "[1, 2, 3, 4, 5, 6, 7]"
      ]
     },
     "execution_count": 28,
     "metadata": {},
     "output_type": "execute_result"
    }
   ],
   "source": [
    "[1,2,3,4] + [5,6,7]"
   ]
  },
  {
   "cell_type": "code",
   "execution_count": 29,
   "metadata": {},
   "outputs": [
    {
     "data": {
      "text/plain": [
       "[1, 1, 1, 1, 1, 1, 1, 1]"
      ]
     },
     "execution_count": 29,
     "metadata": {},
     "output_type": "execute_result"
    }
   ],
   "source": [
    "8*[1] # Awesome way to make a repeated list"
   ]
  },
  {
   "cell_type": "markdown",
   "metadata": {},
   "source": [
    "#### Remark 2 : copying\n",
    "There might be times when you want to make a **copy** of an object. You should usually try to do this using the `.copy()` method (if the object has one). If `.copy()` does not exists, you can try the basic constructor, such as `list()`. "
   ]
  },
  {
   "cell_type": "code",
   "execution_count": 30,
   "metadata": {},
   "outputs": [
    {
     "name": "stdout",
     "output_type": "stream",
     "text": [
      "Are visit and visit_copy the same object? False\n",
      "But are they equivalent? True\n"
     ]
    }
   ],
   "source": [
    "visit_copy = visit.copy()\n",
    "print(\"Are visit and visit_copy the same object?\", visit is visit_copy)\n",
    "print(\"But are they equivalent?\", visit == visit_copy)"
   ]
  },
  {
   "cell_type": "code",
   "execution_count": 31,
   "metadata": {},
   "outputs": [
    {
     "name": "stdout",
     "output_type": "stream",
     "text": [
      "Are visit and visit_copy the same object? False\n",
      "But are they equivalent? True\n"
     ]
    }
   ],
   "source": [
    "# we can call the constructor of the type\n",
    "# if no copy method is avaialble\n",
    "visit_copy = list(visit) \n",
    "print(\"Are visit and visit_copy the same object?\", visit is visit_copy)\n",
    "print(\"But are they equivalent?\", visit == visit_copy)"
   ]
  },
  {
   "cell_type": "code",
   "execution_count": 32,
   "metadata": {},
   "outputs": [
    {
     "data": {
      "text/plain": [
       "True"
      ]
     },
     "execution_count": 32,
     "metadata": {},
     "output_type": "execute_result"
    }
   ],
   "source": [
    "# Note that the enteries refernce the same objects!\n",
    "visit_copy[0] is visit[0]"
   ]
  },
  {
   "cell_type": "markdown",
   "metadata": {},
   "source": [
    "#### Remark 3 : tab completion\n",
    "\n",
    "In IPython (or spyder, or any other decent editor), you can always use the `<TAB>` key to see which methods an object responds to. You can also tab complete variable names and method names.\n"
   ]
  },
  {
   "cell_type": "code",
   "execution_count": null,
   "metadata": {},
   "outputs": [],
   "source": [
    "visit.<TAB>"
   ]
  },
  {
   "cell_type": "markdown",
   "metadata": {},
   "source": [
    "Most objects have some \"hidden\" methods that you can discover by typing `._` followed by `<TAB>`."
   ]
  },
  {
   "cell_type": "code",
   "execution_count": null,
   "metadata": {},
   "outputs": [],
   "source": [
    "visit._<TAB>"
   ]
  },
  {
   "cell_type": "markdown",
   "metadata": {},
   "source": [
    "### Tuples\n",
    "\n",
    "Tuples are an **immutable** version of lists. This means that a `tuple` **cannot be modified**. To create tuples you can use the `( )` notation. You can also convert list to tuples and vice-versa."
   ]
  },
  {
   "cell_type": "code",
   "execution_count": 34,
   "metadata": {},
   "outputs": [
    {
     "name": "stdout",
     "output_type": "stream",
     "text": [
      "(2, 3, 4) [2, 3, 4] (2, 3, 4)\n",
      "<class 'tuple'> <class 'list'> <class 'tuple'>\n"
     ]
    }
   ],
   "source": [
    "a = (2,3,4)\n",
    "b = list(a) \n",
    "c = tuple(b)\n",
    "print(a,b,c)\n",
    "print(type(a),type(b),type(c))"
   ]
  },
  {
   "cell_type": "code",
   "execution_count": 35,
   "metadata": {},
   "outputs": [
    {
     "ename": "TypeError",
     "evalue": "'tuple' object does not support item assignment",
     "output_type": "error",
     "traceback": [
      "\u001b[0;31m---------------------------------------------------------------------------\u001b[0m",
      "\u001b[0;31mTypeError\u001b[0m                                 Traceback (most recent call last)",
      "\u001b[0;32m<ipython-input-35-dec41322dc24>\u001b[0m in \u001b[0;36m<module>\u001b[0;34m()\u001b[0m\n\u001b[0;32m----> 1\u001b[0;31m \u001b[0ma\u001b[0m\u001b[0;34m[\u001b[0m\u001b[0;36m2\u001b[0m\u001b[0;34m]\u001b[0m \u001b[0;34m=\u001b[0m \u001b[0;36m5\u001b[0m\u001b[0;34m\u001b[0m\u001b[0m\n\u001b[0m",
      "\u001b[0;31mTypeError\u001b[0m: 'tuple' object does not support item assignment"
     ]
    }
   ],
   "source": [
    "a[2] = 5"
   ]
  },
  {
   "cell_type": "markdown",
   "metadata": {},
   "source": [
    "**Warning :** using the `+` and `*` notation on tuples works just like on lists. They are **not** vectors."
   ]
  },
  {
   "cell_type": "code",
   "execution_count": 36,
   "metadata": {},
   "outputs": [
    {
     "data": {
      "text/plain": [
       "('hello', 3, 4, 5, 6, 7)"
      ]
     },
     "execution_count": 36,
     "metadata": {},
     "output_type": "execute_result"
    }
   ],
   "source": [
    "('hello',3,4)+(5,6,7)"
   ]
  },
  {
   "cell_type": "code",
   "execution_count": 37,
   "metadata": {},
   "outputs": [
    {
     "data": {
      "text/plain": [
       "(1, 3, 1, 3, 1, 3, 1, 3)"
      ]
     },
     "execution_count": 37,
     "metadata": {},
     "output_type": "execute_result"
    }
   ],
   "source": [
    "4*(1,3)"
   ]
  },
  {
   "cell_type": "markdown",
   "metadata": {},
   "source": [
    "### Strings and characters\n",
    "\n",
    "One can think of strings as **immutable** lists of characters that have many useful methods. A string can contain most forms of characters, including spaces and new lines. Python 3.5 allows your strings to contain pretty much any character from any language set (by default, strings are encoded using the UTF-8 character encoding). To create basic strings we use\n",
    "\n",
    "* single quotes\n",
    "```python\n",
    "desc = 'this is a string'\n",
    "```\n",
    "* double quotes\n",
    "```python\n",
    "desc = \"this is also a string, just like above\"\n",
    "```\n",
    "* triple single or double quotes\n",
    "```python\n",
    "desc = '''This string can span\n",
    "several lines at once'''\n",
    "desc = \"\"\"You may choose whichever \n",
    "style you like better\"\"\"\n",
    "```\n",
    "Some style guides suggest that programmers use double quotes for textual output and single quotes for strings they will use or manipulate in their code."
   ]
  },
  {
   "cell_type": "code",
   "execution_count": 38,
   "metadata": {},
   "outputs": [
    {
     "name": "stdout",
     "output_type": "stream",
     "text": [
      "These are all the vowels in the English alphabet : aeiou\n"
     ]
    }
   ],
   "source": [
    "vowels = 'aeiou'\n",
    "desc = \"These are all the vowels in the English alphabet :\"\n",
    "print(desc,vowels)"
   ]
  },
  {
   "cell_type": "markdown",
   "metadata": {},
   "source": [
    "Strings are a container objects for characters, so they can be manipulated in many of the same ways."
   ]
  },
  {
   "cell_type": "code",
   "execution_count": 39,
   "metadata": {},
   "outputs": [
    {
     "data": {
      "text/plain": [
       "'uia'"
      ]
     },
     "execution_count": 39,
     "metadata": {},
     "output_type": "execute_result"
    }
   ],
   "source": [
    "vowels[::-2] # We can slice strings"
   ]
  },
  {
   "cell_type": "code",
   "execution_count": 40,
   "metadata": {},
   "outputs": [
    {
     "data": {
      "text/plain": [
       "5"
      ]
     },
     "execution_count": 40,
     "metadata": {},
     "output_type": "execute_result"
    }
   ],
   "source": [
    "len(vowels)"
   ]
  },
  {
   "cell_type": "code",
   "execution_count": 41,
   "metadata": {},
   "outputs": [
    {
     "data": {
      "text/plain": [
       "'aeioué'"
      ]
     },
     "execution_count": 41,
     "metadata": {},
     "output_type": "execute_result"
    }
   ],
   "source": [
    "vowels + 'é'"
   ]
  },
  {
   "cell_type": "code",
   "execution_count": 42,
   "metadata": {},
   "outputs": [
    {
     "data": {
      "text/plain": [
       "'repeat repeat repeat repeat '"
      ]
     },
     "execution_count": 42,
     "metadata": {},
     "output_type": "execute_result"
    }
   ],
   "source": [
    "4*'repeat '"
   ]
  },
  {
   "cell_type": "markdown",
   "metadata": {},
   "source": [
    "Strings have tons of useful methods. Here are a few. Remember that string are immutable, so all methods return new objects. Also, all search methods use `==` as the test.\n",
    "\n",
    "* `some_string.count(sub_string)` counts how many times `sub_string` occurs in `some_string`.\n",
    "* `some_string.find(sub_string)` returns the **non-negative** index of the first occurrence of `sub_string` in `some_string` and `-1` if not found.\n",
    "* `some_string.rfind(sub_string)` is reverse find, same as find but starts from the end of `some_string`.\n",
    "* `some_string.lower()` returns an all lowercase version of `some_string`.\n",
    "* `some_string.replace(old, new)` returns a string with all occurrences `old` in `some_string` replaced with `new`.\n",
    "* `some_string.rstrip()` returns a string with all trailing white space removed from `some_string`.\n",
    "* `some_string.split(delim)` returns a list of strings cut along `delim`.\n",
    "* `delim.join(list_of_strings)` return a string which is the concatenation of the strings in `list_of_strings` separated by `delim`."
   ]
  },
  {
   "cell_type": "code",
   "execution_count": 43,
   "metadata": {},
   "outputs": [
    {
     "name": "stdout",
     "output_type": "stream",
     "text": [
      "The word esteemed has 4 e's in it\n"
     ]
    }
   ],
   "source": [
    "word = 'esteemed'\n",
    "# Note the single quote inside the double quote\n",
    "print(\"The word\", word, \"has\", word.count('e'), \"e's in it\")"
   ]
  },
  {
   "cell_type": "code",
   "execution_count": 44,
   "metadata": {},
   "outputs": [
    {
     "name": "stdout",
     "output_type": "stream",
     "text": [
      "Looking for character d and found the character d at index 7 of string esteemed\n"
     ]
    }
   ],
   "source": [
    "c = 'd'\n",
    "idx = word.find(c)\n",
    "print(\"Looking for character\", c, \"and found the character\",\n",
    "      word[idx], \"at index\", idx, \"of string\", word)"
   ]
  },
  {
   "cell_type": "code",
   "execution_count": 45,
   "metadata": {},
   "outputs": [
    {
     "name": "stdout",
     "output_type": "stream",
     "text": [
      "Looking for character j and found the character d at index -1 of string esteemed\n"
     ]
    }
   ],
   "source": [
    "# Be sure to check the sign of you found index!\n",
    "c = 'j'\n",
    "idx = word.find(c)\n",
    "print(\"Looking for character\", c, \"and found the character\",\n",
    "      word[idx], \"at index\", idx, \"of string\", word)"
   ]
  },
  {
   "cell_type": "markdown",
   "metadata": {},
   "source": [
    "Clearly we did not find the right character. We can also search for substrings."
   ]
  },
  {
   "cell_type": "code",
   "execution_count": 46,
   "metadata": {},
   "outputs": [
    {
     "data": {
      "text/plain": [
       "3"
      ]
     },
     "execution_count": 46,
     "metadata": {},
     "output_type": "execute_result"
    }
   ],
   "source": [
    "word.find('ee')"
   ]
  },
  {
   "cell_type": "code",
   "execution_count": 47,
   "metadata": {},
   "outputs": [
    {
     "data": {
      "text/plain": [
       "'repeat repeat repeat repeat'"
      ]
     },
     "execution_count": 47,
     "metadata": {},
     "output_type": "execute_result"
    }
   ],
   "source": [
    "# Stipping whitespace\n",
    "(4*'repeat ').rstrip()"
   ]
  },
  {
   "cell_type": "code",
   "execution_count": 48,
   "metadata": {},
   "outputs": [
    {
     "data": {
      "text/plain": [
       "['I', 'hope', 'we', 'are', 'not', 'out', 'of', 'time', 'yet']"
      ]
     },
     "execution_count": 48,
     "metadata": {},
     "output_type": "execute_result"
    }
   ],
   "source": [
    "# Splitting stings can be super useful\n",
    "'I hope we are not out of time yet'.split(' ')"
   ]
  },
  {
   "cell_type": "code",
   "execution_count": 49,
   "metadata": {},
   "outputs": [
    {
     "data": {
      "text/plain": [
       "'a|list|of|words'"
      ]
     },
     "execution_count": 49,
     "metadata": {},
     "output_type": "execute_result"
    }
   ],
   "source": [
    "# Joining is the reverse of splitting. Also extremely useful\n",
    "'|'.join(['a', 'list', 'of', 'words'])"
   ]
  },
  {
   "cell_type": "markdown",
   "metadata": {},
   "source": [
    "I recommend that you read about many of the other string manipulation methods available in python at [docs.python.org/3.5/library/stdtypes.html](https://docs.python.org/3.5/library/stdtypes.html)\n",
    "\n",
    "#### Some basic formatting\n",
    "\n",
    "One of the most useful methods of the `str` type is the `.format()` method. It allows you to \"print\" or display the content of variables into a string. Let's start with an example."
   ]
  },
  {
   "cell_type": "code",
   "execution_count": 50,
   "metadata": {},
   "outputs": [
    {
     "name": "stdout",
     "output_type": "stream",
     "text": [
      "One third is about 33.33%. \n"
     ]
    }
   ],
   "source": [
    "desc = 'One {0} is about {1:.2%}. '.format('third', 1/3)\n",
    "print(desc)"
   ]
  },
  {
   "cell_type": "markdown",
   "metadata": {},
   "source": [
    "Above, the brackets contain `{ index_or_key : format_spec }`. The `index_or_key` variable tells the string which argument of `format()` to place there. The `format_spec` tells the string how to format the variable. For example, `.2%` means we want a percentage with 2 places after the decimal. Note, currently we are using the US notion for numbers. We will learn to change this later by changing the `locale`.  "
   ]
  },
  {
   "cell_type": "code",
   "execution_count": 51,
   "metadata": {},
   "outputs": [
    {
     "name": "stdout",
     "output_type": "stream",
     "text": [
      "The integer 132919321 can be formatted as a float 132,919,321.00\n"
     ]
    }
   ],
   "source": [
    "# We can reuse the same variable multple times\n",
    "# and display it in different formats\n",
    "desc = 'The integer {0} can be formatted as a float {0:,.2f}'.format(132919321)\n",
    "print(desc)"
   ]
  },
  {
   "cell_type": "code",
   "execution_count": 52,
   "metadata": {},
   "outputs": [
    {
     "name": "stdout",
     "output_type": "stream",
     "text": [
      "We can also pad output with zeros 0006, 3600, \n",
      " spaces in front |   6| or back |36  |,\n",
      " and with other characters |jjjj6| and pad all around |jjjj36jjjj|\n"
     ]
    }
   ],
   "source": [
    "desc = '''We can also pad output with zeros {0:0>4}, {1:0<4}, \n",
    " spaces in front |{0:>4}| or back |{1:<4}|,\n",
    " and with other characters |{0:j>5}| and pad all around |{1:j^10}|'''.format(6,6**2)\n",
    "print(desc)"
   ]
  },
  {
   "cell_type": "markdown",
   "metadata": {},
   "source": [
    "Formatting can get very complicated very quickly. For full details, read [docs.python.org/3/library/string.html#formatspec](https://docs.python.org/3/library/string.html#formatspec). Here is a brief overview.\n",
    "\n",
    "* Format spec can look like `[[fill]align][width][,][.precision][type]` **without** the grouping brackets `[]`\n",
    "* `fill` can be any character\n",
    "* `align` usually used as `<` (pad right), `>` (pad left), or `^` (center) is the `fill` character\n",
    "* `width` is an integer specifying *minimum* field width \n",
    "* `,` works only for printing comma separated floats and integers (US-style only)\n",
    "* `precision` works differently depending on the type. For numerical types, it specifies the number of digits after the decimal point. For non-numerical types, it specifies the *maximum* field width.\n",
    "* `type` can be many different options, common ones are\n",
    "   * integers types are `d` (decimal), `b` (binary), `x` (hex), `n` (locale formatted)\n",
    "   * floating point times are `f` (fixed point), `e` (scientific), `g` (general format), `%` (percent), `n` (locale formatted)\n",
    "   * string types are `s` (string) and `c` (character)"
   ]
  },
  {
   "cell_type": "code",
   "execution_count": 53,
   "metadata": {},
   "outputs": [
    {
     "data": {
      "text/plain": [
       "'The integer 450 is 111000010 in binary'"
      ]
     },
     "execution_count": 53,
     "metadata": {},
     "output_type": "execute_result"
    }
   ],
   "source": [
    "'The integer {1:d} is {1:b} in binary'.format(232, 450)"
   ]
  },
  {
   "cell_type": "markdown",
   "metadata": {},
   "source": [
    "## Control Flow\n",
    "\n",
    "We can control the flow of a program using conditional statements and loops. Python uses **indentation** to indicate blocks of code withing a loop or any kind of statement. You will see how this works below.\n",
    "### if/elif/else\n",
    "\n",
    "The `if` statement is relatively straight forward. When we encounter a true condition, we execute the assocaited block and then continue **after** the whole `if/elif/else` statement. Here, `elif` stnds for 'else if' and `else` is inidcates what to do if all other conditions are not satified. You can play with the `cold` variable below to see how things change."
   ]
  },
  {
   "cell_type": "code",
   "execution_count": 54,
   "metadata": {},
   "outputs": [
    {
     "name": "stdout",
     "output_type": "stream",
     "text": [
      "Finland is cold\n",
      "Second condition is true and first is false\n"
     ]
    }
   ],
   "source": [
    "cold = ['sweden', 'finland']\n",
    "# if this is true do the next set of indented lines\n",
    "if 'england' in cold :\n",
    "    print(\"England is cold\")\n",
    "    print(\"First condition is true\")\n",
    "# else, if this second condition is true,\n",
    "# do the next set of indented lines\n",
    "elif 'finland' in cold : \n",
    "    print(\"Finland is cold\")\n",
    "    print(\"Second condition is true and first is false\")\n",
    "# else, if this third condition is true,\n",
    "# do the next set of indented lines\n",
    "elif len(cold) == 2 :\n",
    "    print(\"Only two cold places\")\n",
    "    print(\"Third condition is true, while first and second are both false\")\n",
    "else :\n",
    "    print(\"Nothing is true\")"
   ]
  },
  {
   "cell_type": "markdown",
   "metadata": {},
   "source": [
    "You don't need to inlucde `elif` or even `else` statements in your if statements."
   ]
  },
  {
   "cell_type": "code",
   "execution_count": 55,
   "metadata": {},
   "outputs": [
    {
     "name": "stdout",
     "output_type": "stream",
     "text": [
      "the sky can be blue\n",
      "I don't need an else or elif statement\n"
     ]
    }
   ],
   "source": [
    "if 'blue' in 'the sky can be blue, red, or orange' :\n",
    "    print(\"the sky can be blue\")\n",
    "print(\"I don't need an else or elif statement\")"
   ]
  },
  {
   "cell_type": "code",
   "execution_count": 56,
   "metadata": {},
   "outputs": [
    {
     "name": "stdout",
     "output_type": "stream",
     "text": [
      "the sky can't be brown\n"
     ]
    }
   ],
   "source": [
    "if 'brown' in 'the sky can be blue, red, or orange' :\n",
    "    print(\"the sky can be brown\")\n",
    "else :\n",
    "    print(\"the sky can't be brown\")"
   ]
  },
  {
   "cell_type": "markdown",
   "metadata": {},
   "source": [
    "### for/range\n",
    "\n",
    "The `for` loop is useful when you need to iterate over a list or known set of indexes. **Do not modify what you are iterating over**."
   ]
  },
  {
   "cell_type": "code",
   "execution_count": 57,
   "metadata": {},
   "outputs": [
    {
     "name": "stdout",
     "output_type": "stream",
     "text": [
      "0\n",
      "1\n",
      "2\n",
      "3\n",
      "4\n",
      "5\n",
      "6\n",
      "7\n",
      "8\n",
      "9\n"
     ]
    }
   ],
   "source": [
    "for i in range(10) :\n",
    "    print(i)"
   ]
  },
  {
   "cell_type": "code",
   "execution_count": 58,
   "metadata": {},
   "outputs": [
    {
     "name": "stdout",
     "output_type": "stream",
     "text": [
      "s\n",
      "o\n",
      "m\n",
      "e\n",
      " \n",
      "s\n",
      "t\n",
      "r\n",
      "i\n",
      "n\n",
      "g\n"
     ]
    }
   ],
   "source": [
    "for c in 'some string' :\n",
    "    print(c)"
   ]
  },
  {
   "cell_type": "code",
   "execution_count": 59,
   "metadata": {},
   "outputs": [
    {
     "name": "stdout",
     "output_type": "stream",
     "text": [
      "comma\n",
      "separated\n",
      "string\n"
     ]
    }
   ],
   "source": [
    "for p in 'comma,separated,string'.split(',') :\n",
    "    print(p)"
   ]
  },
  {
   "cell_type": "code",
   "execution_count": 60,
   "metadata": {},
   "outputs": [
    {
     "name": "stdout",
     "output_type": "stream",
     "text": [
      "1\n",
      "3\n",
      "5\n"
     ]
    }
   ],
   "source": [
    "data = [1,2,3,4,5]\n",
    "for x in data :\n",
    "    print(x)\n",
    "    data.remove(x) # DO NOT DO THIS!!!"
   ]
  },
  {
   "cell_type": "markdown",
   "metadata": {},
   "source": [
    "If I used `.append(x)` above, I would be appending **forever**!\n",
    "\n",
    "### while/break/continue\n",
    "\n",
    "The `while` loop is great if you do not know *how many* iterations you need to do. For example, we can play with the Collatz conjecture (also known as the Syracuse problem)"
   ]
  },
  {
   "cell_type": "code",
   "execution_count": 61,
   "metadata": {},
   "outputs": [
    {
     "name": "stdout",
     "output_type": "stream",
     "text": [
      "[10, 5]\n",
      "[10, 5, 16]\n",
      "[10, 5, 16, 8]\n",
      "[10, 5, 16, 8, 4]\n",
      "[10, 5, 16, 8, 4, 2]\n",
      "[10, 5, 16, 8, 4, 2, 1]\n",
      "Starting with 10, the Syracuse sequence terminates in 6 steps\n",
      "The sequence is [10, 5, 16, 8, 4, 2, 1]\n"
     ]
    }
   ],
   "source": [
    "u = 10\n",
    "seq = [u]\n",
    "while u != 1 :\n",
    "    # The loop block of code starts here\n",
    "    if u % 2 == 0 and u > 0:\n",
    "        u = u // 2\n",
    "    else :\n",
    "        u = 3*u + 1\n",
    "    seq.append(u)\n",
    "    print(seq)\n",
    "    # The loop block of code ends here with the last indent of this level\n",
    "# Now the while loop is completely over!    \n",
    "print('Starting with {0}, the Syracuse sequence terminates in {1} steps'.format(seq[0], len(seq)-1))\n",
    "print('The sequence is', seq)"
   ]
  },
  {
   "cell_type": "markdown",
   "metadata": {},
   "source": [
    "There are also key words\n",
    "* `break` tells the program to leave (or break from) the inner most `for` or `while` loop\n",
    "* `continue` tells the program to skip the rest of the code block and start a new loop"
   ]
  },
  {
   "cell_type": "code",
   "execution_count": 62,
   "metadata": {},
   "outputs": [
    {
     "name": "stdout",
     "output_type": "stream",
     "text": [
      "720\n"
     ]
    }
   ],
   "source": [
    "n = 6\n",
    "n_factorial = n # We will modify this variable in the loop\n",
    "while True :\n",
    "    if n != 1 :\n",
    "        n = n-1\n",
    "        n_factorial *= n # This is short hand for n_factorial = n_factorial * n \n",
    "    else :\n",
    "        break # Leave the loop entirely\n",
    "print(n_factorial)"
   ]
  },
  {
   "cell_type": "code",
   "execution_count": 63,
   "metadata": {},
   "outputs": [
    {
     "name": "stdout",
     "output_type": "stream",
     "text": [
      "p\n",
      "y\n",
      "t\n",
      "h\n",
      "o\n",
      "The first vowel is o\n"
     ]
    }
   ],
   "source": [
    "for c in 'pythoneeeee' :\n",
    "    print(c) # Just to see what the loop is doing, let's see what we are interating over\n",
    "    if c not in 'aeiou' :\n",
    "        continue # Continue at the top of the loop with next value of c\n",
    "    print('The first vowel is', c) # This only gets executed when the condition in the if statement is false\n",
    "    break # We found one vowel, we are done"
   ]
  },
  {
   "cell_type": "markdown",
   "metadata": {},
   "source": [
    "## Functions (briefly)\n",
    "\n",
    "Functions are used to organize code into reusable units. For example, we can write a factorial function as"
   ]
  },
  {
   "cell_type": "code",
   "execution_count": 64,
   "metadata": {},
   "outputs": [],
   "source": [
    "def factorial(n) :\n",
    "    result = 1\n",
    "    for x in range(n,1,-1) : # Note the range(n,1,-1) staring with n and stepping back by 1\n",
    "        result *= x # Again we use the short hand for result = result * x\n",
    "    return result"
   ]
  },
  {
   "cell_type": "code",
   "execution_count": 65,
   "metadata": {},
   "outputs": [
    {
     "data": {
      "text/plain": [
       "120"
      ]
     },
     "execution_count": 65,
     "metadata": {},
     "output_type": "execute_result"
    }
   ],
   "source": [
    "factorial(5)"
   ]
  },
  {
   "cell_type": "code",
   "execution_count": 66,
   "metadata": {},
   "outputs": [
    {
     "name": "stdout",
     "output_type": "stream",
     "text": [
      "2! is equal to 2\n",
      "10! is equal to 3628800\n",
      "-1! is equal to 1\n"
     ]
    }
   ],
   "source": [
    "print('{0}! is equal to {1}'.format(2,factorial(2)))\n",
    "print('{0}! is equal to {1}'.format(10,factorial(10)))\n",
    "print('{0}! is equal to {1}'.format(-1,factorial(-1)))"
   ]
  },
  {
   "cell_type": "markdown",
   "metadata": {},
   "source": [
    "You can give a function multiple arguments"
   ]
  },
  {
   "cell_type": "code",
   "execution_count": 67,
   "metadata": {},
   "outputs": [
    {
     "name": "stdout",
     "output_type": "stream",
     "text": [
      "-68\n"
     ]
    }
   ],
   "source": [
    "def discriminant(a,b,c) :\n",
    "    return b**2 - 4*a*c\n",
    "print(discriminant(3,4,7))"
   ]
  },
  {
   "cell_type": "markdown",
   "metadata": {},
   "source": [
    "We will get more into functions and arguments in the next lecture.\n",
    "\n",
    "## Modules (briefly)\n",
    "\n",
    "\n",
    "\n"
   ]
  },
  {
   "cell_type": "markdown",
   "metadata": {
    "collapsed": true
   },
   "source": [
    "All the code we have written so far has been the interpreter. For managing projects and more complex coding paths, we need to write the code in text files. These text files will be called either *scripts* or *modules*. For example, I have written a file called `useless_module.py` with one function inside called `useless`. I put this file in the current directory."
   ]
  },
  {
   "cell_type": "code",
   "execution_count": 71,
   "metadata": {},
   "outputs": [
    {
     "name": "stdout",
     "output_type": "stream",
     "text": [
      "Lecture 2.ipynb    useless_module.py\r\n"
     ]
    }
   ],
   "source": [
    "%ls"
   ]
  },
  {
   "cell_type": "code",
   "execution_count": 72,
   "metadata": {
    "scrolled": true
   },
   "outputs": [
    {
     "name": "stdout",
     "output_type": "stream",
     "text": [
      "def useless() :\r\n",
      "    print(\"I don't do anything useful yet!\")\r\n"
     ]
    }
   ],
   "source": [
    "%cat useless_module.py # Print the contents of the file to output"
   ]
  },
  {
   "cell_type": "markdown",
   "metadata": {},
   "source": [
    "We can **import** the code in the file `useless_module.py` into our active session. Calling `import` acutally runs the code in your file."
   ]
  },
  {
   "cell_type": "code",
   "execution_count": 73,
   "metadata": {},
   "outputs": [
    {
     "name": "stdout",
     "output_type": "stream",
     "text": [
      "I don't do anything useful yet!\n"
     ]
    }
   ],
   "source": [
    "import useless_module # import, that is run, the code in the file useless_module.py\n",
    "useless_module.useless() # we can now call the uselss function we defined in useless_module.py"
   ]
  },
  {
   "cell_type": "markdown",
   "metadata": {},
   "source": [
    "Python (and the Anaconda distribution) comes with a huge list of available modules and *packages* (which are collections of modules). Here are a few."
   ]
  },
  {
   "cell_type": "code",
   "execution_count": 74,
   "metadata": {},
   "outputs": [],
   "source": [
    "import math\n",
    "import random"
   ]
  },
  {
   "cell_type": "code",
   "execution_count": 75,
   "metadata": {},
   "outputs": [
    {
     "data": {
      "text/plain": [
       "-0.9880316240928618"
      ]
     },
     "execution_count": 75,
     "metadata": {},
     "output_type": "execute_result"
    }
   ],
   "source": [
    "math.sin(30)"
   ]
  },
  {
   "cell_type": "code",
   "execution_count": 76,
   "metadata": {},
   "outputs": [
    {
     "name": "stdout",
     "output_type": "stream",
     "text": [
      "[4, 2, 1, 3]\n"
     ]
    }
   ],
   "source": [
    "perm = [1,2,3,4]\n",
    "random.shuffle(perm) # Randomly shuffles the list\n",
    "print(perm)"
   ]
  },
  {
   "cell_type": "markdown",
   "metadata": {},
   "source": [
    "We will discover modules along the way. Your homework this week will be to write a module of your own."
   ]
  }
 ],
 "metadata": {
  "anaconda-cloud": {},
  "kernelspec": {
   "display_name": "Python 3",
   "language": "python",
   "name": "python3"
  },
  "language_info": {
   "codemirror_mode": {
    "name": "ipython",
    "version": 3
   },
   "file_extension": ".py",
   "mimetype": "text/x-python",
   "name": "python",
   "nbconvert_exporter": "python",
   "pygments_lexer": "ipython3",
   "version": "3.6.5"
  }
 },
 "nbformat": 4,
 "nbformat_minor": 1
}
