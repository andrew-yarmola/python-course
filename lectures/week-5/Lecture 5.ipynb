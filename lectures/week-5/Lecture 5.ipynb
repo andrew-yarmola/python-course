{
 "cells": [
  {
   "cell_type": "markdown",
   "metadata": {},
   "source": [
    "# Introduction to Programming Lecture 5\n",
    "* Instructor :  Andrew Yarmola [andrew.yarmola@uni.lu](mailto:andrew.yarmola@uni.lu)\n",
    "* Course Schedule : Wednesday 14h00 - 15h30 Campus Kirchberg B21\n",
    "* Course Website : [sites.google.com/site/andrewyarmola/itp-uni-lux](https://sites.google.com/site/andrewyarmola/itp-uni-lux)\n",
    "* Office Hours : Thursday 16h00 - 17h00 Campus Kirchberg G103 and by appointment.\n",
    "\n",
    "## Remarks on homework and questions\n",
    "\n",
    "I think we should spend a little time working on the homework in class to see if anyone needs any help. Those of you that have finished the homework can help others. If you are done and have no one to help, here is an exercise.\n",
    "\n",
    "**Exercise.** You may have noticed that `a**n % m` is very very slow for large `a` and `n`. Write a function `mod_power(a,n,m)` that does this operation much faster.\n",
    "\n",
    "### Collatz"
   ]
  },
  {
   "cell_type": "code",
   "execution_count": 1,
   "metadata": {},
   "outputs": [],
   "source": [
    "def collatz_max(n) :\n",
    "    \"\"\" Returns a pair (a,s) where s in the maximum length\n",
    "    of a Collatz sequence starting with 0 < x < n and a is\n",
    "    a starting point of such a sequence. \"\"\"\n",
    "    # we use a dictionary to keep track of all of out known\n",
    "    # Collatz sequence lengths\n",
    "    known = {1 : 0}\n",
    "    max_steps = 0\n",
    "    max_start = 1\n",
    "    for m in range(2, n) :\n",
    "        m_steps = 0\n",
    "        # we will save the seqeunce to save the steps later\n",
    "        seq = []\n",
    "        curr = m\n",
    "        while True :\n",
    "            # we see if we have already recorded steps for curr\n",
    "            # note that dict.get(key) will return None if the key is\n",
    "            # not in the dictionary\n",
    "            curr_steps = known.get(curr)\n",
    "            if curr_steps is not None :\n",
    "                # we now know there are curr_steps more to go\n",
    "                # so we don't need to waste our time computing\n",
    "                m_steps += curr_steps\n",
    "                # record all new steps counts for the sequence\n",
    "                for idx,val in enumerate(seq) :\n",
    "                    known[val] = m_steps - idx\n",
    "                break\n",
    "            # we will not save curr and procede with the\n",
    "            # generation of the next sequence element\n",
    "            seq.append(curr)\n",
    "            if curr % 2 == 0 :\n",
    "                curr = curr // 2\n",
    "            else :\n",
    "                curr = 3 * curr + 1\n",
    "            m_steps += 1\n",
    "        # we have left the while loop, let's see if more steps\n",
    "        # were taken\n",
    "        if m_steps > max_steps :\n",
    "            max_steps = m_steps\n",
    "            max_start = m\n",
    "            \n",
    "    return (max_start, max_steps)"
   ]
  },
  {
   "cell_type": "markdown",
   "metadata": {},
   "source": [
    "### Tower of Hanoi\n",
    "\n",
    "Be sure to write auxiliary functions to make your code more readable!"
   ]
  },
  {
   "cell_type": "code",
   "execution_count": 2,
   "metadata": {},
   "outputs": [],
   "source": [
    "def num_steps(n) :\n",
    "    \"\"\" Returns the number of steps needed to solve \n",
    "    the Tower of Hanoi puzzle with n disks. \"\"\"\n",
    "    assert n > 0\n",
    "    if n == 1 :\n",
    "        return 1\n",
    "    else :\n",
    "        return 2 * num_steps(n-1) + 1\n",
    "    \n",
    "import copy\n",
    "\n",
    "def append_to_peg(state, peg, value) :\n",
    "    \"\"\" Appends value to the end of the list state[peg].\n",
    "    Does *not* check if value > max(state[peg])! \"\"\"\n",
    "    state[peg].append(value)\n",
    "    # we don't return anything because we modified state\n",
    "\n",
    "def switch_pegs(state, some_peg, other_peg) :\n",
    "    \"\"\" Switches values of some_peg and other_peg in state. \"\"\"\n",
    "    switched = { some_peg : state[other_peg],\n",
    "                other_peg : state[some_peg] }\n",
    "    # recall that .update merges/overwrites the contents\n",
    "    state.update(switched)\n",
    "    # we don't return anything because we modified state\n",
    "\n",
    "def solution_states(n) :\n",
    "    \"\"\" Prints a list of solution states (which are dictionaries)\n",
    "        to solve the Tower of Hanoi problem with n disks \"\"\"\n",
    "    if n == 1 :\n",
    "        sol_steps = [ { 'a' : [1], 'b' : [ ], 'c' : [ ] } ,\n",
    "                      { 'a' : [ ], 'b' : [ ], 'c' : [1] } ]\n",
    "        return sol_steps\n",
    "    else :\n",
    "        # we will use the solution from n - 1 to first\n",
    "        # move the top n - 1 to peg 'b', then move disk n\n",
    "        # to peg 'c', and finally reuse the n - 1 solution\n",
    "        # to move everything to peg 'c' from peg 'b' \n",
    "        start = solution_states(n-1)\n",
    "        # we make a deep copy so that when we modify start's\n",
    "        # elements, we don't change what's in finish ! \n",
    "        finish = copy.deepcopy(start)\n",
    "\n",
    "        for i in range(len(start)) :\n",
    "            # we add disk n to the 'a' peg and switch 'b', 'c' pegs\n",
    "            # so that we are moving disks from 'a' to 'b'\n",
    "            switch_pegs(start[i], 'b', 'c')\n",
    "            append_to_peg(start[i], 'a', n)\n",
    "            # we must move disk n to peg 'c' and then use the n - 1\n",
    "            # solution to move everything from peg 'b' to 'c'.\n",
    "            # we accomplish this by making finish move disks from 'b'\n",
    "            # to 'c' and making sure to add disk n onto peg 'c'\n",
    "            switch_pegs(finish[i], 'a', 'b')\n",
    "            append_to_peg(finish[i], 'c', n)\n",
    "\n",
    "        return start + finish"
   ]
  },
  {
   "cell_type": "markdown",
   "metadata": {},
   "source": [
    "## Classes\n",
    "\n",
    "So far, we have been mostly using built-in objects available to us from within python itself. Now, we will learn how to use classes to build our own objects. Let's start with a simple example."
   ]
  },
  {
   "cell_type": "code",
   "execution_count": 3,
   "metadata": {},
   "outputs": [],
   "source": [
    "class Dog :\n",
    "    # Global class values\n",
    "    breed = 'husky'\n",
    "    tricks = ['sit']\n",
    "    \n",
    "    # instance initialization method\n",
    "    def __init__(self, dog_name) :\n",
    "        self.name = dog_name\n",
    "    \n",
    "    # instance method\n",
    "    def say_name(self) :\n",
    "        print(\"My name is\", self.name)"
   ]
  },
  {
   "cell_type": "markdown",
   "metadata": {},
   "source": [
    "The code above gives a description of how to build an object of type `Dog`. An object that conforms to this description is called an **instance** of type `Dog`.\n",
    "\n",
    "Let's explore what we have built. We have defined a general object called `Dog` that describes how to build an **instance** of a dog."
   ]
  },
  {
   "cell_type": "code",
   "execution_count": 4,
   "metadata": {},
   "outputs": [
    {
     "name": "stdout",
     "output_type": "stream",
     "text": [
      "<class '__main__.Dog'>\n",
      "Sam\n",
      "husky\n",
      "My name is Sam\n"
     ]
    }
   ],
   "source": [
    "# create a Dog instance\n",
    "my_dog = Dog('Sam')\n",
    "\n",
    "print(type(my_dog))\n",
    "print(my_dog.name)\n",
    "print(my_dog.breed)\n",
    "\n",
    "my_dog.say_name()"
   ]
  },
  {
   "cell_type": "markdown",
   "metadata": {},
   "source": [
    "Above, when we call `Dog('sam')`, we create a new object of type `Dog`. During this creation, python calls the `__init__()`, which stands for **initialization**.\n",
    "\n",
    "Notice the presence of the `self` variable in the function declaration of `__init__`. The keyword `self` references the object **instance** we have just created and **must be included as the first argument of any instance method**.\n",
    "\n",
    "For example, when in python you write \n",
    "\n",
    "```python\n",
    "a = int('123')\n",
    "```\n",
    "the interpreter creates an type `int` object. At first this object has no value, but right after creation, the `__init__(self, '123')` method for `int` is called. There, `self` points to this new integer object. Inside the `__init__` method, the code decides how to interpret the string `'123'` as an integer and sets the value. After all this is done, the variable name `a` is set to point to the newly created `int` type object with value `123`.\n",
    "\n",
    "In defining the `Dog` class, we have created a `class` object called `Dog` that describes how to build an **instance** of a dog. Just like how `int` describes how to build integers."
   ]
  },
  {
   "cell_type": "markdown",
   "metadata": {},
   "source": [
    "#### Instanced have local attributes\n",
    "\n",
    "The `name` attribute is an example of a local instance attribute. That is, we can create two different objects of type `Dog` with different names."
   ]
  },
  {
   "cell_type": "code",
   "execution_count": 5,
   "metadata": {},
   "outputs": [
    {
     "name": "stdout",
     "output_type": "stream",
     "text": [
      "My dog is named Sam while my other dog is named jack\n",
      "My name is Jack\n",
      "['sit']\n"
     ]
    }
   ],
   "source": [
    "other_dog = Dog('jack')\n",
    "print(\"My dog is named\", my_dog.name,\n",
    "      'while my other dog is named', other_dog.name)\n",
    "\n",
    "# We should probably capitalize the name\n",
    "other_dog.name = 'Jack'\n",
    "other_dog.say_name()\n",
    "\n",
    "# By the way, other_dog knows the same tricks as *all* dogs!\n",
    "print(other_dog.tricks)"
   ]
  },
  {
   "cell_type": "markdown",
   "metadata": {},
   "source": [
    "Notice that above we have **direct access** to the name attribute! Even though the `__init__` method set it to `'jack'`, I redefined it without the object `other_dog` knowing about it."
   ]
  },
  {
   "cell_type": "markdown",
   "metadata": {},
   "source": [
    "#### Class global attributes are shared by everyone\n",
    "The attributes `breed` and `tricks` are **class** variables, which means that if we change them, they changes everywhere."
   ]
  },
  {
   "cell_type": "code",
   "execution_count": 6,
   "metadata": {},
   "outputs": [
    {
     "name": "stdout",
     "output_type": "stream",
     "text": [
      "husky\n",
      "terrier\n",
      "['sit', 'down']\n",
      "['sit', 'down']\n"
     ]
    }
   ],
   "source": [
    "print(my_dog.breed)\n",
    "Dog.breed = 'terrier' # I change the class!\n",
    "print(my_dog.breed) # but the instance chagnes too!\n",
    "\n",
    "# Similarly, ticks can be modified\n",
    "my_dog.tricks.append('down')\n",
    "print(Dog.tricks)\n",
    "print(other_dog.tricks)"
   ]
  },
  {
   "cell_type": "markdown",
   "metadata": {},
   "source": [
    "### Getters, setters, and @property\n",
    "\n",
    "\n",
    "\n"
   ]
  },
  {
   "cell_type": "markdown",
   "metadata": {},
   "source": [
    "One way to \"hide\" instance variables is to use an `_` before the variable name. Additionally, we will always use the `@property` decorator along with getter and setter methods. This also allows you to make certain checks and control what you return. Here is an example,"
   ]
  },
  {
   "cell_type": "code",
   "execution_count": 7,
   "metadata": {},
   "outputs": [],
   "source": [
    "class Dog :\n",
    "    # instance initialization method\n",
    "    def __init__(self, dog_name) :\n",
    "        self.name = dog_name\n",
    "\n",
    "    # Properties\n",
    "    # will be called whenever .name is used\n",
    "    @property\n",
    "    def name(self) :\n",
    "        return self._name\n",
    "    \n",
    "    # will be called whenever .name = value is used\n",
    "    @name.setter\n",
    "    def name(self, dog_name) :\n",
    "        if type(dog_name) is not str :\n",
    "            raise ValueError(\"Dog name must be a string\")\n",
    "        self._name = dog_name.title()\n",
    "    \n",
    "    # instance method\n",
    "    def say_name(self) :\n",
    "        print(\"My name is\", self.name)"
   ]
  },
  {
   "cell_type": "markdown",
   "metadata": {},
   "source": [
    "In the new `Dog` class, whenever we call `.name` we are now using the special function right after the `@property` decorator. As you can see, when setting the name, I am checking the type and case. Let's see how this works."
   ]
  },
  {
   "cell_type": "code",
   "execution_count": 8,
   "metadata": {},
   "outputs": [
    {
     "name": "stdout",
     "output_type": "stream",
     "text": [
      "My name is Sam\n"
     ]
    }
   ],
   "source": [
    "my_dog = Dog('sam')\n",
    "my_dog.say_name()"
   ]
  },
  {
   "cell_type": "code",
   "execution_count": 9,
   "metadata": {},
   "outputs": [
    {
     "ename": "ValueError",
     "evalue": "Dog name must be a string",
     "output_type": "error",
     "traceback": [
      "\u001b[0;31m---------------------------------------------------------------------------\u001b[0m",
      "\u001b[0;31mValueError\u001b[0m                                Traceback (most recent call last)",
      "\u001b[0;32m<ipython-input-9-1a837d6bc8ca>\u001b[0m in \u001b[0;36m<module>\u001b[0;34m()\u001b[0m\n\u001b[0;32m----> 1\u001b[0;31m \u001b[0mmy_dog\u001b[0m\u001b[0;34m.\u001b[0m\u001b[0mname\u001b[0m \u001b[0;34m=\u001b[0m \u001b[0;36m1234\u001b[0m\u001b[0;34m\u001b[0m\u001b[0m\n\u001b[0m",
      "\u001b[0;32m<ipython-input-7-24d9da9b7c38>\u001b[0m in \u001b[0;36mname\u001b[0;34m(self, dog_name)\u001b[0m\n\u001b[1;32m     14\u001b[0m     \u001b[0;32mdef\u001b[0m \u001b[0mname\u001b[0m\u001b[0;34m(\u001b[0m\u001b[0mself\u001b[0m\u001b[0;34m,\u001b[0m \u001b[0mdog_name\u001b[0m\u001b[0;34m)\u001b[0m \u001b[0;34m:\u001b[0m\u001b[0;34m\u001b[0m\u001b[0m\n\u001b[1;32m     15\u001b[0m         \u001b[0;32mif\u001b[0m \u001b[0mtype\u001b[0m\u001b[0;34m(\u001b[0m\u001b[0mdog_name\u001b[0m\u001b[0;34m)\u001b[0m \u001b[0;32mis\u001b[0m \u001b[0;32mnot\u001b[0m \u001b[0mstr\u001b[0m \u001b[0;34m:\u001b[0m\u001b[0;34m\u001b[0m\u001b[0m\n\u001b[0;32m---> 16\u001b[0;31m             \u001b[0;32mraise\u001b[0m \u001b[0mValueError\u001b[0m\u001b[0;34m(\u001b[0m\u001b[0;34m\"Dog name must be a string\"\u001b[0m\u001b[0;34m)\u001b[0m\u001b[0;34m\u001b[0m\u001b[0m\n\u001b[0m\u001b[1;32m     17\u001b[0m         \u001b[0mself\u001b[0m\u001b[0;34m.\u001b[0m\u001b[0m_name\u001b[0m \u001b[0;34m=\u001b[0m \u001b[0mdog_name\u001b[0m\u001b[0;34m.\u001b[0m\u001b[0mtitle\u001b[0m\u001b[0;34m(\u001b[0m\u001b[0;34m)\u001b[0m\u001b[0;34m\u001b[0m\u001b[0m\n\u001b[1;32m     18\u001b[0m \u001b[0;34m\u001b[0m\u001b[0m\n",
      "\u001b[0;31mValueError\u001b[0m: Dog name must be a string"
     ]
    }
   ],
   "source": [
    "my_dog.name = 1234"
   ]
  },
  {
   "cell_type": "markdown",
   "metadata": {},
   "source": [
    "As you see above, when I try to set the name `my_dog.name = 1234`, my `@name.setter` method is called instead of a direct access to a data attribute!\n",
    "\n",
    "Let's look at a slightly more complicated examples. A class that stores the data of a graph."
   ]
  },
  {
   "cell_type": "code",
   "execution_count": 10,
   "metadata": {},
   "outputs": [],
   "source": [
    "class Graph :\n",
    "    def __init__(self, verts, edges) :\n",
    "        self.vertices = verts\n",
    "        self.edges = edges\n",
    "    \n",
    "    @property\n",
    "    def vertices(self) :\n",
    "        # return a *copy* of your internal data\n",
    "        return set(self._vertices)\n",
    "    \n",
    "    @vertices.setter\n",
    "    def vertices(self, verts) :\n",
    "        self._vertices = set(verts)\n",
    "    \n",
    "    @property\n",
    "    def edges(self) :\n",
    "        # return a *copy* of your internal data\n",
    "        return set(self._edges)\n",
    "    \n",
    "    @edges.setter\n",
    "    def edges(self, edges) :\n",
    "        # let's check that edge endpoints are\n",
    "        # in vertices\n",
    "        endpts = set()\n",
    "        for e in edges :\n",
    "            if len(e) != 2 :\n",
    "                raise ValueError(\"Edges must be pairs\")\n",
    "            endpts.update(e)\n",
    "        if not endpts.issubset(self.vertices) :\n",
    "            raise ValueError(\"All edge edpoints must be in vertices\")\n",
    "        self._edges = set(edges)\n",
    "        \n",
    "    def num_components(self) :\n",
    "        \"\"\" Returns the number of connected components. \n",
    "        Note : NOT efficient \"\"\"\n",
    "        # we will start with giving each vertex it's own *cluster*\n",
    "        # as we go through the edges, we will merge clusters\n",
    "        vert_to_clust = { v : {v}   for v in self.vertices }\n",
    "        for v1,v2 in self.edges :\n",
    "            c1 = vert_to_clust[v1]\n",
    "            c2 = vert_to_clust[v2]\n",
    "            if c1 != c2 :\n",
    "                c1.update(c2)\n",
    "                for v in c2 :\n",
    "                    vert_to_clust[v] = c1\n",
    "        # we must now count the distict sets we have\n",
    "        # in vert_to_clust.values(). \n",
    "        clusters = frozenset(map(frozenset,vert_to_clust.values()))\n",
    "        return len(clusters)"
   ]
  },
  {
   "cell_type": "code",
   "execution_count": 11,
   "metadata": {},
   "outputs": [
    {
     "name": "stdout",
     "output_type": "stream",
     "text": [
      "{(0, 1), (2, 1)}\n",
      "{0, 1, 2, 3}\n",
      "--------------------\n",
      "We can still access the internal data, but good\n",
      "        programmers will not accidentally do that!\n",
      "\n",
      "{0, 1, 2, 3}\n",
      "--------------------\n",
      "Notice that we are really returning a copy !\n",
      "\n",
      "4563691560\n",
      "4563691784\n",
      "--------------------\n",
      "We can see how many connected components there are.\n",
      "\n",
      "My graph has 2 connected components.\n"
     ]
    }
   ],
   "source": [
    "my_graph = Graph((0,1,2,3), { (0,1), (2, 1) })\n",
    "print(my_graph.edges)\n",
    "print(my_graph.vertices)\n",
    "\n",
    "print('-'*20)\n",
    "\n",
    "print(\"\"\"We can still access the internal data, but good\n",
    "        programmers will not accidentally do that!\\n\"\"\")\n",
    "print(my_graph._vertices)\n",
    "\n",
    "print('-'*20)\n",
    "\n",
    "print(\"\"\"Notice that we are really returning a copy !\\n\"\"\")\n",
    "print(id(my_graph.vertices))\n",
    "print(id(my_graph._vertices))\n",
    "\n",
    "print('-'*20)\n",
    "\n",
    "print(\"\"\"We can see how many connected components there are.\\n\"\"\")\n",
    "print(\"My graph has\" , my_graph.num_components(), \"connected components.\")"
   ]
  },
  {
   "cell_type": "markdown",
   "metadata": {},
   "source": [
    "### Binary Trees\n",
    "\n",
    "A binary tree is a structure that looks like this :\n",
    "\n",
    "![title](https://upload.wikimedia.org/wikipedia/commons/thumb/d/da/Binary_search_tree.svg/300px-Binary_search_tree.svg.png)\n",
    "\n",
    "Every circle is called a **node** of the tree. Each node as some data stored inside (a number in the above case). Most nodes also have a left and right child node. A nodes that don't have children are called **terminal** nodes. The top node in the image above is called the **root** node. As you can see, the **root** node does not have a **parent**.\n",
    "\n",
    "* **a.** Create a class called `Node`. It should have properties `.parent`, `.left`, `.right`, and `.data`. The `.parent`, `.left` and `.right` properties should again be `Node` instances or `None`. To simulate a node not having children (or a parent) we can set those properties to `None`.\n",
    "\n",
    "Your `__init__` method should be of type\n",
    "```python\n",
    "def __init__(self, data = None, left = None, right = None)\n",
    "```\n",
    "When writing the setter for `.parent`,`.left` and `.right`, be sure to check that the object you are setting are instances of class `Node` or that they are `None`.\n",
    "\n",
    "* **b.** A binary tree can be represented by its starting root node. In fact, given any node, you can read off the (sub)tree below it by looking at its children. Write a module global function called `test_tree` which returns the root node of the binary tree in the above picture.\n",
    "\n",
    "* **c.** Frequently, it is useful to read the data of the tree is a specific oder. Create a **recursive** instance method called `.inorder` which returns a list containing the data of the tree in the following order : \n",
    "\n",
    "![title](https://upload.wikimedia.org/wikipedia/commons/thumb/7/77/Sorted_binary_tree_inorder.svg/336px-Sorted_binary_tree_inorder.svg.png)\n",
    "\n",
    "So, if `my_tree` is the tree in the above image, `my_tree.inorder() = ['A','B',...,'H','I']`"
   ]
  }
 ],
 "metadata": {
  "anaconda-cloud": {},
  "kernelspec": {
   "display_name": "Python 3",
   "language": "python",
   "name": "python3"
  },
  "language_info": {
   "codemirror_mode": {
    "name": "ipython",
    "version": 3
   },
   "file_extension": ".py",
   "mimetype": "text/x-python",
   "name": "python",
   "nbconvert_exporter": "python",
   "pygments_lexer": "ipython3",
   "version": "3.6.5"
  }
 },
 "nbformat": 4,
 "nbformat_minor": 1
}
