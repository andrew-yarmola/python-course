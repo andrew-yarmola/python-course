{
 "cells": [
  {
   "cell_type": "markdown",
   "metadata": {},
   "source": [
    "# Introduction to Programming Lecture 6\n",
    "\n",
    "* Instructor :  Andrew Yarmola [andrew.yarmola@uni.lu](mailto:andrew.yarmola@uni.lu)\n",
    "* Course Schedule : Wednesday 14h00 - 15h30 Campus Kirchberg B21\n",
    "* Course Website : [sites.google.com/site/andrewyarmola/itp-uni-lux](https://sites.google.com/site/andrewyarmola/itp-uni-lux)\n",
    "* Office Hours : Thursday 16h00 - 17h00 Campus Kirchberg G103 and by appointment.\n",
    "\n",
    "## Remarks on homework and questions\n",
    "\n",
    "* Hint for `mod_pow` : keep two varaibles, a result and a value you will repeadedly square\n",
    "* Hint for `probably_prime` : use the Miller-Rabin theorem that 3/4 of the numbers {1,...,n-1} are Miller-Rabin witnesses for composite numbers n\n",
    "* Hint for `Node.inorder` : use recursion!"
   ]
  },
  {
   "cell_type": "markdown",
   "metadata": {},
   "source": [
    "## Generators\n",
    "\n",
    "As I have mentioned before, `map` and `range` objects **generate** the next objects as required instead of computing everything first. For example, I can made huge range objects in a matter of microseconds/nanoseconds, but if I want to make them into a list, it takes much longer."
   ]
  },
  {
   "cell_type": "code",
   "execution_count": 1,
   "metadata": {},
   "outputs": [
    {
     "name": "stdout",
     "output_type": "stream",
     "text": [
      "303 ns ± 16.2 ns per loop (mean ± std. dev. of 7 runs, 1000000 loops each)\n"
     ]
    }
   ],
   "source": [
    "timeit range_object = range(10000000)"
   ]
  },
  {
   "cell_type": "code",
   "execution_count": 2,
   "metadata": {},
   "outputs": [
    {
     "name": "stdout",
     "output_type": "stream",
     "text": [
      "408 ms ± 38.5 ms per loop (mean ± std. dev. of 7 runs, 1 loop each)\n"
     ]
    }
   ],
   "source": [
    "timeit range_list = list(range(10000000))"
   ]
  },
  {
   "cell_type": "markdown",
   "metadata": {},
   "source": [
    "Generators are implemented using the very clever `yield` keyword. Here is an example."
   ]
  },
  {
   "cell_type": "code",
   "execution_count": 3,
   "metadata": {},
   "outputs": [],
   "source": [
    "def natural_numbers() :\n",
    "    \"\"\" Generators all natural numbers starting with 1.\"\"\"\n",
    "    n = 1\n",
    "    while True :\n",
    "        yield n\n",
    "        n += 1"
   ]
  },
  {
   "cell_type": "markdown",
   "metadata": {},
   "source": [
    "The `yield` keyword is similar to `return` but with one key difference. When `return` is executed, the stack frame associated to a function is destroyed and the value returned. When `yield` is executed, the state of the function is frozen, the stack frame kept, and a value returned. When you request the `__next__` value, the execution is resumed and the function runs until the next `yield` statement, if there is one."
   ]
  },
  {
   "cell_type": "code",
   "execution_count": 4,
   "metadata": {},
   "outputs": [
    {
     "name": "stdout",
     "output_type": "stream",
     "text": [
      "1\n",
      "2\n",
      "3\n",
      "4\n",
      "5\n"
     ]
    }
   ],
   "source": [
    "nat_gen = natural_numbers()\n",
    "max_allowed = 5\n",
    "for x in nat_gen :\n",
    "    print(x)\n",
    "    if x >= max_allowed :\n",
    "        break"
   ]
  },
  {
   "cell_type": "code",
   "execution_count": 5,
   "metadata": {},
   "outputs": [
    {
     "name": "stdout",
     "output_type": "stream",
     "text": [
      "6\n",
      "7\n"
     ]
    }
   ],
   "source": [
    "print(next(nat_gen))\n",
    "print(next(nat_gen))"
   ]
  },
  {
   "cell_type": "markdown",
   "metadata": {},
   "source": [
    "If a generators `yield` commands are exhausted, it naturally ends like any iterator (by raising the `StopIteration` exception)."
   ]
  },
  {
   "cell_type": "code",
   "execution_count": 6,
   "metadata": {},
   "outputs": [],
   "source": [
    "def repeat_gen(val, num_times) :\n",
    "    count = 0\n",
    "    while count < num_times :\n",
    "        print(\"Step :\", count)\n",
    "        yield val\n",
    "        count += 1"
   ]
  },
  {
   "cell_type": "code",
   "execution_count": 7,
   "metadata": {},
   "outputs": [
    {
     "name": "stdout",
     "output_type": "stream",
     "text": [
      "Step : 0\n",
      "a\n",
      "Step : 1\n",
      "a\n",
      "Step : 2\n",
      "a\n"
     ]
    }
   ],
   "source": [
    "rp_gen = repeat_gen('a',3)\n",
    "\n",
    "print(next(rp_gen))\n",
    "print(next(rp_gen))\n",
    "print(rp_gen.__next__())"
   ]
  },
  {
   "cell_type": "code",
   "execution_count": 8,
   "metadata": {},
   "outputs": [
    {
     "ename": "StopIteration",
     "evalue": "",
     "output_type": "error",
     "traceback": [
      "\u001b[0;31m---------------------------------------------------------------------------\u001b[0m",
      "\u001b[0;31mStopIteration\u001b[0m                             Traceback (most recent call last)",
      "\u001b[0;32m<ipython-input-8-a1e1c207bcc8>\u001b[0m in \u001b[0;36m<module>\u001b[0;34m()\u001b[0m\n\u001b[0;32m----> 1\u001b[0;31m \u001b[0mnext\u001b[0m\u001b[0;34m(\u001b[0m\u001b[0mrp_gen\u001b[0m\u001b[0;34m)\u001b[0m\u001b[0;34m\u001b[0m\u001b[0m\n\u001b[0m",
      "\u001b[0;31mStopIteration\u001b[0m: "
     ]
    }
   ],
   "source": [
    "next(rp_gen)"
   ]
  },
  {
   "cell_type": "markdown",
   "metadata": {},
   "source": [
    "Here is a generator that generates the Fibonacci sequence"
   ]
  },
  {
   "cell_type": "code",
   "execution_count": 9,
   "metadata": {},
   "outputs": [],
   "source": [
    "def fibonacci() :\n",
    "    \"\"\" A Fibonacci sequence generator. \"\"\"\n",
    "    prev, curr = 0, 1\n",
    "    while True :\n",
    "        yield prev\n",
    "        prev, curr = curr, curr + prev "
   ]
  },
  {
   "cell_type": "code",
   "execution_count": 10,
   "metadata": {},
   "outputs": [
    {
     "name": "stdout",
     "output_type": "stream",
     "text": [
      "F_0 = 0\n",
      "F_1 = 1\n",
      "F_2 = 1\n",
      "F_3 = 2\n",
      "F_4 = 3\n",
      "F_5 = 5\n",
      "F_6 = 8\n",
      "F_7 = 13\n",
      "F_8 = 21\n",
      "F_9 = 34\n"
     ]
    }
   ],
   "source": [
    "fib = fibonacci()\n",
    "for i in range(10) :\n",
    "    print('F_{} = {}'.format(i,next(fib)))"
   ]
  },
  {
   "cell_type": "markdown",
   "metadata": {},
   "source": [
    "Using generators, I can also create a much faster and more efficient randomized Fermat primality test."
   ]
  },
  {
   "cell_type": "code",
   "execution_count": 12,
   "metadata": {},
   "outputs": [
    {
     "name": "stdout",
     "output_type": "stream",
     "text": [
      "False\n",
      "54.6 µs ± 9.78 µs per loop (mean ± std. dev. of 7 runs, 10000 loops each)\n"
     ]
    }
   ],
   "source": [
    "import prime_tests\n",
    "\n",
    "print(prime_tests.satisfies_fermat_fast(2**107+13))\n",
    "%timeit prime_tests.satisfies_fermat_fast(2**107+13)"
   ]
  },
  {
   "cell_type": "code",
   "execution_count": 13,
   "metadata": {},
   "outputs": [
    {
     "name": "stdout",
     "output_type": "stream",
     "text": [
      "True\n",
      "6.74 s ± 1.56 s per loop (mean ± std. dev. of 7 runs, 1 loop each)\n"
     ]
    }
   ],
   "source": [
    "print(prime_tests.satisfies_fermat_fast(2**20+7))\n",
    "%timeit prime_tests.satisfies_fermat_fast(2**20+7)"
   ]
  },
  {
   "cell_type": "markdown",
   "metadata": {},
   "source": [
    "** Exercise.** Write a generator `shuffle_gen(start, stop)` that returns random numbers between `start` and `stop` without repetition. Make sure this works for very large integers. Hint: look up the Fisher-Yates shuffle."
   ]
  },
  {
   "cell_type": "markdown",
   "metadata": {
    "collapsed": true
   },
   "source": [
    "## More on modules and function\n",
    "\n",
    "### Module name aliases and reloading\n",
    "\n",
    "So far we have been loading modules by using `import module_name`. This process **executes all lines of the code in the file `module_name.py`**, creates an object `module_name`, and attaches to this object all the functions defined in `module_name.py` as function attributes and all (module) global variables as data attributes. For example, a file called `module_example.py` with the contents : \n",
    "```python\n",
    "a = 7\n",
    "\n",
    "print(\"Loaded with name :\",__name__)\n",
    "\n",
    "def print_a() :\n",
    "    print(a)\n",
    "    \n",
    "def print_hello() :\n",
    "    print(\"Hello!\")\n",
    "```\n",
    "can be loaded with `import` and has the data attribute `module_example.a` and function attribute `module_example.print_a`."
   ]
  },
  {
   "cell_type": "code",
   "execution_count": 14,
   "metadata": {},
   "outputs": [
    {
     "name": "stdout",
     "output_type": "stream",
     "text": [
      "Loaded with name : module_example\n",
      "----------\n",
      "7\n",
      "<function print_a at 0x114da1f28>\n",
      "7\n"
     ]
    }
   ],
   "source": [
    "import module_example\n",
    "print('-'*10)\n",
    "print(module_example.a)\n",
    "print(module_example.print_a)\n",
    "module_example.print_a()"
   ]
  },
  {
   "cell_type": "markdown",
   "metadata": {
    "collapsed": true
   },
   "source": [
    "As you can see above, the module as a global `__name__` variable. The global variable `__name__` is set to the filename when a module is imported. Later, when we learn to use out modules as **scripts**, the varaible `__name__` will become more important.\n",
    "\n",
    "One thing we can do is create an **alias** for the module object by importing as follows."
   ]
  },
  {
   "cell_type": "code",
   "execution_count": 15,
   "metadata": {},
   "outputs": [
    {
     "name": "stdout",
     "output_type": "stream",
     "text": [
      "----------\n",
      "7\n",
      "<function print_a at 0x114da1f28>\n",
      "7\n"
     ]
    }
   ],
   "source": [
    "import module_example as me\n",
    "print('-'*10)\n",
    "print(me.a)\n",
    "print(me.print_a)\n",
    "me.print_a()"
   ]
  },
  {
   "cell_type": "markdown",
   "metadata": {},
   "source": [
    "**Calling `import` twice on a module that is already loaded, does not reload it**. You may have noticed that `print(\"Loaded with name :\",__name__)` didn't run again in the above code. Therefore, if you have made changes to your file and want to update the module in your interpreter, you will need to use the `importlib` module."
   ]
  },
  {
   "cell_type": "code",
   "execution_count": 16,
   "metadata": {},
   "outputs": [
    {
     "name": "stdout",
     "output_type": "stream",
     "text": [
      "Loaded with name : module_example\n"
     ]
    },
    {
     "data": {
      "text/plain": [
       "<module 'module_example' from '/Users/yarmola/Teaching/python-course/lectures/week-6/module_example.py'>"
      ]
     },
     "execution_count": 16,
     "metadata": {},
     "output_type": "execute_result"
    }
   ],
   "source": [
    "import importlib as impl\n",
    "impl.reload(me)"
   ]
  },
  {
   "cell_type": "markdown",
   "metadata": {},
   "source": [
    "Sometimes you only need only a few functions from a module (say you want to use `math.log` in your code). You can use the `from module_name import attribute_name` format. For example, "
   ]
  },
  {
   "cell_type": "code",
   "execution_count": 17,
   "metadata": {},
   "outputs": [
    {
     "name": "stdout",
     "output_type": "stream",
     "text": [
      "4.0943445622221\n",
      "-0.3048106211022167\n"
     ]
    }
   ],
   "source": [
    "from math import log, sin\n",
    "# We now have a function named log loaded from\n",
    "# the math module\n",
    "print(log(60))\n",
    "print(sin(60))"
   ]
  },
  {
   "cell_type": "markdown",
   "metadata": {},
   "source": [
    "### Function arguments \\* and \\*\\* notation\n",
    "\n",
    "In python, it is possible to have function that takes arbitrarily many arguments. For example, we can call `map` in many different ways. "
   ]
  },
  {
   "cell_type": "code",
   "execution_count": 18,
   "metadata": {},
   "outputs": [
    {
     "name": "stdout",
     "output_type": "stream",
     "text": [
      "[4, 10, 18, 28, 40]\n",
      "[36, 80, 126]\n"
     ]
    }
   ],
   "source": [
    "def mult_2(a,b) :\n",
    "    return a*b\n",
    "\n",
    "def mult_3(a,b,c) :\n",
    "    return a*b*c\n",
    "\n",
    "a = [1,2,3,4,5]\n",
    "b = [4,5,6,7,8,9]\n",
    "c = [9,8,7]\n",
    "\n",
    "map_mult_2 = map(mult_2,a,b)\n",
    "map_mult_3 = map(mult_3,a,b,c)\n",
    "\n",
    "print(list(map_mult_2))\n",
    "print(list(map_mult_3))"
   ]
  },
  {
   "cell_type": "markdown",
   "metadata": {},
   "source": [
    "#### Defining functions with `*`-notation\n",
    "You can define functions with this behavior yourself using the `*`-notation. Here is an example"
   ]
  },
  {
   "cell_type": "code",
   "execution_count": 19,
   "metadata": {
    "scrolled": true
   },
   "outputs": [
    {
     "name": "stdout",
     "output_type": "stream",
     "text": [
      "(1, 2, 3, 4, 5)\n",
      "1\n",
      "2\n",
      "3\n",
      "4\n",
      "5\n",
      "----------\n",
      "('x', 'y', 'z')\n",
      "x\n",
      "y\n",
      "z\n"
     ]
    }
   ],
   "source": [
    "def print_args(*args) :\n",
    "    # Now the variable args contains a list of\n",
    "    # the input arguments!\n",
    "    print(args)\n",
    "    for a in args :\n",
    "        print(a)\n",
    "        \n",
    "print_args(1,2,3,4,5)\n",
    "print('-'*10)\n",
    "print_args('x','y','z')"
   ]
  },
  {
   "cell_type": "markdown",
   "metadata": {},
   "source": [
    "You can also combine this with placement and keyword/optional arguments. For example,"
   ]
  },
  {
   "cell_type": "code",
   "execution_count": 20,
   "metadata": {},
   "outputs": [
    {
     "name": "stdout",
     "output_type": "stream",
     "text": [
      "x 3 y\n",
      "x 4 y\n",
      "x a y\n",
      "x k y\n",
      "----------\n",
      "x 3 None\n",
      "x 4 None\n",
      "----------\n",
      "x 3 None\n",
      "x 4 None\n",
      "x y None\n"
     ]
    }
   ],
   "source": [
    "def print_fancy_args(prefix, *data, suffix = None) :\n",
    "    for a in data :\n",
    "        print(prefix, a, suffix)\n",
    "        \n",
    "\n",
    "print_fancy_args('x',3,4,'a', 'k', suffix = 'y')\n",
    "print('-'*10)\n",
    "# Notice what happens when I don't use a keyword\n",
    "print_fancy_args('x',3,4)\n",
    "print('-'*10)\n",
    "# Notice what happens when I don't use a keyword\n",
    "print_fancy_args('x',3,4,'y')"
   ]
  },
  {
   "cell_type": "markdown",
   "metadata": {},
   "source": [
    "* **Warning :** In a previous lecture I forgot to mention that keyword/optional arguments must come **after all positional arguments**. This remains true for `*`-notation."
   ]
  },
  {
   "cell_type": "markdown",
   "metadata": {},
   "source": [
    "#### Unpacking data using `*` notation\n",
    "You can also use `*`-notation to **unpack** return values of function (or any tuple). For example,"
   ]
  },
  {
   "cell_type": "code",
   "execution_count": 21,
   "metadata": {},
   "outputs": [
    {
     "name": "stdout",
     "output_type": "stream",
     "text": [
      "(4, 10, 18, 28, 40)\n",
      "4\n",
      "10\n",
      "[18, 28]\n",
      "40\n"
     ]
    }
   ],
   "source": [
    "print(tuple(map(mult_2,a,b)))\n",
    "first, second, *middle, last = tuple(map(mult_2,a,b))\n",
    "print(first)\n",
    "print(second)\n",
    "print(middle)\n",
    "print(last)"
   ]
  },
  {
   "cell_type": "markdown",
   "metadata": {},
   "source": [
    "#### Calling functions using `*` notation\n",
    "\n",
    "We can also pass an iterable object as arguments to a function by using the `*`-notation. For example,"
   ]
  },
  {
   "cell_type": "code",
   "execution_count": 22,
   "metadata": {},
   "outputs": [
    {
     "name": "stdout",
     "output_type": "stream",
     "text": [
      "8\n"
     ]
    }
   ],
   "source": [
    "d = [2,4]\n",
    "print(mult_2(*d))"
   ]
  },
  {
   "cell_type": "code",
   "execution_count": 23,
   "metadata": {},
   "outputs": [
    {
     "name": "stdout",
     "output_type": "stream",
     "text": [
      "(36, 80, 126)\n"
     ]
    }
   ],
   "source": [
    "map_over = (a,b,c)\n",
    "result = map(mult_3,*map_over) # same as map(mult_3,a,b,c)\n",
    "print(tuple(result))"
   ]
  },
  {
   "cell_type": "markdown",
   "metadata": {},
   "source": [
    "#### Defining functions with `**`-notation\n",
    "\n",
    "It is also possible to group together keyword/optional arguments into a dictionary object. Here is an example,"
   ]
  },
  {
   "cell_type": "code",
   "execution_count": 24,
   "metadata": {},
   "outputs": [
    {
     "name": "stdout",
     "output_type": "stream",
     "text": [
      "1\n",
      "2\n",
      "(3, 4, 5)\n",
      "something\n",
      "{'b': 'x', 'a': 'y', 'c': 'z'}\n"
     ]
    }
   ],
   "source": [
    "def print_args(req1,req2,*pos_rest, kw1 = None, **kwd_rest) :\n",
    "        print(req1)\n",
    "        print(req2)\n",
    "        print(pos_rest)\n",
    "        print(kw1)\n",
    "        print(kwd_rest)\n",
    "\n",
    "print_args(1,2,3,4,5, kw1 = 'something', b = 'x', a = 'y', c = 'z')"
   ]
  },
  {
   "cell_type": "markdown",
   "metadata": {},
   "source": [
    "The `**kwargs` must always come **after** `*args`, as with positional and keyword arguments in general."
   ]
  },
  {
   "cell_type": "markdown",
   "metadata": {},
   "source": [
    "#### Calling functions using `**` notation\n",
    "\n",
    "We can also pass a dictionary object with **string** keys as arguments to a function by using the `**`-notation. For example,"
   ]
  },
  {
   "cell_type": "code",
   "execution_count": 25,
   "metadata": {},
   "outputs": [
    {
     "name": "stdout",
     "output_type": "stream",
     "text": [
      "6\n"
     ]
    }
   ],
   "source": [
    "def mult_2(a = 0, b = 0) :\n",
    "    return a*b\n",
    "\n",
    "d = { 'a' : 2, 'b' :3 }\n",
    "\n",
    "print(mult_2(**d))"
   ]
  },
  {
   "cell_type": "code",
   "execution_count": 26,
   "metadata": {},
   "outputs": [
    {
     "name": "stdout",
     "output_type": "stream",
     "text": [
      "something 10 18\n"
     ]
    }
   ],
   "source": [
    "def print_stuff(x, s = None, c = None) :\n",
    "    print(x,s,c)\n",
    "\n",
    "d = { 's' : 10, 'c' : 18 }\n",
    "\n",
    "print_stuff('something', **d)"
   ]
  },
  {
   "cell_type": "markdown",
   "metadata": {},
   "source": [
    "## Input and Output\n",
    "\n",
    "One important aspect of programming that we haven't talked about is how to interact with the user and with data. At our level, user interaction will mostly consist of command line arguments and reading and writing data. We will build baisc graphical user interfaces towrads the end of the course.\n",
    "\n",
    "### Interactive input\n",
    "\n",
    "Simple interactive input can be a fun was to get started with use input. However, it is **not a common method used by programmers and researches**.\n",
    "\n",
    "The basic interactive input technique is \n",
    "```python\n",
    "user_in = input(\"Type in a number :\")\n",
    "# user_in will the a *str* containing the user text up until\n",
    "# a new line character (i.e. the user hits ENTER)\n",
    "a = int(user_in) # if we want an integer, we need to convert\n",
    "```"
   ]
  },
  {
   "cell_type": "code",
   "execution_count": 27,
   "metadata": {},
   "outputs": [
    {
     "name": "stdout",
     "output_type": "stream",
     "text": [
      "Type in a number : 5\n",
      "You entered the number :  5\n"
     ]
    }
   ],
   "source": [
    "user_in = input(\"Type in a number : \")\n",
    "a = int(user_in)\n",
    "print(\"You entered the number : \", a)"
   ]
  },
  {
   "cell_type": "markdown",
   "metadata": {},
   "source": [
    "**If you do not want a you code to crash, you should use a `try` blocks to encapsulate interactive user input!**"
   ]
  },
  {
   "cell_type": "code",
   "execution_count": 28,
   "metadata": {},
   "outputs": [
    {
     "name": "stdout",
     "output_type": "stream",
     "text": [
      "Type a sequence of integers : 1,2,3,4\n",
      "1,2,3,4\n",
      "['1', '2', '3', '4']\n",
      "<map object at 0x1108eecf8>\n",
      "You entered the list :  [1, 2, 3, 4]\n"
     ]
    }
   ],
   "source": [
    "try :\n",
    "    list_str = input(\"Type a sequence of integers : \")\n",
    "    print(list_str)\n",
    "    ints = list_str.split(',')\n",
    "    print(ints)\n",
    "    ints = map(int, ints)\n",
    "    print(ints)\n",
    "    print(\"You entered the list : \", list(ints))\n",
    "except :\n",
    "    print(\"Please enter a sequence of integers separated by commas.\")"
   ]
  },
  {
   "cell_type": "markdown",
   "metadata": {},
   "source": [
    "### Reading files\n",
    "\n",
    "We can use the `open` command to open (text) files to read line by line. For example, say I have a file called `some_manifold_data.csv` in my current working directory, then I can read it as follows."
   ]
  },
  {
   "cell_type": "code",
   "execution_count": 31,
   "metadata": {},
   "outputs": [
    {
     "name": "stdout",
     "output_type": "stream",
     "text": [
      "s776,GGmgMNggMGmn\n",
      "\n",
      "s776,GGmgNggMGn\n",
      "\n",
      "s780,GGmgMGmnGMgm\n",
      "\n",
      "s776,GGMgNggmGn\n",
      "\n",
      "s774,GGmnGmGmnGGn\n",
      "\n",
      "s647,GGMGGMgNgM\n",
      "\n",
      "s780,GMgNgMGmgMgm\n",
      "\n",
      "s785,GGmgNgmGGmn\n",
      "\n",
      "s774,GGMnGGnGmGn\n",
      "\n",
      "s785,GGMgNgMgNgM\n",
      "\n",
      "s782,GGGMgMNgMNgM\n",
      "\n"
     ]
    }
   ],
   "source": [
    "file_handle = open('/Users/yarmola/Teaching/python-course/lectures/week-6/some_manifold_data.csv','r')\n",
    "for line in file_handle :\n",
    "    print(line)\n",
    "\n",
    "file_handle.close()"
   ]
  },
  {
   "cell_type": "markdown",
   "metadata": {},
   "source": [
    "We will mostly focus on reading and writing **text** files. In the above command works as `open(path_to_file, mode)`, where the `path_to_file` **must include the file extension**! The `path_to_file` can be a global path or a path **relative to your current working directory**. My current working directory is `/Users/yarmola/Teaching/python-course/lectures/week-6/`, so in the future, I will open this file with just the filename.\n",
    "\n",
    "We can also use other methods to read the text data.\n",
    "\n",
    "* `file_handle.read()` returns the **whole** content of the file as a string\n",
    "* `file_handle.read(size)` return the at most (the first) `size` characters (or bytes) of the file\n",
    "* `file_handle.readline()` returns the whole next line, including the end of line character\n",
    "* `list(file_handle)` or `file_handle.readlines()` returns a list of all the lines in the file"
   ]
  },
  {
   "cell_type": "code",
   "execution_count": 32,
   "metadata": {},
   "outputs": [],
   "source": [
    "file_handle = open('some_manifold_data.csv','r')"
   ]
  },
  {
   "cell_type": "code",
   "execution_count": 33,
   "metadata": {},
   "outputs": [
    {
     "data": {
      "text/plain": [
       "'s776,GGmgMNggMGmn\\n'"
      ]
     },
     "execution_count": 33,
     "metadata": {},
     "output_type": "execute_result"
    }
   ],
   "source": [
    "file_handle.readline()"
   ]
  },
  {
   "cell_type": "code",
   "execution_count": 34,
   "metadata": {},
   "outputs": [],
   "source": [
    "# you should always close your file once you\n",
    "# are done using it!\n",
    "file_handle.close()"
   ]
  },
  {
   "cell_type": "markdown",
   "metadata": {},
   "source": [
    "The `\\n` above is the new line/end of line character. On windows you might also see `\\r` used as a new line character. In text files, these characters are invisible and are inserted into the text whenever you hit ENTER to go to a new line. Above, when we were reading the file in a `for` loop, our output was separated by blank lines precisely because `print` always starts on a new line, but it was also printing the tailing new line character from out read `line`.\n",
    "\n",
    "To get rid of of the new line character in a newly read string, we can use `.rstrip()` or `.rstrip('\\n')`"
   ]
  },
  {
   "cell_type": "code",
   "execution_count": 35,
   "metadata": {},
   "outputs": [
    {
     "name": "stdout",
     "output_type": "stream",
     "text": [
      "----------\n",
      "\n",
      "\n",
      "----------\n"
     ]
    }
   ],
   "source": [
    "print('-'*10)\n",
    "print('\\n')\n",
    "print('-'*10)"
   ]
  },
  {
   "cell_type": "code",
   "execution_count": 36,
   "metadata": {},
   "outputs": [
    {
     "name": "stdout",
     "output_type": "stream",
     "text": [
      "['s776', 'GGmgMNggMGmn']\n",
      "['s776', 'GGmgNggMGn']\n",
      "['s780', 'GGmgMGmnGMgm']\n",
      "['s776', 'GGMgNggmGn']\n",
      "['s774', 'GGmnGmGmnGGn']\n",
      "['s647', 'GGMGGMgNgM']\n",
      "['s780', 'GMgNgMGmgMgm']\n",
      "['s785', 'GGmgNgmGGmn']\n",
      "['s774', 'GGMnGGnGmGn']\n",
      "['s785', 'GGMgNgMgNgM']\n",
      "['s782', 'GGGMgMNgMNgM']\n"
     ]
    }
   ],
   "source": [
    "file_handle = open('some_manifold_data.csv','r')\n",
    "data = []\n",
    "for line in file_handle :\n",
    "    clean_line = line.rstrip()\n",
    "    fields = clean_line.split(',')\n",
    "    data.append(fields)\n",
    "file_handle.close()\n",
    "\n",
    "# prints each element of data\n",
    "# separated by a new line character\n",
    "print(*data, sep = '\\n')"
   ]
  },
  {
   "cell_type": "markdown",
   "metadata": {},
   "source": [
    "When you read a file, the file object returned by `open` will keep track of its position in the file. You can view and change this position by using\n",
    "\n",
    "* `file_handle.tell()` returns an integer giving the current position in the file counted by the number of characters (or bytes) from the beginning of the file\n",
    "* `file_handle.seek(offset)` changes the current position in the file by moving `offset` number of characters from the beginning"
   ]
  },
  {
   "cell_type": "code",
   "execution_count": 37,
   "metadata": {},
   "outputs": [
    {
     "name": "stdout",
     "output_type": "stream",
     "text": [
      "mnGGn\n",
      "s647,GGMGGMgNgM\n",
      "s780,GMgNgMGmgMgm\n",
      "s785,GGmgNgmGGmn\n",
      "s774,GGMnGGnGmGn\n",
      "s785,GGMgNgMgNgM\n",
      "s782,GGGMgMNgMNgM\n",
      "\n"
     ]
    }
   ],
   "source": [
    "file_handle = open('some_manifold_data.csv','r')\n",
    "file_handle.seek(80) # move to 80 characters from beginning\n",
    "print(file_handle.read())\n",
    "file_handle.close()"
   ]
  },
  {
   "cell_type": "markdown",
   "metadata": {},
   "source": [
    "### Writing files\n",
    "\n",
    "Writing files is a slightly more dangerous operation as you can accidentally write over a file or completely erase it. To open a file for writing, we use the `open(path_to_file, mode)` command again, but here the `mode` parameter will be different.\n",
    "\n",
    "Here are all the `mode` parameter options.\n",
    "\n",
    "* `'r'` open for reading (default)\n",
    "* `'w'`\topen for writing, **ERASING** the file first\n",
    "* `'x'` open for exclusive creation, failing if the file already exists\n",
    "* `'a'` open for writing, appending to the end of the file if it exists\n",
    "* `'b'` binary mode\n",
    "* `'t'`\ttext mode (default)\n",
    "* `'+'`\topen a disk file for updating (reading and writing)\n",
    "\n",
    "If you are creating a **new** file that shouldn't already exist, use the `'x'` option to write it."
   ]
  },
  {
   "cell_type": "code",
   "execution_count": 38,
   "metadata": {},
   "outputs": [
    {
     "name": "stdout",
     "output_type": "stream",
     "text": [
      "699\n",
      "826\n",
      "908\n",
      "236\n",
      "609\n",
      "\n"
     ]
    }
   ],
   "source": [
    "import random\n",
    "\n",
    "random_ints = random.sample(range(1000), 5)\n",
    "# if I change the 'x' to a 'w' this will overwrite the\n",
    "# file everytime I run this code\n",
    "file_handle = open('random_numbers.txt','x')\n",
    "for i in random_ints :\n",
    "    file_handle.write(str(i)+'\\n')\n",
    "file_handle.close()\n",
    "\n",
    "f = open('random_numbers.txt','r')\n",
    "print(f.read())"
   ]
  },
  {
   "cell_type": "code",
   "execution_count": 39,
   "metadata": {},
   "outputs": [
    {
     "name": "stdout",
     "output_type": "stream",
     "text": [
      "699\n",
      "826\n",
      "908\n",
      "236\n",
      "609\n",
      "82\n",
      "176\n",
      "384\n",
      "191\n",
      "838\n",
      "\n"
     ]
    }
   ],
   "source": [
    "random_ints = random.sample(range(1000), 5)\n",
    "file_handle = open('random_numbers.txt','a')\n",
    "for i in random_ints :\n",
    "    file_handle.write(str(i)+'\\n')\n",
    "file_handle.close()\n",
    "\n",
    "f = open('random_numbers.txt','r')\n",
    "print(f.read())"
   ]
  },
  {
   "cell_type": "markdown",
   "metadata": {},
   "source": [
    "The final three modes `'b', 't', '+'` are modifier modes. For example, to read a binary file, you would use the mode `'rb'`, to write a `'xb'`, etc.\n",
    "\n",
    "The `'+'` mode modifies allows for simultaneous reading and writing with, for example, the `'r+'` mode. However, I do **not recommend** using this mode unless you really really have to. It can also behave differently on windows and unix systems."
   ]
  },
  {
   "cell_type": "code",
   "execution_count": 40,
   "metadata": {},
   "outputs": [
    {
     "name": "stdout",
     "output_type": "stream",
     "text": [
      "b'699\\n826\\n908\\n236\\n609\\n'\n"
     ]
    }
   ],
   "source": [
    "# open the file as binary\n",
    "file_handle = open('random_numbers.txt','rb')\n",
    "# read the first 20 bytes and\n",
    "# print them *interpreted as a string!*\n",
    "print(file_handle.read(20))\n",
    "file_handle.close()"
   ]
  },
  {
   "cell_type": "markdown",
   "metadata": {},
   "source": [
    "### Saving python data\n",
    "\n",
    "It may happen that you want to save some python list of dictionary for later use. This can be accomplished by using the `repr` and `eval` commands in conjunction.\n",
    "* `repr(object)` (tries to) returns a string representation of an object\n",
    "* `eval(string)` (tries to) evaluate `string` as a string representation of an object and returns the object"
   ]
  },
  {
   "cell_type": "code",
   "execution_count": 41,
   "metadata": {},
   "outputs": [
    {
     "name": "stdout",
     "output_type": "stream",
     "text": [
      "{'1': {3.6893488147419103e+19: ['some', 'bad', 'example', 'here']}}\n"
     ]
    }
   ],
   "source": [
    "a = {float(2**65) : 'some bad example here'.split()}\n",
    "x = {'1' : a }\n",
    "print(repr(x))"
   ]
  },
  {
   "cell_type": "code",
   "execution_count": 42,
   "metadata": {},
   "outputs": [
    {
     "name": "stdout",
     "output_type": "stream",
     "text": [
      "True\n"
     ]
    }
   ],
   "source": [
    "y = eval(repr(x))\n",
    "print(y == x)"
   ]
  },
  {
   "cell_type": "markdown",
   "metadata": {},
   "source": [
    "You can now save python `repr` data to a file and load it later."
   ]
  },
  {
   "cell_type": "markdown",
   "metadata": {},
   "source": [
    "### Writing and reading json data\n",
    "\n",
    "A better and more portable way to store list, dictionary, or other text data is to use a file format called **json**. It is used widely in web development, server configurations, and data messaging. This file format is very similar to a python dictionary."
   ]
  },
  {
   "cell_type": "code",
   "execution_count": 43,
   "metadata": {},
   "outputs": [
    {
     "name": "stdout",
     "output_type": "stream",
     "text": [
      "{\"1\": {\"3.6893488147419103e+19\": [\"some\", \"bad\", \"example\", \"here\"]}}\n",
      "{\"3.6893488147419103e+19\": [\"some\", \"bad\", \"example\", \"here\"]}\n"
     ]
    }
   ],
   "source": [
    "import json\n",
    "\n",
    "# show the json representaion of an object\n",
    "print(json.dumps(x))\n",
    "print(json.dumps(a))"
   ]
  },
  {
   "cell_type": "markdown",
   "metadata": {},
   "source": [
    "Notice the quotation marks around the data. We can also write straight to a file"
   ]
  },
  {
   "cell_type": "code",
   "execution_count": 44,
   "metadata": {},
   "outputs": [],
   "source": [
    "file_handle = open('json_data.json', 'x')\n",
    "json.dump(x, file_handle)\n",
    "file_handle.close()"
   ]
  },
  {
   "cell_type": "markdown",
   "metadata": {},
   "source": [
    "We can then `json.load(file_handle)` to get our data back!"
   ]
  },
  {
   "cell_type": "code",
   "execution_count": 45,
   "metadata": {},
   "outputs": [
    {
     "name": "stdout",
     "output_type": "stream",
     "text": [
      "{'1': {'3.6893488147419103e+19': ['some', 'bad', 'example', 'here']}}\n"
     ]
    }
   ],
   "source": [
    "fp = open('json_data.json','r')\n",
    "data = json.load(fp)\n",
    "fp.close()\n",
    "\n",
    "print(data)"
   ]
  },
  {
   "cell_type": "markdown",
   "metadata": {},
   "source": [
    "Note : we will talk about how to check if a file exists, move, rename, and delete files and directories in the next lecture."
   ]
  }
 ],
 "metadata": {
  "anaconda-cloud": {},
  "kernelspec": {
   "display_name": "Python 3",
   "language": "python",
   "name": "python3"
  },
  "language_info": {
   "codemirror_mode": {
    "name": "ipython",
    "version": 3
   },
   "file_extension": ".py",
   "mimetype": "text/x-python",
   "name": "python",
   "nbconvert_exporter": "python",
   "pygments_lexer": "ipython3",
   "version": "3.6.5"
  }
 },
 "nbformat": 4,
 "nbformat_minor": 1
}
