{
 "cells": [
  {
   "cell_type": "markdown",
   "metadata": {},
   "source": [
    "# Introduction to Programming Lecture 3\n",
    "* Instructor :  Andrew Yarmola [andrew.yarmola@uni.lu](mailto:andrew.yarmola@uni.lu)\n",
    "* Course Schedule : Wednesday 14h00 - 15h30 Campus Kirchberg B21\n",
    "* Course Website : [sites.google.com/site/andrewyarmola/itp-uni-lux](https://sites.google.com/site/andrewyarmola/itp-uni-lux)\n",
    "* Office Hours : Thursday 16h00 - 17h00 Campus Kirchberg G103 and by appointment.\n",
    "\n",
    "## Remarks on homework and questions\n",
    "\n",
    "### Permutations\n",
    "\n",
    "This appears to have been the most challenging question. Recall that a permutation is a bijection $f : \\{0, \\ldots, n-1\\} \\to \\{0,\\ldots, n-1 \\}$. To a python tuple $a = (a_0, \\ldots, a_{n-1})$ we a assign the permutation $f_a(i) = a[i] = a_i$. \n",
    "\n",
    "Here is my take on how to do the homework problem."
   ]
  },
  {
   "cell_type": "code",
   "execution_count": 1,
   "metadata": {},
   "outputs": [],
   "source": [
    "def is_perm(p) :\n",
    "    # go through the numbers x = 0, ..., len(p)-1\n",
    "    for x in range(len(p)) :\n",
    "        # p is permutation if and only if each\n",
    "        # x appears in p (i.e. f_p is surjective)\n",
    "        if x not in p :\n",
    "            return False\n",
    "    return True\n",
    "\n",
    "def compose(a,b) :\n",
    "    # If a or b are not permutations or if they are\n",
    "    # permutations of different length, we return the empty tuple\n",
    "    if not is_perm(a) or not is_perm(b) or len(a) != len(b) :\n",
    "        return ()\n",
    "    # we can compose two permtuations as if they were functions\n",
    "    result = [ b[a[i]] for i in range(len(a)) ]\n",
    "\n",
    "    # we must return a tuple!\n",
    "    return tuple(result)\n",
    "\n",
    "# Remark :\n",
    "# List comprehension is the same thing as a for loop. The code :\n",
    "# \n",
    "# result = [ b[a[i]] for i in range(len(a)) ]\n",
    "# \n",
    "# is the same thing as the code \n",
    "#\n",
    "# result = []\n",
    "# for i in range(len(a)) :\n",
    "#     result.append(b[a[i]])\n",
    "#"
   ]
  },
  {
   "cell_type": "markdown",
   "metadata": {},
   "source": [
    "Notice that I reuse my previous functions! I do not rewrite `is_perm` inside of `compose`, I just call it."
   ]
  },
  {
   "cell_type": "markdown",
   "metadata": {},
   "source": [
    "#### Remarks on input\n",
    "\n",
    "Notice that `is_perm` takes **one** argument, which is assumed to be a tuple. So when I call the function, I should give it one argument as a tuple. The second function, `compose` takes **two** arguments where each argument is a tuple."
   ]
  },
  {
   "cell_type": "code",
   "execution_count": 2,
   "metadata": {},
   "outputs": [
    {
     "data": {
      "text/plain": [
       "True"
      ]
     },
     "execution_count": 2,
     "metadata": {},
     "output_type": "execute_result"
    }
   ],
   "source": [
    "is_perm((1,2,0,3))"
   ]
  },
  {
   "cell_type": "code",
   "execution_count": 3,
   "metadata": {},
   "outputs": [
    {
     "ename": "TypeError",
     "evalue": "is_perm() takes 1 positional argument but 4 were given",
     "output_type": "error",
     "traceback": [
      "\u001b[0;31m---------------------------------------------------------------------------\u001b[0m",
      "\u001b[0;31mTypeError\u001b[0m                                 Traceback (most recent call last)",
      "\u001b[0;32m<ipython-input-3-bf8cb62a9e97>\u001b[0m in \u001b[0;36m<module>\u001b[0;34m()\u001b[0m\n\u001b[0;32m----> 1\u001b[0;31m \u001b[0mis_perm\u001b[0m\u001b[0;34m(\u001b[0m\u001b[0;36m1\u001b[0m\u001b[0;34m,\u001b[0m\u001b[0;36m2\u001b[0m\u001b[0;34m,\u001b[0m\u001b[0;36m0\u001b[0m\u001b[0;34m,\u001b[0m\u001b[0;36m3\u001b[0m\u001b[0;34m)\u001b[0m \u001b[0;31m# this is giving the function 4 arguments!\u001b[0m\u001b[0;34m\u001b[0m\u001b[0m\n\u001b[0m",
      "\u001b[0;31mTypeError\u001b[0m: is_perm() takes 1 positional argument but 4 were given"
     ]
    }
   ],
   "source": [
    "is_perm(1,2,0,3) # this is giving the function 4 arguments!"
   ]
  },
  {
   "cell_type": "markdown",
   "metadata": {},
   "source": [
    "#### Remarks on output\n",
    "\n",
    "The output of your function should be a **consistent** type. It is **not** advisable to return error strings if there is a problem with the input."
   ]
  },
  {
   "cell_type": "code",
   "execution_count": 4,
   "metadata": {},
   "outputs": [],
   "source": [
    "def is_square(n) :\n",
    "    if type(n) is not int :\n",
    "        # Do not do this! Clearly the function should only\n",
    "        # return a boolean value!\n",
    "        return \"Error, need to provide integer\"\n",
    "    else :\n",
    "        for x in range(n) :\n",
    "            if x**2 == n :\n",
    "                return True\n",
    "            elif x**2 > n :\n",
    "                return False\n",
    "    return False # Why do I need this here?"
   ]
  },
  {
   "cell_type": "markdown",
   "metadata": {},
   "source": [
    "Also, if your function is supposed to return something, **don't** `print` it, `return` it! When you call `return` you actually provide the output object, it you just print the answer, you can't pass it to the rest of your code."
   ]
  },
  {
   "cell_type": "code",
   "execution_count": 5,
   "metadata": {},
   "outputs": [
    {
     "name": "stdout",
     "output_type": "stream",
     "text": [
      "6 is not a square\n"
     ]
    }
   ],
   "source": [
    "six_is_a_square = is_square(6)\n",
    "if not six_is_a_square :\n",
    "    print(\"6 is not a square\")"
   ]
  },
  {
   "cell_type": "markdown",
   "metadata": {},
   "source": [
    "### Be lazy\n",
    "\n",
    "Don't re-implement if you can re-use (or make use of). For example, many of you wrote the `bits_needed` function from scratch. That's great. However, you can be lazy!"
   ]
  },
  {
   "cell_type": "code",
   "execution_count": 6,
   "metadata": {},
   "outputs": [],
   "source": [
    "def bits_needed(n) :\n",
    "    if n == 0 :\n",
    "        return 1\n",
    "    else :\n",
    "        return len('{0:+b}'.format(n))"
   ]
  },
  {
   "cell_type": "code",
   "execution_count": 7,
   "metadata": {},
   "outputs": [
    {
     "data": {
      "text/plain": [
       "'-1010'"
      ]
     },
     "execution_count": 7,
     "metadata": {},
     "output_type": "execute_result"
    }
   ],
   "source": [
    "# Recall that b is the format for binary and\n",
    "# the + means always print a sign\n",
    "'{0:+b}'.format(-10)"
   ]
  },
  {
   "cell_type": "markdown",
   "metadata": {},
   "source": [
    "You can also see if there is some built-in function that gives you binary representations. As it turns out, there is!"
   ]
  },
  {
   "cell_type": "code",
   "execution_count": 8,
   "metadata": {},
   "outputs": [
    {
     "name": "stdout",
     "output_type": "stream",
     "text": [
      "Help on built-in function bin in module builtins:\n",
      "\n",
      "bin(number, /)\n",
      "    Return the binary representation of an integer.\n",
      "    \n",
      "    >>> bin(2796202)\n",
      "    '0b1010101010101010101010'\n",
      "\n"
     ]
    }
   ],
   "source": [
    "help(bin)"
   ]
  },
  {
   "cell_type": "code",
   "execution_count": 9,
   "metadata": {},
   "outputs": [
    {
     "data": {
      "text/plain": [
       "'-0b1010'"
      ]
     },
     "execution_count": 9,
     "metadata": {},
     "output_type": "execute_result"
    }
   ],
   "source": [
    "bin(-10)"
   ]
  },
  {
   "cell_type": "code",
   "execution_count": 10,
   "metadata": {},
   "outputs": [],
   "source": [
    "def bits_needed_v2(n) :\n",
    "    bin_str_len = len(bin(n))\n",
    "    if n > 0 :\n",
    "        return bin_str_len - 1\n",
    "    else :\n",
    "        return bin_str_len - 2"
   ]
  },
  {
   "cell_type": "code",
   "execution_count": 11,
   "metadata": {},
   "outputs": [
    {
     "name": "stdout",
     "output_type": "stream",
     "text": [
      "1\n",
      "5\n",
      "5\n"
     ]
    }
   ],
   "source": [
    "print(bits_needed_v2(0))\n",
    "print(bits_needed_v2(-10))\n",
    "print(bits_needed(-10))"
   ]
  },
  {
   "cell_type": "markdown",
   "metadata": {},
   "source": [
    "## Docstrings, comments, and writing style\n",
    "\n",
    "Along with **good variable names**, docstrings and comments are a great way to keep your code readable and organized. Let's begin with comments.\n",
    "\n",
    "Python allows you to comment out a whole line or the **end** of a line. To start a comment, use just use the `#` symbol. Everything after that symbol, to the end of the line, is a comment for the reader and will be ignored by the interpreter."
   ]
  },
  {
   "cell_type": "code",
   "execution_count": 12,
   "metadata": {},
   "outputs": [],
   "source": [
    "# This is a comment\n",
    "\n",
    "a = 4 # This is a comment on the same line as some code\n",
    "\n",
    "# To make multi-line commnets\n",
    "# just place a # at the beginning of every line"
   ]
  },
  {
   "cell_type": "markdown",
   "metadata": {},
   "source": [
    "You should keep your **line length** around **80** characters for readability. __In general, the end of a line in python means the end of a statement or command__. However, sometimes you have a very long expression and you want to use multiple lines to make it look clean.\n",
    "\n",
    "If your line is getting too long, you can use `\\` symbol to tell python to **explicitly** continue on the next line. Additionally, inside `[]`, `()` and similar brackets, python will **implicitly** continue reading on the next line."
   ]
  },
  {
   "cell_type": "code",
   "execution_count": 13,
   "metadata": {},
   "outputs": [
    {
     "name": "stdout",
     "output_type": "stream",
     "text": [
      "That's a lot of conditions to check.\n",
      "this is not the best example however I hope you get the point\n"
     ]
    }
   ],
   "source": [
    "# Continuing a line explicitly using \\\n",
    "if 6 < 4 \\\n",
    "    or 2 in [0,2,3] \\\n",
    "    and 'something' != 'else' :\n",
    "        print(\"That's a lot of conditions to check.\")\n",
    "\n",
    "# You can also do this in declarations\n",
    "a = 'this ' + 'is ' + 'not ' + 'the ' + 'best ' +\\\n",
    "    'example ' + 'however ' + 'I ' + 'hope ' + 'you ' + 'get ' +\\\n",
    "    'the ' + 'point'\n",
    "    \n",
    "print(a)"
   ]
  },
  {
   "cell_type": "markdown",
   "metadata": {},
   "source": [
    "**Remark :** Notice that in the above `if` statement, the `or` operator is evaluated **before** the `and`. If you want to be explicit, use `()` around your `and`, `or` expressions. \n",
    "### Warning : you cannot put *any* characters after the line continuation character `\\`. Not even a space! Not even a comment.\n",
    "\n",
    "In most cases, you should use implicit continuation. It generally reads better."
   ]
  },
  {
   "cell_type": "code",
   "execution_count": 14,
   "metadata": {},
   "outputs": [
    {
     "name": "stdout",
     "output_type": "stream",
     "text": [
      "That's a lot of conditions to check.\n",
      "['a', 'very', 'very', 'very', 'very', 'very', 'very', 'very', 'long', 'list']\n"
     ]
    }
   ],
   "source": [
    "# For continuing implicitly, we can use ()\n",
    "if (6 < 4\n",
    "    or 2 in [0,2,3]\n",
    "    and 'something' != 'else') :\n",
    "        print(\"That's a lot of conditions to check.\")\n",
    "             \n",
    "# In declaratinons we can also use implicit continuation\n",
    "a = ['a', 'very', 'very', 'very', 'very', 'very',\n",
    "    'very', 'very', 'long', 'list']\n",
    "\n",
    "print(a)"
   ]
  },
  {
   "cell_type": "markdown",
   "metadata": {},
   "source": [
    "### Docstrings\n",
    "\n",
    "It is important to document your functions so that users will know what kind of input the function expects and what kind of output it will produce. To documents a function, we use **docstrings** in python, which are just **triple-quoted** strings on the line right after the `def` statement."
   ]
  },
  {
   "cell_type": "code",
   "execution_count": 15,
   "metadata": {},
   "outputs": [],
   "source": [
    "def bits_needed(n) :\n",
    "    \"\"\"\n",
    "    Computes the number of bits needed to represent\n",
    "    an integer. The count includes the sign.\n",
    "    \n",
    "    Parameters\n",
    "    ----------\n",
    "    n : int, required\n",
    "    \"\"\"\n",
    "    return len('{0:+b}'.format(n))"
   ]
  },
  {
   "cell_type": "code",
   "execution_count": 16,
   "metadata": {},
   "outputs": [
    {
     "name": "stdout",
     "output_type": "stream",
     "text": [
      "Help on function bits_needed in module __main__:\n",
      "\n",
      "bits_needed(n)\n",
      "    Computes the number of bits needed to represent\n",
      "    an integer. The count includes the sign.\n",
      "    \n",
      "    Parameters\n",
      "    ----------\n",
      "    n : int, required\n",
      "\n"
     ]
    }
   ],
   "source": [
    "help(bits_needed)"
   ]
  },
  {
   "cell_type": "markdown",
   "metadata": {},
   "source": [
    "## Box problem\n",
    "\n",
    "Here is a fun probability problem. A game show has a team of 10 contestants. The contestants are numbered $0,\\ldots,9$.\n",
    "\n",
    "In the game room, there are 10 boxes, also numbered $0, \\ldots, 9$. Each box contains one of the numbers $0, \\ldots, 9$. The game show host makes the following bet with the contestants\n",
    "* each contestant pays €10 to play\n",
    "* the numbers inside the boxes are randomly shuffled **once** for the entire game.\n",
    "* one by one, contestants enters the room and are given 5 chances to find their number (i.e. they get to open any 5 boxes they choose, one at a time)\n",
    "* after a contestant has either found their number or opened 5 boxes, the room is reset just as it was before the contestant went inside\n",
    "* if all the contestants find their number, the game show will award each €300, however, if any contestant has failed to find their number, the game show keeps all the money\n",
    "\n",
    "Players can decide on a strategy ahead of time, but cannot communicate once the game begins. Would you play this game?\n",
    "\n",
    "We can use a list on the numbers $0, \\ldots, 9$ to encode the shuffled boxes"
   ]
  },
  {
   "cell_type": "code",
   "execution_count": 17,
   "metadata": {},
   "outputs": [
    {
     "name": "stdout",
     "output_type": "stream",
     "text": [
      "[7, 6, 2, 1, 0, 3, 5, 8, 4, 9]\n",
      "Box 0 contains 7, box 1 contains 6, etc.\n"
     ]
    }
   ],
   "source": [
    "import random\n",
    "\n",
    "boxes = list(range(10))\n",
    "# Shuffle the elements randomly in place\n",
    "random.shuffle(boxes)\n",
    "\n",
    "print(boxes)\n",
    "print('Box 0 contains {}, box 1 contains {}, etc.'.\n",
    "      format(boxes[0], boxes[1]))"
   ]
  },
  {
   "cell_type": "code",
   "execution_count": 18,
   "metadata": {},
   "outputs": [
    {
     "name": "stdout",
     "output_type": "stream",
     "text": [
      "[0, 7, 4]\n"
     ]
    }
   ],
   "source": [
    "print(random.sample(range(10),3))"
   ]
  },
  {
   "cell_type": "code",
   "execution_count": 19,
   "metadata": {},
   "outputs": [],
   "source": [
    "def bad_strategy(boxes, person) :\n",
    "    \"\"\" Given the boxes in the room and the person's number.\n",
    "    Try to find the number by randomly choosing 5 boxes\"\"\"\n",
    "    # Pick 5 random boxes\n",
    "    places_to_look = random.sample(range(10),5) \n",
    "    for place in places_to_look :\n",
    "        if boxes[place] == person :\n",
    "            return True\n",
    "    return False"
   ]
  },
  {
   "cell_type": "code",
   "execution_count": 20,
   "metadata": {},
   "outputs": [
    {
     "data": {
      "text/plain": [
       "0.502049795020498"
      ]
     },
     "execution_count": 20,
     "metadata": {},
     "output_type": "execute_result"
    }
   ],
   "source": [
    "one_person_results = []\n",
    "while len(one_person_results) < 10001 :\n",
    "    one_person_results.append(bad_strategy(boxes,1))\n",
    "sum(one_person_results)/len(one_person_results)"
   ]
  },
  {
   "cell_type": "markdown",
   "metadata": {},
   "source": [
    "Let us see how well the `bad_strategy` does. We will shuffle the boxes many times and see if all ten people can win."
   ]
  },
  {
   "cell_type": "code",
   "execution_count": 21,
   "metadata": {},
   "outputs": [],
   "source": [
    "import random\n",
    "\n",
    "def play_box_game(strategy, num_runs) :\n",
    "    \"\"\"Given a strategy and num_runs, will play the\n",
    "    game num_runs times. For each run we randomly shuffle\n",
    "    the box. Returns the list of game outcomes.\"\"\"\n",
    "    boxes = list(range(10))\n",
    "    game_results = []\n",
    "    while len(game_results) < num_runs + 1 :\n",
    "        result = True\n",
    "        # Shuffle the boxes once per game\n",
    "        random.shuffle(boxes)\n",
    "        for person in range(10) :\n",
    "            result = result and strategy(boxes,person)\n",
    "            if result is False : # We have lost !!!\n",
    "                # So we stop trying !!! Call break\n",
    "                # to exit the person for-loop, \n",
    "                # but NOT the outer while loop\n",
    "                break \n",
    "        game_results.append(result)\n",
    "    return game_results"
   ]
  },
  {
   "cell_type": "code",
   "execution_count": 22,
   "metadata": {},
   "outputs": [
    {
     "name": "stdout",
     "output_type": "stream",
     "text": [
      "0.0007999920000799992\n"
     ]
    }
   ],
   "source": [
    "game_results = play_box_game(bad_strategy, 100000)\n",
    "\n",
    "print(sum(game_results)/len(game_results))"
   ]
  },
  {
   "cell_type": "code",
   "execution_count": 23,
   "metadata": {},
   "outputs": [
    {
     "data": {
      "text/plain": [
       "0.0009765625"
      ]
     },
     "execution_count": 23,
     "metadata": {},
     "output_type": "execute_result"
    }
   ],
   "source": [
    "## This is what we expect our probablity of winning to be\n",
    "0.5**10"
   ]
  },
  {
   "cell_type": "markdown",
   "metadata": {},
   "source": [
    "I happen to have a secret strategy that each player can use so that we do much better. Let's test out how much better."
   ]
  },
  {
   "cell_type": "code",
   "execution_count": 24,
   "metadata": {},
   "outputs": [
    {
     "name": "stdout",
     "output_type": "stream",
     "text": [
      "0.35419645803541966\n"
     ]
    }
   ],
   "source": [
    "# import the module that contains my secret strategy\n",
    "import secret_strategy\n",
    "\n",
    "game_results = play_box_game(secret_strategy.good, 100000)\n",
    "\n",
    "print(sum(game_results)/len(game_results))\n"
   ]
  },
  {
   "cell_type": "markdown",
   "metadata": {},
   "source": [
    "On the homework, you will try to come up with your own strategy and see if you can beat mine!"
   ]
  },
  {
   "cell_type": "markdown",
   "metadata": {},
   "source": [
    "## Objects\n",
    "\n",
    "Python is built around objects. In fact, \"everything is an object\" is one of the key mantras of the language. We will think of an **object** in python as a structure that contains *data* (i.e. values we are interested in) and *functions* (i.e. computer code). These are called the **attributes** of an object and are accessed using the `object.attribute_name` notation. Attributes can, therefore, either be **data attributes** or **method attributes**."
   ]
  },
  {
   "cell_type": "code",
   "execution_count": 25,
   "metadata": {},
   "outputs": [
    {
     "data": {
      "text/plain": [
       "5.6"
      ]
     },
     "execution_count": 25,
     "metadata": {},
     "output_type": "execute_result"
    }
   ],
   "source": [
    "a = 2.5 + 5.6j\n",
    "a.imag # A data attribute that returns a float"
   ]
  },
  {
   "cell_type": "code",
   "execution_count": 26,
   "metadata": {},
   "outputs": [
    {
     "data": {
      "text/plain": [
       "<function complex.conjugate>"
      ]
     },
     "execution_count": 26,
     "metadata": {},
     "output_type": "execute_result"
    }
   ],
   "source": [
    "a.conjugate # a method attribute"
   ]
  },
  {
   "cell_type": "markdown",
   "metadata": {},
   "source": [
    "Above, `a.conjugate` returns the **function** object that contains the code to run `complex.conjugate`. To run a function, we use the `a.conjugate()` syntax. This returns the conjugate of `a`.\n",
    "\n",
    "Up to this point we have been working with instance objects. An **instance object** is one that conforms to some recipe. The object itself is a particular preparation of that recipe. For example,"
   ]
  },
  {
   "cell_type": "code",
   "execution_count": 27,
   "metadata": {},
   "outputs": [
    {
     "name": "stdout",
     "output_type": "stream",
     "text": [
      "1.5 5.6 <class 'float'>\n"
     ]
    }
   ],
   "source": [
    "a = float(1.5) # an instance object conforming to the float recipe\n",
    "b = 5.6 # another instance object conforming to the float recipe\n",
    "c = float # the object that describes the float recipe\n",
    "print(a, b, c)"
   ]
  },
  {
   "cell_type": "markdown",
   "metadata": {},
   "source": [
    "One of the benefits of python's approach is that objects can always be\n",
    "* assigned a variable name (or several)\n",
    "* added to a list (and most collection objects)\n",
    "* passed as an argument to a function"
   ]
  },
  {
   "cell_type": "markdown",
   "metadata": {},
   "source": [
    "### Functions are objects !\n",
    "\n",
    "This makes is very easy to pass functions around. In the box problem, you already saw that I can pass the `strategy` function to my `play_box_game` code.\n",
    "\n",
    "For another example, you could make a custom function to apply to every element of a list."
   ]
  },
  {
   "cell_type": "code",
   "execution_count": 28,
   "metadata": {},
   "outputs": [
    {
     "name": "stdout",
     "output_type": "stream",
     "text": [
      "[3, 6, 9, 12]\n"
     ]
    }
   ],
   "source": [
    "def custom(data) :\n",
    "    return 3*data\n",
    "    \n",
    "a = [1,2,3,4]\n",
    "custom_a = list(map(custom, a)) # apply custom to each element in a\n",
    "print(custom_a)"
   ]
  },
  {
   "cell_type": "markdown",
   "metadata": {},
   "source": [
    "Above, you see the wonderful `map` function.\n",
    "* `map(func, list_1, list_2, ...)` applies `func` to the elements of the supplied lists. When multiple lists are supplied, map returns an iterator object containing `func(list_1[i], list_2[i], ...)`, until the shortest list is exhausted.\n",
    "\n",
    "Here is another example."
   ]
  },
  {
   "cell_type": "code",
   "execution_count": 29,
   "metadata": {},
   "outputs": [
    {
     "name": "stdout",
     "output_type": "stream",
     "text": [
      "5.0990195135927845\n"
     ]
    }
   ],
   "source": [
    "def diff_sq(a,b) :\n",
    "    \"\"\" Return the difference squared \"\"\"\n",
    "    return (a - b)**2\n",
    "\n",
    "def dist(x,y) :\n",
    "    \"\"\"\n",
    "    Return the Euclidean distance between vectors x and y.\n",
    "    \n",
    "    Implementation detail\n",
    "    ---------------------\n",
    "    If x is shorter than y (or vice versa) then y is truncated\n",
    "    to the length of x \"\"\"\n",
    "    # Here, we map the diff_sq function over the two lists, sum the results,\n",
    "    # and take the square root\n",
    "    return sum(map(diff_sq, x, y))**(1/2)\n",
    "\n",
    "print(dist((1,0,2),(2,0,7)))"
   ]
  },
  {
   "cell_type": "markdown",
   "metadata": {},
   "source": [
    "I stated that `map` returns an **iterator**. An **iterator** is an object that represents a steam of data. Basically, it's an object that supports a `.__next__()` method or can be passed as an argument to the `next(some_iterator)` function. This is a convenient construct because it allows for **lazy evaluation**, i.e. the value of the next object is only computed as needed. For example, "
   ]
  },
  {
   "cell_type": "code",
   "execution_count": 30,
   "metadata": {},
   "outputs": [
    {
     "name": "stdout",
     "output_type": "stream",
     "text": [
      "Samples (0.5351955505225942, 0.3904588822033368) and (0.762492750289669, 0.44733699043912767) were at index 1 \n",
      "        and have distance 0.23430564700500897 < 1/3.\n"
     ]
    }
   ],
   "source": [
    "import random\n",
    "\n",
    "# generate some random points in the plane with both coordinates\n",
    "# between 0 and 1\n",
    "# note : there are better ways to do this, we as will learn later\n",
    "x_points = [ (random.random(),random.random()) for i in range(10) ]\n",
    "y_points = [ (random.random(),random.random()) for i in range(10) ]\n",
    "\n",
    "# print the first distance that's closer than 1/3\n",
    "idx = 0\n",
    "map_iterator = map(dist, x_points, y_points)\n",
    "for d in map_iterator :\n",
    "    if d < 1/3 :\n",
    "        print(\"\"\"Samples {} and {} were at index {} \n",
    "        and have distance {} < 1/3.\"\"\".format(x_points[idx],\n",
    "        y_points[idx], idx, d))\n",
    "        break\n",
    "    idx += 1"
   ]
  },
  {
   "cell_type": "markdown",
   "metadata": {},
   "source": [
    "Above, the `dist` function was never called for point after the found index."
   ]
  },
  {
   "cell_type": "markdown",
   "metadata": {},
   "source": [
    "## Functions, passing by value, and scope\n",
    "\n",
    "In python, parameters are passed to functions as references to objects in memory. Therefore, you can modify the input value of a function whenever the object is mutable. For example,"
   ]
  },
  {
   "cell_type": "code",
   "execution_count": 31,
   "metadata": {},
   "outputs": [],
   "source": [
    "def reverse_list(L) :\n",
    "    \"\"\"Sorts the contents of L in reverse order. Returns L.\"\"\"\n",
    "    print(\"Local id of L is {}.\".format(id(L)))\n",
    "    L.sort(reverse=True)\n",
    "    return L"
   ]
  },
  {
   "cell_type": "code",
   "execution_count": 32,
   "metadata": {},
   "outputs": [
    {
     "name": "stdout",
     "output_type": "stream",
     "text": [
      "[6, 1, 7, 4, 8]\n"
     ]
    }
   ],
   "source": [
    "import random\n",
    "# pick 5 random numbers from 0,...,9\n",
    "rand_list = random.sample(range(10),5)\n",
    "print(rand_list)"
   ]
  },
  {
   "cell_type": "code",
   "execution_count": 33,
   "metadata": {},
   "outputs": [
    {
     "name": "stdout",
     "output_type": "stream",
     "text": [
      "Global id of rand_list is 4442117192\n"
     ]
    }
   ],
   "source": [
    "print(\"Global id of rand_list is {}\".format(id(rand_list)))"
   ]
  },
  {
   "cell_type": "code",
   "execution_count": 34,
   "metadata": {},
   "outputs": [
    {
     "name": "stdout",
     "output_type": "stream",
     "text": [
      "Local id of L is 4442117192.\n",
      "Global id of rand_list is 4442117192\n"
     ]
    }
   ],
   "source": [
    "reversed_list = reverse_list(rand_list)\n",
    "print(\"Global id of rand_list is {}\".format(id(reversed_list)))"
   ]
  },
  {
   "cell_type": "code",
   "execution_count": 35,
   "metadata": {},
   "outputs": [
    {
     "data": {
      "text/plain": [
       "True"
      ]
     },
     "execution_count": 35,
     "metadata": {},
     "output_type": "execute_result"
    }
   ],
   "source": [
    "rand_list is reversed_list"
   ]
  },
  {
   "cell_type": "markdown",
   "metadata": {},
   "source": [
    "As you can see, `rand_list`, `reverse_list` and even `L` (while inside the function) point to the same bit of memory.\n",
    "\n",
    "Python does does following when you call `reverse_list`\n",
    "* declare a namespace for the function call of `reverse_list` (this is called a **stack frame**)\n",
    "* copy the reference from `rand_list` to the **local** name `L`\n",
    "* run the indented code under the `def` line\n",
    "* the local namespace is cleared (i.e. the names used locally in the function are forgotten)\n",
    "\n",
    "The **scope** of a variable name is a *textual* region of a python program where that variable name is directly accessible. "
   ]
  },
  {
   "cell_type": "code",
   "execution_count": 36,
   "metadata": {},
   "outputs": [
    {
     "ename": "NameError",
     "evalue": "name 'L' is not defined",
     "output_type": "error",
     "traceback": [
      "\u001b[0;31m---------------------------------------------------------------------------\u001b[0m",
      "\u001b[0;31mNameError\u001b[0m                                 Traceback (most recent call last)",
      "\u001b[0;32m<ipython-input-36-a635d6a94e2e>\u001b[0m in \u001b[0;36m<module>\u001b[0;34m()\u001b[0m\n\u001b[0;32m----> 1\u001b[0;31m \u001b[0mL\u001b[0m \u001b[0;31m# Even though we ran the function above,\u001b[0m\u001b[0;34m\u001b[0m\u001b[0m\n\u001b[0m\u001b[1;32m      2\u001b[0m \u001b[0;31m# L is not variable name outside of the function call\u001b[0m\u001b[0;34m\u001b[0m\u001b[0;34m\u001b[0m\u001b[0m\n",
      "\u001b[0;31mNameError\u001b[0m: name 'L' is not defined"
     ]
    }
   ],
   "source": [
    "L # Even though we ran the function above,\n",
    "# L is not variable name outside of the function call"
   ]
  },
  {
   "cell_type": "markdown",
   "metadata": {},
   "source": [
    "Above, `L` has only **local** scope in the function `reverse_list`. Namespaces are searched list a nested set. For example,"
   ]
  },
  {
   "cell_type": "code",
   "execution_count": 37,
   "metadata": {},
   "outputs": [],
   "source": [
    "x = 5\n",
    "def add_x(y) :\n",
    "    return x+y # x does not exist in the local scope,\n",
    "               # so it is pulled from the next one up"
   ]
  },
  {
   "cell_type": "code",
   "execution_count": 38,
   "metadata": {},
   "outputs": [
    {
     "data": {
      "text/plain": [
       "11"
      ]
     },
     "execution_count": 38,
     "metadata": {},
     "output_type": "execute_result"
    }
   ],
   "source": [
    "add_x(6)"
   ]
  },
  {
   "cell_type": "markdown",
   "metadata": {},
   "source": [
    "Here, `x` has `global` (or `module`) level scope and can only be found is the global namespace."
   ]
  },
  {
   "cell_type": "code",
   "execution_count": 39,
   "metadata": {},
   "outputs": [],
   "source": [
    "x = 5\n",
    "def add_7(y) :\n",
    "    x = 7 # x is declared in the local scope\n",
    "    return x+y # x now has local scope,\n",
    "               # it is first found in the local namespace"
   ]
  },
  {
   "cell_type": "code",
   "execution_count": 40,
   "metadata": {},
   "outputs": [
    {
     "name": "stdout",
     "output_type": "stream",
     "text": [
      "5\n"
     ]
    }
   ],
   "source": [
    "add_7(7) # inside the function x = 7\n",
    "print(x) # outside the function x = 5"
   ]
  },
  {
   "cell_type": "markdown",
   "metadata": {},
   "source": [
    "### Global variables\n",
    "\n",
    "It is not recommended, but at times your code might work better (or read better) if you have a global variable that you would like to reassign or modify in the body of a function. "
   ]
  },
  {
   "cell_type": "code",
   "execution_count": 41,
   "metadata": {},
   "outputs": [
    {
     "name": "stdout",
     "output_type": "stream",
     "text": [
      "Global id of L is 4442118792\n",
      "Local id of L is 4442117192.\n"
     ]
    },
    {
     "data": {
      "text/plain": [
       "[8, 7, 6, 4, 1]"
      ]
     },
     "execution_count": 41,
     "metadata": {},
     "output_type": "execute_result"
    }
   ],
   "source": [
    "L = 'a global list'.split() # outside we have L\n",
    "print(\"Global id of L is {}\".format(id(L)))\n",
    "reverse_list(rand_list) # inside we also have L"
   ]
  },
  {
   "cell_type": "code",
   "execution_count": 42,
   "metadata": {},
   "outputs": [],
   "source": [
    "def reverse_global() :\n",
    "    global L # we can declare that we us the global L\n",
    "    L.sort(reverse=True)\n",
    "    return L"
   ]
  },
  {
   "cell_type": "code",
   "execution_count": 43,
   "metadata": {},
   "outputs": [
    {
     "data": {
      "text/plain": [
       "['list', 'global', 'a']"
      ]
     },
     "execution_count": 43,
     "metadata": {},
     "output_type": "execute_result"
    }
   ],
   "source": [
    "reverse_global()"
   ]
  },
  {
   "cell_type": "code",
   "execution_count": 44,
   "metadata": {},
   "outputs": [
    {
     "ename": "SyntaxError",
     "evalue": "name 'L' is parameter and global (<ipython-input-44-f551a8367310>, line 3)",
     "output_type": "error",
     "traceback": [
      "\u001b[0;36m  File \u001b[0;32m\"<ipython-input-44-f551a8367310>\"\u001b[0;36m, line \u001b[0;32m3\u001b[0m\n\u001b[0;31m    global L\u001b[0m\n\u001b[0m    ^\u001b[0m\n\u001b[0;31mSyntaxError\u001b[0m\u001b[0;31m:\u001b[0m name 'L' is parameter and global\n"
     ]
    }
   ],
   "source": [
    "# cannot have both a local and global L\n",
    "def reverse_global_with_arg(L) :\n",
    "    global L\n",
    "    L.sort(reverse=True)\n",
    "    return L"
   ]
  },
  {
   "cell_type": "markdown",
   "metadata": {},
   "source": [
    "## Positional, named and default parameters\n",
    "\n",
    "So far, for functions with multiple arguments we have used  **position** to specify which parameter is set to which local variable. For example,\n"
   ]
  },
  {
   "cell_type": "code",
   "execution_count": 45,
   "metadata": {},
   "outputs": [
    {
     "name": "stdout",
     "output_type": "stream",
     "text": [
      "--------\n",
      "a is 5\n",
      "b is foo\n",
      "--------\n",
      "--------\n",
      "a is bar\n",
      "b is 6\n",
      "--------\n"
     ]
    }
   ],
   "source": [
    "def print_args(a,b) :\n",
    "    print(8*'-')\n",
    "    print(\"a is\", a)\n",
    "    print(\"b is\", b)\n",
    "    print(8*'-')\n",
    "    \n",
    "print_args(5,'foo')\n",
    "print_args('bar',6)"
   ]
  },
  {
   "cell_type": "markdown",
   "metadata": {},
   "source": [
    "As you may have noticed earlier, I used a **named parameter** `reverse` in the method call `sort(reverse = True)`. Python allows you to specify the parameter name in the function call"
   ]
  },
  {
   "cell_type": "code",
   "execution_count": 46,
   "metadata": {},
   "outputs": [
    {
     "name": "stdout",
     "output_type": "stream",
     "text": [
      "--------\n",
      "a is foo\n",
      "b is 5\n",
      "--------\n"
     ]
    }
   ],
   "source": [
    "print_args(b = 5, a = 'foo')"
   ]
  },
  {
   "cell_type": "code",
   "execution_count": 47,
   "metadata": {},
   "outputs": [
    {
     "ename": "TypeError",
     "evalue": "print_args() missing 1 required positional argument: 'a'",
     "output_type": "error",
     "traceback": [
      "\u001b[0;31m---------------------------------------------------------------------------\u001b[0m",
      "\u001b[0;31mTypeError\u001b[0m                                 Traceback (most recent call last)",
      "\u001b[0;32m<ipython-input-47-8e26397347c1>\u001b[0m in \u001b[0;36m<module>\u001b[0;34m()\u001b[0m\n\u001b[1;32m      1\u001b[0m \u001b[0;31m# What happens if you don't give all the parameters?\u001b[0m\u001b[0;34m\u001b[0m\u001b[0;34m\u001b[0m\u001b[0m\n\u001b[0;32m----> 2\u001b[0;31m \u001b[0mprint_args\u001b[0m\u001b[0;34m(\u001b[0m\u001b[0mb\u001b[0m \u001b[0;34m=\u001b[0m \u001b[0;36m5\u001b[0m\u001b[0;34m)\u001b[0m\u001b[0;34m\u001b[0m\u001b[0m\n\u001b[0m",
      "\u001b[0;31mTypeError\u001b[0m: print_args() missing 1 required positional argument: 'a'"
     ]
    }
   ],
   "source": [
    "# What happens if you don't give all the parameters?\n",
    "print_args(b = 5)"
   ]
  },
  {
   "cell_type": "code",
   "execution_count": 49,
   "metadata": {},
   "outputs": [
    {
     "ename": "TypeError",
     "evalue": "print_args() got an unexpected keyword argument 'c'",
     "output_type": "error",
     "traceback": [
      "\u001b[0;31m---------------------------------------------------------------------------\u001b[0m",
      "\u001b[0;31mTypeError\u001b[0m                                 Traceback (most recent call last)",
      "\u001b[0;32m<ipython-input-49-ede34a0f1774>\u001b[0m in \u001b[0;36m<module>\u001b[0;34m()\u001b[0m\n\u001b[1;32m      1\u001b[0m \u001b[0;31m# What happens if you make up a variable\u001b[0m\u001b[0;34m\u001b[0m\u001b[0;34m\u001b[0m\u001b[0m\n\u001b[1;32m      2\u001b[0m \u001b[0;31m# name at the time of the call?\u001b[0m\u001b[0;34m\u001b[0m\u001b[0;34m\u001b[0m\u001b[0m\n\u001b[0;32m----> 3\u001b[0;31m \u001b[0mprint_args\u001b[0m\u001b[0;34m(\u001b[0m\u001b[0mb\u001b[0m \u001b[0;34m=\u001b[0m \u001b[0;36m5\u001b[0m\u001b[0;34m,\u001b[0m \u001b[0mc\u001b[0m \u001b[0;34m=\u001b[0m \u001b[0;34m'bar'\u001b[0m\u001b[0;34m)\u001b[0m\u001b[0;34m\u001b[0m\u001b[0m\n\u001b[0m",
      "\u001b[0;31mTypeError\u001b[0m: print_args() got an unexpected keyword argument 'c'"
     ]
    }
   ],
   "source": [
    "# What happens if you make up a variable\n",
    "# name at the time of the call?\n",
    "print_args(b = 5, c = 'bar')"
   ]
  },
  {
   "cell_type": "markdown",
   "metadata": {},
   "source": [
    "In fact, the parameter `reverse` in the function call `sort(reverse = True)` also an **optional parameter**. These are also known as **keyword** parameters. Optional parameter can be specified as part of the function definition. They must come **after** positional argumetns and they need to be given a **function-global default value**."
   ]
  },
  {
   "cell_type": "code",
   "execution_count": 50,
   "metadata": {},
   "outputs": [],
   "source": [
    "# we define optional parameters the_list, reverse, and print_list\n",
    "def append_and_sort(data, the_list = [],\n",
    "                    reverse = False, print_list = False) :\n",
    "    the_list.append(data)\n",
    "    # how can we use reverse = revese? Explain!\n",
    "    the_list.sort(reverse = reverse)\n",
    "    if print_list :\n",
    "        print('The list is', the_list)"
   ]
  },
  {
   "cell_type": "code",
   "execution_count": 51,
   "metadata": {},
   "outputs": [
    {
     "name": "stdout",
     "output_type": "stream",
     "text": [
      "[2, 3, 5]\n"
     ]
    }
   ],
   "source": [
    "L = [3,2]\n",
    "append_and_sort(5,L)\n",
    "print(L)"
   ]
  },
  {
   "cell_type": "markdown",
   "metadata": {},
   "source": [
    "Above, we can still use position to specify parameters. However, we did not need to specify the value of `reverse`, which defaults to `False`.\n",
    "\n",
    "We can continue to use position to specify the values of optional paramters. However, for optional parameters that have boolean values **this is not recommened.**"
   ]
  },
  {
   "cell_type": "code",
   "execution_count": 52,
   "metadata": {},
   "outputs": [
    {
     "name": "stdout",
     "output_type": "stream",
     "text": [
      "[5, 5, 3, 2]\n"
     ]
    }
   ],
   "source": [
    "# Which arguemnt is set to True? Hard to tell.\n",
    "# This is BAD code\n",
    "append_and_sort(5, L, True)\n",
    "print(L)"
   ]
  },
  {
   "cell_type": "markdown",
   "metadata": {},
   "source": [
    "It is **much better** to use the named parameter format (also called keyword format)."
   ]
  },
  {
   "cell_type": "code",
   "execution_count": 53,
   "metadata": {},
   "outputs": [
    {
     "name": "stdout",
     "output_type": "stream",
     "text": [
      "The list is [2, 3, 5, 5, 5]\n"
     ]
    }
   ],
   "source": [
    "# A mix of positional and optional\n",
    "append_and_sort(5, L, print_list = True)"
   ]
  },
  {
   "cell_type": "markdown",
   "metadata": {},
   "source": [
    "Above, we wanted to use the default value of `reverse` but a different value for `print_list`. We **must** use named parameters if we want to *skip* an optional parameter while using some positional arguments."
   ]
  },
  {
   "cell_type": "markdown",
   "metadata": {},
   "source": [
    "### Warning about default values\n",
    "The default value of an optional parameter is a **function-global value**. This means that when the interpreter reads the definition of a function and creates the function object, it constructs the values of the default parameters **for all future function calls**.\n",
    "\n",
    "Recall that a **function object** is one that store the **computer code** of the function. In addition to this, it also stores the default values."
   ]
  },
  {
   "cell_type": "code",
   "execution_count": 54,
   "metadata": {},
   "outputs": [
    {
     "name": "stdout",
     "output_type": "stream",
     "text": [
      "The list is [3]\n",
      "The list is [3, 3]\n",
      "The list is [3, 3, 3]\n"
     ]
    }
   ],
   "source": [
    "append_and_sort(3,print_list = True)\n",
    "append_and_sort(3,print_list = True)\n",
    "append_and_sort(3,print_list = True)"
   ]
  },
  {
   "cell_type": "markdown",
   "metadata": {},
   "source": [
    "Above, the default value of `the_list` is created **once** when the function definition is first read by the interpreter. Thus, **every time that the default value is used, it's the same piece of memory**! Keep in mind that there are two stages of memory allocation for functions.\n",
    "* Function object stage : the interpreter reads the function definition and creates a function object. The default values of the function object are set.\n",
    "* Function is called : the interpreter creates a new stack frame and copies the references to the function inputs. If default values are not reassigned by the input, those from the object creation stage are used."
   ]
  }
 ],
 "metadata": {
  "anaconda-cloud": {},
  "kernelspec": {
   "display_name": "Python 3",
   "language": "python",
   "name": "python3"
  },
  "language_info": {
   "codemirror_mode": {
    "name": "ipython",
    "version": 3
   },
   "file_extension": ".py",
   "mimetype": "text/x-python",
   "name": "python",
   "nbconvert_exporter": "python",
   "pygments_lexer": "ipython3",
   "version": "3.6.5"
  }
 },
 "nbformat": 4,
 "nbformat_minor": 1
}
