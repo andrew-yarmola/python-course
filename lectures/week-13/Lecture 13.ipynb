{
 "cells": [
  {
   "cell_type": "markdown",
   "metadata": {},
   "source": [
    "# Introduction to Programming Lecture 13"
   ]
  },
  {
   "cell_type": "markdown",
   "metadata": {},
   "source": [
    "* Instructor :  Andrew Yarmola [andrew.yarmola@uni.lu](mailto:andrew.yarmola@uni.lu)\n",
    "* Course Schedule : Wednesday 14h00 - 15h30 Campus Kirchberg B21\n",
    "* Course Website : [sites.google.com/site/andrewyarmola/itp-uni-lux](https://sites.google.com/site/andrewyarmola/itp-uni-lux)\n",
    "* Office Hours : Thursday 16h00 - 17h00 Campus Kirchberg G103 and by appointment."
   ]
  },
  {
   "cell_type": "markdown",
   "metadata": {},
   "source": [
    "## Clone the SciPy Lecture Notes\n",
    "\n",
    "If you feel like you need more examples, you can always clone the SciPy Lecture Notes\n",
    "```bash\n",
    "git clone https://github.com/scipy-lectures/scipy-lecture-notes.git\n",
    "```\n",
    "Each section has some good examples. For instance : `scipy-lecture-notes/advanced/image_processing/examples/`\n",
    "contains a lot of information on advanced image processing."
   ]
  },
  {
   "cell_type": "markdown",
   "metadata": {},
   "source": [
    "## Final Project Topics\n",
    "\n",
    "* Numetric PDE Solver and grapher for special types of PDEs.\n",
    "\n",
    "* A tool for audio syncing using fast Fourier transforms.\n",
    "\n",
    "* Drawing and zooming Julia (and/or Multibrot) sets.\n",
    "\n",
    "* A tool for handwritten digit recognition using machine learning or a neural network\n",
    "\n",
    "* A tool for counting the number and size of objects in an image/video\n",
    "\n",
    "Work will be in groups and due at the end of January (i.e. January 31st)"
   ]
  },
  {
   "cell_type": "markdown",
   "metadata": {},
   "source": [
    "## Scripts\n",
    "\n",
    "Scripts are non-graphical standalone programs for doing a specific task. For us, they will be `python` source files, just like modules.\n",
    "\n",
    "For examples, here are the contents of `three_powers_of_two.py` : a script that prints the first 3 powers of 2.\n",
    "\n",
    "```python\n",
    "def generate_powers() :\n",
    "    return [ 2**x for x in range(3) ]\n",
    "\n",
    "print(\"Global __name__ is :\", __name__)\n",
    "\n",
    "if __name__ == '__main__' :\n",
    "    print(*generate_powers(), sep = '\\n')\n",
    "```"
   ]
  },
  {
   "cell_type": "markdown",
   "metadata": {},
   "source": [
    "Now, if I import this file, nothing will happend except for the fact that I will have `generate_powers` defined."
   ]
  },
  {
   "cell_type": "code",
   "execution_count": 1,
   "metadata": {},
   "outputs": [
    {
     "name": "stdout",
     "output_type": "stream",
     "text": [
      "Global __name__ is : three_powers_of_two\n"
     ]
    }
   ],
   "source": [
    "import three_powers_of_two as tpt"
   ]
  },
  {
   "cell_type": "markdown",
   "metadata": {},
   "source": [
    "As you can see, when importing, the global variable `__name__` is set to the filename.\n",
    "\n",
    "However, if I now go to a console/terminal and **run** the scipt using\n",
    "```bash\n",
    "python three_powers_of_two.py\n",
    "```\n",
    "You will see the commands in the `if` statement executed.\n",
    "\n",
    "```bash\n",
    "$ python three_powers_of_two.py \n",
    "Global __name__ is : __main__\n",
    "1\n",
    "2\n",
    "4\n",
    "```"
   ]
  },
  {
   "cell_type": "markdown",
   "metadata": {},
   "source": [
    "So a script can be used both as a module and a tool. However, a program isn't very useful is you can't give it input."
   ]
  },
  {
   "cell_type": "markdown",
   "metadata": {},
   "source": [
    "## Arguments and Options\n",
    "\n",
    "The standard way to pass arguments to a script is to give a space separated list after the command call :\n",
    "\n",
    "```bash\n",
    "python three_powers_of_two.py arg1 arg2\n",
    "```\n",
    "\n",
    "To read the aguemnts in, we will use the `sys` module's `sys.argv` attribute. We update our `three_powers_of_two_new.py` with : \n",
    "\n",
    "```python\n",
    "import sys\n",
    "\n",
    "def generate_powers() :\n",
    "    return [ 2**x for x in range(3) ]\n",
    "\n",
    "if __name__ == '__main__' :\n",
    "\n",
    "    print(sys.argv)\n",
    "    \n",
    "    print(*generate_powers(), sep = '\\n')\n",
    "```"
   ]
  },
  {
   "cell_type": "markdown",
   "metadata": {},
   "source": [
    "When we run this using the above command in a terminal, we will see :\n",
    "```bash\n",
    "$ python three_powers_of_two.py arg1 arg2\n",
    "['three_powers_of_two.py', 'arg1', 'arg2']\n",
    "1\n",
    "2\n",
    "4\n",
    "```\n",
    "In particular, `sys.argv` is a list that starts with the **name** of the program and then gives **all space separated arugments**.\n",
    "\n",
    "**Remark** if you need to have a space in an arugment, you can use (double) quatition marks :\n",
    "```bash\n",
    "$ python three_powers_of_two.py arg1 \"arg2 with a space\"\n",
    "['three_powers_of_two.py', 'arg1', 'arg2 with a space']\n",
    "1\n",
    "2\n",
    "4\n",
    "```\n",
    "Be very careful with argument spacing when using powerful commands.\n",
    "\n",
    "Let us make a slightly more useful script `count_vowels.py` that counts vowels in a file"
   ]
  },
  {
   "cell_type": "markdown",
   "metadata": {
    "collapsed": true
   },
   "source": [
    "```python\n",
    "import sys\n",
    "\n",
    "def vowels_in_string(data) :\n",
    "    return { v : data.count(v) for v in 'aeiou' }\n",
    "\n",
    "if __name__ == '__main__' :\n",
    "    if len(sys.argv) < 2 :\n",
    "        print(\"Usage: python count_vowels.py file\")\n",
    "        sys.exit(2)\n",
    "        \n",
    "    file_name = sys.argv[1]\n",
    "\n",
    "    with open(file_name, 'r') as fp :\n",
    "        data = fp.read()\n",
    "        print(vowels_in_string(data))\n",
    "```"
   ]
  },
  {
   "cell_type": "markdown",
   "metadata": {
    "collapsed": true
   },
   "source": [
    "Notice that I am doing input checking. This allows me to both inform the user how to use the program and also to check for bad input.\n",
    "\n",
    "** Remark : ** Make sure your scripts are also useful as **modules** by separating out tasks in your code.\n",
    "\n",
    "We can run out program to get :\n",
    "```bash\n",
    "$ python count_vowels.py \"Lecture 11.ipynb\"\n",
    "{'u': 5197, 'a': 5898, 'i': 5305, 'o': 4934, 'e': 6094}\n",
    "```"
   ]
  },
  {
   "cell_type": "markdown",
   "metadata": {},
   "source": [
    "### Options and `getopt`\n",
    "\n",
    "Using `sys.argv` gives us only **positional** arguments for our program. There is a better way using the `getopt` modules. The idea is to specify a **flag** or **keyword** using a `-` or `--` prefix. We would like to do something like this : \n",
    "\n",
    "```bash\n",
    "python hanoi_gif.py -v --d 4 --fps 4 awesome_hanoi_4.gif\n",
    "```\n",
    "\n",
    "Let's see a simple example fo how `getopt` works"
   ]
  },
  {
   "cell_type": "code",
   "execution_count": 2,
   "metadata": {},
   "outputs": [
    {
     "name": "stdout",
     "output_type": "stream",
     "text": [
      "[('-v', ''), ('-d', '4'), ('--fps', '5'), ('-w', 'something'), ('--write', 'nothing')]\n",
      "['arg1', 'arg2', 'arg3']\n"
     ]
    }
   ],
   "source": [
    "import getopt\n",
    "\n",
    "argv_list = '-v -d 4 --fps 5 -w something --write nothing arg1 arg2 arg3'.split()\n",
    "\n",
    "opts, args = getopt.getopt(argv_list, 'vd:w:',\n",
    "                           ['verbose', 'disk=', 'fps=', 'write='])\n",
    "\n",
    "print(opts)\n",
    "print(args)"
   ]
  },
  {
   "cell_type": "markdown",
   "metadata": {},
   "source": [
    "As you can see there are **three** types of options/arguments here. The key thing to understand is the line\n",
    "```python\n",
    "opts, args = getopt.getopt(argv_list, 'vd:w:',\n",
    "                           ['verbose', 'disk=', 'fps=', 'write='])\n",
    "```\n",
    "The string `'vd:w:'` indicates how to parse **single letter** options preceded by a `-` symbol. While the list `['verbose', 'disk=', 'fps=', 'write=']` indicates how to parse **keyword** options preceded by a `--` symbol\n",
    "\n",
    "The options here are :\n",
    "* **flags** : these are the `-v` or `--verbose` options\n",
    "   * they have no value, their **presence** is all you need\n",
    "   * they are declared by a letter **without** a colon or a word **without** an `=`\n",
    "\n",
    "* **keyword arguments** : these are the `-d`,`-w`, `--disks`, `--write`, and `--fps` options\n",
    "   * they require a value to follow them when calling the program\n",
    "   * their declaration is followed by a colon after a letter or an `=` after a keyword\n",
    "   \n",
    "* **positional arguments** : there are `arg1`, `arg2`, and `arg3`\n",
    "   * must **follow** all flag and keyword arguments\n",
    "   \n",
    "When `getopt.getopt` parses `argv_list`, it returns a **list of tuples** and a **list of strings**. The list of tuples is map of options to their values and the list of strings is the list of positional arguments."
   ]
  },
  {
   "cell_type": "markdown",
   "metadata": {
    "collapsed": true
   },
   "source": [
    "To apply this to function arguments, we simply need to call `getopt` on `sys.argv[1:]` (dropping the program name).\n",
    "\n",
    "We can now implement a `hanoi_gif.py` containing the following code. Pay close attention to how I interpret the contents of `opts` and `args`.\n",
    "\n",
    "```python\n",
    "import sys, hanoi, getopt\n",
    "import moviepy.editor as mpy\n",
    "\n",
    "def make_clip(n, fps) :\n",
    "    hanoi_states = hanoi.solution_states(n)\n",
    "    hanoi_frames = [ hanoi.frame(n, s) for s in hanoi_states ]\n",
    "    clip = mpy.ImageSequenceClip(hanoi_frames, fps = fps)\n",
    "    return clip\n",
    "\n",
    "def print_usage() :\n",
    "    print(\"Usage: python hanoi_gif.pu [-v,--verbose]\"\n",
    "          \"[-d,--disks <num_disks>] [--fps <fps>] output_file\")\n",
    "\n",
    "if __name__ == '__main__' :\n",
    "    try:\n",
    "        opts, args = getopt.getopt(sys.argv[1:],\n",
    "                                   'vd:',['verbose','disks=','fps='])\n",
    "    except getopt.GetoptError as err:\n",
    "        print(err)\n",
    "        print_usage()\n",
    "        sys.exit(2)\n",
    "        \n",
    "    if len(args) != 1:\n",
    "        print_usage()\n",
    "        sys.exit(2)\n",
    "    clip_name = args[0]\n",
    "\n",
    "    verbose = False\n",
    "    fps = 2\n",
    "    n = 3\n",
    "    for opt, val in opts:\n",
    "        if opt in ('-v', '--verbose'):\n",
    "            verbose = True\n",
    "        if opt in ('-d', '--disks'):\n",
    "            n = int(val)\n",
    "        if opt in ('--fps'):\n",
    "            fps = int(val)\n",
    "\n",
    "    if verbose : print(\"Generating clip\")\n",
    "    clip = make_clip(n, fps)\n",
    "    if verbose : print(\"Clip created. Writing to file {}.\".format(clip_name))\n",
    "    clip.write_gif(clip_name)\n",
    "    if verbose : print(\"Done.\")\n",
    "```"
   ]
  },
  {
   "cell_type": "markdown",
   "metadata": {},
   "source": [
    "** Remark :** It is always better to use program arguments instead of interactive input for a program! However, if there is a time where you need to ask the user something (e.g. should the program delete something), you can use the  `input()` method discussed in Lecture 6."
   ]
  },
  {
   "cell_type": "markdown",
   "metadata": {},
   "source": [
    "## Graphical User Interface (GUI)\n",
    "\n",
    "Scripts are great, but they can be hard to use for people who aren't comfortable with the command line. Therefore, you might want to write a graphical interface for your program. This is not easy and takes a lot of code. However, much of this code is reusable and repetitive.\n",
    "\n",
    "There are many different programming languages and tools for GUI applications and `python` is probably not the best one. However, you can make simple interactive programs that work everywhere fairly easily using the package called `tkinter`.\n",
    "\n",
    "** Remark :** `tkinter` is the standard tool included with `python` for GUI applications. However, there are many many other libraries for GUI programming that are more modern looking. See  [https://docs.python.org/3/library/othergui.html#other-gui-packages](https://docs.python.org/3/library/othergui.html#other-gui-packages) as well as Kivy and PyjamasDesktop.\n",
    "\n",
    "\n",
    "To get started we will create a file `basic_tk.py` with the following code :"
   ]
  },
  {
   "cell_type": "markdown",
   "metadata": {},
   "source": [
    "```python\n",
    "from tkinter import *\n",
    "# ttk is a slightly more modern look\n",
    "# calling like this overrides older\n",
    "# tkinter code\n",
    "from tkinter.ttk import *\n",
    "\n",
    "import getopt\n",
    "\n",
    "class Basic_App_Window(Frame) :\n",
    "\n",
    "    def __init__(self, master = None):\n",
    "        super().__init__(master)\n",
    "        self.initialize()\n",
    "        self.setup_interface()\n",
    "\n",
    "    def initialize(self) :\n",
    "        try:\n",
    "            opts, args = getopt.getopt(sys.argv[1:],'a:',['action_text='])\n",
    "        except getopt.GetoptError as err:\n",
    "            print(\"Usage : python basic_tk.py [-a, --action_text] <text>.\")\n",
    "            self.master.quit()\n",
    "\n",
    "        self.action_text = \"Hello Everyone!\"\n",
    "        self.display_text = StringVar()\n",
    "\n",
    "        for opt, val in opts:\n",
    "            if opt in ('-a', '--action_text'):\n",
    "                self.action_text = val\n",
    "\n",
    "    def setup_interface(self) :\n",
    "        # self.master is set in super().__init__(master)\n",
    "        self.master.minsize(width = 400, height = 200)\n",
    "        self.pack(fill = BOTH, expand = True)\n",
    "\n",
    "        button = Button(self, text = \"Push Me\")\n",
    "        button['command'] = self.toggle_text\n",
    "        button.pack(anchor = NW)\n",
    "\n",
    "        quit_button = Button(self, text = 'Quit',\n",
    "                                  command = self.master.quit)\n",
    "        quit_button.pack(side = 'bottom')\n",
    "\n",
    "        action_label = Label(self, textvariable = self.display_text)\n",
    "        action_label.pack(side = 'top')\n",
    "\n",
    "    def toggle_text(self) :\n",
    "        if self.display_text.get() == '' :\n",
    "            self.display_text.set(self.action_text)\n",
    "        else :\n",
    "            self.display_text.set('')\n",
    "\n",
    "if __name__ ==  '__main__' :\n",
    "    root = Tk()\n",
    "    app = Basic_App_Window(root)\n",
    "    app.mainloop()\n",
    "```"
   ]
  },
  {
   "cell_type": "markdown",
   "metadata": {},
   "source": [
    "Try runing this from a terminal/console with \n",
    "\n",
    "```bash\n",
    "python basic_tk.py -a \"So much code for so little functionality\"\n",
    "```\n",
    "\n",
    "Much of this code should be self-explanatory, but there are some large concepts.\n",
    "\n",
    "* The object `root` is the main interface manager. There can only be one in the application.\n",
    "* The `class Basic_App_Window` is a special type of a `Frame`, which is an area that displays content and can have other subframes.\n",
    "* When creating objects such as buttons or labels, the first argument is the *master* or *parent* parent container (i.e. `Frame`).\n",
    "* The `.pack()` command gives instructions on the **Pack** window geometry manager on how to work with the object under resizing. There is also a more complicated **Grid** window geometry manager.\n",
    "\n",
    "For a decent reference on `tkinter` in `python 3.5` check out [http://www.tkdocs.com/tutorial/index.html](http://www.tkdocs.com/tutorial/index.html) and [https://docs.python.org/3/library/tk.html](https://docs.python.org/3/library/tk.html)\n",
    "\n",
    "** Remark : ** Notice that I am not using properties here because GUI applications tend to have many attributes and it's too wordy to create a property for each.\n",
    "\n",
    "** Remark : ** If you need to create a **bunch** of similar fields, you can use code such as **loops**!"
   ]
  },
  {
   "cell_type": "markdown",
   "metadata": {},
   "source": [
    "### Canvas\n",
    "\n",
    "There is a special type of frame called a **canvas** where you can draw geometric objects. Let us add one by updating `setup_interface` by appending the following code\n",
    "```python\n",
    "    def setup_interface(self) :\n",
    "        # earlier code\n",
    "        self.canvas.create_oval(100,100,140,140)\n",
    "        self.canvas.create_line(0,0,100,400)\n",
    "        self.canvas.create_polygon(40,30,150,50,20,120)\n",
    "        self.canvas.create_arc(160,50,240,140,\n",
    "                                start = 0, extent = 150,\n",
    "                                fill = 'blue')\n",
    "        self.gif = PhotoImage(file = 'sinc.gif')\n",
    "        self.canvas.create_image(180, 100, anchor = NW, image = self.gif)\n",
    "```"
   ]
  },
  {
   "cell_type": "markdown",
   "metadata": {},
   "source": [
    "### Plots inside `tkinter`\n",
    "\n",
    "We can also insert `matplotlib` plots into `tkinter` applications as follows. Let's create a new program called `plot_tk.py` with the code :"
   ]
  },
  {
   "cell_type": "markdown",
   "metadata": {
    "collapsed": true
   },
   "source": [
    "```python\n",
    "from tkinter import *\n",
    "from tkinter.ttk import *\n",
    "import numpy as np\n",
    "\n",
    "import matplotlib\n",
    "matplotlib.use('TkAgg')\n",
    "\n",
    "from matplotlib import pyplot as plt\n",
    "from matplotlib.backends.backend_tkagg import FigureCanvasTkAgg, NavigationToolbar2TkAgg\n",
    "\n",
    "class Plot_Window(Frame) :\n",
    "\n",
    "    def __init__(self, master = None):\n",
    "        super().__init__(master)\n",
    "        self.initialize()\n",
    "        self.setup_interface()\n",
    "\n",
    "    def initialize(self) :\n",
    "        self.data = np.random.randn(100)\n",
    "\n",
    "    def setup_interface(self) :\n",
    "        self.master.minsize(width = 400, height = 200)\n",
    "        self.pack(fill = BOTH, expand = True)\n",
    "\n",
    "        self.fig = plt.figure()\n",
    "        plt.plot(self.data)\n",
    "\n",
    "        self.plt_canvas = FigureCanvasTkAgg(self.fig, master = self)\n",
    "        self.plt_canvas.get_tk_widget().pack(fill = BOTH, expand = True)\n",
    "\n",
    "        self.toolbar = NavigationToolbar2TkAgg(self.plt_canvas, self )\n",
    "        self.toolbar.pack(side = 'bottom', expand = True)\n",
    "        self.toolbar.update()\n",
    "\n",
    "if __name__ ==  '__main__' :\n",
    "    root = Tk()\n",
    "    app = Plot_Window(root)\n",
    "    app.mainloop()\n",
    "```"
   ]
  },
  {
   "cell_type": "markdown",
   "metadata": {},
   "source": [
    "## Interactive input\n",
    "\n",
    "There are two general types of input : **pointer input** and **text field input**. The latter is much easier, so let's look at a quick example.\n",
    "\n",
    "### Text entry input\n",
    "\n",
    "Let's make a basic calulator called `calc.py` with the code :\n",
    "\n",
    "```python\n",
    "from tkinter import *\n",
    "from tkinter.ttk import *\n",
    "\n",
    "class Calc_Window(Frame) :\n",
    "\n",
    "    def __init__(self, master = None):\n",
    "        super().__init__(master)\n",
    "        self.setup_interface()\n",
    "\n",
    "    def evaluate_and_show(self, event) :\n",
    "        val = str(eval(event.widget.get()))\n",
    "        self.result.set('Result : ' + val)\n",
    "\n",
    "    def setup_interface(self) :\n",
    "        self.master.minsize(width = 400, height = 200)\n",
    "        self.pack(fill = BOTH, expand = True)\n",
    "\n",
    "        instr = Label(self,\n",
    "                text = \"Type your expression and hit enter to evaluate\",\n",
    "                wraplength = self.master['width'])\n",
    "\n",
    "        instr.pack(side = 'top', expand = True)\n",
    "\n",
    "        field = Entry(self)\n",
    "        field.bind('<Return>', self.evaluate_and_show)\n",
    "        field.pack(side = 'top', expand = True)\n",
    "\n",
    "        self.result = StringVar()\n",
    "        res_label = Label(self, textvariable = self.result)\n",
    "        res_label.pack(side = 'top', expand = True)\n",
    "\n",
    "if __name__ ==  '__main__' :\n",
    "    root = Tk()\n",
    "    app = Calc_Window(root)\n",
    "    app.mainloop()\n",
    "```\n",
    "\n",
    "Above, you might notice the `bind` method. This allows one to associate a function callback with a user interface event! For a reference on event types in `tkinter` check out [http://effbot.org/tkinterbook/tkinter-events-and-bindings.htm](http://effbot.org/tkinterbook/tkinter-events-and-bindings.htm) and [http://www.tcl.tk/man/tcl8.5/TkCmd/bind.htm#M7](http://www.tcl.tk/man/tcl8.5/TkCmd/bind.htm#M7)."
   ]
  },
  {
   "cell_type": "markdown",
   "metadata": {
    "collapsed": true
   },
   "source": [
    "### Pointer input\n",
    "\n",
    "Pointer input is more complicated. We have to deal with ButtonPress, ButtonRelease, and Motion!. The first two are not too complicated, so let's to a basic example with motion.\n",
    "\n",
    "Make a file called `paint.py` with the following code\n",
    "\n",
    "```python\n",
    "from tkinter import *\n",
    "from tkinter.ttk import *\n",
    "\n",
    "class Paint_Window(Frame) :\n",
    "\n",
    "    def __init__(self, master = None):\n",
    "        super().__init__(master)\n",
    "        self.setup_interface()\n",
    "\n",
    "    def paint(self, event) :\n",
    "       x1, y1 = ( event.x - 1.5 ), ( event.y - 1.5 )\n",
    "       x2, y2 = ( event.x + 1.5 ), ( event.y + 1.5 )\n",
    "       event.widget.create_oval( x1, y1, x2, y2, fill = 'green' )\n",
    "\n",
    "    def setup_interface(self) :\n",
    "        self.master.minsize(width = 400, height = 200)\n",
    "        self.pack(fill = BOTH, expand = True)\n",
    "\n",
    "        instr = Label(self,\n",
    "                text = \"Draw on the canvas using your mouse\",\n",
    "                wraplength = self.master['width'])\n",
    "\n",
    "        instr.pack(side = 'top', expand = True)\n",
    "\n",
    "        canvas = Canvas(self)\n",
    "        canvas.pack(fill = BOTH, expand = True)\n",
    "        canvas.bind('<B1-Motion>', self.paint)\n",
    "\n",
    "if __name__ ==  '__main__' :\n",
    "    root = Tk()\n",
    "    app = Paint_Window(root)\n",
    "    app.mainloop()\n",
    "```\n",
    "\n",
    "As you play with this code, you might notice that the motion event is very discrete. If you want, you can try to figure out how to draw smooth lines."
   ]
  }
 ],
 "metadata": {
  "anaconda-cloud": {},
  "kernelspec": {
   "display_name": "Python 3",
   "language": "python",
   "name": "python3"
  },
  "language_info": {
   "codemirror_mode": {
    "name": "ipython",
    "version": 3
   },
   "file_extension": ".py",
   "mimetype": "text/x-python",
   "name": "python",
   "nbconvert_exporter": "python",
   "pygments_lexer": "ipython3",
   "version": "3.6.5"
  }
 },
 "nbformat": 4,
 "nbformat_minor": 1
}
