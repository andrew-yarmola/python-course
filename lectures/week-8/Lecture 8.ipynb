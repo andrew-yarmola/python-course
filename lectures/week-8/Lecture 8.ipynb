{
 "cells": [
  {
   "cell_type": "markdown",
   "metadata": {},
   "source": [
    "# Introduction to Programming Lecture 8\n",
    "\n",
    "* Instructor :  Andrew Yarmola [andrew.yarmola@uni.lu](mailto:andrew.yarmola@uni.lu)\n",
    "* Course Schedule : Wednesday 14h00 - 15h30 Campus Kirchberg B21\n",
    "* Course Website : [sites.google.com/site/andrewyarmola/itp-uni-lux](https://sites.google.com/site/andrewyarmola/itp-uni-lux)\n",
    "* Office Hours : Thursday 16h00 - 17h00 Campus Kirchberg G103 and by appointment.\n",
    "\n",
    "## Remarks on homework and questions\n",
    "\n",
    "#### Partition (reverse) lexicographic order \n",
    "\n",
    "A **partition** of an integer $n$ is a tuple $(a_0, a_1, \\ldots, a_k)$ such that $a_0 \\geq a_{1} \\geq \\ldots \\geq a_k \\geq 1$ and $a_0 + \\cdots + a_k = n$.\n",
    "\n",
    "Given partitions $\\alpha = (a_0, a_1, \\ldots, a_k)$ and $\\beta = (b_0, b_1, \\ldots, b_s)$ of $n$, one can define a complete ordering as follows. We say $\\alpha > \\beta$ if there is an index $t$ such that $a_i = b_i$ for all $i < t$ and $a_t > b_t$.\n",
    "\n",
    "For example, with `n = 6`, this ordering on paritions give us :\n",
    "```python\n",
    "(6)\n",
    "(5,1)\n",
    "(4,2)\n",
    "(4,1,1)\n",
    "(3,3)\n",
    "(3,2,1)\n",
    "(3,1,1,1)\n",
    "(2,2,2)\n",
    "(2,2,1,1)\n",
    "(2,1,1,1,1)\n",
    "(1,1,1,1,1,1)\n",
    "```\n",
    "As you may notice, it is possible to generate the next element in the list above from the previous. To do this, you keep track of the last number (and position) $a_i != 1$. You can then replace the end $$a_i, a_{i+1}, \\ldots$$ with $$a_i - 1, a_i - 1, \\ldots, r$$ where thre are $k$ repeats of $a_i -1 $ where $a_i + a_{i+1} + \\ldots = k (a_i -1 ) + r$. Note, you should only include $r$ if $r > 0$.\n",
    "\n",
    "** Remark ** On the homework, I had a partition as an increasing sequence. However, it is actually more efficient to work with a decreating sequence because appending or modyfing the tail end of a list is more efficient than inserting at the beginning. Feel free to keep your homework as is, or adapt this ordering if you prefer."
   ]
  },
  {
   "cell_type": "markdown",
   "metadata": {},
   "source": [
    "### Undoing `git add`\n",
    "\n",
    "In git, if you have accidentally called `git add` and now there is a file you do not want in your “Changes to be committed\" list, you can do the following\n",
    "```\n",
    "git reset file_name\n",
    "```\n",
    "This will remove `file_name` from the “Changes to be committed” list and it will **not** change the contents of that file. \n",
    "\n",
    "If you want to remove all files from the “Changes to be committed” and **not** change their contents, you can do \n",
    "```\n",
    "git reset\n",
    "```\n",
    "If you actually want to revert a file to how it was before you edited it\n",
    "```\n",
    "git checkout file_name\n",
    "```\n",
    "will **overwrite** `file_name` with the last version you saved/committed on that branch."
   ]
  },
  {
   "cell_type": "markdown",
   "metadata": {},
   "source": [
    "### A remark on testing\n",
    "\n",
    "I strongly suggest you start writing functions to test your algorithms. For example, if you are working on polynomial division, and you want to check that everything runs fine for some random polynomials, you could write :"
   ]
  },
  {
   "cell_type": "code",
   "execution_count": 1,
   "metadata": {},
   "outputs": [],
   "source": [
    "from random import randint, random\n",
    "\n",
    "def test_remainder_with_random(num_times) :\n",
    "    for _ in range(num_times) :\n",
    "        m = randint(1,10)\n",
    "        n = randint(1,m)\n",
    "        p_scale = randint(-10,10)\n",
    "        q_scale = randint(-10,10)\n",
    "        p = tuple([ p_scale*random() for _ in range(m) ])\n",
    "        q = tuple([ q_scale*random() for _ in range(n) ])\n",
    "        r = remainder(p,q)\n",
    "        print(r)\n",
    "        \n",
    "def test_remainder() :\n",
    "    assert remainder((1,2,4,4,6),(2,1,2)) == (3.5, 2.25)\n",
    "    print(\"Passed remainder value check\")"
   ]
  },
  {
   "cell_type": "code",
   "execution_count": 2,
   "metadata": {},
   "outputs": [
    {
     "name": "stdout",
     "output_type": "stream",
     "text": [
      "Passed remainder value check\n",
      "(-3.6966384437507855, -2.6106221646219936)\n",
      "(-5.951073464800859, -1.9772251258161524, -5.232919557471874, -2.1215612228488023)\n",
      "()\n"
     ]
    }
   ],
   "source": [
    "from poly import remainder\n",
    "\n",
    "test_remainder()\n",
    "# passed the test_remainder assertion\n",
    "test_remainder_with_random(3)"
   ]
  },
  {
   "cell_type": "markdown",
   "metadata": {
    "collapsed": true
   },
   "source": [
    "## Some modules for working with files\n",
    "\n",
    "Just like you can work with files in the command line, you might want to list directories, copy files, and get system information from within your programs. The classic modules for this task are the `os`, `shutil`, and `glob` modules."
   ]
  },
  {
   "cell_type": "code",
   "execution_count": 3,
   "metadata": {},
   "outputs": [],
   "source": [
    "import os\n",
    "import shutil\n",
    "import glob"
   ]
  },
  {
   "cell_type": "markdown",
   "metadata": {},
   "source": [
    "### File paths\n",
    "\n",
    "For the `os.path` module, paths are strings and can be manipulated as follows."
   ]
  },
  {
   "cell_type": "code",
   "execution_count": 4,
   "metadata": {},
   "outputs": [
    {
     "name": "stdout",
     "output_type": "stream",
     "text": [
      "/Users/yarmola/Teaching/python-course/lectures/week-8\n"
     ]
    }
   ],
   "source": [
    "# get the present (or current) working directory\n",
    "cur_path = os.getcwd()\n",
    "print(cur_path)"
   ]
  },
  {
   "cell_type": "code",
   "execution_count": 5,
   "metadata": {},
   "outputs": [
    {
     "name": "stdout",
     "output_type": "stream",
     "text": [
      "/Users/yarmola/Teaching/python-course/lectures\n"
     ]
    }
   ],
   "source": [
    "# get the abosulte path of a relative path\n",
    "abs_path_up = os.path.abspath('..')\n",
    "print(abs_path_up)"
   ]
  },
  {
   "cell_type": "code",
   "execution_count": 6,
   "metadata": {},
   "outputs": [
    {
     "name": "stdout",
     "output_type": "stream",
     "text": [
      "Lecture 1.pdf\n"
     ]
    }
   ],
   "source": [
    "# get the base name of a file, including the extension\n",
    "file_name = os.path.basename('../pdf/Lecture 1.pdf')\n",
    "print(file_name)"
   ]
  },
  {
   "cell_type": "code",
   "execution_count": 7,
   "metadata": {},
   "outputs": [
    {
     "name": "stdout",
     "output_type": "stream",
     "text": [
      "../week-1\n"
     ]
    }
   ],
   "source": [
    "# get the directory name\n",
    "dir_path = os.path.dirname('../week-1/Lecture 1.html')\n",
    "# NOTE : observe that the os.path module treats paths as strings\n",
    "# so the dirname is the relative directory name\n",
    "print(dir_path)"
   ]
  },
  {
   "cell_type": "code",
   "execution_count": 8,
   "metadata": {},
   "outputs": [
    {
     "name": "stdout",
     "output_type": "stream",
     "text": [
      "../../../homework/pdf\n",
      "Homework 1.pdf\n"
     ]
    }
   ],
   "source": [
    "# get both the dir and file\n",
    "dir_name, file_name = os.path.split('../../../homework/pdf/Homework 1.pdf')\n",
    "print(dir_name)\n",
    "print(file_name)"
   ]
  },
  {
   "cell_type": "code",
   "execution_count": 9,
   "metadata": {},
   "outputs": [
    {
     "name": "stdout",
     "output_type": "stream",
     "text": [
      "../week-1/Lecture 1\n",
      ".html\n"
     ]
    }
   ],
   "source": [
    "# split off the file extension\n",
    "root , ext = os.path.splitext('../week-1/Lecture 1.html')\n",
    "print(root)\n",
    "print(ext)"
   ]
  },
  {
   "cell_type": "code",
   "execution_count": 10,
   "metadata": {},
   "outputs": [
    {
     "name": "stdout",
     "output_type": "stream",
     "text": [
      "False\n",
      "True\n"
     ]
    }
   ],
   "source": [
    "# check if a path is absolute\n",
    "print(os.path.isabs('../week-1/Lecture 1.html'))\n",
    "print(os.path.isabs('/Users/'))"
   ]
  },
  {
   "cell_type": "code",
   "execution_count": 11,
   "metadata": {},
   "outputs": [
    {
     "name": "stdout",
     "output_type": "stream",
     "text": [
      "/Users/yarmola/Teaching/python-course/lectures/week-2/Lecture 2.html\n"
     ]
    }
   ],
   "source": [
    "# returns a canonial path for a file\n",
    "print(os.path.realpath('../week-1/../week-2/Lecture 2.html'))"
   ]
  },
  {
   "cell_type": "code",
   "execution_count": 12,
   "metadata": {},
   "outputs": [
    {
     "name": "stdout",
     "output_type": "stream",
     "text": [
      "/Users/yarmola/Teaching/python-course/lectures/week-9/Lecture 9.doc\n"
     ]
    }
   ],
   "source": [
    "# joint one path relative to another (or several)\n",
    "old_path = \"/Users/yarmola/\"\n",
    "new_path = os.path.join(old_path, 'Teaching', 'python-course/lectures/week-9',\n",
    "                        'Lecture 9.doc')\n",
    "print(new_path)\n",
    "# Notice that os.path.join takes care of all the slashes for you"
   ]
  },
  {
   "cell_type": "markdown",
   "metadata": {},
   "source": [
    "The `os.path` module **does not automatically check for you if a file at a given path actually exists**. To do this, you can specifically check :"
   ]
  },
  {
   "cell_type": "code",
   "execution_count": 13,
   "metadata": {},
   "outputs": [
    {
     "name": "stdout",
     "output_type": "stream",
     "text": [
      "False\n"
     ]
    }
   ],
   "source": [
    "# check if there really is a file at a given path\n",
    "print(os.path.isfile(new_path))"
   ]
  },
  {
   "cell_type": "code",
   "execution_count": 14,
   "metadata": {},
   "outputs": [
    {
     "name": "stdout",
     "output_type": "stream",
     "text": [
      "True\n"
     ]
    }
   ],
   "source": [
    "# check if there really is a dir at a path\n",
    "print(os.path.isdir('/Users'))"
   ]
  },
  {
   "cell_type": "markdown",
   "metadata": {},
   "source": [
    "### Copy, move, delete and rename files and directories\n",
    "\n",
    "The `shutil` and `os` modules contains all the useful tools for these operations. Here are some examples"
   ]
  },
  {
   "cell_type": "code",
   "execution_count": 15,
   "metadata": {},
   "outputs": [
    {
     "name": "stdout",
     "output_type": "stream",
     "text": [
      "new_data.json\n"
     ]
    }
   ],
   "source": [
    "# copy file or directory\n",
    "path_of_copy = shutil.copy('json_data.json', 'new_data.json')\n",
    "print(path_of_copy)"
   ]
  },
  {
   "cell_type": "code",
   "execution_count": 16,
   "metadata": {},
   "outputs": [],
   "source": [
    "# delete\n",
    "os.remove(path_of_copy)"
   ]
  },
  {
   "cell_type": "code",
   "execution_count": 17,
   "metadata": {},
   "outputs": [],
   "source": [
    "# make direcory\n",
    "os.mkdir('test_dir_new')"
   ]
  },
  {
   "cell_type": "code",
   "execution_count": 18,
   "metadata": {},
   "outputs": [],
   "source": [
    "# remove directory\n",
    "os.rmdir('test_dir_new')"
   ]
  },
  {
   "cell_type": "code",
   "execution_count": 19,
   "metadata": {},
   "outputs": [],
   "source": [
    "# change current working directory\n",
    "# this is the same as `cd` in the terminal app\n",
    "os.chdir('..')"
   ]
  },
  {
   "cell_type": "markdown",
   "metadata": {},
   "source": [
    "### Walking a directory tree\n",
    "\n",
    "There are two useful tools to walk a directory tree. First there is `os.walk`"
   ]
  },
  {
   "cell_type": "code",
   "execution_count": 20,
   "metadata": {},
   "outputs": [
    {
     "name": "stdout",
     "output_type": "stream",
     "text": [
      "========================================\n",
      "The root directory is : week-8/demo\n",
      "----------------------------------------\n",
      "The root directory has subdirectories:\n",
      "demo2\n",
      "demo3\n",
      "----------------------------------------\n",
      "The root directory has files:\n",
      "file1\n",
      "========================================\n",
      "\n",
      "\n",
      "========================================\n",
      "The root directory is : week-8/demo/demo2\n",
      "----------------------------------------\n",
      "The root directory has subdirectories:\n",
      "----------------------------------------\n",
      "The root directory has files:\n",
      "file2\n",
      "========================================\n",
      "\n",
      "\n",
      "========================================\n",
      "The root directory is : week-8/demo/demo3\n",
      "----------------------------------------\n",
      "The root directory has subdirectories:\n",
      "----------------------------------------\n",
      "The root directory has files:\n",
      "file3\n",
      "file4\n",
      "========================================\n",
      "\n",
      "\n"
     ]
    }
   ],
   "source": [
    "for root, dirs, files in os.walk('week-8/demo') :\n",
    "    print('='*40)\n",
    "    print(\"The root directory is :\", root)\n",
    "    print('-'*40)\n",
    "    print(\"The root directory has subdirectories:\", *dirs, sep='\\n' )\n",
    "    print('-'*40)\n",
    "    print(\"The root directory has files:\", *files, sep='\\n')\n",
    "    print('='*40)\n",
    "    print('\\n')"
   ]
  },
  {
   "cell_type": "markdown",
   "metadata": {},
   "source": [
    "The second one is uses the **wildcard** character `*` **in path names** (this is **not** the python list unpacking notation!). For example, you can consider a path `../Lectures/*.pdf` which **matches** any path where you replace `*` with a file name.\n",
    "\n",
    "* `glob.iglob(path, recursive=False)`\n",
    "   * return a possibly-empty list of path names that match `path`.  The argument `path` can be either absolute (like `/Users/yarmola/*`) or relative (like `../../Tools/*/*.gif`), and can contain shell-style wildcards.\n",
    "   * if you set recursive = True then `**` will match any files and zero or more directories and subdirectories.\n",
    "\n"
   ]
  },
  {
   "cell_type": "code",
   "execution_count": 21,
   "metadata": {},
   "outputs": [
    {
     "name": "stdout",
     "output_type": "stream",
     "text": [
      "../projects\n",
      "../solutions\n",
      "../homework\n",
      "../lectures\n"
     ]
    }
   ],
   "source": [
    "# print all files and directories relative to ..\n",
    "for x in glob.iglob(\"../*\") :\n",
    "    print(x)"
   ]
  },
  {
   "cell_type": "code",
   "execution_count": 22,
   "metadata": {},
   "outputs": [
    {
     "name": "stdout",
     "output_type": "stream",
     "text": [
      "pdf/Lecture 3.pdf\n",
      "pdf/Lecture 2.pdf\n",
      "pdf/Lecture 1.pdf\n",
      "pdf/Lecture 5.pdf\n",
      "pdf/Lecture 4.pdf\n",
      "pdf/Lecture 6.pdf\n",
      "pdf/Lecture 7.pdf\n"
     ]
    }
   ],
   "source": [
    "# get all pdf files in the given directory\n",
    "for x in glob.iglob(\"pdf/*.pdf\") :\n",
    "    print(x)"
   ]
  },
  {
   "cell_type": "code",
   "execution_count": 23,
   "metadata": {},
   "outputs": [
    {
     "name": "stdout",
     "output_type": "stream",
     "text": [
      "../homework/pdf/Homework 1.pdf\n",
      "../homework/pdf/Homework 3.pdf\n",
      "../homework/pdf/Homework 2.pdf\n",
      "../homework/pdf/Homework 6.pdf\n",
      "../homework/pdf/Homework 7.pdf\n",
      "../homework/pdf/Homework 5.pdf\n",
      "../homework/pdf/Homework 4.pdf\n",
      "../lectures/pdf/Lecture 3.pdf\n",
      "../lectures/pdf/Lecture 2.pdf\n",
      "../lectures/pdf/Lecture 1.pdf\n",
      "../lectures/pdf/Lecture 5.pdf\n",
      "../lectures/pdf/Lecture 4.pdf\n",
      "../lectures/pdf/Lecture 6.pdf\n",
      "../lectures/pdf/Lecture 7.pdf\n"
     ]
    }
   ],
   "source": [
    "# get all pdf files two directories down\n",
    "for x in glob.iglob(\"../*/*/*.pdf\") :\n",
    "    print(x)"
   ]
  },
  {
   "cell_type": "code",
   "execution_count": 26,
   "metadata": {},
   "outputs": [
    {
     "name": "stdout",
     "output_type": "stream",
     "text": [
      "week-8/demo/\n",
      "week-8/demo/demo2\n",
      "week-8/demo/demo2/file2\n",
      "week-8/demo/demo3\n",
      "week-8/demo/demo3/file3\n",
      "week-8/demo/demo3/file4\n",
      "week-8/demo/file1\n"
     ]
    }
   ],
   "source": [
    "# get all directories and files in the tree below ..\n",
    "for x in glob.iglob(\"week-8/demo/**\", recursive = True) :\n",
    "    print(x)"
   ]
  },
  {
   "cell_type": "markdown",
   "metadata": {},
   "source": [
    "## Overloading operators"
   ]
  },
  {
   "cell_type": "markdown",
   "metadata": {},
   "source": [
    "You might want to write a class where you can use the operators `+`, `-`, `*`,`/`, `//`, `%`, `pow`, etc. For example, you might want to build a (multiplicative) cyclic group. "
   ]
  },
  {
   "cell_type": "code",
   "execution_count": 27,
   "metadata": {},
   "outputs": [],
   "source": [
    "class CyclicGroupElement :\n",
    "    group_order = 10\n",
    "    def __init__(self, power = 1) :\n",
    "        assert isinstance(power, int)\n",
    "        self._power = power % CyclicGroupElement.group_order\n",
    "    def __mul__(self, other) :\n",
    "        new_power = self._power + other._power\n",
    "        return CyclicGroupElement(new_power)\n",
    "    def __str__(self) :\n",
    "        # return a string showing a human readable description of self\n",
    "        return 'x^{}'.format(self._power)"
   ]
  },
  {
   "cell_type": "code",
   "execution_count": 28,
   "metadata": {},
   "outputs": [],
   "source": [
    "a = CyclicGroupElement()\n",
    "b = CyclicGroupElement(3)"
   ]
  },
  {
   "cell_type": "code",
   "execution_count": 29,
   "metadata": {},
   "outputs": [
    {
     "data": {
      "text/plain": [
       "<__main__.CyclicGroupElement at 0x10ce90080>"
      ]
     },
     "execution_count": 29,
     "metadata": {},
     "output_type": "execute_result"
    }
   ],
   "source": [
    "a*b"
   ]
  },
  {
   "cell_type": "code",
   "execution_count": 30,
   "metadata": {},
   "outputs": [
    {
     "name": "stdout",
     "output_type": "stream",
     "text": [
      "x^3\n"
     ]
    }
   ],
   "source": [
    "print(a*b*b*b*b)"
   ]
  },
  {
   "cell_type": "markdown",
   "metadata": {},
   "source": [
    "Above, I defined functions `__mul__(self, other)` and `__str__(self)`. As you may have guessed, `__mul__` is the function that is called when I use the multiply command. Notice that since the arguments of `__mul__` are ordered, we can, if we wish, define non-commutative multiplication.\n",
    "\n",
    "The `__str__` method is used by the `print` function. The return value should always be a string that is a human readable description of your instance.\n",
    "\n",
    "If we try to use any other operators, we will fail :"
   ]
  },
  {
   "cell_type": "code",
   "execution_count": 31,
   "metadata": {},
   "outputs": [
    {
     "ename": "TypeError",
     "evalue": "unsupported operand type(s) for +: 'CyclicGroupElement' and 'CyclicGroupElement'",
     "output_type": "error",
     "traceback": [
      "\u001b[0;31m---------------------------------------------------------------------------\u001b[0m",
      "\u001b[0;31mTypeError\u001b[0m                                 Traceback (most recent call last)",
      "\u001b[0;32m<ipython-input-31-ca730b97bf8a>\u001b[0m in \u001b[0;36m<module>\u001b[0;34m()\u001b[0m\n\u001b[0;32m----> 1\u001b[0;31m \u001b[0ma\u001b[0m\u001b[0;34m+\u001b[0m\u001b[0mb\u001b[0m\u001b[0;34m\u001b[0m\u001b[0m\n\u001b[0m",
      "\u001b[0;31mTypeError\u001b[0m: unsupported operand type(s) for +: 'CyclicGroupElement' and 'CyclicGroupElement'"
     ]
    }
   ],
   "source": [
    "a+b"
   ]
  },
  {
   "cell_type": "markdown",
   "metadata": {},
   "source": [
    "Here is a list of **some** operators you know and their corresponding function names. Below, everywhere you see objects `a,b` in the methods you have `self == a` and `other == b`\n",
    "\n",
    "   * `a + b` corresponds to `__add__(self, other)` \n",
    "   * `a - b` corresponds to `__sub__(self, other)`\n",
    "   * `a*b` corresponds to `__mul__(self, other)`\n",
    "   * `a/b` corresponds to `__truediv__(self, other)`\n",
    "   * `a//b` corresponds to `__floordiv__(self, other)`\n",
    "   * `a % b` corresponds to `__mod__(self, other)`\n",
    "   * `divmod(a,b)` corresponds to `__divmod__(self, other)`\n",
    "      * you should have that `divmod(a,b) = (a//b, a % b)` for your implementation\n",
    "   * `a ** b` or `pow(a,b,n)` corresponds to `__pow__(self, other[, modulo])` where `modulo == n`\n",
    "   * `len(a)` corresponds to `__len__(self)` (if your object has some sense of \"length\")\n",
    "   * `a < b` corresponds to `__lt__(self, other)`\n",
    "   * `a <= b` corresponds to `__le__(self, other)`\n",
    "   * `a == b` corresponds to `__eq__(self, other)`\n",
    "   * `a != b` corresponds to `__ne__(self, other)`\n",
    "   * `a > b` corresponds to `__gt__(self, other)`\n",
    "   * `a >= b` corresponds to `__ge__(self, other)`\n",
    "   * `repr(a)` corresponds to `__repr__(self)`\n",
    "      * this is the string you see in your interpreter if you just type `a` followed by ENTER\n",
    "   * `str(a)` corresponds to `__str__(self)`\n",
    "      * this is the string you see when you call `print(a)`\n",
    "\n",
    "You can find a full list at : https://docs.python.org/3/reference/datamodel.html#special-method-names\n",
    "\n",
    "Let's add some more of these to our `CyclicGroupElement` object."
   ]
  },
  {
   "cell_type": "code",
   "execution_count": 32,
   "metadata": {},
   "outputs": [],
   "source": [
    "def CyclicGroup(group_order) :\n",
    "    class CyclicGroupElement :\n",
    "        def __init__(self, power = 1) :\n",
    "            assert isinstance(power, int)\n",
    "            self._power = power % self.group_order\n",
    "            \n",
    "        @property\n",
    "        def group_order(self) :\n",
    "            return CyclicGroupElement._group_order\n",
    "        \n",
    "        def __mul__(self, other) :\n",
    "            # so that we don't crash comparing group orders\n",
    "            if not isinstance(other, CyclicGroupElement) :\n",
    "                # this tells python that we can't do the operation\n",
    "                return NotImplemented\n",
    "            return CyclicGroupElement(self._power + other._power)\n",
    "        \n",
    "        def __truediv__(self, other) :\n",
    "            if not isinstance(other, CyclicGroupElement) :\n",
    "                return NotImplemented\n",
    "            return CyclicGroupElement(self._power - other._power)\n",
    "        \n",
    "        def __str__(self) :\n",
    "            return 'x^{}'.format(self._power)\n",
    "        \n",
    "        def __repr__(self) :\n",
    "            return str(self)\n",
    "    \n",
    "    CyclicGroupElement._group_order = group_order\n",
    "    return CyclicGroupElement\n",
    "    "
   ]
  },
  {
   "cell_type": "code",
   "execution_count": 33,
   "metadata": {},
   "outputs": [
    {
     "name": "stdout",
     "output_type": "stream",
     "text": [
      "x^4\n",
      "x^2\n"
     ]
    }
   ],
   "source": [
    "# the cyclic group class that lets us build elements\n",
    "C_10 = CyclicGroup(10)\n",
    "\n",
    "# some elements\n",
    "a = C_10(4)\n",
    "b = C_10(12)\n",
    "\n",
    "print(a)\n",
    "print(b)"
   ]
  },
  {
   "cell_type": "code",
   "execution_count": 34,
   "metadata": {},
   "outputs": [
    {
     "data": {
      "text/plain": [
       "x^6"
      ]
     },
     "execution_count": 34,
     "metadata": {},
     "output_type": "execute_result"
    }
   ],
   "source": [
    "a*b"
   ]
  },
  {
   "cell_type": "code",
   "execution_count": 35,
   "metadata": {},
   "outputs": [
    {
     "data": {
      "text/plain": [
       "x^2"
      ]
     },
     "execution_count": 35,
     "metadata": {},
     "output_type": "execute_result"
    }
   ],
   "source": [
    "a/b"
   ]
  },
  {
   "cell_type": "code",
   "execution_count": 36,
   "metadata": {},
   "outputs": [
    {
     "ename": "TypeError",
     "evalue": "unsupported operand type(s) for *: 'CyclicGroupElement' and 'int'",
     "output_type": "error",
     "traceback": [
      "\u001b[0;31m---------------------------------------------------------------------------\u001b[0m",
      "\u001b[0;31mTypeError\u001b[0m                                 Traceback (most recent call last)",
      "\u001b[0;32m<ipython-input-36-269f58b28805>\u001b[0m in \u001b[0;36m<module>\u001b[0;34m()\u001b[0m\n\u001b[0;32m----> 1\u001b[0;31m \u001b[0ma\u001b[0m\u001b[0;34m*\u001b[0m\u001b[0;36m2\u001b[0m\u001b[0;34m\u001b[0m\u001b[0m\n\u001b[0m\u001b[1;32m      2\u001b[0m \u001b[0;31m# tries to call a.__mul__(2)\u001b[0m\u001b[0;34m\u001b[0m\u001b[0;34m\u001b[0m\u001b[0m\n\u001b[1;32m      3\u001b[0m \u001b[0;31m# where other == 2, since we return\u001b[0m\u001b[0;34m\u001b[0m\u001b[0;34m\u001b[0m\u001b[0m\n\u001b[1;32m      4\u001b[0m \u001b[0;31m# NotImplemented, we get a TypeError\u001b[0m\u001b[0;34m\u001b[0m\u001b[0;34m\u001b[0m\u001b[0m\n",
      "\u001b[0;31mTypeError\u001b[0m: unsupported operand type(s) for *: 'CyclicGroupElement' and 'int'"
     ]
    }
   ],
   "source": [
    "a*2\n",
    "# tries to call a.__mul__(2)\n",
    "# where other == 2, since we return\n",
    "# NotImplemented, we get a TypeError"
   ]
  },
  {
   "cell_type": "markdown",
   "metadata": {},
   "source": [
    "There are several key things we are doing here at the same time. Let us first focus on the `class CyclicGroupElement`. This class tells us how to build, multiply, divide, and represent elements on a cyclic group. Notice that when I write the multiplication or division functions, I am careful to check the type of `other`. The keyword `self` is always guaranteed to be of the correct type, however, we don't know about `other`. The `NotImplemented` keyword tells python that a `TypeError` has occurred because we don't know how to perform the operation.\n",
    "\n",
    "\n",
    "The second key point is the **nesting of a class inside a function**. Let's look at what the function `CyclicGroup(group_order)` actually returns."
   ]
  },
  {
   "cell_type": "code",
   "execution_count": 37,
   "metadata": {},
   "outputs": [
    {
     "data": {
      "text/plain": [
       "\"<class '__main__.CyclicGroup.<locals>.CyclicGroupElement'>\""
      ]
     },
     "execution_count": 37,
     "metadata": {},
     "output_type": "execute_result"
    }
   ],
   "source": [
    "repr(CyclicGroup(10))"
   ]
  },
  {
   "cell_type": "markdown",
   "metadata": {},
   "source": [
    "So `CyclicGroup` is the `class CyclicGroupElement`, however, it's a little more than that. In fact, every time we call `CyclicGroup(n)` we obtain a **new class (description) object** with the specific condition that `CyclicGroup(n)._group_order == n`. This is a rather complicated concept, but we can demonstrate this was follows :"
   ]
  },
  {
   "cell_type": "code",
   "execution_count": 38,
   "metadata": {},
   "outputs": [],
   "source": [
    "C_10 = CyclicGroup(10)\n",
    "C_10_again = CyclicGroup(10)"
   ]
  },
  {
   "cell_type": "code",
   "execution_count": 39,
   "metadata": {},
   "outputs": [
    {
     "data": {
      "text/plain": [
       "140700292636616"
      ]
     },
     "execution_count": 39,
     "metadata": {},
     "output_type": "execute_result"
    }
   ],
   "source": [
    "id(C_10)"
   ]
  },
  {
   "cell_type": "code",
   "execution_count": 40,
   "metadata": {},
   "outputs": [
    {
     "data": {
      "text/plain": [
       "140700292638200"
      ]
     },
     "execution_count": 40,
     "metadata": {},
     "output_type": "execute_result"
    }
   ],
   "source": [
    "id(C_10_again)"
   ]
  },
  {
   "cell_type": "markdown",
   "metadata": {},
   "source": [
    " You should literaly think of `G_10` and `G_10_again` as two **different** group of order 10."
   ]
  },
  {
   "cell_type": "code",
   "execution_count": 41,
   "metadata": {},
   "outputs": [
    {
     "ename": "TypeError",
     "evalue": "unsupported operand type(s) for *: 'CyclicGroupElement' and 'CyclicGroupElement'",
     "output_type": "error",
     "traceback": [
      "\u001b[0;31m---------------------------------------------------------------------------\u001b[0m",
      "\u001b[0;31mTypeError\u001b[0m                                 Traceback (most recent call last)",
      "\u001b[0;32m<ipython-input-41-62d608b3e606>\u001b[0m in \u001b[0;36m<module>\u001b[0;34m()\u001b[0m\n\u001b[1;32m      1\u001b[0m \u001b[0ma\u001b[0m \u001b[0;34m=\u001b[0m \u001b[0mC_10\u001b[0m\u001b[0;34m(\u001b[0m\u001b[0;36m4\u001b[0m\u001b[0;34m)\u001b[0m\u001b[0;34m\u001b[0m\u001b[0m\n\u001b[1;32m      2\u001b[0m \u001b[0mb\u001b[0m \u001b[0;34m=\u001b[0m \u001b[0mC_10_again\u001b[0m\u001b[0;34m(\u001b[0m\u001b[0;36m5\u001b[0m\u001b[0;34m)\u001b[0m\u001b[0;34m\u001b[0m\u001b[0m\n\u001b[0;32m----> 3\u001b[0;31m \u001b[0ma\u001b[0m\u001b[0;34m*\u001b[0m\u001b[0mb\u001b[0m\u001b[0;34m\u001b[0m\u001b[0m\n\u001b[0m",
      "\u001b[0;31mTypeError\u001b[0m: unsupported operand type(s) for *: 'CyclicGroupElement' and 'CyclicGroupElement'"
     ]
    }
   ],
   "source": [
    "a = C_10(4)\n",
    "b = C_10_again(5)\n",
    "a*b"
   ]
  },
  {
   "cell_type": "markdown",
   "metadata": {},
   "source": [
    "The reason we get an error here is that `a` and `b` are in different groups. Programmatically speaking, they are of different types (i.e. instances of different classes). Thus, when in multiple I check `isinstance(other, CyclicGroupElement)` where `other == b`, I get `False`."
   ]
  },
  {
   "cell_type": "code",
   "execution_count": 42,
   "metadata": {},
   "outputs": [
    {
     "data": {
      "text/plain": [
       "False"
      ]
     },
     "execution_count": 42,
     "metadata": {},
     "output_type": "execute_result"
    }
   ],
   "source": [
    "type(a) == type(b)"
   ]
  },
  {
   "cell_type": "markdown",
   "metadata": {},
   "source": [
    "Thus, every time we call `CyclicGroup(n)` we get a **new recipe** on how to make `CyclicGroupElement`'s. This is why we can have different groups with different orders and nothing will collide!"
   ]
  },
  {
   "cell_type": "code",
   "execution_count": 43,
   "metadata": {},
   "outputs": [],
   "source": [
    "C_127 = CyclicGroup(127)"
   ]
  },
  {
   "cell_type": "code",
   "execution_count": 44,
   "metadata": {},
   "outputs": [],
   "source": [
    "a = C_127(23)\n",
    "b = C_10(6)"
   ]
  }
 ],
 "metadata": {
  "anaconda-cloud": {},
  "kernelspec": {
   "display_name": "Python 3",
   "language": "python",
   "name": "python3"
  },
  "language_info": {
   "codemirror_mode": {
    "name": "ipython",
    "version": 3
   },
   "file_extension": ".py",
   "mimetype": "text/x-python",
   "name": "python",
   "nbconvert_exporter": "python",
   "pygments_lexer": "ipython3",
   "version": "3.6.5"
  }
 },
 "nbformat": 4,
 "nbformat_minor": 1
}
