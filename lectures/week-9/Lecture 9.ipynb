{
 "cells": [
  {
   "cell_type": "markdown",
   "metadata": {},
   "source": [
    "# Introduction to Programming Lecture 9\n",
    "\n",
    "* Instructor :  Andrew Yarmola [andrew.yarmola@uni.lu](mailto:andrew.yarmola@uni.lu)\n",
    "* Course Schedule : Wednesday 14h00 - 15h30 Campus Kirchberg B21\n",
    "* Course Website : [sites.google.com/site/andrewyarmola/itp-uni-lux](https://sites.google.com/site/andrewyarmola/itp-uni-lux)\n",
    "* Office Hours : Thursday 16h00 - 17h00 Campus Kirchberg G103 and by appointment.\n",
    "\n",
    "## Remarks on homework and questions\n",
    "\n",
    "For Exercise 2b on Homework 8, I forgot to list `__rsub__` as something you should implement."
   ]
  },
  {
   "cell_type": "markdown",
   "metadata": {},
   "source": [
    "## A few remarks"
   ]
  },
  {
   "cell_type": "markdown",
   "metadata": {},
   "source": [
    "### Function annotation\n",
    "\n",
    "If you ever encoutner something like"
   ]
  },
  {
   "cell_type": "code",
   "execution_count": 1,
   "metadata": {},
   "outputs": [],
   "source": [
    "def add(x : int, y : int) -> int:\n",
    "    return x + y"
   ]
  },
  {
   "cell_type": "markdown",
   "metadata": {},
   "source": [
    "know that this is simply **function annotation**. It is simply for **readabily** and **has no impact on how the code runs.** Python will **not** check the types for you if you write code this way. The above is **equivalent** to"
   ]
  },
  {
   "cell_type": "code",
   "execution_count": 2,
   "metadata": {},
   "outputs": [],
   "source": [
    "def add(x,y) :\n",
    "    return x + y"
   ]
  },
  {
   "cell_type": "markdown",
   "metadata": {},
   "source": [
    "### Property deletion\n",
    "\n",
    "When we talked about the `@property` decorator, we implemented getters and setters. One other property operation you might want to do is **deletion**. For example, you might have an object that creates a very large amount of data that you only use once or twice but it becomes invalid after you change something or you just want to delete it. We can use the `@property_name.deleter` syntax. Here is an example :"
   ]
  },
  {
   "cell_type": "code",
   "execution_count": 3,
   "metadata": {},
   "outputs": [],
   "source": [
    "import random\n",
    "\n",
    "class RandomData :\n",
    "    def __init__(self) :\n",
    "        self._size = 0\n",
    "    @property\n",
    "    def data_size(self) :\n",
    "        return self._size\n",
    "    @property\n",
    "    def data(self) :\n",
    "        if hasattr(self, '_data') is False :\n",
    "            print(\"Generating data.\")\n",
    "            self._data = random.sample(range(1000000),100000)\n",
    "            self._size = 100000\n",
    "        return tuple(self._data)\n",
    "    \n",
    "    @data.deleter\n",
    "    def data(self) :\n",
    "        # do any cleanup\n",
    "        print(\"Cleaning up.\")\n",
    "        self._size = 0\n",
    "        del self._data"
   ]
  },
  {
   "cell_type": "code",
   "execution_count": 4,
   "metadata": {},
   "outputs": [
    {
     "name": "stdout",
     "output_type": "stream",
     "text": [
      "0\n",
      "Generating data.\n",
      "100000\n",
      "100000\n",
      "100000\n",
      "Cleaning up.\n",
      "0\n",
      "Generating data.\n",
      "100000\n",
      "Cleaning up.\n"
     ]
    }
   ],
   "source": [
    "a = RandomData()\n",
    "print(a.data_size)\n",
    "\n",
    "print(len(a.data))\n",
    "print(len(a.data))\n",
    "\n",
    "print(a.data_size)\n",
    "\n",
    "del a.data\n",
    "\n",
    "print(a.data_size)\n",
    "\n",
    "print(len(a.data))\n",
    "\n",
    "del a.data"
   ]
  },
  {
   "cell_type": "markdown",
   "metadata": {},
   "source": [
    "** Remark ** If you don't declare a setter or a deleter, python will not let a user set or delete a property using the nice property syntax. **You don't have to declare a deleter (or setter) unless you think a user will want it.**"
   ]
  },
  {
   "cell_type": "markdown",
   "metadata": {},
   "source": [
    "### Requiring keyword arguments without defaults\n",
    "\n",
    "It might happen that you want to require some keyword arguments in your code, here is the simple way to do that"
   ]
  },
  {
   "cell_type": "code",
   "execution_count": 5,
   "metadata": {},
   "outputs": [],
   "source": [
    "def do_stuff(arg1, arg2, *, required_keyword) :\n",
    "    print(arg1, arg2, required_keyword)"
   ]
  },
  {
   "cell_type": "code",
   "execution_count": 6,
   "metadata": {},
   "outputs": [
    {
     "ename": "TypeError",
     "evalue": "do_stuff() missing 1 required keyword-only argument: 'required_keyword'",
     "output_type": "error",
     "traceback": [
      "\u001b[0;31m---------------------------------------------------------------------------\u001b[0m",
      "\u001b[0;31mTypeError\u001b[0m                                 Traceback (most recent call last)",
      "\u001b[0;32m<ipython-input-6-336a68e59b02>\u001b[0m in \u001b[0;36m<module>\u001b[0;34m()\u001b[0m\n\u001b[0;32m----> 1\u001b[0;31m \u001b[0mdo_stuff\u001b[0m\u001b[0;34m(\u001b[0m\u001b[0;36m1\u001b[0m\u001b[0;34m,\u001b[0m\u001b[0;36m2\u001b[0m\u001b[0;34m)\u001b[0m\u001b[0;34m\u001b[0m\u001b[0m\n\u001b[0m",
      "\u001b[0;31mTypeError\u001b[0m: do_stuff() missing 1 required keyword-only argument: 'required_keyword'"
     ]
    }
   ],
   "source": [
    "do_stuff(1,2)"
   ]
  },
  {
   "cell_type": "code",
   "execution_count": 7,
   "metadata": {},
   "outputs": [
    {
     "name": "stdout",
     "output_type": "stream",
     "text": [
      "1 2 None\n"
     ]
    }
   ],
   "source": [
    "do_stuff(1,2, required_keyword = None)"
   ]
  },
  {
   "cell_type": "code",
   "execution_count": 8,
   "metadata": {},
   "outputs": [
    {
     "ename": "TypeError",
     "evalue": "do_stuff() takes 2 positional arguments but 3 positional arguments (and 1 keyword-only argument) were given",
     "output_type": "error",
     "traceback": [
      "\u001b[0;31m---------------------------------------------------------------------------\u001b[0m",
      "\u001b[0;31mTypeError\u001b[0m                                 Traceback (most recent call last)",
      "\u001b[0;32m<ipython-input-8-d710f5cefb17>\u001b[0m in \u001b[0;36m<module>\u001b[0;34m()\u001b[0m\n\u001b[1;32m      1\u001b[0m \u001b[0;31m# the * doesn't eat extra positional arguments\u001b[0m\u001b[0;34m\u001b[0m\u001b[0;34m\u001b[0m\u001b[0m\n\u001b[0;32m----> 2\u001b[0;31m \u001b[0mdo_stuff\u001b[0m\u001b[0;34m(\u001b[0m\u001b[0;36m1\u001b[0m\u001b[0;34m,\u001b[0m \u001b[0;36m2\u001b[0m\u001b[0;34m,\u001b[0m \u001b[0;36m4\u001b[0m\u001b[0;34m,\u001b[0m \u001b[0mrequired_keyword\u001b[0m \u001b[0;34m=\u001b[0m \u001b[0;32mNone\u001b[0m\u001b[0;34m)\u001b[0m\u001b[0;34m\u001b[0m\u001b[0m\n\u001b[0m",
      "\u001b[0;31mTypeError\u001b[0m: do_stuff() takes 2 positional arguments but 3 positional arguments (and 1 keyword-only argument) were given"
     ]
    }
   ],
   "source": [
    "# the * doesn't eat extra positional arguments\n",
    "do_stuff(1, 2, 4, required_keyword = None)"
   ]
  },
  {
   "cell_type": "code",
   "execution_count": 9,
   "metadata": {},
   "outputs": [],
   "source": [
    "def do_stuff_v2(arg1, arg2, *rest, required_keyword) :\n",
    "    print(arg1, arg2, required_keyword, rest)"
   ]
  },
  {
   "cell_type": "code",
   "execution_count": 10,
   "metadata": {},
   "outputs": [
    {
     "ename": "TypeError",
     "evalue": "do_stuff_v2() missing 1 required keyword-only argument: 'required_keyword'",
     "output_type": "error",
     "traceback": [
      "\u001b[0;31m---------------------------------------------------------------------------\u001b[0m",
      "\u001b[0;31mTypeError\u001b[0m                                 Traceback (most recent call last)",
      "\u001b[0;32m<ipython-input-10-9deba46a8357>\u001b[0m in \u001b[0;36m<module>\u001b[0;34m()\u001b[0m\n\u001b[1;32m      1\u001b[0m \u001b[0;31m# a * followed by a varaible name, does\u001b[0m\u001b[0;34m\u001b[0m\u001b[0;34m\u001b[0m\u001b[0m\n\u001b[0;32m----> 2\u001b[0;31m \u001b[0mdo_stuff_v2\u001b[0m\u001b[0;34m(\u001b[0m\u001b[0;36m1\u001b[0m\u001b[0;34m,\u001b[0m \u001b[0;36m2\u001b[0m\u001b[0;34m,\u001b[0m \u001b[0;36m4\u001b[0m\u001b[0;34m,\u001b[0m \u001b[0;36m4\u001b[0m\u001b[0;34m,\u001b[0m \u001b[0;36m5\u001b[0m\u001b[0;34m,\u001b[0m \u001b[0;36m6\u001b[0m\u001b[0;34m)\u001b[0m\u001b[0;34m\u001b[0m\u001b[0m\n\u001b[0m",
      "\u001b[0;31mTypeError\u001b[0m: do_stuff_v2() missing 1 required keyword-only argument: 'required_keyword'"
     ]
    }
   ],
   "source": [
    "# a * followed by a varaible name, does\n",
    "do_stuff_v2(1, 2, 4, 4, 5, 6)"
   ]
  },
  {
   "cell_type": "code",
   "execution_count": 11,
   "metadata": {},
   "outputs": [
    {
     "name": "stdout",
     "output_type": "stream",
     "text": [
      "1 2 None (4, 4, 5, 6)\n"
     ]
    }
   ],
   "source": [
    "do_stuff_v2(1, 2, 4, 4, 5, 6, required_keyword = None)"
   ]
  },
  {
   "cell_type": "markdown",
   "metadata": {},
   "source": [
    "### The idea of a callback\n",
    "\n",
    "The notion of a **callback** is a very useful tool in my programming problems. A **callback** is simply a function that you call once a process (i.e. another function) has finished. Here is a simple example :"
   ]
  },
  {
   "cell_type": "code",
   "execution_count": 12,
   "metadata": {},
   "outputs": [],
   "source": [
    "class Aggregator :\n",
    "    def __init__(self) :\n",
    "        self._count = 0\n",
    "        self._total = 0\n",
    "    @property\n",
    "    def count(self) :\n",
    "        return self._count\n",
    "    @property\n",
    "    def total(self) :\n",
    "        return self._total\n",
    "    def incriment(self, val) :\n",
    "        print(\"Incrimenting total and count\")\n",
    "        self._count += 1\n",
    "        self._total += val\n",
    "        \n",
    "def some_function(n, *, callback) :\n",
    "    # do stuff\n",
    "    result = 1/n\n",
    "    callback(result)"
   ]
  },
  {
   "cell_type": "code",
   "execution_count": 13,
   "metadata": {},
   "outputs": [
    {
     "name": "stdout",
     "output_type": "stream",
     "text": [
      "Incrimenting total and count\n",
      "Incrimenting total and count\n",
      "Incrimenting total and count\n",
      "Have 0.5595238095238095 total and called 3 times\n"
     ]
    }
   ],
   "source": [
    "agr = Aggregator()\n",
    "\n",
    "some_function(4, callback = agr.incriment)\n",
    "some_function(6, callback = agr.incriment)\n",
    "some_function(7, callback = agr.incriment)\n",
    "\n",
    "print(\"Have {} total and called {} times\". format(agr.total, agr.count))"
   ]
  },
  {
   "cell_type": "markdown",
   "metadata": {},
   "source": [
    "As you can see above, I was able to store counters and see how many times my callback as been used. This can be very useful if your code doesn't admit a nice `for` loop for you to keep track of things, or you have a parallelized comptuation."
   ]
  },
  {
   "cell_type": "markdown",
   "metadata": {},
   "source": [
    "## Functional programming\n",
    "\n",
    "As we have seen, functions are objects in python. Thus, it is only natural that there would be many tools for manipulating functions and applying them in clever ways. We have already seen tools such as `map`. Here are a few more."
   ]
  },
  {
   "cell_type": "markdown",
   "metadata": {},
   "source": [
    "### `lambda` and anonymous function\n",
    "\n",
    "Python allows for the creation of (**simple**) functions using $\\lambda$-calculus notation. Let's start with an example : "
   ]
  },
  {
   "cell_type": "code",
   "execution_count": 14,
   "metadata": {},
   "outputs": [],
   "source": [
    "add = lambda x,y : x + y\n",
    "# add is now a function that takes two inputs and\n",
    "# returns their sum"
   ]
  },
  {
   "cell_type": "code",
   "execution_count": 15,
   "metadata": {},
   "outputs": [
    {
     "data": {
      "text/plain": [
       "10"
      ]
     },
     "execution_count": 15,
     "metadata": {},
     "output_type": "execute_result"
    }
   ],
   "source": [
    "add(8,2)"
   ]
  },
  {
   "cell_type": "markdown",
   "metadata": {},
   "source": [
    "The `lambda` keyword is followed by the list of arguemnts, then a `:` separates the arguments from the result. This can be very usefull if you want to sort by tuples of numbers by their sum."
   ]
  },
  {
   "cell_type": "code",
   "execution_count": 16,
   "metadata": {},
   "outputs": [
    {
     "name": "stdout",
     "output_type": "stream",
     "text": [
      "[(-7, -3, -1), (-6, -5, 0), (-2, 7, 9), (1, -2, 7), (8, -8, -1)]\n",
      "[(-7, -3, -1), (-6, -5, 0), (8, -8, -1), (1, -2, 7), (-2, 7, 9)]\n"
     ]
    }
   ],
   "source": [
    "from random import randint\n",
    "\n",
    "r = (-10,10)\n",
    "\n",
    "data = [(randint(*r), randint(*r), randint(*r))\n",
    "        for _ in range(5) ]\n",
    "\n",
    "print(data)\n",
    "\n",
    "# sort will now use the *sum* of a tuple\n",
    "# to compare the tuples\n",
    "data.sort(key = lambda x : sum(x))\n",
    "\n",
    "print(data)"
   ]
  },
  {
   "cell_type": "code",
   "execution_count": 17,
   "metadata": {},
   "outputs": [],
   "source": [
    "names = ['David Zetto', 'Brian Bates',\n",
    "         'Raymond brower', 'Ned Andrews']"
   ]
  },
  {
   "cell_type": "code",
   "execution_count": 18,
   "metadata": {},
   "outputs": [
    {
     "name": "stdout",
     "output_type": "stream",
     "text": [
      "['Ned Andrews', 'Brian Bates', 'Raymond brower', 'David Zetto']\n"
     ]
    }
   ],
   "source": [
    "# sort by last name lowercase\n",
    "print(sorted(names, key=lambda name: name.split()[-1].lower()))"
   ]
  },
  {
   "cell_type": "markdown",
   "metadata": {},
   "source": [
    "**Remark** Sometimes `lamba` expressions get hard to read and it's just cleaner to use `def`. It is **up to you** which you prefer."
   ]
  },
  {
   "cell_type": "code",
   "execution_count": 19,
   "metadata": {},
   "outputs": [
    {
     "name": "stdout",
     "output_type": "stream",
     "text": [
      "['Ned Andrews', 'Brian Bates', 'Raymond brower', 'David Zetto']\n"
     ]
    }
   ],
   "source": [
    "def some_func() :\n",
    "    names = ['David Zetto', 'Brian Bates',\n",
    "         'Raymond brower', 'Ned Andrews']\n",
    "    def lower_lastname(name) :\n",
    "        return name.split()[-1].lower()\n",
    "    print(sorted(names, key=lower_lastname))\n",
    "\n",
    "some_func()"
   ]
  },
  {
   "cell_type": "markdown",
   "metadata": {},
   "source": [
    "### the `operator` module\n",
    "\n",
    "For commonly used functions such as `+,-,`, .etc, getting an item by key or index, or using an attribute of an object, the `operator` module provides manyof these. Here are a few examples "
   ]
  },
  {
   "cell_type": "code",
   "execution_count": 20,
   "metadata": {},
   "outputs": [
    {
     "name": "stdout",
     "output_type": "stream",
     "text": [
      "[(-7, -3, -1), (8, -8, -1), (-6, -5, 0), (1, -2, 7), (-2, 7, 9)]\n",
      "[(-7, -3, -1), (8, -8, -1), (-6, -5, 0), (1, -2, 7), (-2, 7, 9)]\n"
     ]
    }
   ],
   "source": [
    "from operator import itemgetter\n",
    "\n",
    "# sort by last elements\n",
    "data.sort(key = itemgetter(-1))\n",
    "print(data)\n",
    "\n",
    "data.sort(key = lambda x : x[-1])\n",
    "print(data)"
   ]
  },
  {
   "cell_type": "code",
   "execution_count": 21,
   "metadata": {},
   "outputs": [
    {
     "name": "stdout",
     "output_type": "stream",
     "text": [
      "[3, 5, 7]\n"
     ]
    }
   ],
   "source": [
    "from operator import add\n",
    "\n",
    "a = map(add, range(1,4), range(2,5))\n",
    "print(list(a))"
   ]
  },
  {
   "cell_type": "code",
   "execution_count": 22,
   "metadata": {},
   "outputs": [
    {
     "name": "stdout",
     "output_type": "stream",
     "text": [
      "[5.0, 9.0, 1.0, -3.0, 2.0]\n",
      "[5.0, 9.0, 1.0, -3.0, 2.0]\n"
     ]
    }
   ],
   "source": [
    "from operator import attrgetter\n",
    "\n",
    "r = (-10,10)\n",
    "c_nums = [ complex(randint(*r), randint(*r)) for _ in range(5) ]\n",
    "a = map(attrgetter('real'), c_nums)\n",
    "print(list(a))\n",
    "a = map(lambda z : z.real, c_nums)\n",
    "print(list(a))"
   ]
  },
  {
   "cell_type": "code",
   "execution_count": 23,
   "metadata": {},
   "outputs": [
    {
     "name": "stdout",
     "output_type": "stream",
     "text": [
      "['ycvnfr', 'zvtucr', 'irzmcyu', 'tyzpgqsej', 'hxqpvmcrdy']\n",
      "['ycvnfr', 'zvtucr', 'irzmcyu', 'tyzpgqsej', 'hxqpvmcrdy']\n"
     ]
    }
   ],
   "source": [
    "from string import ascii_lowercase\n",
    "from random import sample, randint\n",
    "from operator import methodcaller\n",
    "\n",
    "random_words = [''.join(sample(ascii_lowercase, randint(5,10)))\n",
    "                for _ in range(5)]\n",
    "\n",
    "random_words.sort(key = methodcaller('__len__'))\n",
    "\n",
    "print(random_words)\n",
    "\n",
    "random_words.sort(key = lambda s : len(s))\n",
    "\n",
    "print(random_words)"
   ]
  },
  {
   "cell_type": "markdown",
   "metadata": {},
   "source": [
    "Note, if  `g = methodcaller(method_name, arga1, arg2, ...)` then `g(x) = x.method_name(arg1, arg2,...)`"
   ]
  },
  {
   "cell_type": "code",
   "execution_count": 24,
   "metadata": {},
   "outputs": [
    {
     "name": "stdout",
     "output_type": "stream",
     "text": [
      "['ycvnfr', 'zvtucr', 'irzmcyu', 'hxqpvmcrdy', 'tyzpgqsej']\n"
     ]
    }
   ],
   "source": [
    "random_words.sort(key = methodcaller('count', 'e'))\n",
    "print(random_words)"
   ]
  },
  {
   "cell_type": "markdown",
   "metadata": {
    "collapsed": true
   },
   "source": [
    "Many functions in the `operator` module are interchangeble with good use of `lambda` notation. You can use whichever you like best."
   ]
  },
  {
   "cell_type": "markdown",
   "metadata": {},
   "source": [
    "** WARNING ** In lambda functions, the variables you see are evaluated at execution time."
   ]
  },
  {
   "cell_type": "code",
   "execution_count": 25,
   "metadata": {},
   "outputs": [
    {
     "name": "stdout",
     "output_type": "stream",
     "text": [
      "8\n"
     ]
    }
   ],
   "source": [
    "n = 4\n",
    "a = lambda x : x + n\n",
    "n = 5\n",
    "print(a(3))"
   ]
  },
  {
   "cell_type": "code",
   "execution_count": 26,
   "metadata": {},
   "outputs": [
    {
     "name": "stdout",
     "output_type": "stream",
     "text": [
      "7\n"
     ]
    }
   ],
   "source": [
    "n = 4\n",
    "# you can use keyword notation\n",
    "# to force a lambda function to\n",
    "# pull the local varaible at the time\n",
    "# of definition\n",
    "a = lambda x, y = n: x + y\n",
    "n = 5\n",
    "print(a(3))"
   ]
  },
  {
   "cell_type": "markdown",
   "metadata": {},
   "source": [
    "###  `partial` from `functools` module\n",
    "\n",
    "If you have a function that takes many arguments, but you would like to make a version of it with different default arguments, you can use the `partial` method from the `functools` module."
   ]
  },
  {
   "cell_type": "code",
   "execution_count": 27,
   "metadata": {},
   "outputs": [],
   "source": [
    "def error(error_type, error_message) :\n",
    "    print(error_type.__name__,'Message:', error_message)"
   ]
  },
  {
   "cell_type": "code",
   "execution_count": 28,
   "metadata": {},
   "outputs": [],
   "source": [
    "from functools import partial\n",
    "\n",
    "type_error = partial(error, TypeError)\n",
    "all_fails = partial(error, error_message = \"Everything is broken!\")"
   ]
  },
  {
   "cell_type": "code",
   "execution_count": 29,
   "metadata": {},
   "outputs": [
    {
     "name": "stdout",
     "output_type": "stream",
     "text": [
      "TypeError Message: Just a type error\n"
     ]
    }
   ],
   "source": [
    "type_error(\"Just a type error\")"
   ]
  },
  {
   "cell_type": "code",
   "execution_count": 30,
   "metadata": {},
   "outputs": [
    {
     "name": "stdout",
     "output_type": "stream",
     "text": [
      "RuntimeError Message: Everything is broken!\n",
      "TypeError Message: Everything is broken!\n"
     ]
    }
   ],
   "source": [
    "all_fails(RuntimeError)\n",
    "all_fails(TypeError)"
   ]
  },
  {
   "cell_type": "markdown",
   "metadata": {},
   "source": [
    "Another usefull example is a logger (or a logger callback). You can write a generic logging function, and pass a partial to your exection as a callback"
   ]
  },
  {
   "cell_type": "code",
   "execution_count": 31,
   "metadata": {},
   "outputs": [],
   "source": [
    "def log(data, log_file) :\n",
    "    with open(log_file,'a') as fp :\n",
    "        fp.write(data)"
   ]
  },
  {
   "cell_type": "code",
   "execution_count": 32,
   "metadata": {},
   "outputs": [],
   "source": [
    "def set_username(person, name,*, callback) :\n",
    "    person['username'] = name\n",
    "    return callback(\"Set username to {}\\n\".format(name))\n",
    "\n",
    "person = {}\n",
    "username_log = partial(log, log_file = 'usernames.log')\n",
    "set_username(person, 'john', callback = username_log)    "
   ]
  },
  {
   "cell_type": "code",
   "execution_count": 33,
   "metadata": {},
   "outputs": [
    {
     "name": "stdout",
     "output_type": "stream",
     "text": [
      "Set username to john\r\n"
     ]
    }
   ],
   "source": [
    "%cat usernames.log"
   ]
  },
  {
   "cell_type": "markdown",
   "metadata": {},
   "source": [
    "###  `filter`\n",
    "\n",
    "If you ever have a sequence (or iterable) and you don't some parts of it, you can use the `filter` call."
   ]
  },
  {
   "cell_type": "code",
   "execution_count": 34,
   "metadata": {},
   "outputs": [
    {
     "name": "stdout",
     "output_type": "stream",
     "text": [
      "-9\n",
      "-6\n",
      "-3\n",
      "0\n",
      "3\n",
      "6\n",
      "9\n"
     ]
    }
   ],
   "source": [
    "for x in filter(lambda x : x % 3 == 0, range(-10,10)) :\n",
    "    print(x)"
   ]
  },
  {
   "cell_type": "markdown",
   "metadata": {},
   "source": [
    "As you can see, `filter` only provided us with the sequence for which the anonymous function `lambda x : x % 3 == 0` returned True."
   ]
  },
  {
   "cell_type": "markdown",
   "metadata": {},
   "source": [
    "### fun with iterators\n",
    "\n",
    "We have seem the `map` function as a useful tool to work with iterators. Here are a few :"
   ]
  },
  {
   "cell_type": "markdown",
   "metadata": {},
   "source": [
    "* `zip(iterable1, iterable2, ...)` - returns a zip object whose `.__next__()` method returns a tuple where\n",
    "the $i^\\text{th}$ element comes from the $i^\\text{th}$ iterable argument. Continues until the shortest iterable in the argument sequence\n",
    "is exhausted."
   ]
  },
  {
   "cell_type": "code",
   "execution_count": 35,
   "metadata": {},
   "outputs": [
    {
     "name": "stdout",
     "output_type": "stream",
     "text": [
      "(0, 3, 7)\n",
      "(1, 4, 8)\n",
      "(2, 5, 9)\n",
      "(3, 6, 10)\n",
      "(4, 7, 11)\n"
     ]
    }
   ],
   "source": [
    "# zip\n",
    "iterable1 = range(5)\n",
    "iterable2 = range(3,10)\n",
    "iterable3 = range(7,100)\n",
    "\n",
    "\n",
    "\n",
    "for x in zip(iterable1, iterable2, iterable3) :\n",
    "    print(x)"
   ]
  },
  {
   "cell_type": "code",
   "execution_count": 36,
   "metadata": {},
   "outputs": [
    {
     "name": "stdout",
     "output_type": "stream",
     "text": [
      "1\n",
      "3\n",
      "5\n",
      "7\n"
     ]
    }
   ],
   "source": [
    "for x in zip(range(4), range(1,5)) :\n",
    "    print(add(*x))"
   ]
  },
  {
   "cell_type": "markdown",
   "metadata": {},
   "source": [
    "You can actually use `zip` with a repeated argument, you just have to be careful. Recall the distrinction : an **iterator** is an object that responds to a `__next__` method and will be exhausted after **one** use. An **iterable** is an object that can **procude** an interator for its contents.  "
   ]
  },
  {
   "cell_type": "code",
   "execution_count": 37,
   "metadata": {},
   "outputs": [
    {
     "name": "stdout",
     "output_type": "stream",
     "text": [
      "<class 'tuple_iterator'>\n",
      "(0, 1)\n",
      "(2, 3)\n",
      "(4, 5)\n"
     ]
    }
   ],
   "source": [
    "iter1 = iter((0,1,2,3,4,5))\n",
    "print(type(iter1))\n",
    "\n",
    "for x in zip(iter1, iter1) :\n",
    "    print(x)"
   ]
  },
  {
   "cell_type": "code",
   "execution_count": 38,
   "metadata": {},
   "outputs": [
    {
     "name": "stdout",
     "output_type": "stream",
     "text": [
      "<class 'range'>\n",
      "(0, 0)\n",
      "(1, 1)\n",
      "(2, 2)\n",
      "(3, 3)\n",
      "(4, 4)\n",
      "(5, 5)\n"
     ]
    }
   ],
   "source": [
    "iterable1 = range(6)\n",
    "\n",
    "print(type(iterable1))\n",
    "\n",
    "for x in zip(iterable1, iterable1) :\n",
    "    print(x)"
   ]
  },
  {
   "cell_type": "markdown",
   "metadata": {},
   "source": [
    "Above, the `range` object produces a **new** iterator of its contents **twice** inside the call to `zip`. While the `tuple_iterator` is **used** in both arguments."
   ]
  },
  {
   "cell_type": "markdown",
   "metadata": {},
   "source": [
    "* any(iterable) - returns `True` if `bool(val) == True` for any `val` in `iterable`\n",
    "* all(iterable) - returns `True` if `bool(val) == True` for all `val` in `iterable`"
   ]
  },
  {
   "cell_type": "code",
   "execution_count": 39,
   "metadata": {},
   "outputs": [],
   "source": [
    "def has_char(char, string) :\n",
    "    return any(map(lambda c : c == char, string))"
   ]
  },
  {
   "cell_type": "code",
   "execution_count": 40,
   "metadata": {},
   "outputs": [
    {
     "name": "stdout",
     "output_type": "stream",
     "text": [
      "True\n",
      "False\n"
     ]
    }
   ],
   "source": [
    "print(has_char('e', 'Hello'))\n",
    "print(has_char('f', 'Hello'))"
   ]
  }
 ],
 "metadata": {
  "anaconda-cloud": {},
  "kernelspec": {
   "display_name": "Python 3",
   "language": "python",
   "name": "python3"
  },
  "language_info": {
   "codemirror_mode": {
    "name": "ipython",
    "version": 3
   },
   "file_extension": ".py",
   "mimetype": "text/x-python",
   "name": "python",
   "nbconvert_exporter": "python",
   "pygments_lexer": "ipython3",
   "version": "3.6.5"
  }
 },
 "nbformat": 4,
 "nbformat_minor": 1
}
