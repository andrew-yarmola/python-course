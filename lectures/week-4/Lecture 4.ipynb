{
 "cells": [
  {
   "cell_type": "markdown",
   "metadata": {},
   "source": [
    "# Introduction to Programming Lecture 4\n",
    "* Instructor :  Andrew Yarmola [andrew.yarmola@uni.lu](mailto:andrew.yarmola@uni.lu)\n",
    "* Course Schedule : Wednesday 14h00 - 15h30 Campus Kirchberg B21\n",
    "* Course Website : [sites.google.com/site/andrewyarmola/itp-uni-lux](https://sites.google.com/site/andrewyarmola/itp-uni-lux)\n",
    "* Office Hours : Thursday 16h00 - 17h00 Campus Kirchberg G103 and by appointment.\n",
    "\n",
    "## Remarks on homework and questions\n",
    "\n",
    "### Box problem solution"
   ]
  },
  {
   "cell_type": "code",
   "execution_count": 1,
   "metadata": {},
   "outputs": [],
   "source": [
    "def individual_strategy(boxes_list, num_tries, num_to_find) :\n",
    "    \"\"\" Implements the cycle strategy for a player to\n",
    "    look for their number (num_to_find) in a list (boxes_list) with\n",
    "    a limited number of tries (num_tries). The function\n",
    "    returns True if the number is found, False otherwise.\n",
    "    The algorithm treats boxes[i] as a permtuation and\n",
    "    looks through the cycle containing i = person. \"\"\"\n",
    "    count = 0\n",
    "    idx = num_to_find\n",
    "    while count < num_tries :\n",
    "        curr = boxes_list[idx]\n",
    "        if curr == num_to_find :\n",
    "            return True\n",
    "        idx = curr\n",
    "        count += 1\n",
    "    return False"
   ]
  },
  {
   "cell_type": "markdown",
   "metadata": {},
   "source": [
    "### Permutations\n",
    "\n",
    "The permutations exercise seems to be the most challenging. Depending on how all the homeworks look, I might grade most of the exercise only for extra points. We will see.\n",
    "\n",
    "For cycle notation we are using a tuple of tuples. Here are some examples"
   ]
  },
  {
   "cell_type": "code",
   "execution_count": 2,
   "metadata": {},
   "outputs": [],
   "source": [
    "a = ( (1,2,4) , (0,3) )\n",
    "b = ((),)\n",
    "c = ( (0,3) , (9,), (1,2,4) )\n",
    "d = ( (1,2), (6,), (), (0,3) )"
   ]
  },
  {
   "cell_type": "code",
   "execution_count": 3,
   "metadata": {},
   "outputs": [],
   "source": [
    "def max_or_minusone(t) :\n",
    "    \"\"\" Returns the max of a tuple of ints,\n",
    "    or -1 if it is empty. \"\"\"\n",
    "    if len(t) > 0 :\n",
    "        return max(t)\n",
    "    else :\n",
    "        return -1\n",
    "\n",
    "def min_perm_size(p) :\n",
    "    \"\"\" Returns the minimum permutation size given a tuple\n",
    "    of tuples representing a disjoint cycle decomposition.\n",
    "    Raises a SyntaxError on bad input. \"\"\"\n",
    "    if not valid_disjoint_cycle_rep(p) :\n",
    "        raise SyntaxError(\"Bad disjoint cycle representation\")\n",
    "    else :\n",
    "        return max(map(max_or_minusone,p)) + 1"
   ]
  },
  {
   "cell_type": "markdown",
   "metadata": {},
   "source": [
    "Instead of using `map`, you could have just used a `for` loop to find the maximum integer in each tuple. "
   ]
  },
  {
   "cell_type": "code",
   "execution_count": 4,
   "metadata": {},
   "outputs": [],
   "source": [
    "def min_perm_size_v2(p) :\n",
    "    \"\"\" Returns the minimum permutation size given a tuple\n",
    "    of tuples representing a disjoint cycle decomposition.\n",
    "    Raises a SyntaxError on bad input. \"\"\"\n",
    "    if not valid_disjoint_cycle_rep(p) :\n",
    "        raise SyntaxError(\"Bad disjoint cycle representation\")\n",
    "    else :\n",
    "        perm_max = -1\n",
    "        for cycle in p :\n",
    "            if len(cycle) > 0 :\n",
    "                cycle_max = max(cycle)\n",
    "                if cycle_max > perm_max :\n",
    "                    perm_max = cycle_max\n",
    "        return perm_max + 1"
   ]
  },
  {
   "cell_type": "markdown",
   "metadata": {},
   "source": [
    "Let's look at the `valid_disjoint_cycle_rep` function."
   ]
  },
  {
   "cell_type": "code",
   "execution_count": 5,
   "metadata": {},
   "outputs": [],
   "source": [
    "def valid_disjoint_cycle_rep(p) :\n",
    "    \"\"\" Returns True if the input is a tuple of tuples representing\n",
    "    a disjoint cycle decomposition of a permutation. \"\"\"\n",
    "    # check type and length\n",
    "    if type(p) is not tuple or len(p) == 0 : return False\n",
    "    # we wrote our own max_or_minusone function to deal with empty tuples\n",
    "    perm_size = max(map(max_or_minusone,p)) + 1\n",
    "    if perm_size < 0 : return False\n",
    "    # we will use a seen list to keep track of seen elements\n",
    "    # note : a set or dict is better for this\n",
    "    seen = [0]*perm_size\n",
    "    for cycle in p :\n",
    "        if type(cycle) is not tuple : return False\n",
    "        for i in cycle :\n",
    "            if type(i) is not int or i < 0 :\n",
    "                return False\n",
    "            elif seen[i] == 1 :\n",
    "                return False\n",
    "            else :\n",
    "                seen[i] = 1\n",
    "    return True "
   ]
  },
  {
   "cell_type": "markdown",
   "metadata": {},
   "source": [
    "We will use sets to make a slightly cleaner version of the above solution in the lecture. Let's try our code on a few examples."
   ]
  },
  {
   "cell_type": "code",
   "execution_count": 10,
   "metadata": {},
   "outputs": [
    {
     "data": {
      "text/plain": [
       "True"
      ]
     },
     "execution_count": 10,
     "metadata": {},
     "output_type": "execute_result"
    }
   ],
   "source": [
    "valid_disjoint_cycle_rep( ( (2,1) , (3,0,4) ) )"
   ]
  },
  {
   "cell_type": "code",
   "execution_count": 11,
   "metadata": {},
   "outputs": [
    {
     "data": {
      "text/plain": [
       "False"
      ]
     },
     "execution_count": 11,
     "metadata": {},
     "output_type": "execute_result"
    }
   ],
   "source": [
    "valid_disjoint_cycle_rep( ( (1,2) , (3,0,4) , (5,2,2) ) )"
   ]
  },
  {
   "cell_type": "code",
   "execution_count": 12,
   "metadata": {},
   "outputs": [
    {
     "name": "stdout",
     "output_type": "stream",
     "text": [
      "5\n",
      "0\n",
      "10\n",
      "7\n"
     ]
    }
   ],
   "source": [
    "a = ( (1,2,4) , (0,3) )\n",
    "b = ((),)\n",
    "c = ( (0,3) , (9,), (4,1,2) )\n",
    "d = ( (1,2), (6,), (), (0,3) )\n",
    "\n",
    "print( min_perm_size(a) )\n",
    "print( min_perm_size_v2(b) )\n",
    "print( min_perm_size(c) )\n",
    "print( min_perm_size(d) )"
   ]
  },
  {
   "cell_type": "code",
   "execution_count": 13,
   "metadata": {},
   "outputs": [
    {
     "ename": "SyntaxError",
     "evalue": "Bad disjoint cycle representation (<string>)",
     "output_type": "error",
     "traceback": [
      "Traceback \u001b[0;36m(most recent call last)\u001b[0m:\n",
      "  File \u001b[1;32m\"/Users/yarmola/miniconda3/lib/python3.6/site-packages/IPython/core/interactiveshell.py\"\u001b[0m, line \u001b[1;32m2963\u001b[0m, in \u001b[1;35mrun_code\u001b[0m\n    exec(code_obj, self.user_global_ns, self.user_ns)\n",
      "  File \u001b[1;32m\"<ipython-input-13-daf6bd9cd54a>\"\u001b[0m, line \u001b[1;32m1\u001b[0m, in \u001b[1;35m<module>\u001b[0m\n    min_perm_size( ((0,1),(2,1)) )\n",
      "\u001b[0;36m  File \u001b[0;32m\"<ipython-input-3-ab62b314add3>\"\u001b[0;36m, line \u001b[0;32m14\u001b[0;36m, in \u001b[0;35mmin_perm_size\u001b[0;36m\u001b[0m\n\u001b[0;31m    raise SyntaxError(\"Bad disjoint cycle representation\")\u001b[0m\n",
      "\u001b[0;36m  File \u001b[0;32m\"<string>\"\u001b[0;36m, line \u001b[0;32munknown\u001b[0m\n\u001b[0;31mSyntaxError\u001b[0m\u001b[0;31m:\u001b[0m Bad disjoint cycle representation\n"
     ]
    }
   ],
   "source": [
    "min_perm_size( ((0,1),(2,1)) )"
   ]
  },
  {
   "cell_type": "markdown",
   "metadata": {},
   "source": [
    "Now let us look at `func_from_disjoint_cycle`."
   ]
  },
  {
   "cell_type": "code",
   "execution_count": 16,
   "metadata": {},
   "outputs": [],
   "source": [
    "def func_from_disjoint_cycle(p) :\n",
    "    \"\"\" Returns the function representation of a permutation\n",
    "    given a tuple of tuples representing a disjoint cycle\n",
    "    decomposition. Raises a SyntaxError on bad input. \"\"\"\n",
    "    # this will validate input, so I don't have to here\n",
    "    perm_size = min_perm_size(p)\n",
    "    # start with idenity and modify\n",
    "    f = list(range(perm_size))\n",
    "    for cycle in p :\n",
    "        cycle_len = len(cycle)\n",
    "        for i in range(cycle_len) :\n",
    "            f[cycle[i]] = cycle[ (i+1) % cycle_len ]\n",
    "    return tuple(f)"
   ]
  },
  {
   "cell_type": "code",
   "execution_count": 17,
   "metadata": {},
   "outputs": [
    {
     "name": "stdout",
     "output_type": "stream",
     "text": [
      "Cycle rep : ((1, 2, 4), (0, 3))\n",
      "Function rep : (3, 2, 4, 0, 1)\n"
     ]
    }
   ],
   "source": [
    "print(\"Cycle rep :\", a)\n",
    "print(\"Function rep :\", func_from_disjoint_cycle(a))"
   ]
  },
  {
   "cell_type": "markdown",
   "metadata": {},
   "source": [
    "The most challenging was `cycle_from_func`. This requires us to find all the cycles in a function representation, similar to the box problem."
   ]
  },
  {
   "cell_type": "code",
   "execution_count": 18,
   "metadata": {},
   "outputs": [],
   "source": [
    "def is_perm(f) :\n",
    "    \"\"\" Returns True is the tuple f represents a\n",
    "    permutation function f[i] of {0,..., len(f)}. \"\"\"   \n",
    "    if type(f) is not tuple : return False\n",
    "    return sorted(f) == list(range(len(f)))\n",
    "\n",
    "def cycle_from_func(f) :\n",
    "    \"\"\" Returns the disjoint cycle representation of a permutation\n",
    "    given a tuple as a function reprepresentation.\n",
    "    Raises a SyntaxError on bad input. \"\"\"\n",
    "    if not is_perm(f) :\n",
    "        raise SyntaxError(\"Bad function representation\")\n",
    "    # we will use a cycle_start and seen to keep track of the cycles\n",
    "    cycle_rep = []\n",
    "    n = len(f)\n",
    "    seen = [0]*n\n",
    "    while 0 in seen :\n",
    "        # find the first non-visited int\n",
    "        c_start = seen.index(0)\n",
    "        cycle = [c_start]\n",
    "        seen[c_start] = 1\n",
    "        c_next = f[c_start]\n",
    "        while c_next != c_start :\n",
    "            cycle.append(c_next)\n",
    "            seen[c_next] = 1\n",
    "            c_next = f[c_next]\n",
    "        if len(cycle) > 1 :\n",
    "            cycle_rep.append(tuple(cycle))\n",
    "    if len(cycle_rep) > 0 :\n",
    "        return tuple(cycle_rep)\n",
    "    else :\n",
    "        return ((),)"
   ]
  },
  {
   "cell_type": "code",
   "execution_count": 19,
   "metadata": {},
   "outputs": [
    {
     "name": "stdout",
     "output_type": "stream",
     "text": [
      "Function rep : (4, 5, 3, 2, 1, 0)\n",
      "Cycle rep : ((0, 4, 1, 5), (2, 3))\n"
     ]
    }
   ],
   "source": [
    "f = (4, 5, 3, 2, 1, 0)\n",
    "print(\"Function rep :\", f)\n",
    "print(\"Cycle rep :\", cycle_from_func(f))"
   ]
  },
  {
   "cell_type": "markdown",
   "metadata": {},
   "source": [
    "## More control flow\n",
    "\n",
    "### Assertions, exceptions and exception handling\n",
    "In the homework, you were introduced to the `raise` exception keyword. Exceptions in python are tools to tell the interpreter that something \"bad\" has happened and that the code **should stop** executing. This could be because someone gave bad input, there was a problem writing or reading data, or a function returned unexpected output (note: you should check the output of poorly documented functions that you don't trust). The keywords here are\n",
    "\n",
    "* `assert some_boolean_statement` will cause the code to stop and raise an AssertionError.\n",
    "* `raise exception_type(\"some user message\")` will cause the code to stop and raise an exception of type `exception_type` and a user message `\"some user message\"`. There are many many built-in exception types. Some useful ones are\n",
    "   * `Exception()` this is the general type\n",
    "   * `RuntimeError()` something bad happened as your code was running\n",
    "   * `TypeError()` bad type given to function\n",
    "   * `ValueError()` good type, but bad value\n",
    "   * `SyntaxError()` bad syntax, couldn't parse"
   ]
  },
  {
   "cell_type": "code",
   "execution_count": 20,
   "metadata": {},
   "outputs": [
    {
     "name": "stdout",
     "output_type": "stream",
     "text": [
      "Assertion passed!\n"
     ]
    }
   ],
   "source": [
    "assert type(3) is int\n",
    "print(\"Assertion passed!\")"
   ]
  },
  {
   "cell_type": "code",
   "execution_count": 21,
   "metadata": {},
   "outputs": [
    {
     "ename": "AssertionError",
     "evalue": "",
     "output_type": "error",
     "traceback": [
      "\u001b[0;31m---------------------------------------------------------------------------\u001b[0m",
      "\u001b[0;31mAssertionError\u001b[0m                            Traceback (most recent call last)",
      "\u001b[0;32m<ipython-input-21-c7cd3f9347b0>\u001b[0m in \u001b[0;36m<module>\u001b[0;34m()\u001b[0m\n\u001b[0;32m----> 1\u001b[0;31m \u001b[0;32massert\u001b[0m \u001b[0mtype\u001b[0m\u001b[0;34m(\u001b[0m\u001b[0;36m1.\u001b[0m\u001b[0;34m)\u001b[0m \u001b[0;32mis\u001b[0m \u001b[0mint\u001b[0m\u001b[0;34m\u001b[0m\u001b[0m\n\u001b[0m\u001b[1;32m      2\u001b[0m \u001b[0mprint\u001b[0m\u001b[0;34m(\u001b[0m\u001b[0;34m\"Assertion passed!\"\u001b[0m\u001b[0;34m)\u001b[0m\u001b[0;34m\u001b[0m\u001b[0m\n",
      "\u001b[0;31mAssertionError\u001b[0m: "
     ]
    }
   ],
   "source": [
    "assert type(1.) is int\n",
    "print(\"Assertion passed!\")"
   ]
  },
  {
   "cell_type": "code",
   "execution_count": 22,
   "metadata": {},
   "outputs": [
    {
     "ename": "Exception",
     "evalue": "Instead of returning, I can raise an exception on bad input",
     "output_type": "error",
     "traceback": [
      "\u001b[0;31m---------------------------------------------------------------------------\u001b[0m",
      "\u001b[0;31mException\u001b[0m                                 Traceback (most recent call last)",
      "\u001b[0;32m<ipython-input-22-4f511be2af8e>\u001b[0m in \u001b[0;36m<module>\u001b[0;34m()\u001b[0m\n\u001b[0;32m----> 1\u001b[0;31m \u001b[0;32mraise\u001b[0m \u001b[0mException\u001b[0m\u001b[0;34m(\u001b[0m\u001b[0;34m\"Instead of returning, I can raise an exception on bad input\"\u001b[0m\u001b[0;34m)\u001b[0m\u001b[0;34m\u001b[0m\u001b[0m\n\u001b[0m",
      "\u001b[0;31mException\u001b[0m: Instead of returning, I can raise an exception on bad input"
     ]
    }
   ],
   "source": [
    "raise Exception(\"Instead of returning, \\\n",
    "I can raise an exception on bad input\")"
   ]
  },
  {
   "cell_type": "markdown",
   "metadata": {},
   "source": [
    "#### Catching exceptions : try, except, finally block\n",
    "\n",
    "Now, let's say there is a very useful function you want to use, but it will `raise` an exception on you for bad input. For example, if you look for an element in a list using `list.index()`, it will `raise` an exception if that element is not found."
   ]
  },
  {
   "cell_type": "code",
   "execution_count": 23,
   "metadata": {},
   "outputs": [
    {
     "ename": "ValueError",
     "evalue": "5 is not in list",
     "output_type": "error",
     "traceback": [
      "\u001b[0;31m---------------------------------------------------------------------------\u001b[0m",
      "\u001b[0;31mValueError\u001b[0m                                Traceback (most recent call last)",
      "\u001b[0;32m<ipython-input-23-9646355bb2af>\u001b[0m in \u001b[0;36m<module>\u001b[0;34m()\u001b[0m\n\u001b[0;32m----> 1\u001b[0;31m \u001b[0;34m[\u001b[0m\u001b[0;36m0\u001b[0m\u001b[0;34m,\u001b[0m\u001b[0;36m1\u001b[0m\u001b[0;34m,\u001b[0m\u001b[0;36m2\u001b[0m\u001b[0;34m,\u001b[0m\u001b[0;36m3\u001b[0m\u001b[0;34m]\u001b[0m\u001b[0;34m.\u001b[0m\u001b[0mindex\u001b[0m\u001b[0;34m(\u001b[0m\u001b[0;36m5\u001b[0m\u001b[0;34m)\u001b[0m\u001b[0;34m\u001b[0m\u001b[0m\n\u001b[0m",
      "\u001b[0;31mValueError\u001b[0m: 5 is not in list"
     ]
    }
   ],
   "source": [
    "[0,1,2,3].index(5)"
   ]
  },
  {
   "cell_type": "markdown",
   "metadata": {},
   "source": [
    "We can catch an exception by using the `try` block. It's best demonstrated with an example."
   ]
  },
  {
   "cell_type": "code",
   "execution_count": 24,
   "metadata": {},
   "outputs": [
    {
     "name": "stdout",
     "output_type": "stream",
     "text": [
      "Got a ValueError\n",
      "I always run at the very end\n"
     ]
    }
   ],
   "source": [
    "try :\n",
    "    [0,1,2,3].index(5)\n",
    "    print(\"I will only run in the lines above me don't fail\")\n",
    "except ValueError : # Run if ValueError is raised\n",
    "    print(\"Got a ValueError\")\n",
    "finally : # Will always be run at the end\n",
    "    print(\"I always run at the very end\")"
   ]
  },
  {
   "cell_type": "markdown",
   "metadata": {},
   "source": [
    "You don't have to use the `finally` block at all, if you don't need it. Also, if you want to catch all exceptions, you can just use `except` without the exception type."
   ]
  },
  {
   "cell_type": "code",
   "execution_count": 25,
   "metadata": {},
   "outputs": [],
   "source": [
    "def max_or_minusone(t) :\n",
    "    \"\"\" Tries to returns max(t) ,\n",
    "    or -1 if max(t) fails. \"\"\"\n",
    "    try :\n",
    "        return max(t)\n",
    "    except :\n",
    "        return -1"
   ]
  },
  {
   "cell_type": "code",
   "execution_count": 26,
   "metadata": {},
   "outputs": [
    {
     "data": {
      "text/plain": [
       "-1"
      ]
     },
     "execution_count": 26,
     "metadata": {},
     "output_type": "execute_result"
    }
   ],
   "source": [
    "max_or_minusone(())"
   ]
  },
  {
   "cell_type": "markdown",
   "metadata": {},
   "source": [
    "Lastly, if you want to do nothing, just use the `pass` keyword in the exception block. The `pass` statement does nothing. It can be used when a statement is required syntactically but the program requires no action. You can also use it as a place holder while working on code."
   ]
  },
  {
   "cell_type": "code",
   "execution_count": 27,
   "metadata": {},
   "outputs": [
    {
     "name": "stdout",
     "output_type": "stream",
     "text": [
      "a string\n"
     ]
    }
   ],
   "source": [
    "something = 'a string'\n",
    "try :\n",
    "    someting += 1\n",
    "except : # catch all exceptions\n",
    "    pass # TODO : figure out what I want to do\n",
    "print(something)"
   ]
  },
  {
   "cell_type": "markdown",
   "metadata": {},
   "source": [
    "### Return and read-in multiple values\n",
    "\n",
    "On you homework, we had the `float_repr` function which returned a pair of integers. When a function returns a `tuple`, you can actually read in the output to different variable names. Here is an example."
   ]
  },
  {
   "cell_type": "code",
   "execution_count": 28,
   "metadata": {},
   "outputs": [],
   "source": [
    "def float_repr(x) :\n",
    "    \"\"\" Given a float x, returns a pair of ints (c,q)\n",
    "    such that x = c*2**q exactly. \"\"\" \n",
    "    # if a function returns a tuple, you can read off\n",
    "    # the multiple inputs using this syntax\n",
    "    (m, n) = x.as_integer_ratio()\n",
    "    q_minus =  bad_log_base_2(n)\n",
    "    if q_minus < 0 :\n",
    "        raise RuntimeError(\"Unexpected denominator in float.as_integer_ratio().\")\n",
    "    return (m,-q_minus)"
   ]
  },
  {
   "cell_type": "markdown",
   "metadata": {},
   "source": [
    "The tuples order is extremely important here. So carefully read what the function outputs before you use it. Sometimes, it also reads well to evaluate multiple things in one line."
   ]
  },
  {
   "cell_type": "code",
   "execution_count": 29,
   "metadata": {},
   "outputs": [],
   "source": [
    "def int_sqrt(n) :\n",
    "    \"\"\" If n > 0, returns the larges x with x**2 <= n. \"\"\"\n",
    "    assert n > 0\n",
    "    # smallest integer less than n\n",
    "    if type(n) is not int :\n",
    "        m = int(n//1)\n",
    "    else :\n",
    "        m = n\n",
    "    # We use Newton's method for the function\n",
    "    # f(x) = x^2 - n. We start with x_0 = int(n)+1, and apply\n",
    "    # x_{k+1} = x_k - f(x_k)/f'(x_k) = (x_k + n/x_k)/2\n",
    "    prev, curr = 0, m\n",
    "    while True:\n",
    "        prev, curr = curr, (curr + m // curr) // 2\n",
    "        # Notice that (curr + n//curr) // 2 is at most\n",
    "        # 1 less than (curr + n/curr)/2.\n",
    "        # Thus, by convexity, the first time we are\n",
    "        # f(curr) is negative, we have out answer\n",
    "        if curr**2 <= m :\n",
    "            return curr"
   ]
  },
  {
   "cell_type": "markdown",
   "metadata": {},
   "source": [
    "If you want to ignore all but the first few return values of a function, you can use a dummy variable name. You can chose that name to be anything you want, just keep it consistent."
   ]
  },
  {
   "cell_type": "code",
   "execution_count": 30,
   "metadata": {},
   "outputs": [
    {
     "name": "stdout",
     "output_type": "stream",
     "text": [
      "3715469692580659\n",
      "3715469692580659\n",
      "The unused options are still real varaible names. We can print: 562949953421312 and 562949953421312\n"
     ]
    }
   ],
   "source": [
    "x = 6.6\n",
    "numerator, _ = x.as_integer_ratio()\n",
    "# above, the _ acts a dummy varaible name\n",
    "print(numerator)\n",
    "# you can also be more verbose\n",
    "numerator, unused = x.as_integer_ratio()\n",
    "print(numerator)\n",
    "print(\"The unused options are still real \\\n",
    "varaible names. We can print:\", _, 'and', unused)"
   ]
  },
  {
   "cell_type": "markdown",
   "metadata": {},
   "source": [
    "### Miscellaneous remarks on lists\n",
    "I wanted to mention a few other tools that can be used on lists (and in other places too).\n",
    "\n",
    "#### Enumerate\n",
    "\n",
    "Sometimes it is useful (or efficient) to loop though a list by looking at the index and value in pairs. There is a useful function `enumerate` for this. It returns a iterable of pairs `(index,value)` in a list. For example,"
   ]
  },
  {
   "cell_type": "code",
   "execution_count": 31,
   "metadata": {},
   "outputs": [
    {
     "name": "stdout",
     "output_type": "stream",
     "text": [
      "At index 0 the list has value a\n",
      "At index 1 the list has value 7\n",
      "At index 2 the list has value 8\n",
      "At index 3 the list has value n\n",
      "At index 4 the list has value q\n",
      "At index 5 the list has value 8\n"
     ]
    }
   ],
   "source": [
    "a = ['a',7,8,'n','q',8]\n",
    "for idx, val in enumerate(a) :\n",
    "    print(\"At index {} the list has value {}\".format(idx,val))"
   ]
  },
  {
   "cell_type": "markdown",
   "metadata": {},
   "source": [
    "#### del keyword\n",
    "If you want to delete a whole slice in a list, you can do the following."
   ]
  },
  {
   "cell_type": "code",
   "execution_count": 32,
   "metadata": {},
   "outputs": [
    {
     "name": "stdout",
     "output_type": "stream",
     "text": [
      "[6, 4, 5, 3, 5, 2]\n",
      "[4, 3, 2]\n",
      "[2]\n"
     ]
    }
   ],
   "source": [
    "a = [6,4,5,3,5,2]\n",
    "print(a)\n",
    "del a[::2] # delete every second element\n",
    "print(a)\n",
    "del a[0:2] # delete the first two elements\n",
    "print(a)"
   ]
  },
  {
   "cell_type": "markdown",
   "metadata": {},
   "source": [
    "**Note:** `del` works only by index, not by value."
   ]
  },
  {
   "cell_type": "markdown",
   "metadata": {},
   "source": [
    "#### sorting\n",
    "\n",
    "The built-in call `sorted` can work on any iterable such as a `map` object, a tuple, list, or string (along with others)."
   ]
  },
  {
   "cell_type": "code",
   "execution_count": 33,
   "metadata": {},
   "outputs": [
    {
     "data": {
      "text/plain": [
       "[' ', 'a', 'g', 'i', 'n', 'r', 's', 't']"
      ]
     },
     "execution_count": 33,
     "metadata": {},
     "output_type": "execute_result"
    }
   ],
   "source": [
    "sorted('a string')"
   ]
  },
  {
   "cell_type": "markdown",
   "metadata": {},
   "source": [
    "One of the best tools of sorted is that you can provide a **key function** to help you sort. A `key` function takes **one argument** assigns it a comparable type, such as an integer. The idea is that for every element in a list, you compute a value that you then use to compare. For example, "
   ]
  },
  {
   "cell_type": "code",
   "execution_count": 34,
   "metadata": {},
   "outputs": [
    {
     "name": "stdout",
     "output_type": "stream",
     "text": [
      "['that', 'string', 'split', 'into', 'a', 'long', 'we', 'will', 'words']\n"
     ]
    }
   ],
   "source": [
    "def count_t(s) :\n",
    "    return s.count('t')\n",
    "\n",
    "data = \"a long string that we will split into words\".split()\n",
    "sorted_data = sorted(data, key = count_t, reverse = True)\n",
    "print(sorted_data)"
   ]
  },
  {
   "cell_type": "markdown",
   "metadata": {},
   "source": [
    "We can also use key functions when looking for minimums and maximums. Here is a problem form the homework for returning the canonical cycle representation."
   ]
  },
  {
   "cell_type": "code",
   "execution_count": 35,
   "metadata": {},
   "outputs": [],
   "source": [
    "def get_first(x) :\n",
    "    \"\"\" Returns the fist element of x. Assumes x is not empty. \"\"\"\n",
    "    return x[0]\n",
    "\n",
    "def get_second(x) :\n",
    "    \"\"\" Returns the second element of x. Assumes x as at\n",
    "    least 2 elements. \"\"\"\n",
    "    return x[1]\n",
    "\n",
    "def rot_to_min(x) :\n",
    "    \"\"\" Given a list or tuple x, returns its cyclical rotation\n",
    "    starting with the minumum value. Return type is the same as x. \"\"\"\n",
    "    # enumerate(x) returns an iterable of paits (idx, val)\n",
    "    min_idx, x_min = min(enumerate(x), key = get_second)\n",
    "    # return the rotated version\n",
    "    return x[min_idx:] + x[:min_idx]\n",
    "\n",
    "def canonical_disjoint_rep(p) :\n",
    "    \"\"\" Returns the canonical cycle decomposition given a tuple\n",
    "    of tuples representing a disjoint cycle decomposition. All\n",
    "    empty tuples and singletons are removed. Raises a\n",
    "    SyntaxError on bad input. \"\"\"\n",
    "    if not valid_disjoint_cycle_rep(p) :\n",
    "        raise SyntaxError(\"Bad disjoint cycle representation\")\n",
    "    # the identity is already canonical\n",
    "    if p == ((),) : return p\n",
    "    # delete any empty or singleton tuples in p \n",
    "    p_clean = [ c for c in p if len(c) > 1 ]\n",
    "    # now we can cyclically rotate each tuple in p\n",
    "    inner_sorted = map(rot_to_min, p_clean)\n",
    "    # sorting the lists in the inner_sorted iterator\n",
    "    outer_sorted = sorted(inner_sorted, key = get_first)\n",
    "    return tuple(outer_sorted)"
   ]
  },
  {
   "cell_type": "code",
   "execution_count": 36,
   "metadata": {},
   "outputs": [
    {
     "name": "stdout",
     "output_type": "stream",
     "text": [
      "((0, 4, 6), (1, 2), (3, 5))\n"
     ]
    }
   ],
   "source": [
    "a = ( (1,2) , (6,0,4) , (5,3) )\n",
    "a_canon = canonical_disjoint_rep(a)\n",
    "print(a_canon)"
   ]
  },
  {
   "cell_type": "markdown",
   "metadata": {},
   "source": [
    "Since the `get_first` seems like a commonly used function, there is a module that contains it. There is a module called `operator` that includes the functions `itemgetter` and `attrgetter`. Calling `operator.itemgetter(i)` returns a function with gives the $i^\\text{th}$ element in a list. The function `operator.attrgetter('attr_name')` returns a function which gives the attribute with `attr_name` of an object. Here are two examples."
   ]
  },
  {
   "cell_type": "code",
   "execution_count": 37,
   "metadata": {},
   "outputs": [
    {
     "name": "stdout",
     "output_type": "stream",
     "text": [
      "[('G', -2, 4), ('A', 0, 2)]\n"
     ]
    }
   ],
   "source": [
    "import operator\n",
    "a = [ ('A',0, 2), ('G', -2, 4) ]\n",
    "a_sorted = sorted(a, key = operator.itemgetter(1))\n",
    "print(a_sorted)"
   ]
  },
  {
   "cell_type": "code",
   "execution_count": 38,
   "metadata": {},
   "outputs": [
    {
     "name": "stdout",
     "output_type": "stream",
     "text": [
      "[(-2.2-3.1j), (1.1+5.2j), (3+6.7j)]\n"
     ]
    }
   ],
   "source": [
    "import operator\n",
    "a = [ 1.1 + 5.2j, 3.0 + 6.7j, -2.2 - 3.1j]\n",
    "a_sorted = sorted(a, key = operator.attrgetter('imag'))\n",
    "print(a_sorted)"
   ]
  },
  {
   "cell_type": "markdown",
   "metadata": {
    "collapsed": true
   },
   "source": [
    "## Sets\n",
    "\n",
    "As you have seen, lists and tuples can contain equivalent values multiple times inside the list (i.e. `a = [1,1,1,1]` is a totally valid list even though `1 == 1 is True`). Sets in python are designed to contain equivalent values only once.\n",
    "\n",
    "In python, sets come in two flavors, **mutable** (type `set`) and **immutable** (type `frozenset`)\n",
    "\n",
    "To create a `set` in python, we can use the `set()` or `frozenset()` constructors."
   ]
  },
  {
   "cell_type": "code",
   "execution_count": 39,
   "metadata": {},
   "outputs": [
    {
     "name": "stdout",
     "output_type": "stream",
     "text": [
      "{1, 'hello'}\n",
      "frozenset({1, 2, 3})\n"
     ]
    }
   ],
   "source": [
    "a = set([1,1,1,'hello'])\n",
    "b = frozenset([1,1,2,3,2])\n",
    "print(a)\n",
    "print(b)"
   ]
  },
  {
   "cell_type": "markdown",
   "metadata": {},
   "source": [
    "In addition, there is the `{ }` notation, which creates **mutable** sets."
   ]
  },
  {
   "cell_type": "code",
   "execution_count": 40,
   "metadata": {},
   "outputs": [
    {
     "name": "stdout",
     "output_type": "stream",
     "text": [
      "{1, 492.4, 'hello'}\n"
     ]
    }
   ],
   "source": [
    "a = {1, 'hello', 492.4, 'hello', 1}\n",
    "print(a)"
   ]
  },
  {
   "cell_type": "markdown",
   "metadata": {},
   "source": [
    "Sets also support **iteration** and **set comprehension**"
   ]
  },
  {
   "cell_type": "code",
   "execution_count": 41,
   "metadata": {},
   "outputs": [
    {
     "name": "stdout",
     "output_type": "stream",
     "text": [
      "{0, 1, 2, 3, 4, 5, 6, 7, 8, 9}\n",
      "45\n"
     ]
    }
   ],
   "source": [
    "# set comprehension\n",
    "a = { x % 10 for x in range(15) }\n",
    "print(a)\n",
    "# iteration\n",
    "v = 0\n",
    "for x in a :\n",
    "    v += x\n",
    "print(v)    "
   ]
  },
  {
   "cell_type": "markdown",
   "metadata": {},
   "source": [
    "**Warning :** Sets are **unordered**, which means that there is **no guarantee** that iteration will be in any particular order."
   ]
  },
  {
   "cell_type": "markdown",
   "metadata": {},
   "source": [
    "** Warning : ** To create an **empty** set you must always use `set()`."
   ]
  },
  {
   "cell_type": "markdown",
   "metadata": {},
   "source": [
    "Sets have plenty of useful methods. Here are some methods that work for both `set` and `frozenset`.\n",
    "* `len(s)` returns the number of elements in set `s` (cardinality of `s`).\n",
    "* `x in s` tests `x` for membership in `s`. Similarly `x not in s`.\n",
    "* `s.isdisjoint(other_set)` returns `True` if the sets have empty intersection, `False` otherwise.\n",
    "* `s.issubset(other_set)` or `s <= other_set` tests whether `s` is a subset of `other_set`.\n",
    "   * `s < other_set` tests whether `s` is a **proper** subset of `other_set`.\n",
    "* `s.issuperset(other_set)` or `s >= other_set` tests whether `other_set` is a subset of `s`.\n",
    "   * `set > other_set` tests whether `other_set` is a **proper** subset of `s`.\n",
    "* `s.union(other_set)` or `s | other_set` returns a **new** set which is the union of `s` and `other_set`.\n",
    "* `s.intersection(other_set)` or `s & other_set` returns a **new** set which is the intersection of `s` and `other_set`.\n",
    "* `s.difference(other_set)` or `s - other_set` returns `s` minus `other_set` in a **new** set.\n",
    "* `s.symmetric_difference(other_set)` or `s ^ other_set` returns the symmetric difference in a **new** set.\n",
    "* `s.copy()` returns a **shallow** copy of `s` (you will learn about shallow copies in your homework)."
   ]
  },
  {
   "cell_type": "code",
   "execution_count": 42,
   "metadata": {},
   "outputs": [
    {
     "name": "stdout",
     "output_type": "stream",
     "text": [
      "{1, 2, 3, 4, 5}\n",
      "set()\n",
      "{1, 2}\n",
      "{1, 2, 4, 5}\n",
      "True\n",
      "set()\n"
     ]
    }
   ],
   "source": [
    "a = {1,2,3}\n",
    "b = {3,4,5}\n",
    "c = {4,5}\n",
    "print(a | b)\n",
    "print(a & b & c) # can intersect multiple sets like this\n",
    "print(a - b)\n",
    "print(a ^ b)\n",
    "print(c < b)\n",
    "print(a.intersection(b,c)) # can also intersect multiple sets like this "
   ]
  },
  {
   "cell_type": "markdown",
   "metadata": {},
   "source": [
    "There are mutating variants of these operations that only work on `set`.\n",
    "* `s.update(other_set)` or `s |= other_set` adds the contents of `other_set` to `s`.\n",
    "* `s.intersection_update(other_set)` or `s &= other_set`.\n",
    "* `s.difference_update(other_set)` or `s -= other_set`.\n",
    "* `s.symmetric_difference_update(other-_et)` or `s ^= other_set`.\n",
    "* `s.add(elem)`\n",
    "* `s.remove(elem)` removes `elem` from `s` but **raises** KeyError if `elem` is not in `s`.\n",
    "* `s.discard(elem)` removes `elem` from `s` if present.\n",
    "* `s.pop()` removes and return an **arbitrary** element from the set. Raises KeyError if the set is empty.\n",
    "* `s.clear()` removes all elements from `s`."
   ]
  },
  {
   "cell_type": "code",
   "execution_count": 43,
   "metadata": {},
   "outputs": [],
   "source": [
    "def valid_disjoint_cycle_rep(p) :\n",
    "    \"\"\" Returns True if the input is a tuple of tuples representing\n",
    "    a disjoint cycle decomposition of a permutation. \"\"\"\n",
    "    if type(p) is not tuple or len(p) == 0 : return False\n",
    "    # keep track of seen integers\n",
    "    seen = set()\n",
    "    for c in p :\n",
    "        if type(c) is not tuple : return False\n",
    "        for i in c :\n",
    "            if type(i) is not int or i < 0 :\n",
    "                return False\n",
    "            elif i in seen :\n",
    "                return False\n",
    "            else :\n",
    "                seen.add(i)\n",
    "    return True "
   ]
  },
  {
   "cell_type": "markdown",
   "metadata": {},
   "source": [
    "### Not all objects can be added to a set\n",
    "\n",
    "Unlike a list, a set in python can only contain **immutable** objects. In fact, sets can only contain **hashable** objects. An object is hashable if it has a method `obj.__hash__()`, `obj.hash()`, or `hash(obj)` returns without error. A **hash function** is a map\n",
    "\n",
    "<center>hash : {objects of a given type} $\\to \\mathbb{Z}$.</center>\n",
    "that is very **fast** to compute and satifies \n",
    "* if `obj_1 ==  obj_2` then `hash(obj_1) == hash(obj_2)`\n",
    "* if `hash(obj_1) == hash(obj_2)` then `obj_1` and `obj_2` are very likely to be equivalent (==).\n",
    "\n",
    "Most immutable types in python support hashing. Sets require a hash function to quickly sort, store, and remove objects. You can read more on this at [http://www.laurentluce.com/posts/python-dictionary-implementation/](http://www.laurentluce.com/posts/python-dictionary-implementation/)"
   ]
  },
  {
   "cell_type": "markdown",
   "metadata": {},
   "source": [
    "Here is an example from the homework. In the solutions, I also provide a variant without using sets."
   ]
  },
  {
   "cell_type": "code",
   "execution_count": 44,
   "metadata": {},
   "outputs": [],
   "source": [
    "def int_sqrt(n) :\n",
    "    \"\"\" If n > 0, returns the larges x with x**2 <= n. \"\"\"\n",
    "    assert n > 0\n",
    "    # smallest integer less than n\n",
    "    if type(n) is not int :\n",
    "        m = int(n//1)\n",
    "    else :\n",
    "        m = n\n",
    "    # We use Newton's method for the function\n",
    "    # f(x) = x^2 - n. We start with x_0 = int(n)+1, and apply\n",
    "    # x_{k+1} = x_k - f(x_k)/f'(x_k) = (x_k + n/x_k)/2\n",
    "    prev, curr = 0, m\n",
    "    while True:\n",
    "        prev, curr = curr, (curr + m // curr) // 2\n",
    "        # Notice that (curr + n//curr) // 2 is at most\n",
    "        # 1 less than (curr + n/curr)/2.\n",
    "        # Thus, by convexity, the first time we are\n",
    "        # f(curr) is negative, we have out answer\n",
    "        if curr**2 <= m :\n",
    "            return curr\n",
    "\n",
    "def primes_less_than_v2(n) :\n",
    "    \"\"\" Given an integer n, returns the list of primes less than n. \"\"\"\n",
    "    if type(n) is not int or n < 3 : return []\n",
    "    # We start wil all odd numbers less than n\n",
    "    candidates = set(range(3,n,2))\n",
    "    # For odd number x = 3, 5, ..., int_sqrt(n), we will\n",
    "    # remove x^2, x(x+2), x(x+4),... < n from candidates.\n",
    "    # Notice that we are removing only the odd ones.\n",
    "    # Why this works : assume y = a*b with 1 < a <= b \n",
    "    # and y < n, then a < int_sqrt(n), so y will be eliminated.\n",
    "    for i in range(3, int_sqrt(n) + 1, 2) :\n",
    "        candidates.difference_update(range(i**2, n, 2*i))\n",
    "    candidates.add(2)\n",
    "    return sorted(candidates)"
   ]
  },
  {
   "cell_type": "code",
   "execution_count": 45,
   "metadata": {},
   "outputs": [
    {
     "data": {
      "text/plain": [
       "[2, 3, 5, 7, 11, 13, 17, 19, 23, 29]"
      ]
     },
     "execution_count": 45,
     "metadata": {},
     "output_type": "execute_result"
    }
   ],
   "source": [
    "primes_less_than_v2(30)"
   ]
  },
  {
   "cell_type": "markdown",
   "metadata": {},
   "source": [
    "## Dictionaries\n",
    "\n",
    "Dictionaries are another very useful built-in type. They are a like a table of assignment. They map **keys** to **values**. For example,"
   ]
  },
  {
   "cell_type": "code",
   "execution_count": 46,
   "metadata": {},
   "outputs": [
    {
     "name": "stdout",
     "output_type": "stream",
     "text": [
      "October has 31 days.\n"
     ]
    }
   ],
   "source": [
    "month_to_days = {'April': 30,\n",
    " 'August': 31,\n",
    " 'December': 31,\n",
    " 'February': 28,\n",
    " 'January': 31,\n",
    " 'July': 31,\n",
    " 'June': 30,\n",
    " 'March': 31,\n",
    " 'May': 31,\n",
    " 'November': 30,\n",
    " 'October': 31,\n",
    " 'September': 30}\n",
    "\n",
    "print(\"October has {} days.\".format(month_to_days['October']))"
   ]
  },
  {
   "cell_type": "markdown",
   "metadata": {},
   "source": [
    "Above, the months are they **keys** of the dictionary and the days are the **values**. As you can see, we can construct dictionaries using the notation `{ key_1 : value_1, key_2 : value_2, ... }`. Once also also use the `dict()` constructor that takes a list (or any iterable) of **pairs**. For example,"
   ]
  },
  {
   "cell_type": "code",
   "execution_count": 47,
   "metadata": {},
   "outputs": [
    {
     "name": "stdout",
     "output_type": "stream",
     "text": [
      "{'x^2': 1784, 'x': 3244, '1': 9}\n"
     ]
    }
   ],
   "source": [
    "coefs = dict([('x^2',1784),('x',3244), ('1', 9)])\n",
    "print(coefs)"
   ]
  },
  {
   "cell_type": "markdown",
   "metadata": {},
   "source": [
    "You can always read values using the `[]` notation or by calling `.get(key)`. For example"
   ]
  },
  {
   "cell_type": "code",
   "execution_count": 48,
   "metadata": {},
   "outputs": [
    {
     "name": "stdout",
     "output_type": "stream",
     "text": [
      "9\n",
      "1784\n"
     ]
    }
   ],
   "source": [
    "print(coefs['1'])\n",
    "print(coefs.get('x^2'))"
   ]
  },
  {
   "cell_type": "markdown",
   "metadata": {},
   "source": [
    "Dictionaries are **mutable** objects. So you can use the assignment operator to define a new key-value pair."
   ]
  },
  {
   "cell_type": "code",
   "execution_count": 49,
   "metadata": {},
   "outputs": [
    {
     "name": "stdout",
     "output_type": "stream",
     "text": [
      "{'x^2': 1784, 'x': 3244, '1': 9, 'x^3': 209}\n",
      "{'something': 'else'}\n"
     ]
    }
   ],
   "source": [
    "coefs['x^3'] = 209\n",
    "print(coefs)\n",
    "\n",
    "a = {} # empty dictionary, NOT a set\n",
    "a['something'] = 'else'\n",
    "print(a)"
   ]
  },
  {
   "cell_type": "markdown",
   "metadata": {},
   "source": [
    "We can also delete key-value pairs using the `del` keyword or you can use `pop()` to return and remove."
   ]
  },
  {
   "cell_type": "code",
   "execution_count": 50,
   "metadata": {},
   "outputs": [
    {
     "name": "stdout",
     "output_type": "stream",
     "text": [
      "{'x^2': 1784, 'x': 3244, 'x^3': 209}\n",
      "{'x^2': 1784, 'x': 3244}\n",
      "209\n"
     ]
    }
   ],
   "source": [
    "del coefs['1']\n",
    "print(coefs)\n",
    "\n",
    "value = coefs.pop('x^3')\n",
    "print(coefs)\n",
    "print(value)"
   ]
  },
  {
   "cell_type": "markdown",
   "metadata": {},
   "source": [
    "Here are a few other useful commands.\n",
    "* `some_dict.keys()` return the keys in `some_dict` as an iterable\n",
    "* `some_dict.values()` return the values in `some_dict` as an iterable\n",
    "* `some_dict.items()` return the (key,value) paris in `some_dict` as an iterable\n",
    "* `some_dict.popitem()` remove and return some item from `some_dict`\n",
    "* `some_dict.update(other_dict)` **merge** the contents of `other_dict` into `some_dict`, overwriting for equivalent keys. \n",
    "* `some_dict.clear()` remove all contents from a dictionary\n",
    "* `some_dict.copy()` return a **shallow** copy of the dictionary\n",
    "\n",
    "Here is a simple function that counts letters in a sting and returns a dictionary with the count."
   ]
  },
  {
   "cell_type": "code",
   "execution_count": 51,
   "metadata": {},
   "outputs": [
    {
     "name": "stdout",
     "output_type": "stream",
     "text": [
      "{'s': 2, 'o': 2, 'm': 2, 'e': 1, ' ': 2, 'r': 2, 'a': 1, 'n': 2, 'd': 1, 't': 1, 'i': 1, 'g': 1}\n"
     ]
    }
   ],
   "source": [
    "def char_count(string) :\n",
    "    char_dict = {}\n",
    "    for c in string :\n",
    "        char_dict[c] = string.count(c)\n",
    "    return char_dict\n",
    "\n",
    "print(char_count(\"some random string\"))"
   ]
  },
  {
   "cell_type": "markdown",
   "metadata": {},
   "source": [
    "#### Not all objects can be keys\n",
    "Just like with sets, the keys of a dictionary have to be **immutable** (and **hashable**) types. Also, just like with sets, **keys don't all have to be the same type**."
   ]
  },
  {
   "cell_type": "code",
   "execution_count": 52,
   "metadata": {},
   "outputs": [
    {
     "name": "stdout",
     "output_type": "stream",
     "text": [
      "{1: 2, '1': 2, ('a', 'non', 'mutable', 'tuple'): 2}\n"
     ]
    }
   ],
   "source": [
    "f = {1 : 2, '1': 2, ('a','non','mutable', 'tuple') : 2}\n",
    "print(f)"
   ]
  },
  {
   "cell_type": "code",
   "execution_count": 53,
   "metadata": {},
   "outputs": [
    {
     "ename": "TypeError",
     "evalue": "unhashable type: 'list'",
     "output_type": "error",
     "traceback": [
      "\u001b[0;31m---------------------------------------------------------------------------\u001b[0m",
      "\u001b[0;31mTypeError\u001b[0m                                 Traceback (most recent call last)",
      "\u001b[0;32m<ipython-input-53-0c641f883a21>\u001b[0m in \u001b[0;36m<module>\u001b[0;34m()\u001b[0m\n\u001b[0;32m----> 1\u001b[0;31m \u001b[0mf\u001b[0m \u001b[0;34m=\u001b[0m \u001b[0;34m{\u001b[0m\u001b[0;34m[\u001b[0m\u001b[0;34m'some'\u001b[0m\u001b[0;34m,\u001b[0m \u001b[0;34m'mutable'\u001b[0m\u001b[0;34m,\u001b[0m \u001b[0;34m'list'\u001b[0m\u001b[0;34m]\u001b[0m \u001b[0;34m:\u001b[0m \u001b[0;36m2\u001b[0m\u001b[0;34m}\u001b[0m\u001b[0;34m\u001b[0m\u001b[0m\n\u001b[0m",
      "\u001b[0;31mTypeError\u001b[0m: unhashable type: 'list'"
     ]
    }
   ],
   "source": [
    "f = {['some', 'mutable', 'list'] : 2}"
   ]
  },
  {
   "cell_type": "markdown",
   "metadata": {},
   "source": [
    "#### Membership, iteration and dictionary comprehension\n",
    "\n",
    "Just like all other container types we have seen, we can test membership in dictionaries, iterate over dictionaries and use comprehensions to define them. Since dictionaries have both keys and values, we have to be a little careful.\n",
    "\n",
    "Dictionaries only support the `key in dict` and `key not in dict` for **keys**."
   ]
  },
  {
   "cell_type": "code",
   "execution_count": 54,
   "metadata": {},
   "outputs": [
    {
     "name": "stdout",
     "output_type": "stream",
     "text": [
      "'1' is a key of coefs\n",
      "9 is not a key of coefs\n"
     ]
    }
   ],
   "source": [
    "coefs = dict([('x^2',1784),('x',3244), ('1', 9)])\n",
    "\n",
    "if '1' in coefs :\n",
    "    print(\"'1' is a key of coefs\")\n",
    "if 9 not in coefs :\n",
    "    print(\"9 is not a key of coefs\")\n"
   ]
  },
  {
   "cell_type": "markdown",
   "metadata": {},
   "source": [
    "**Remark :** If you need to search for a value, you can always do that by looking in `list(some_dict.values())`"
   ]
  },
  {
   "cell_type": "markdown",
   "metadata": {},
   "source": [
    "We can also iterate over the keys, values, or key-value pairs in a dictionary"
   ]
  },
  {
   "cell_type": "code",
   "execution_count": 55,
   "metadata": {},
   "outputs": [
    {
     "name": "stdout",
     "output_type": "stream",
     "text": [
      "Found key x^2\n",
      "Found key x\n",
      "Found key 1\n",
      "--------------------\n",
      "Found value 1784\n",
      "Found value 3244\n",
      "Found value 9\n",
      "--------------------\n",
      "Key x^2 has value 1784.\n",
      "Key x has value 3244.\n",
      "Key 1 has value 9.\n"
     ]
    }
   ],
   "source": [
    "# iterate over keys\n",
    "for k in coefs :\n",
    "    print(\"Found key\", k)\n",
    "\n",
    "print('-'*20)\n",
    "\n",
    "# iterate over values\n",
    "for v in coefs.values() :\n",
    "    print(\"Found value\", v)\n",
    "    \n",
    "print('-'*20)\n",
    "\n",
    "# iterate over keys and values\n",
    "for k, v in coefs.items() :\n",
    "    print(\"Key {} has value {}.\".format(k, v))"
   ]
  },
  {
   "cell_type": "markdown",
   "metadata": {},
   "source": [
    "**Note:** to iterate over keys, you can also use `for k in some_dict.keys()`.\n",
    "\n",
    "Finally, we mention dictionary comprehension. It's very similar to sets, however, we must use the `:` to separate keys and values."
   ]
  },
  {
   "cell_type": "code",
   "execution_count": 56,
   "metadata": {},
   "outputs": [
    {
     "name": "stdout",
     "output_type": "stream",
     "text": [
      "{0: 1, 1: 1, 2: 4, 3: 27, 4: 256, 5: 3125, 6: 46656, 7: 823543, 8: 16777216, 9: 387420489}\n"
     ]
    }
   ],
   "source": [
    "self_powers = { i : i**i for i in range(10) }  \n",
    "print(self_powers)"
   ]
  },
  {
   "cell_type": "code",
   "execution_count": 57,
   "metadata": {},
   "outputs": [
    {
     "name": "stdout",
     "output_type": "stream",
     "text": [
      "{'x^2': 3568, 'x': 6488, '1': 18}\n"
     ]
    }
   ],
   "source": [
    "coefs_squared = { k : 2*v for k,v in coefs.items() }\n",
    "print(coefs_squared)"
   ]
  },
  {
   "cell_type": "markdown",
   "metadata": {},
   "source": [
    "If you want, you can also think of a dictionary as a map and easily define its inverse with list comprehension. This only works if the values are also hashable."
   ]
  },
  {
   "cell_type": "code",
   "execution_count": 58,
   "metadata": {},
   "outputs": [
    {
     "name": "stdout",
     "output_type": "stream",
     "text": [
      "{1: 1, 4: 2, 27: 3, 256: 4, 3125: 5, 46656: 6, 823543: 7, 16777216: 8, 387420489: 9}\n"
     ]
    }
   ],
   "source": [
    "self_roots = { v : k for k,v in self_powers.items() }\n",
    "print(self_roots)"
   ]
  },
  {
   "cell_type": "markdown",
   "metadata": {},
   "source": [
    "**Warning:** If multiple keys have the same value, the above trick will not give consistent results"
   ]
  },
  {
   "cell_type": "code",
   "execution_count": 59,
   "metadata": {},
   "outputs": [
    {
     "name": "stdout",
     "output_type": "stream",
     "text": [
      "{0: 1}\n"
     ]
    }
   ],
   "source": [
    "a = { 2: 0, 4: 0, 1 : 0}\n",
    "a_inv = { v : k for k,v in a.items() }\n",
    "print(a_inv)"
   ]
  },
  {
   "cell_type": "markdown",
   "metadata": {},
   "source": [
    "## Recursion\n",
    "\n",
    "Recursion is a very powerful programming technique that allows for very complex paths of code to be readable and easy to understand. The key tool here is that you can call a function within itself. It works as form of induction to perform computations. Here is an example,"
   ]
  },
  {
   "cell_type": "code",
   "execution_count": 60,
   "metadata": {},
   "outputs": [],
   "source": [
    "def catalan(n) :\n",
    "    \"\"\"Computes the n^th Catalan number. \"\"\"\n",
    "    assert type(n) is int\n",
    "    if n < 1 :\n",
    "        return 1\n",
    "    else :\n",
    "        # I can use // here because I know the result will be divisible by n+2\n",
    "        return (4*n+2)*catalan(n-1)//(n+2)"
   ]
  },
  {
   "cell_type": "code",
   "execution_count": 61,
   "metadata": {},
   "outputs": [
    {
     "data": {
      "text/plain": [
       "58786"
      ]
     },
     "execution_count": 61,
     "metadata": {},
     "output_type": "execute_result"
    }
   ],
   "source": [
    "catalan(10)"
   ]
  },
  {
   "cell_type": "markdown",
   "metadata": {},
   "source": [
    "When using recursion, you have to be very careful that your code paths always terminate! Otherwise, you may end up in in and \"infinite\" decent (at some point your computer will give up).\n",
    "\n",
    "The way recursion works is fairly straight forward, however, it has its limits. If you recall, when a function is called, a new namespace (called a **strack frame**) is created. When calling a recursive function, we create a nested sequence of stack frames, which occupies computer memory and takes time. In fact, python has a **maximum recursion depth**. By default, this is set to something rather conservative."
   ]
  },
  {
   "cell_type": "code",
   "execution_count": 65,
   "metadata": {},
   "outputs": [
    {
     "ename": "RecursionError",
     "evalue": "maximum recursion depth exceeded while calling a Python object",
     "output_type": "error",
     "traceback": [
      "\u001b[0;31m---------------------------------------------------------------------------\u001b[0m",
      "\u001b[0;31mRecursionError\u001b[0m                            Traceback (most recent call last)",
      "\u001b[0;32m<ipython-input-65-3dc4546404fa>\u001b[0m in \u001b[0;36m<module>\u001b[0;34m()\u001b[0m\n\u001b[0;32m----> 1\u001b[0;31m \u001b[0mcatalan\u001b[0m\u001b[0;34m(\u001b[0m\u001b[0;36m10000\u001b[0m\u001b[0;34m)\u001b[0m\u001b[0;34m\u001b[0m\u001b[0m\n\u001b[0m",
      "\u001b[0;32m<ipython-input-60-a2efbe6dd8dc>\u001b[0m in \u001b[0;36mcatalan\u001b[0;34m(n)\u001b[0m\n\u001b[1;32m      6\u001b[0m     \u001b[0;32melse\u001b[0m \u001b[0;34m:\u001b[0m\u001b[0;34m\u001b[0m\u001b[0m\n\u001b[1;32m      7\u001b[0m         \u001b[0;31m# I can use // here because I know the result will be divisible by n+2\u001b[0m\u001b[0;34m\u001b[0m\u001b[0;34m\u001b[0m\u001b[0m\n\u001b[0;32m----> 8\u001b[0;31m         \u001b[0;32mreturn\u001b[0m \u001b[0;34m(\u001b[0m\u001b[0;36m4\u001b[0m\u001b[0;34m*\u001b[0m\u001b[0mn\u001b[0m\u001b[0;34m+\u001b[0m\u001b[0;36m2\u001b[0m\u001b[0;34m)\u001b[0m\u001b[0;34m*\u001b[0m\u001b[0mcatalan\u001b[0m\u001b[0;34m(\u001b[0m\u001b[0mn\u001b[0m\u001b[0;34m-\u001b[0m\u001b[0;36m1\u001b[0m\u001b[0;34m)\u001b[0m\u001b[0;34m//\u001b[0m\u001b[0;34m(\u001b[0m\u001b[0mn\u001b[0m\u001b[0;34m+\u001b[0m\u001b[0;36m2\u001b[0m\u001b[0;34m)\u001b[0m\u001b[0;34m\u001b[0m\u001b[0m\n\u001b[0m",
      "... last 1 frames repeated, from the frame below ...\n",
      "\u001b[0;32m<ipython-input-60-a2efbe6dd8dc>\u001b[0m in \u001b[0;36mcatalan\u001b[0;34m(n)\u001b[0m\n\u001b[1;32m      6\u001b[0m     \u001b[0;32melse\u001b[0m \u001b[0;34m:\u001b[0m\u001b[0;34m\u001b[0m\u001b[0m\n\u001b[1;32m      7\u001b[0m         \u001b[0;31m# I can use // here because I know the result will be divisible by n+2\u001b[0m\u001b[0;34m\u001b[0m\u001b[0;34m\u001b[0m\u001b[0m\n\u001b[0;32m----> 8\u001b[0;31m         \u001b[0;32mreturn\u001b[0m \u001b[0;34m(\u001b[0m\u001b[0;36m4\u001b[0m\u001b[0;34m*\u001b[0m\u001b[0mn\u001b[0m\u001b[0;34m+\u001b[0m\u001b[0;36m2\u001b[0m\u001b[0;34m)\u001b[0m\u001b[0;34m*\u001b[0m\u001b[0mcatalan\u001b[0m\u001b[0;34m(\u001b[0m\u001b[0mn\u001b[0m\u001b[0;34m-\u001b[0m\u001b[0;36m1\u001b[0m\u001b[0;34m)\u001b[0m\u001b[0;34m//\u001b[0m\u001b[0;34m(\u001b[0m\u001b[0mn\u001b[0m\u001b[0;34m+\u001b[0m\u001b[0;36m2\u001b[0m\u001b[0;34m)\u001b[0m\u001b[0;34m\u001b[0m\u001b[0m\n\u001b[0m",
      "\u001b[0;31mRecursionError\u001b[0m: maximum recursion depth exceeded while calling a Python object"
     ]
    }
   ],
   "source": [
    "catalan(10000)"
   ]
  },
  {
   "cell_type": "markdown",
   "metadata": {},
   "source": [
    "** Remark :** The code in `catalan(n)` is called **tail recursive** because it can be easily converted into a for-loop!"
   ]
  },
  {
   "cell_type": "code",
   "execution_count": 63,
   "metadata": {},
   "outputs": [],
   "source": [
    "def find_value(our_list, value) :\n",
    "    n = len(our_list)\n",
    "    if n > 0 :\n",
    "        if value == our_list[n//2] :\n",
    "            return True\n",
    "        elif n == 1 : # Our list had only one element\n",
    "            return False\n",
    "        else :\n",
    "            return find_value(our_list[:n//2],value) or \\\n",
    "                   find_value(our_list[n//2+1:],value)\n",
    "    else :\n",
    "        return False"
   ]
  },
  {
   "cell_type": "code",
   "execution_count": 64,
   "metadata": {},
   "outputs": [
    {
     "data": {
      "text/plain": [
       "True"
      ]
     },
     "execution_count": 64,
     "metadata": {},
     "output_type": "execute_result"
    }
   ],
   "source": [
    "find_value([0,1,2,3,4,5],4)"
   ]
  },
  {
   "cell_type": "markdown",
   "metadata": {},
   "source": [
    "Let us examine the **decision tree** in this code. We divide the list in two and check if the middle element of the resulting list is what we are looking for, if not we first check **all of the left**, and then all of the right."
   ]
  },
  {
   "cell_type": "markdown",
   "metadata": {},
   "source": [
    "### Tower of Hanoi\n",
    "Tower of Hanoi is an interesting mathematical puzzle. It consists of three pegs, and a number of disks of different sizes which can slide onto any peg. The puzzle starts with the disks in a stack in ascending order of size on one peg with the smallest at the top.\n",
    "\n",
    "The objective of the puzzle is to move the entire stack to another peg, obeying the following simple rules:\n",
    "* Only one disk can be moved at a time.\n",
    "* Each move consists of taking the upper disk from one of the stacks and placing it on top of another stack i.e. a disk can only be moved if it is the uppermost disk on a stack.\n",
    "* No disk may be placed on top of a smaller disk.\n",
    "\n",
    "**Exercise :** Write a function `tower_of_hanoi(n)` to compute a number of steps to solve the problem when starting with `n` disks on one peg. Use an auxiliary recursive function for your computation. (Note: I know there is a closed form, but just implement using recursion)"
   ]
  }
 ],
 "metadata": {
  "anaconda-cloud": {},
  "kernelspec": {
   "display_name": "Python 3",
   "language": "python",
   "name": "python3"
  },
  "language_info": {
   "codemirror_mode": {
    "name": "ipython",
    "version": 3
   },
   "file_extension": ".py",
   "mimetype": "text/x-python",
   "name": "python",
   "nbconvert_exporter": "python",
   "pygments_lexer": "ipython3",
   "version": "3.6.5"
  }
 },
 "nbformat": 4,
 "nbformat_minor": 1
}
