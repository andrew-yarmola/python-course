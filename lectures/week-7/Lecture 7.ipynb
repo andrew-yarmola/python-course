{
 "cells": [
  {
   "cell_type": "markdown",
   "metadata": {},
   "source": [
    "# Introduction to Programming Lecture 7\n",
    "\n",
    "* Instructor :  Andrew Yarmola [andrew.yarmola@uni.lu](mailto:andrew.yarmola@uni.lu)\n",
    "* Course Schedule : Wednesday 14h00 - 15h30 Campus Kirchberg B21\n",
    "* Course Website : [sites.google.com/site/andrewyarmola/itp-uni-lux](https://sites.google.com/site/andrewyarmola/itp-uni-lux)\n",
    "* Office Hours : Thursday 16h00 - 17h00 Campus Kirchberg G103 and by appointment.\n",
    "\n",
    "## Remarks on homework and questions\n"
   ]
  },
  {
   "cell_type": "markdown",
   "metadata": {},
   "source": [
    "### Writing files\n",
    "\n",
    "Writing files is a slightly more dangerous operation as you can accidentally write over a file or completely erase it. To open a file for writing, we use the `open(path_to_file, mode)` command again, but here the `mode` parameter will be different.\n",
    "\n",
    "Here are all the `mode` parameter options.\n",
    "\n",
    "* `'r'` open for reading (default)\n",
    "* `'w'`\topen for writing, **ERASING** the file first\n",
    "* `'x'` open for exclusive creation, failing if the file already exists\n",
    "* `'a'` open for writing, appending to the end of the file if it exists\n",
    "* `'b'` binary mode\n",
    "* `'t'`\ttext mode (default)\n",
    "* `'+'`\topen a disk file for updating (reading and writing)\n",
    "\n",
    "If you are creating a **new** file that shouldn't already exist, use the `'x'` option to write it."
   ]
  },
  {
   "cell_type": "code",
   "execution_count": 2,
   "metadata": {},
   "outputs": [
    {
     "name": "stdout",
     "output_type": "stream",
     "text": [
      "117\n",
      "489\n",
      "361\n",
      "312\n",
      "154\n",
      "\n"
     ]
    }
   ],
   "source": [
    "import random\n",
    "\n",
    "random_ints = random.sample(range(1000), 5)\n",
    "# if I change the 'x' to a 'w' this will overwrite the\n",
    "# file everytime I run this code\n",
    "file_handle = open('random_numbers.txt','x')\n",
    "for i in random_ints :\n",
    "    file_handle.write(str(i)+'\\n')\n",
    "file_handle.close()\n",
    "\n",
    "f = open('random_numbers.txt','r')\n",
    "print(f.read())\n",
    "f.close()"
   ]
  },
  {
   "cell_type": "code",
   "execution_count": 3,
   "metadata": {},
   "outputs": [
    {
     "name": "stdout",
     "output_type": "stream",
     "text": [
      "117\n",
      "489\n",
      "361\n",
      "312\n",
      "154\n",
      "466\n",
      "559\n",
      "762\n",
      "520\n",
      "723\n",
      "\n"
     ]
    }
   ],
   "source": [
    "random_ints = random.sample(range(1000), 5)\n",
    "file_handle = open('random_numbers.txt','a')\n",
    "for i in random_ints :\n",
    "    file_handle.write(str(i)+'\\n')\n",
    "file_handle.close()\n",
    "\n",
    "f = open('random_numbers.txt','r')\n",
    "print(f.read())\n",
    "f.close()"
   ]
  },
  {
   "cell_type": "markdown",
   "metadata": {},
   "source": [
    "The final three modes `'b', 't', '+'` are modifier modes. For example, to read a binary file, you would use the mode `'rb'`, to write a `'xb'`, etc.\n",
    "\n",
    "The `'+'` mode modifies allows for simultaneous reading and writing with, for example, the `'r+'` mode. However, I do **not recommend** using this mode unless you really really have to. It can also behave differently on windows and unix systems."
   ]
  },
  {
   "cell_type": "code",
   "execution_count": 5,
   "metadata": {},
   "outputs": [
    {
     "name": "stdout",
     "output_type": "stream",
     "text": [
      "b'%PDF-1.3\\n%\\xc4\\xe5\\xf2\\xe5\\xeb\\xa7\\xf3\\xa0\\xd0\\xc4'\n"
     ]
    }
   ],
   "source": [
    "# open the file as binary\n",
    "file_handle = open('../pdf/Lecture 1.pdf','rb')\n",
    "# read the first 20 bytes\n",
    "print(file_handle.read(20))\n",
    "file_handle.close()"
   ]
  },
  {
   "cell_type": "markdown",
   "metadata": {},
   "source": [
    "### Saving python data\n",
    "\n",
    "It may happen that you want to save some python list of dictionary for later use. This can be accomplished by using the `repr` and `eval` commands in conjunction.\n",
    "* `repr(object)` (tries to) returns a string representation of an object\n",
    "* `eval(string)` (tries to) evaluate `string` as a string representation of an object and returns the object"
   ]
  },
  {
   "cell_type": "code",
   "execution_count": 6,
   "metadata": {},
   "outputs": [
    {
     "name": "stdout",
     "output_type": "stream",
     "text": [
      "<class 'str'>\n",
      "{1: {3.6893488147419103e+19: ['some', 'bad', 'example', 'here']}, 2: 4.4}\n"
     ]
    }
   ],
   "source": [
    "a = {float(2**65) : 'some bad example here'.split()}\n",
    "x = {1 : a, 2 : 4.4 }\n",
    "print(type(repr(x)))\n",
    "print(repr(x))"
   ]
  },
  {
   "cell_type": "code",
   "execution_count": 7,
   "metadata": {},
   "outputs": [
    {
     "name": "stdout",
     "output_type": "stream",
     "text": [
      "True\n",
      "True\n"
     ]
    }
   ],
   "source": [
    "z = {1: {3.6893488147419103e+19: ['some', 'bad', 'example', 'here']}, 2: 4.4}\n",
    "y = eval(repr(x))\n",
    "print(y == x)\n",
    "print(z == x)"
   ]
  },
  {
   "cell_type": "markdown",
   "metadata": {},
   "source": [
    "You can now save python `repr` data to a file and load it later."
   ]
  },
  {
   "cell_type": "code",
   "execution_count": 8,
   "metadata": {},
   "outputs": [],
   "source": [
    "fp = open('test_file.txt', 'w')\n",
    "fp.write(repr(x))\n",
    "fp.close()"
   ]
  },
  {
   "cell_type": "markdown",
   "metadata": {},
   "source": [
    "### Writing and reading json data\n",
    "\n",
    "A better and more portable way to store list, dictionary, or other text data is to use a file format called **json**. It is used widely in web development, server configurations, and data messaging. This file format is very similar to a python dictionary."
   ]
  },
  {
   "cell_type": "code",
   "execution_count": 9,
   "metadata": {},
   "outputs": [
    {
     "name": "stdout",
     "output_type": "stream",
     "text": [
      "{\"1\": {\"3.6893488147419103e+19\": [\"some\", \"bad\", \"example\", \"here\"]}, \"2\": 4.4}\n",
      "{\"3.6893488147419103e+19\": [\"some\", \"bad\", \"example\", \"here\"]}\n"
     ]
    }
   ],
   "source": [
    "import json\n",
    "\n",
    "# show the json representaion of an object\n",
    "print(json.dumps(x))\n",
    "print(json.dumps(a))"
   ]
  },
  {
   "cell_type": "markdown",
   "metadata": {},
   "source": [
    "Notice the quotation marks around the data. We can also write straight to a file"
   ]
  },
  {
   "cell_type": "code",
   "execution_count": 10,
   "metadata": {},
   "outputs": [],
   "source": [
    "file_handle = open('json_data.json', 'x')\n",
    "# writes the json repr of x into the file_handle\n",
    "json.dump(x, file_handle)\n",
    "file_handle.close()"
   ]
  },
  {
   "cell_type": "code",
   "execution_count": 11,
   "metadata": {},
   "outputs": [
    {
     "name": "stdout",
     "output_type": "stream",
     "text": [
      "{\"1\": {\"3.6893488147419103e+19\": [\"some\", \"bad\", \"example\", \"here\"]}, \"2\": 4.4}"
     ]
    }
   ],
   "source": [
    "cat json_data.json"
   ]
  },
  {
   "cell_type": "markdown",
   "metadata": {},
   "source": [
    "We can then `json.load(file_handle)` to get our data back!"
   ]
  },
  {
   "cell_type": "code",
   "execution_count": 12,
   "metadata": {},
   "outputs": [
    {
     "name": "stdout",
     "output_type": "stream",
     "text": [
      "{'1': {'3.6893488147419103e+19': ['some', 'bad', 'example', 'here']}, '2': 4.4}\n"
     ]
    }
   ],
   "source": [
    "fp = open('json_data.json','r')\n",
    "data = json.load(fp)\n",
    "fp.close()\n",
    "\n",
    "print(data)"
   ]
  },
  {
   "cell_type": "markdown",
   "metadata": {},
   "source": [
    "** Remark :** `json` always loads all your **keys** as strings! "
   ]
  },
  {
   "cell_type": "markdown",
   "metadata": {},
   "source": [
    "Note : we will talk about how to check if a file exists, move, rename, and delete files and directories a bit later."
   ]
  },
  {
   "cell_type": "markdown",
   "metadata": {},
   "source": [
    "### `with` statement of opening files\n",
    "\n",
    "Python has a nice advanced statement called the `with` statement. I won't go into the details, but on a basic level, the with statement allows you to define a startup and cleanup action for a block of code. For opening files this is very useful as you will always wan to make sure the file is closed after you have opened it. For example, we can rewrite the above code "
   ]
  },
  {
   "cell_type": "code",
   "execution_count": 13,
   "metadata": {},
   "outputs": [],
   "source": [
    "with open('json_data.json', 'w') as file_handle :\n",
    "    json.dump(x, file_handle)\n",
    "# the with statement will automatically close the file!"
   ]
  },
  {
   "cell_type": "markdown",
   "metadata": {},
   "source": [
    "## Command line\n",
    "\n",
    "Having some familiarity with the command line is a very useful (and perhaps essential tool) for programmers. The command line is a text based prompt where you can execute various commands. Different operating systems tend to have a different list of commands available. You can actually run different versions of the command line, called **shells**.\n",
    "\n",
    "<img src=\"https://upload.wikimedia.org/wikipedia/commons/2/29/Linux_command-line._Bash._GNOME_Terminal._screenshot.png\" width=40%>\n",
    "\n",
    "Here is the basic idea :"
   ]
  },
  {
   "cell_type": "code",
   "execution_count": 14,
   "metadata": {},
   "outputs": [
    {
     "data": {
      "text/plain": [
       "'/Users/yarmola/Teaching/python-course/lectures/week-7'"
      ]
     },
     "execution_count": 14,
     "metadata": {},
     "output_type": "execute_result"
    }
   ],
   "source": [
    "# we can see our present working directory\n",
    "%pwd"
   ]
  },
  {
   "cell_type": "code",
   "execution_count": 15,
   "metadata": {},
   "outputs": [
    {
     "name": "stdout",
     "output_type": "stream",
     "text": [
      "Lecture 7.ipynb     json_data.json      random_numbers.txt  test_file.txt\r\n"
     ]
    }
   ],
   "source": [
    "# we can list files in our current directory\n",
    "%ls"
   ]
  },
  {
   "cell_type": "code",
   "execution_count": 16,
   "metadata": {},
   "outputs": [],
   "source": [
    "# we can remove files\n",
    "%rm random_numbers.txt"
   ]
  },
  {
   "cell_type": "code",
   "execution_count": 17,
   "metadata": {},
   "outputs": [
    {
     "name": "stdout",
     "output_type": "stream",
     "text": [
      "Lecture 7.ipynb  json_data.json   test_file.txt\r\n"
     ]
    }
   ],
   "source": [
    "# check that we did really remove it\n",
    "%ls"
   ]
  },
  {
   "cell_type": "code",
   "execution_count": 18,
   "metadata": {},
   "outputs": [
    {
     "name": "stdout",
     "output_type": "stream",
     "text": [
      "{\"1\": {\"3.6893488147419103e+19\": [\"some\", \"bad\", \"example\", \"here\"]}, \"2\": 4.4}"
     ]
    }
   ],
   "source": [
    "# we can dump the contents of files to the terminal as text\n",
    "%cat json_data.json"
   ]
  },
  {
   "cell_type": "code",
   "execution_count": 19,
   "metadata": {},
   "outputs": [
    {
     "name": "stdout",
     "output_type": "stream",
     "text": [
      "/Users/yarmola/Teaching/python-course/lectures\n"
     ]
    }
   ],
   "source": [
    "# change directory (the .. means go up one level)\n",
    "%cd .."
   ]
  },
  {
   "cell_type": "code",
   "execution_count": 20,
   "metadata": {},
   "outputs": [
    {
     "name": "stdout",
     "output_type": "stream",
     "text": [
      "total 0\r\n",
      "drwxr-xr-x   3 yarmola  staff   96 May  4 20:09 \u001b[1m\u001b[34mpdf\u001b[m\u001b[m/\r\n",
      "drwxr-xr-x   6 yarmola  staff  192 May  4 19:48 \u001b[1m\u001b[34mweek-1\u001b[m\u001b[m/\r\n",
      "drwxr-xr-x   4 yarmola  staff  128 May  4 20:10 \u001b[1m\u001b[34mweek-10\u001b[m\u001b[m/\r\n",
      "drwxr-xr-x   4 yarmola  staff  128 May  4 20:09 \u001b[1m\u001b[34mweek-11\u001b[m\u001b[m/\r\n",
      "drwxr-xr-x   4 yarmola  staff  128 May  4 20:09 \u001b[1m\u001b[34mweek-12\u001b[m\u001b[m/\r\n",
      "drwxr-xr-x   4 yarmola  staff  128 May  4 20:09 \u001b[1m\u001b[34mweek-13\u001b[m\u001b[m/\r\n",
      "drwxr-xr-x   6 yarmola  staff  192 May  4 19:54 \u001b[1m\u001b[34mweek-2\u001b[m\u001b[m/\r\n",
      "drwxr-xr-x   6 yarmola  staff  192 May  4 19:57 \u001b[1m\u001b[34mweek-3\u001b[m\u001b[m/\r\n",
      "drwxr-xr-x   4 yarmola  staff  128 May  4 20:01 \u001b[1m\u001b[34mweek-4\u001b[m\u001b[m/\r\n",
      "drwxr-xr-x   4 yarmola  staff  128 May  4 20:02 \u001b[1m\u001b[34mweek-5\u001b[m\u001b[m/\r\n",
      "drwxr-xr-x  11 yarmola  staff  352 May  4 20:07 \u001b[1m\u001b[34mweek-6\u001b[m\u001b[m/\r\n",
      "drwxr-xr-x   7 yarmola  staff  224 May  4 20:10 \u001b[1m\u001b[34mweek-7\u001b[m\u001b[m/\r\n",
      "drwxr-xr-x   4 yarmola  staff  128 May  4 20:09 \u001b[1m\u001b[34mweek-8\u001b[m\u001b[m/\r\n",
      "drwxr-xr-x   4 yarmola  staff  128 May  4 20:09 \u001b[1m\u001b[34mweek-9\u001b[m\u001b[m/\r\n"
     ]
    }
   ],
   "source": [
    "# list a directory with more information\n",
    "%ls -l"
   ]
  },
  {
   "cell_type": "code",
   "execution_count": 22,
   "metadata": {},
   "outputs": [
    {
     "name": "stdout",
     "output_type": "stream",
     "text": [
      "/Users/yarmola/Teaching/python-course/lectures/pdf\n"
     ]
    }
   ],
   "source": [
    "# chande directory relative to our current place\n",
    "%cd pdf"
   ]
  },
  {
   "cell_type": "markdown",
   "metadata": {},
   "source": [
    "**Note** : The paths `pdf/` and `..` are **relative paths to my present working directory** while `\"/Users/yarmola/Teaching/python-course/homework\"` is a **global path**."
   ]
  },
  {
   "cell_type": "markdown",
   "metadata": {},
   "source": [
    "Above, I was using the `%` character to tell the ipython interpreter to call command line opertaions (and not python functions). This only works for a select set of \"magic\" commands allowed by ipython. When working with the command line, you will work in a **separate** program called a **terminal emulator**.\n",
    "\n",
    "On macOS you can run the terminal emulator `/Application/Utilities/Terminal.app` and on Windows, things are a little more complicated. There is the built-in `cmd` prompt, which has a very different and much more limited set of commands. On Windows 10, you can enable the `bash` shell (see https://msdn.microsoft.com/en-us/commandline/wsl/about?f=255&MSPPError=-2147217396). On earlier versions of windows, you should install Babun (https://babun.github.io).\n",
    "\n",
    "You can now try to run some of the above commands (without the `%` sign in front). As you can see, the general structure of a command is\n",
    "\n",
    "* `command -<option1> -<option2> ... <arg1> <arg2> ...`\n",
    "\n",
    "Here, the `< >` means that you replace what is between **and including** them with your desired argument (or option). Here is a basic list of commands.\n",
    "\n",
    "* `ls <path_to_directory_or_omit>`\n",
    "   * list the contents of a directory (or present working directory) \n",
    "* `cd <directory_path>`\n",
    "   * change the present working directory\n",
    "* `pwd`\n",
    "   * display the path of the current directory\n",
    "* `mkdir <new_directory_name_or_path>`\n",
    "   * make a new directory at the path specified (gives error if there is already a file or directory at that path)\n",
    "* `rmdir <new_directory_name_or_path>`\n",
    "   * remove the directory at the path specified\n",
    "* `cp -i <file_1> <new_path_2>`\n",
    "   * copy a file, without the `-i` this would **overwrite new_path_2 such a file already exists**.\n",
    "* `mv -i <file_or_dir_1> <new_path_2>`\n",
    "   * copy a file or directory, without the `-i` this would **overwrite new_path_2 if such a file already exists**.\n",
    "* `rm <path_to_file>`\n",
    "   * remove (or delete) a file.\n",
    "* `man <command_name>`\n",
    "   * show the manual for the command (to quit out of a man page, press `q`)\n",
    "* `cat <path_to_file>`\n",
    "   * output the contents of a file\n",
    "* `diff <fil2_1> <file_2>`\n",
    "   * print the difference between two text files\n",
    "\n",
    "**Remark :** there are a few keyword paths to be aware of :\n",
    "   * `~`\n",
    "      * shorthand for your home directory, for example `cd ~/Teaching` is the same on my machine as `cd /Users/yarmola/Teaching` because my home directory is `/Users/yarmola`\n",
    "   * `..`\n",
    "      * shorthand for the directory up one level up\n",
    "   * `.`\n",
    "      * short hand for the current directory\n"
   ]
  },
  {
   "cell_type": "markdown",
   "metadata": {},
   "source": [
    "**Note :** you can use TAB completion to help you along!"
   ]
  },
  {
   "cell_type": "markdown",
   "metadata": {},
   "source": [
    "** Warning : ** The command line can be rather dangerous if you are not careful!"
   ]
  },
  {
   "cell_type": "markdown",
   "metadata": {},
   "source": [
    "## Git and GitHub\n",
    "\n",
    "One of the goals for this course is to introduce you to the most essential tools of software development. Perhaps the most important such tool is **version control software**. As you work on projects and files, you will often make changes and additions. It is a good idea to not just always have a backup of you work, but to also see what changes others have made. Additionally, if both of you work on at the same time, you might want an automated method for combining your work at the end. For this purpose we will start learning how to use **git**.\n",
    "\n",
    "Git is a simple, fast, and very very popular version control software. I will mostly spend time working with git **from the command line**, however, you can try learning to use the GitHub Desktop software if you want.\n",
    "\n",
    "**Note :** Git is the version control software that runs on your computer. GitHub is the cloud service that stores a copy of you code on their servers.\n",
    "\n",
    "Git manages different versions of your project. It is based around **commits** and **branches**. **Commits** are a frozen version of your code (like a save, but for a whole directory). Git takes over the directory where you are writing your code and manages it in such a way that at any given time the files in the directory represent a **commit** (or an edit to a commit). Commits are organized into **branches**, which are feature paths through your code. Branches usually correspond to feature additions that you work on separately from the stable version of your project. The whole system is called a **repository**.\n",
    "\n",
    "**GitHub** is an online (i.e. **remote**) repository storage solution for **git**. In particular, you will have a **local** and a **remote** copy of your repository that you will have to keep in sync.\n",
    "\n",
    "If you are running macOS or Linux, you most likely have git already installed and you can just open a command line and try using it. For Windows users, please download git from https://git-scm.com/downloads.\n",
    "\n",
    "The key words for git are :\n",
    "\n",
    "* `git clone <repo>` : you can make a copy someones existing repository to use, modify, or submit suggested changes.\n",
    "* `git add <file>` : you can add/mark a file as updated so that it will be added next commit\n",
    "* `git status` : ask git to tell you which files have been modified and which have been staged for the next commit.\n",
    "* `git diff <file or omit>` : show the changes since the last commit.\n",
    "* `git commit -m \"Description\"` : commit (i.e. save) all files for which you have called `add`.\n",
    "* `git branch --all` : show all existing branches\n",
    "* `git checkout <branch_name>` : switch the contents of your directory to the latest commit in branch `<branch_name>`.\n",
    "* `git checkout -b <new_branch_name>` : make a new branch copying the current.\n",
    "* `git merge <branch_name_or_commit_id>` : you can `merge` branches together using git's automated tools. Most of the time it will work out for you all the differences and how to combine your code with someone else's code.\n",
    "* `git fetch` : download all new data from GitHub\n",
    "* `git pull` : download **and** merge all new data form GitHub into your local repository\n",
    "* `git push origin <branch_name>` : push your chnages to branch `<branch_name>` to GitHub.\n",
    "\n",
    "Let's do a little demo and take a look at the GitHub website.\n",
    "\n",
    "GitHub learning videos : \n",
    "* https://www.youtube.com/playlist?list=PLg7s6cbtAD165JTRsXh8ofwRw0PqUnkVH\n",
    "* https://www.youtube.com/watch?v=0fKg7e37bQE\n",
    "\n",
    "A very barebones guide : http://rogerdudler.github.io/git-guide/\n"
   ]
  },
  {
   "cell_type": "markdown",
   "metadata": {},
   "source": [
    "### Project 1\n",
    "\n",
    "Over the next three weeks. Project 1 will be due Wednesday Nov 23. You will work in teams of 2 on one of the following projects. You can also suggest your own projects pending my approval. Each team will have to do a different project. The goal of each project is for you to write a piece of software that solves a specific programming challenge. Here are the general topics for each project.\n",
    "\n",
    "* Topic 1 : (Homology) Implement the notions of a simplex, simplicial complex, and write a method to compute homology with $\\mathbb{Z}/p\\mathbb{Z}$ coefficients\n",
    "\n",
    "\n",
    "* Topic 2 : (Chebyshev Polynomials) Implement the notions of a fraction (i.e. rational numbers), polynomials (with rational coefficients), Chebyshev polynomials, the Chebyshev inner product for polynomials, and a method for decomposing a polynomials in the Chebyshev basis.\n",
    "\n",
    "\n",
    "* Topic 3 : (Finite Fields) Implement the notions of $\\mathbb{Z}/p\\mathbb{Z}$ for $p$ prime, polynomials over $\\mathbb{Z}/p\\mathbb{Z}$, irreducibility over $\\mathbb{Z}/p\\mathbb{Z}$, and field extension over $\\mathbb{Z}/p\\mathbb{Z}$.\n",
    "\n",
    "\n",
    "* Topic 4 : (Elliptic Curve Cryptography) Implement the notions of an Elliptic curve over $\\mathbb{Z}/p\\mathbb{Z}$ of $p$ prime, points and arithmetic on an Elliptic curve, the Diffie-Hellman key exchange, a simple encryption and decryption algorithm.\n",
    "\n",
    "\n",
    "* Topic 5 : (Graphs) Implement the notion of an undirected graph. Create methods to check graph connectedness, find a minimal spanning tree, find a shortest path between two vertices, compute the closure of a graph, and find the graphs strongly connected components.\n",
    "\n",
    "\n",
    "* Topic 6 : (Itinerary) Given an itinerary file of flights find the number of days spent in each country.  You will have to look up countries from airport codes. You will generate a CSV spread sheet of the resulting data.\n",
    "\n",
    "\n",
    "* Topic 7 : (Markov Chain Monte Carlo) Given a probability distribution, implement the Metropolis-Hastings random walk on a square lattice and apply it to computing expectations of a given function. This is called Markov Chain Monte Carlo.\n",
    "\n",
    "Please let me know your team and choice of project by Wednesday Nov 9. You will submit your work on GitHub, so please make a GitHub team for this project. Additionally, **each team with have to write a series of tests to check that their code does what it should**."
   ]
  }
 ],
 "metadata": {
  "anaconda-cloud": {},
  "kernelspec": {
   "display_name": "Python 3",
   "language": "python",
   "name": "python3"
  },
  "language_info": {
   "codemirror_mode": {
    "name": "ipython",
    "version": 3
   },
   "file_extension": ".py",
   "mimetype": "text/x-python",
   "name": "python",
   "nbconvert_exporter": "python",
   "pygments_lexer": "ipython3",
   "version": "3.6.5"
  }
 },
 "nbformat": 4,
 "nbformat_minor": 1
}
